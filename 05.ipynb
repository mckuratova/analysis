{
 "cells": [
  {
   "cell_type": "markdown",
   "id": "3d00d8a1",
   "metadata": {},
   "source": [
    "# Исследование данных о компьютерных играх"
   ]
  },
  {
   "cell_type": "markdown",
   "id": "b0e507ff",
   "metadata": {},
   "source": [
    "Из открытых источников получены данные до 2016 года о продажах компьютерных игр, оценки пользователей и экспертов, жанры и платформы. Нам необходимо выявить закономерности, определяющие успешность игры. Это позволит сделать ставку на потенциально популярный продукт и спланировать рекламные кампании.\n",
    "\n",
    "**Описание данных**  \n",
    "- Name — название игры\n",
    "- Platform — платформа\n",
    "- Year_of_Release — год выпуска\n",
    "- Genre — жанр игры\n",
    "- NA_sales — продажи в Северной Америке (миллионы проданных копий)\n",
    "- EU_sales — продажи в Европе (миллионы проданных копий)\n",
    "- JP_sales — продажи в Японии (миллионы проданных копий)\n",
    "- Other_sales — продажи в других странах (миллионы проданных копий)\n",
    "- Critic_Score — оценка критиков (максимум 100)\n",
    "- User_Score — оценка пользователей (максимум 10)\n",
    "- Rating — рейтинг от организации ESRB (англ. Entertainment Software Rating Board). Эта ассоциация определяет рейтинг компьютерных игр и присваивает им подходящую возрастную категорию."
   ]
  },
  {
   "cell_type": "markdown",
   "id": "2985f228",
   "metadata": {
    "toc": true
   },
   "source": [
    "<h1>Содержание<span class=\"tocSkip\"></span></h1>\n",
    "<div class=\"toc\"><ul class=\"toc-item\"><li><span><a href=\"#Открытие-файла-с-данными-и-изучение-общей-информации\" data-toc-modified-id=\"Открытие-файла-с-данными-и-изучение-общей-информации-1\"><span class=\"toc-item-num\">1&nbsp;&nbsp;</span>Открытие файла с данными и изучение общей информации</a></span></li><li><span><a href=\"#Подготовка-данных\" data-toc-modified-id=\"Подготовка-данных-2\"><span class=\"toc-item-num\">2&nbsp;&nbsp;</span>Подготовка данных</a></span><ul class=\"toc-item\"><li><span><a href=\"#Переименование-столбцов\" data-toc-modified-id=\"Переименование-столбцов-2.1\"><span class=\"toc-item-num\">2.1&nbsp;&nbsp;</span>Переименование столбцов</a></span></li><li><span><a href=\"#Обработка-пропусков\" data-toc-modified-id=\"Обработка-пропусков-2.2\"><span class=\"toc-item-num\">2.2&nbsp;&nbsp;</span>Обработка пропусков</a></span><ul class=\"toc-item\"><li><span><a href=\"#name-и-genre\" data-toc-modified-id=\"name-и-genre-2.2.1\"><span class=\"toc-item-num\">2.2.1&nbsp;&nbsp;</span>name и genre</a></span></li><li><span><a href=\"#year_of_release\" data-toc-modified-id=\"year_of_release-2.2.2\"><span class=\"toc-item-num\">2.2.2&nbsp;&nbsp;</span>year_of_release</a></span></li><li><span><a href=\"#critic_score-и-user_score\" data-toc-modified-id=\"critic_score-и-user_score-2.2.3\"><span class=\"toc-item-num\">2.2.3&nbsp;&nbsp;</span>critic_score и user_score</a></span></li><li><span><a href=\"#rating\" data-toc-modified-id=\"rating-2.2.4\"><span class=\"toc-item-num\">2.2.4&nbsp;&nbsp;</span>rating</a></span></li></ul></li><li><span><a href=\"#Преобразование-типов\" data-toc-modified-id=\"Преобразование-типов-2.3\"><span class=\"toc-item-num\">2.3&nbsp;&nbsp;</span>Преобразование типов</a></span></li><li><span><a href=\"#Добавление-столбца-с-суммарными-продажами\" data-toc-modified-id=\"Добавление-столбца-с-суммарными-продажами-2.4\"><span class=\"toc-item-num\">2.4&nbsp;&nbsp;</span>Добавление столбца с суммарными продажами</a></span></li><li><span><a href=\"#Поиск-дубликатов\" data-toc-modified-id=\"Поиск-дубликатов-2.5\"><span class=\"toc-item-num\">2.5&nbsp;&nbsp;</span>Поиск дубликатов</a></span><ul class=\"toc-item\"><li><span><a href=\"#Поиск-явных-дубликатов\" data-toc-modified-id=\"Поиск-явных-дубликатов-2.5.1\"><span class=\"toc-item-num\">2.5.1&nbsp;&nbsp;</span>Поиск явных дубликатов</a></span></li><li><span><a href=\"#Поиск-неявных-дубликатов\" data-toc-modified-id=\"Поиск-неявных-дубликатов-2.5.2\"><span class=\"toc-item-num\">2.5.2&nbsp;&nbsp;</span>Поиск неявных дубликатов</a></span></li></ul></li></ul></li><li><span><a href=\"#Исследовательский-анализ-данных\" data-toc-modified-id=\"Исследовательский-анализ-данных-3\"><span class=\"toc-item-num\">3&nbsp;&nbsp;</span>Исследовательский анализ данных</a></span><ul class=\"toc-item\"><li><span><a href=\"#Распределение-выпуска-игр-по-годам\" data-toc-modified-id=\"Распределение-выпуска-игр-по-годам-3.1\"><span class=\"toc-item-num\">3.1&nbsp;&nbsp;</span>Распределение выпуска игр по годам</a></span></li><li><span><a href=\"#Изменение-продаж-по-платформам\" data-toc-modified-id=\"Изменение-продаж-по-платформам-3.2\"><span class=\"toc-item-num\">3.2&nbsp;&nbsp;</span>Изменение продаж по платформам</a></span></li><li><span><a href=\"#Выбор-актуального-периода\" data-toc-modified-id=\"Выбор-актуального-периода-3.3\"><span class=\"toc-item-num\">3.3&nbsp;&nbsp;</span>Выбор актуального периода</a></span></li><li><span><a href=\"#Анализ-изменения-продаж-по-платформам\" data-toc-modified-id=\"Анализ-изменения-продаж-по-платформам-3.4\"><span class=\"toc-item-num\">3.4&nbsp;&nbsp;</span>Анализ изменения продаж по платформам</a></span></li><li><span><a href=\"#Ящик-с-усами-по-глобальным-продажам-игр-в-разбивке-по-платформам\" data-toc-modified-id=\"Ящик-с-усами-по-глобальным-продажам-игр-в-разбивке-по-платформам-3.5\"><span class=\"toc-item-num\">3.5&nbsp;&nbsp;</span>Ящик с усами по глобальным продажам игр в разбивке по платформам</a></span></li><li><span><a href=\"#Исследование-влияния-отзывов-пользователей-и-критиков-на-продажи\" data-toc-modified-id=\"Исследование-влияния-отзывов-пользователей-и-критиков-на-продажи-3.6\"><span class=\"toc-item-num\">3.6&nbsp;&nbsp;</span>Исследование влияния отзывов пользователей и критиков на продажи</a></span></li><li><span><a href=\"#Выводы\" data-toc-modified-id=\"Выводы-3.7\"><span class=\"toc-item-num\">3.7&nbsp;&nbsp;</span>Выводы</a></span></li><li><span><a href=\"#Соотношение-выводов-с-продажами-игр-на-других-платформах\" data-toc-modified-id=\"Соотношение-выводов-с-продажами-игр-на-других-платформах-3.8\"><span class=\"toc-item-num\">3.8&nbsp;&nbsp;</span>Соотношение выводов с продажами игр на других платформах</a></span></li><li><span><a href=\"#Общее-распределение-продаж-по-жанрам\" data-toc-modified-id=\"Общее-распределение-продаж-по-жанрам-3.9\"><span class=\"toc-item-num\">3.9&nbsp;&nbsp;</span>Общее распределение продаж по жанрам</a></span></li></ul></li><li><span><a href=\"#Составление-портрета-пользователя-по-регионам\" data-toc-modified-id=\"Составление-портрета-пользователя-по-регионам-4\"><span class=\"toc-item-num\">4&nbsp;&nbsp;</span>Составление портрета пользователя по регионам</a></span><ul class=\"toc-item\"><li><span><a href=\"#Исследование-популярных-платформ\" data-toc-modified-id=\"Исследование-популярных-платформ-4.1\"><span class=\"toc-item-num\">4.1&nbsp;&nbsp;</span>Исследование популярных платформ</a></span></li><li><span><a href=\"#Исследование-популярных-жанров\" data-toc-modified-id=\"Исследование-популярных-жанров-4.2\"><span class=\"toc-item-num\">4.2&nbsp;&nbsp;</span>Исследование популярных жанров</a></span></li><li><span><a href=\"#Исследование-влияния-рейтинга-ESRB-на-продажи-в-отдельном-регионе\" data-toc-modified-id=\"Исследование-влияния-рейтинга-ESRB-на-продажи-в-отдельном-регионе-4.3\"><span class=\"toc-item-num\">4.3&nbsp;&nbsp;</span>Исследование влияния рейтинга ESRB на продажи в отдельном регионе</a></span></li></ul></li><li><span><a href=\"#Проверка-гипотез\" data-toc-modified-id=\"Проверка-гипотез-5\"><span class=\"toc-item-num\">5&nbsp;&nbsp;</span>Проверка гипотез</a></span><ul class=\"toc-item\"><li><span><a href=\"#Средние-пользовательские-рейтинги-платформ-Xbox-One-и-PC-одинаковые\" data-toc-modified-id=\"Средние-пользовательские-рейтинги-платформ-Xbox-One-и-PC-одинаковые-5.1\"><span class=\"toc-item-num\">5.1&nbsp;&nbsp;</span>Средние пользовательские рейтинги платформ Xbox One и PC одинаковые</a></span></li><li><span><a href=\"#Средние-пользовательские-рейтинги-жанров-Action-(англ.-«действие»,-экшен-игры)-и-Sports-(англ.-«спортивные-соревнования»)-разные\" data-toc-modified-id=\"Средние-пользовательские-рейтинги-жанров-Action-(англ.-«действие»,-экшен-игры)-и-Sports-(англ.-«спортивные-соревнования»)-разные-5.2\"><span class=\"toc-item-num\">5.2&nbsp;&nbsp;</span>Средние пользовательские рейтинги жанров Action (англ. «действие», экшен-игры) и Sports (англ. «спортивные соревнования») разные</a></span></li></ul></li><li><span><a href=\"#Общий-вывод\" data-toc-modified-id=\"Общий-вывод-6\"><span class=\"toc-item-num\">6&nbsp;&nbsp;</span>Общий вывод</a></span></li></ul></div>"
   ]
  },
  {
   "cell_type": "markdown",
   "id": "97d5b666",
   "metadata": {},
   "source": [
    "## Открытие файла с данными и изучение общей информации"
   ]
  },
  {
   "cell_type": "code",
   "execution_count": 1,
   "id": "15d10d00",
   "metadata": {},
   "outputs": [],
   "source": [
    "import pandas as pd\n",
    "import numpy as np\n",
    "import matplotlib.pyplot as plt\n",
    "import seaborn as sns\n",
    "from scipy import stats as st"
   ]
  },
  {
   "cell_type": "code",
   "execution_count": 2,
   "id": "d05378a8",
   "metadata": {},
   "outputs": [],
   "source": [
    "# Считываем файл в датафрейм df\n",
    "\n",
    "try:\n",
    "    df = pd.read_csv('C:\\\\Users\\\\data_science\\\\projects\\\\datasets\\\\games.csv')\n",
    "except FileNotFoundError:\n",
    "    df = pd.read_csv('/datasets/games.csv')"
   ]
  },
  {
   "cell_type": "code",
   "execution_count": 3,
   "id": "2aed14a3",
   "metadata": {},
   "outputs": [
    {
     "data": {
      "text/html": [
       "<div>\n",
       "<style scoped>\n",
       "    .dataframe tbody tr th:only-of-type {\n",
       "        vertical-align: middle;\n",
       "    }\n",
       "\n",
       "    .dataframe tbody tr th {\n",
       "        vertical-align: top;\n",
       "    }\n",
       "\n",
       "    .dataframe thead th {\n",
       "        text-align: right;\n",
       "    }\n",
       "</style>\n",
       "<table border=\"1\" class=\"dataframe\">\n",
       "  <thead>\n",
       "    <tr style=\"text-align: right;\">\n",
       "      <th></th>\n",
       "      <th>Name</th>\n",
       "      <th>Platform</th>\n",
       "      <th>Year_of_Release</th>\n",
       "      <th>Genre</th>\n",
       "      <th>NA_sales</th>\n",
       "      <th>EU_sales</th>\n",
       "      <th>JP_sales</th>\n",
       "      <th>Other_sales</th>\n",
       "      <th>Critic_Score</th>\n",
       "      <th>User_Score</th>\n",
       "      <th>Rating</th>\n",
       "    </tr>\n",
       "  </thead>\n",
       "  <tbody>\n",
       "    <tr>\n",
       "      <th>0</th>\n",
       "      <td>Wii Sports</td>\n",
       "      <td>Wii</td>\n",
       "      <td>2006.0</td>\n",
       "      <td>Sports</td>\n",
       "      <td>41.36</td>\n",
       "      <td>28.96</td>\n",
       "      <td>3.77</td>\n",
       "      <td>8.45</td>\n",
       "      <td>76.0</td>\n",
       "      <td>8</td>\n",
       "      <td>E</td>\n",
       "    </tr>\n",
       "    <tr>\n",
       "      <th>1</th>\n",
       "      <td>Super Mario Bros.</td>\n",
       "      <td>NES</td>\n",
       "      <td>1985.0</td>\n",
       "      <td>Platform</td>\n",
       "      <td>29.08</td>\n",
       "      <td>3.58</td>\n",
       "      <td>6.81</td>\n",
       "      <td>0.77</td>\n",
       "      <td>NaN</td>\n",
       "      <td>NaN</td>\n",
       "      <td>NaN</td>\n",
       "    </tr>\n",
       "    <tr>\n",
       "      <th>2</th>\n",
       "      <td>Mario Kart Wii</td>\n",
       "      <td>Wii</td>\n",
       "      <td>2008.0</td>\n",
       "      <td>Racing</td>\n",
       "      <td>15.68</td>\n",
       "      <td>12.76</td>\n",
       "      <td>3.79</td>\n",
       "      <td>3.29</td>\n",
       "      <td>82.0</td>\n",
       "      <td>8.3</td>\n",
       "      <td>E</td>\n",
       "    </tr>\n",
       "    <tr>\n",
       "      <th>3</th>\n",
       "      <td>Wii Sports Resort</td>\n",
       "      <td>Wii</td>\n",
       "      <td>2009.0</td>\n",
       "      <td>Sports</td>\n",
       "      <td>15.61</td>\n",
       "      <td>10.93</td>\n",
       "      <td>3.28</td>\n",
       "      <td>2.95</td>\n",
       "      <td>80.0</td>\n",
       "      <td>8</td>\n",
       "      <td>E</td>\n",
       "    </tr>\n",
       "    <tr>\n",
       "      <th>4</th>\n",
       "      <td>Pokemon Red/Pokemon Blue</td>\n",
       "      <td>GB</td>\n",
       "      <td>1996.0</td>\n",
       "      <td>Role-Playing</td>\n",
       "      <td>11.27</td>\n",
       "      <td>8.89</td>\n",
       "      <td>10.22</td>\n",
       "      <td>1.00</td>\n",
       "      <td>NaN</td>\n",
       "      <td>NaN</td>\n",
       "      <td>NaN</td>\n",
       "    </tr>\n",
       "  </tbody>\n",
       "</table>\n",
       "</div>"
      ],
      "text/plain": [
       "                       Name Platform  Year_of_Release         Genre  NA_sales  \\\n",
       "0                Wii Sports      Wii           2006.0        Sports     41.36   \n",
       "1         Super Mario Bros.      NES           1985.0      Platform     29.08   \n",
       "2            Mario Kart Wii      Wii           2008.0        Racing     15.68   \n",
       "3         Wii Sports Resort      Wii           2009.0        Sports     15.61   \n",
       "4  Pokemon Red/Pokemon Blue       GB           1996.0  Role-Playing     11.27   \n",
       "\n",
       "   EU_sales  JP_sales  Other_sales  Critic_Score User_Score Rating  \n",
       "0     28.96      3.77         8.45          76.0          8      E  \n",
       "1      3.58      6.81         0.77           NaN        NaN    NaN  \n",
       "2     12.76      3.79         3.29          82.0        8.3      E  \n",
       "3     10.93      3.28         2.95          80.0          8      E  \n",
       "4      8.89     10.22         1.00           NaN        NaN    NaN  "
      ]
     },
     "execution_count": 3,
     "metadata": {},
     "output_type": "execute_result"
    }
   ],
   "source": [
    "# Выводим на экран первые 5 строк таблицы\n",
    "\n",
    "df.head()"
   ]
  },
  {
   "cell_type": "markdown",
   "id": "9d9bf350",
   "metadata": {},
   "source": [
    "Выводим общую информацию о таблице."
   ]
  },
  {
   "cell_type": "code",
   "execution_count": 4,
   "id": "8a0320df",
   "metadata": {},
   "outputs": [
    {
     "name": "stdout",
     "output_type": "stream",
     "text": [
      "<class 'pandas.core.frame.DataFrame'>\n",
      "RangeIndex: 16715 entries, 0 to 16714\n",
      "Data columns (total 11 columns):\n",
      " #   Column           Non-Null Count  Dtype  \n",
      "---  ------           --------------  -----  \n",
      " 0   Name             16713 non-null  object \n",
      " 1   Platform         16715 non-null  object \n",
      " 2   Year_of_Release  16446 non-null  float64\n",
      " 3   Genre            16713 non-null  object \n",
      " 4   NA_sales         16715 non-null  float64\n",
      " 5   EU_sales         16715 non-null  float64\n",
      " 6   JP_sales         16715 non-null  float64\n",
      " 7   Other_sales      16715 non-null  float64\n",
      " 8   Critic_Score     8137 non-null   float64\n",
      " 9   User_Score       10014 non-null  object \n",
      " 10  Rating           9949 non-null   object \n",
      "dtypes: float64(6), object(5)\n",
      "memory usage: 1.4+ MB\n"
     ]
    }
   ],
   "source": [
    "df.info()"
   ]
  },
  {
   "cell_type": "markdown",
   "id": "e88aa9cc",
   "metadata": {},
   "source": [
    "Строим общую гистограмму по всем столбцам таблицы."
   ]
  },
  {
   "cell_type": "code",
   "execution_count": 5,
   "id": "95fbba0b",
   "metadata": {},
   "outputs": [
    {
     "data": {
      "image/png": "[encoded data removed]",
      "text/plain": [
       "<Figure size 720x1080 with 6 Axes>"
      ]
     },
     "metadata": {
      "needs_background": "light"
     },
     "output_type": "display_data"
    }
   ],
   "source": [
    "df.hist(figsize=(10, 15));"
   ]
  },
  {
   "cell_type": "markdown",
   "id": "0561d27a",
   "metadata": {},
   "source": [
    "Мы считали файл с данными в датафрейм *df*. Датафрейм содержит 11 столбцов и 16715 строк.\n",
    "\n",
    "Далее будет необходимо переименовать столбцы, преобразовав их названия к нижнему регистру.\n",
    "\n",
    "В столбцах name, year_of_release, genre, critic_score, user_score, rating содержатся пропуски.\n",
    "Для некоторых столбцов необходимо изменить тип данных: year_of_release (float64 -> int), user_score (object -> float)"
   ]
  },
  {
   "cell_type": "markdown",
   "id": "fca025b0",
   "metadata": {},
   "source": [
    "## Подготовка данных"
   ]
  },
  {
   "cell_type": "markdown",
   "id": "3705e372",
   "metadata": {},
   "source": [
    "### Переименование столбцов"
   ]
  },
  {
   "cell_type": "markdown",
   "id": "7918eca2",
   "metadata": {},
   "source": [
    "Во избежании ошибок в дальнейшем переименуем столбы в соответствии со змеиной нотацией."
   ]
  },
  {
   "cell_type": "code",
   "execution_count": 6,
   "id": "867b9b52",
   "metadata": {},
   "outputs": [
    {
     "data": {
      "text/plain": [
       "['name',\n",
       " 'platform',\n",
       " 'year_of_release',\n",
       " 'genre',\n",
       " 'na_sales',\n",
       " 'eu_sales',\n",
       " 'jp_sales',\n",
       " 'other_sales',\n",
       " 'critic_score',\n",
       " 'user_score',\n",
       " 'rating']"
      ]
     },
     "execution_count": 6,
     "metadata": {},
     "output_type": "execute_result"
    }
   ],
   "source": [
    "# Приводим названия столбцов к нижнему регистру\n",
    "\n",
    "df.columns = df.columns.str.lower()\n",
    "list(df) # Проверка"
   ]
  },
  {
   "cell_type": "markdown",
   "id": "c39f2e86",
   "metadata": {},
   "source": [
    "### Обработка пропусков\n",
    "Рассмотрим подробнее столбцы с пропусками"
   ]
  },
  {
   "cell_type": "code",
   "execution_count": 7,
   "id": "ee638b5e",
   "metadata": {},
   "outputs": [
    {
     "name": "stdout",
     "output_type": "stream",
     "text": [
      "Процент пропусков в столбцах\n",
      "name                0.011965\n",
      "platform            0.000000\n",
      "year_of_release     1.609333\n",
      "genre               0.011965\n",
      "na_sales            0.000000\n",
      "eu_sales            0.000000\n",
      "jp_sales            0.000000\n",
      "other_sales         0.000000\n",
      "critic_score       51.319174\n",
      "user_score         40.089740\n",
      "rating             40.478612\n",
      "dtype: float64\n",
      "Число столбцов с пропусками:  6\n"
     ]
    }
   ],
   "source": [
    "print('Процент пропусков в столбцах')\n",
    "print(df.isna().sum() / df.shape[0] * 100)\n",
    "print('Число столбцов с пропусками: ', df.isna().any().sum())"
   ]
  },
  {
   "cell_type": "markdown",
   "id": "5c09787d",
   "metadata": {},
   "source": [
    "#### name и genre"
   ]
  },
  {
   "cell_type": "code",
   "execution_count": 8,
   "id": "85a6601c",
   "metadata": {},
   "outputs": [
    {
     "data": {
      "text/html": [
       "<div>\n",
       "<style scoped>\n",
       "    .dataframe tbody tr th:only-of-type {\n",
       "        vertical-align: middle;\n",
       "    }\n",
       "\n",
       "    .dataframe tbody tr th {\n",
       "        vertical-align: top;\n",
       "    }\n",
       "\n",
       "    .dataframe thead th {\n",
       "        text-align: right;\n",
       "    }\n",
       "</style>\n",
       "<table border=\"1\" class=\"dataframe\">\n",
       "  <thead>\n",
       "    <tr style=\"text-align: right;\">\n",
       "      <th></th>\n",
       "      <th>name</th>\n",
       "      <th>platform</th>\n",
       "      <th>year_of_release</th>\n",
       "      <th>genre</th>\n",
       "      <th>na_sales</th>\n",
       "      <th>eu_sales</th>\n",
       "      <th>jp_sales</th>\n",
       "      <th>other_sales</th>\n",
       "      <th>critic_score</th>\n",
       "      <th>user_score</th>\n",
       "      <th>rating</th>\n",
       "    </tr>\n",
       "  </thead>\n",
       "  <tbody>\n",
       "    <tr>\n",
       "      <th>659</th>\n",
       "      <td>NaN</td>\n",
       "      <td>GEN</td>\n",
       "      <td>1993.0</td>\n",
       "      <td>NaN</td>\n",
       "      <td>1.78</td>\n",
       "      <td>0.53</td>\n",
       "      <td>0.00</td>\n",
       "      <td>0.08</td>\n",
       "      <td>NaN</td>\n",
       "      <td>NaN</td>\n",
       "      <td>NaN</td>\n",
       "    </tr>\n",
       "    <tr>\n",
       "      <th>14244</th>\n",
       "      <td>NaN</td>\n",
       "      <td>GEN</td>\n",
       "      <td>1993.0</td>\n",
       "      <td>NaN</td>\n",
       "      <td>0.00</td>\n",
       "      <td>0.00</td>\n",
       "      <td>0.03</td>\n",
       "      <td>0.00</td>\n",
       "      <td>NaN</td>\n",
       "      <td>NaN</td>\n",
       "      <td>NaN</td>\n",
       "    </tr>\n",
       "  </tbody>\n",
       "</table>\n",
       "</div>"
      ],
      "text/plain": [
       "      name platform  year_of_release genre  na_sales  eu_sales  jp_sales  \\\n",
       "659    NaN      GEN           1993.0   NaN      1.78      0.53      0.00   \n",
       "14244  NaN      GEN           1993.0   NaN      0.00      0.00      0.03   \n",
       "\n",
       "       other_sales  critic_score user_score rating  \n",
       "659           0.08           NaN        NaN    NaN  \n",
       "14244         0.00           NaN        NaN    NaN  "
      ]
     },
     "execution_count": 8,
     "metadata": {},
     "output_type": "execute_result"
    }
   ],
   "source": [
    "# Выведем на экран строки с пропусками в столбце name\n",
    "\n",
    "df[df['name'].isna()]"
   ]
  },
  {
   "cell_type": "markdown",
   "id": "74b12ec9",
   "metadata": {},
   "source": [
    "Значения столбца *name* очень важны для анализа, поскольку без названия игры анализ невозможен. Процент пропусков в столбце *name* очень мал (0,01%). Также обратим внимание, что именно эти две строки содержат и пропуски в столбце *genre*. Удалим эти 2 строки и таким образом избавимся от пропусков сразу в двух столбцах: *name* и *genre*."
   ]
  },
  {
   "cell_type": "code",
   "execution_count": 9,
   "id": "41865750",
   "metadata": {},
   "outputs": [],
   "source": [
    "# Удаляем строки с пропусками в столбце name (эти же строки являются строками с пропуском в столбце genre)\n",
    "\n",
    "df.dropna(subset=['name'], inplace=True)"
   ]
  },
  {
   "cell_type": "markdown",
   "id": "af8dd383",
   "metadata": {},
   "source": [
    "#### year_of_release\n",
    "\n",
    "В столбце *year_of_release* содержится 1.6% пропусков. Заполнение пропусков средним или медианным значением может привести к искажению результатов анализа. Поэтому мы решаем строки с пропусками в столбце *year_of_release* удалить."
   ]
  },
  {
   "cell_type": "code",
   "execution_count": 10,
   "id": "7c0a90e2",
   "metadata": {},
   "outputs": [
    {
     "data": {
      "text/html": [
       "<div>\n",
       "<style scoped>\n",
       "    .dataframe tbody tr th:only-of-type {\n",
       "        vertical-align: middle;\n",
       "    }\n",
       "\n",
       "    .dataframe tbody tr th {\n",
       "        vertical-align: top;\n",
       "    }\n",
       "\n",
       "    .dataframe thead th {\n",
       "        text-align: right;\n",
       "    }\n",
       "</style>\n",
       "<table border=\"1\" class=\"dataframe\">\n",
       "  <thead>\n",
       "    <tr style=\"text-align: right;\">\n",
       "      <th></th>\n",
       "      <th>name</th>\n",
       "      <th>platform</th>\n",
       "      <th>year_of_release</th>\n",
       "      <th>genre</th>\n",
       "      <th>na_sales</th>\n",
       "      <th>eu_sales</th>\n",
       "      <th>jp_sales</th>\n",
       "      <th>other_sales</th>\n",
       "      <th>critic_score</th>\n",
       "      <th>user_score</th>\n",
       "      <th>rating</th>\n",
       "    </tr>\n",
       "  </thead>\n",
       "  <tbody>\n",
       "    <tr>\n",
       "      <th>6101</th>\n",
       "      <td>Haven: Call of the King</td>\n",
       "      <td>PS2</td>\n",
       "      <td>NaN</td>\n",
       "      <td>Platform</td>\n",
       "      <td>0.14</td>\n",
       "      <td>0.11</td>\n",
       "      <td>0.00</td>\n",
       "      <td>0.04</td>\n",
       "      <td>69.0</td>\n",
       "      <td>6.9</td>\n",
       "      <td>T</td>\n",
       "    </tr>\n",
       "    <tr>\n",
       "      <th>16180</th>\n",
       "      <td>WRC: FIA World Rally Championship</td>\n",
       "      <td>PC</td>\n",
       "      <td>NaN</td>\n",
       "      <td>Racing</td>\n",
       "      <td>0.00</td>\n",
       "      <td>0.01</td>\n",
       "      <td>0.00</td>\n",
       "      <td>0.00</td>\n",
       "      <td>65.0</td>\n",
       "      <td>NaN</td>\n",
       "      <td>RP</td>\n",
       "    </tr>\n",
       "    <tr>\n",
       "      <th>4635</th>\n",
       "      <td>NHL Slapshot</td>\n",
       "      <td>Wii</td>\n",
       "      <td>NaN</td>\n",
       "      <td>Sports</td>\n",
       "      <td>0.39</td>\n",
       "      <td>0.00</td>\n",
       "      <td>0.00</td>\n",
       "      <td>0.02</td>\n",
       "      <td>76.0</td>\n",
       "      <td>8.1</td>\n",
       "      <td>E</td>\n",
       "    </tr>\n",
       "    <tr>\n",
       "      <th>7724</th>\n",
       "      <td>Dead Space 3</td>\n",
       "      <td>PC</td>\n",
       "      <td>NaN</td>\n",
       "      <td>Action</td>\n",
       "      <td>0.02</td>\n",
       "      <td>0.16</td>\n",
       "      <td>0.00</td>\n",
       "      <td>0.02</td>\n",
       "      <td>78.0</td>\n",
       "      <td>6</td>\n",
       "      <td>M</td>\n",
       "    </tr>\n",
       "    <tr>\n",
       "      <th>9827</th>\n",
       "      <td>WRC: FIA World Rally Championship</td>\n",
       "      <td>X360</td>\n",
       "      <td>NaN</td>\n",
       "      <td>Racing</td>\n",
       "      <td>0.00</td>\n",
       "      <td>0.10</td>\n",
       "      <td>0.00</td>\n",
       "      <td>0.02</td>\n",
       "      <td>66.0</td>\n",
       "      <td>6</td>\n",
       "      <td>E10+</td>\n",
       "    </tr>\n",
       "    <tr>\n",
       "      <th>15557</th>\n",
       "      <td>Yu-Gi-Oh! 5D's Wheelie Breakers (JP sales)</td>\n",
       "      <td>Wii</td>\n",
       "      <td>NaN</td>\n",
       "      <td>Racing</td>\n",
       "      <td>0.00</td>\n",
       "      <td>0.00</td>\n",
       "      <td>0.02</td>\n",
       "      <td>0.00</td>\n",
       "      <td>NaN</td>\n",
       "      <td>NaN</td>\n",
       "      <td>NaN</td>\n",
       "    </tr>\n",
       "    <tr>\n",
       "      <th>5655</th>\n",
       "      <td>All-Star Baseball 2005</td>\n",
       "      <td>PS2</td>\n",
       "      <td>NaN</td>\n",
       "      <td>Sports</td>\n",
       "      <td>0.16</td>\n",
       "      <td>0.12</td>\n",
       "      <td>0.00</td>\n",
       "      <td>0.04</td>\n",
       "      <td>72.0</td>\n",
       "      <td>8.6</td>\n",
       "      <td>E</td>\n",
       "    </tr>\n",
       "    <tr>\n",
       "      <th>2132</th>\n",
       "      <td>LEGO Harry Potter: Years 5-7</td>\n",
       "      <td>X360</td>\n",
       "      <td>NaN</td>\n",
       "      <td>Action</td>\n",
       "      <td>0.51</td>\n",
       "      <td>0.37</td>\n",
       "      <td>0.00</td>\n",
       "      <td>0.09</td>\n",
       "      <td>77.0</td>\n",
       "      <td>7.9</td>\n",
       "      <td>E10+</td>\n",
       "    </tr>\n",
       "    <tr>\n",
       "      <th>9119</th>\n",
       "      <td>Our House Party!</td>\n",
       "      <td>Wii</td>\n",
       "      <td>NaN</td>\n",
       "      <td>Simulation</td>\n",
       "      <td>0.13</td>\n",
       "      <td>0.00</td>\n",
       "      <td>0.00</td>\n",
       "      <td>0.01</td>\n",
       "      <td>NaN</td>\n",
       "      <td>NaN</td>\n",
       "      <td>NaN</td>\n",
       "    </tr>\n",
       "    <tr>\n",
       "      <th>475</th>\n",
       "      <td>wwe Smackdown vs. Raw 2006</td>\n",
       "      <td>PS2</td>\n",
       "      <td>NaN</td>\n",
       "      <td>Fighting</td>\n",
       "      <td>1.57</td>\n",
       "      <td>1.02</td>\n",
       "      <td>0.00</td>\n",
       "      <td>0.41</td>\n",
       "      <td>NaN</td>\n",
       "      <td>NaN</td>\n",
       "      <td>NaN</td>\n",
       "    </tr>\n",
       "  </tbody>\n",
       "</table>\n",
       "</div>"
      ],
      "text/plain": [
       "                                             name platform  year_of_release  \\\n",
       "6101                      Haven: Call of the King      PS2              NaN   \n",
       "16180           WRC: FIA World Rally Championship       PC              NaN   \n",
       "4635                                 NHL Slapshot      Wii              NaN   \n",
       "7724                                 Dead Space 3       PC              NaN   \n",
       "9827            WRC: FIA World Rally Championship     X360              NaN   \n",
       "15557  Yu-Gi-Oh! 5D's Wheelie Breakers (JP sales)      Wii              NaN   \n",
       "5655                       All-Star Baseball 2005      PS2              NaN   \n",
       "2132                 LEGO Harry Potter: Years 5-7     X360              NaN   \n",
       "9119                             Our House Party!      Wii              NaN   \n",
       "475                    wwe Smackdown vs. Raw 2006      PS2              NaN   \n",
       "\n",
       "            genre  na_sales  eu_sales  jp_sales  other_sales  critic_score  \\\n",
       "6101     Platform      0.14      0.11      0.00         0.04          69.0   \n",
       "16180      Racing      0.00      0.01      0.00         0.00          65.0   \n",
       "4635       Sports      0.39      0.00      0.00         0.02          76.0   \n",
       "7724       Action      0.02      0.16      0.00         0.02          78.0   \n",
       "9827       Racing      0.00      0.10      0.00         0.02          66.0   \n",
       "15557      Racing      0.00      0.00      0.02         0.00           NaN   \n",
       "5655       Sports      0.16      0.12      0.00         0.04          72.0   \n",
       "2132       Action      0.51      0.37      0.00         0.09          77.0   \n",
       "9119   Simulation      0.13      0.00      0.00         0.01           NaN   \n",
       "475      Fighting      1.57      1.02      0.00         0.41           NaN   \n",
       "\n",
       "      user_score rating  \n",
       "6101         6.9      T  \n",
       "16180        NaN     RP  \n",
       "4635         8.1      E  \n",
       "7724           6      M  \n",
       "9827           6   E10+  \n",
       "15557        NaN    NaN  \n",
       "5655         8.6      E  \n",
       "2132         7.9   E10+  \n",
       "9119         NaN    NaN  \n",
       "475          NaN    NaN  "
      ]
     },
     "metadata": {},
     "output_type": "display_data"
    },
    {
     "name": "stdout",
     "output_type": "stream",
     "text": [
      "Число строк с пропусками в столбце year_of_release 269\n",
      "Размер таблицы до удаления пропусков (16713, 11)\n",
      "Размер таблицы после удаления пропусков (16444, 11)\n"
     ]
    }
   ],
   "source": [
    "# Выводим на экран строки с пропусками в столбце year_of_release\n",
    "\n",
    "display(df[df['year_of_release'].isna()].sample(10))\n",
    "print('Число строк с пропусками в столбце year_of_release', df['year_of_release'].isna().sum())\n",
    "\n",
    "# Удаляем строки с пропусками в столбце year_of_release\n",
    "\n",
    "print('Размер таблицы до удаления пропусков', df.shape)\n",
    "df.dropna(subset=['year_of_release'], inplace=True)\n",
    "print('Размер таблицы после удаления пропусков', df.shape)"
   ]
  },
  {
   "cell_type": "markdown",
   "id": "ddff47db",
   "metadata": {},
   "source": [
    "#### critic_score и user_score"
   ]
  },
  {
   "cell_type": "markdown",
   "id": "94a0d374",
   "metadata": {},
   "source": [
    "В этих столбцах больше всего пропусков.\n",
    "\n",
    "<b>Причинами пропусков</b> в столбцах с оценками экспертов и пользователей <i>critic_score</i> и  <i>user_score</i> могут быть: 1) недостаточная популярность игры, из-за чего числа отзывов не хватает для подсчета оценки; 2) на момент среза данных игра была новой и не успела получить оценку экспертов и/или пользователей; 3) при сборе данных поля с оценками отсутствовали или были недоступны для заполнения.\n",
    "\n",
    "В столбцах <i>critic_score</i> и <i>user_score</i> около 50% пропусков. Поскольку оценки критиков и пользователей зависят от большого числа факторов, у нас нет необходимой информации для заполнения пропусков статистическими значениями.Чтобы не искажать распределение и статистики данных, не будем заполнять пропуски в этих столбцах и оставим значение NaN."
   ]
  },
  {
   "cell_type": "markdown",
   "id": "f0d3bb96",
   "metadata": {},
   "source": [
    "#### rating"
   ]
  },
  {
   "cell_type": "markdown",
   "id": "23039372",
   "metadata": {},
   "source": [
    "Пропуски в столбце <i>rating</i> с рейтингами ESRB могут быть связаны с тем, что данные указаны только для игр, произведенных в Северной Америке, поскольку ESRB - американская организация. Для других игр рейтинги могут устанавливаться организациями стран выпуска, например, PEGI для Европы и CERO для Японии.\n",
    "\n",
    "В столбе <i>rating</i> около 40% пропусков. Поскольку в каждом регионе может использоваться своя организация для определения рейтинга, у нас нет необходимой информации для заполнения пропусков статистическими значениями. Чтобы не искажать распределение и статистики данных, не будем заполнять пропуски в столбце <i>rating</i> и оставим значение NaN."
   ]
  },
  {
   "cell_type": "markdown",
   "id": "a52f1a3f",
   "metadata": {},
   "source": [
    "### Преобразование типов"
   ]
  },
  {
   "cell_type": "markdown",
   "id": "1f7509ce",
   "metadata": {},
   "source": [
    "Преобразуем типы данных для следующих столбцов:\n",
    "- *year_of_release*: float64 -> int (потому что год является целым числом)\n",
    "- *user_score*: object -> float (оценка пользователей - дробное число < 10)"
   ]
  },
  {
   "cell_type": "code",
   "execution_count": 11,
   "id": "154fee49",
   "metadata": {},
   "outputs": [],
   "source": [
    "# Выполняем преобоазования типов для столбца year_of_release\n",
    "\n",
    "df['year_of_release'] = df['year_of_release'].astype(int)"
   ]
  },
  {
   "cell_type": "markdown",
   "id": "7b32b01c",
   "metadata": {},
   "source": [
    "Рассмотрим подробнее столбец *user_score*."
   ]
  },
  {
   "cell_type": "code",
   "execution_count": 12,
   "id": "1f51fdd5",
   "metadata": {},
   "outputs": [
    {
     "data": {
      "text/plain": [
       "array(['8', nan, '8.3', '8.5', '6.6', '8.4', '8.6', '7.7', '6.3', '7.4',\n",
       "       '8.2', '9', '7.9', '8.1', '8.7', '7.1', '3.4', '5.3', '4.8', '3.2',\n",
       "       '8.9', '6.4', '7.8', '7.5', '2.6', '7.2', '9.2', '7', '7.3', '4.3',\n",
       "       '7.6', '5.7', '5', '9.1', '6.5', 'tbd', '8.8', '6.9', '9.4', '6.8',\n",
       "       '6.1', '6.7', '5.4', '4', '4.9', '4.5', '9.3', '6.2', '4.2', '6',\n",
       "       '3.7', '4.1', '5.8', '5.6', '5.5', '4.4', '4.6', '5.9', '3.9',\n",
       "       '3.1', '2.9', '5.2', '3.3', '4.7', '5.1', '3.5', '2.5', '1.9', '3',\n",
       "       '2.7', '2.2', '2', '9.5', '2.1', '3.6', '2.8', '1.8', '3.8', '0',\n",
       "       '1.6', '9.6', '2.4', '1.7', '1.1', '0.3', '1.5', '0.7', '1.2',\n",
       "       '2.3', '0.5', '1.3', '0.2', '0.6', '1.4', '0.9', '1', '9.7'],\n",
       "      dtype=object)"
      ]
     },
     "metadata": {},
     "output_type": "display_data"
    }
   ],
   "source": [
    "# Выведем на экран уникальные значения из столбца\n",
    "\n",
    "display(df['user_score'].unique())"
   ]
  },
  {
   "cell_type": "code",
   "execution_count": 13,
   "id": "558553a8",
   "metadata": {},
   "outputs": [
    {
     "name": "stdout",
     "output_type": "stream",
     "text": [
      "Число значение tbd в столбце user_score:  2376\n"
     ]
    }
   ],
   "source": [
    "# Выведем на экран число значений 'tbd'\n",
    "\n",
    "print('Число значение tbd в столбце user_score: ', df[df['user_score'] == 'tbd']['user_score'].count())"
   ]
  },
  {
   "cell_type": "markdown",
   "id": "55583a12",
   "metadata": {},
   "source": [
    "В столбце содержится 2424 значения tbd = 'to be determined'. Такие значения могли появиться по нескольких причинам. Например, недостотаточно пользовательских голосов, чтобы выдать результат, или игра вышла, но не дошла до пользователя на момент среза данных. Чтобы эти значения не мешали нам в обработке значений, будем считать, что они эквивалентны NaN и выполним соответсвующую замену."
   ]
  },
  {
   "cell_type": "markdown",
   "id": "300f7bd4",
   "metadata": {},
   "source": [
    "Сделаем копию первоначального столбца в столбец user_score_with_tbd. А в столбце user_score заменим значения tbd на NaN."
   ]
  },
  {
   "cell_type": "code",
   "execution_count": 14,
   "id": "85137c70",
   "metadata": {},
   "outputs": [],
   "source": [
    "df['user_score_with_tbd'] = df['user_score']\n",
    "df['user_score'] = df['user_score'].replace('tbd', np.nan)"
   ]
  },
  {
   "cell_type": "markdown",
   "id": "7b62fec9",
   "metadata": {},
   "source": [
    "Выполняем преобразования типов для столбцов user_score."
   ]
  },
  {
   "cell_type": "code",
   "execution_count": 15,
   "id": "38e1ccf8",
   "metadata": {},
   "outputs": [],
   "source": [
    "df['user_score'] = df['user_score'].astype('float32')"
   ]
  },
  {
   "cell_type": "markdown",
   "id": "d49c0268",
   "metadata": {},
   "source": [
    "Выводим на экран типы после преобразования для проверки."
   ]
  },
  {
   "cell_type": "code",
   "execution_count": 16,
   "id": "9142bb2c",
   "metadata": {},
   "outputs": [
    {
     "name": "stdout",
     "output_type": "stream",
     "text": [
      "Тип данных в столбце year_of_release после преобразования: int32\n",
      "Тип данных в столбце user_score после преобразования: float32\n"
     ]
    }
   ],
   "source": [
    "print('Тип данных в столбце year_of_release после преобразования:', df['year_of_release'].dtype)\n",
    "print('Тип данных в столбце user_score после преобразования:', df['user_score'].dtype)"
   ]
  },
  {
   "cell_type": "markdown",
   "id": "5846ba69",
   "metadata": {},
   "source": [
    "### Добавление столбца с суммарными продажами"
   ]
  },
  {
   "cell_type": "markdown",
   "id": "224e7684",
   "metadata": {},
   "source": [
    "Добавим столбец all_sales (миллионы проданных копий во всех странах)."
   ]
  },
  {
   "cell_type": "code",
   "execution_count": 17,
   "id": "e6325847",
   "metadata": {},
   "outputs": [
    {
     "data": {
      "text/plain": [
       "0    82.54\n",
       "1    40.24\n",
       "2    35.52\n",
       "3    32.77\n",
       "4    31.38\n",
       "Name: all_sales, dtype: float64"
      ]
     },
     "execution_count": 17,
     "metadata": {},
     "output_type": "execute_result"
    }
   ],
   "source": [
    "df['all_sales'] = df['na_sales'] + df['eu_sales'] + df['jp_sales'] + df['other_sales']\n",
    "df['all_sales'].head()"
   ]
  },
  {
   "cell_type": "markdown",
   "id": "a5e71971",
   "metadata": {},
   "source": [
    "### Поиск дубликатов"
   ]
  },
  {
   "cell_type": "markdown",
   "id": "51dd954a",
   "metadata": {},
   "source": [
    "#### Поиск явных дубликатов"
   ]
  },
  {
   "cell_type": "markdown",
   "id": "65793caa",
   "metadata": {},
   "source": [
    "Посчитаем количество явных дубликатов."
   ]
  },
  {
   "cell_type": "code",
   "execution_count": 18,
   "id": "a77f6c7b",
   "metadata": {},
   "outputs": [
    {
     "data": {
      "text/plain": [
       "0"
      ]
     },
     "execution_count": 18,
     "metadata": {},
     "output_type": "execute_result"
    }
   ],
   "source": [
    "df.duplicated().sum()"
   ]
  },
  {
   "cell_type": "markdown",
   "id": "93863f11",
   "metadata": {},
   "source": [
    "#### Поиск неявных дубликатов"
   ]
  },
  {
   "cell_type": "markdown",
   "id": "7d87ebab",
   "metadata": {},
   "source": [
    "Поскольку игра определяется названием и платформой, рассмотрим пары *name-platform* на предмет дубликатов."
   ]
  },
  {
   "cell_type": "code",
   "execution_count": 19,
   "id": "1f9351cb",
   "metadata": {},
   "outputs": [
    {
     "data": {
      "text/html": [
       "<div>\n",
       "<style scoped>\n",
       "    .dataframe tbody tr th:only-of-type {\n",
       "        vertical-align: middle;\n",
       "    }\n",
       "\n",
       "    .dataframe tbody tr th {\n",
       "        vertical-align: top;\n",
       "    }\n",
       "\n",
       "    .dataframe thead th {\n",
       "        text-align: right;\n",
       "    }\n",
       "</style>\n",
       "<table border=\"1\" class=\"dataframe\">\n",
       "  <thead>\n",
       "    <tr style=\"text-align: right;\">\n",
       "      <th></th>\n",
       "      <th>name</th>\n",
       "      <th>platform</th>\n",
       "      <th>year_of_release</th>\n",
       "      <th>genre</th>\n",
       "      <th>na_sales</th>\n",
       "      <th>eu_sales</th>\n",
       "      <th>jp_sales</th>\n",
       "      <th>other_sales</th>\n",
       "      <th>critic_score</th>\n",
       "      <th>user_score</th>\n",
       "      <th>rating</th>\n",
       "      <th>user_score_with_tbd</th>\n",
       "      <th>all_sales</th>\n",
       "    </tr>\n",
       "  </thead>\n",
       "  <tbody>\n",
       "    <tr>\n",
       "      <th>604</th>\n",
       "      <td>Madden NFL 13</td>\n",
       "      <td>PS3</td>\n",
       "      <td>2012</td>\n",
       "      <td>Sports</td>\n",
       "      <td>2.11</td>\n",
       "      <td>0.22</td>\n",
       "      <td>0.00</td>\n",
       "      <td>0.23</td>\n",
       "      <td>83.0</td>\n",
       "      <td>5.5</td>\n",
       "      <td>E</td>\n",
       "      <td>5.5</td>\n",
       "      <td>2.56</td>\n",
       "    </tr>\n",
       "    <tr>\n",
       "      <th>1190</th>\n",
       "      <td>Need for Speed: Most Wanted</td>\n",
       "      <td>X360</td>\n",
       "      <td>2012</td>\n",
       "      <td>Racing</td>\n",
       "      <td>0.62</td>\n",
       "      <td>0.78</td>\n",
       "      <td>0.01</td>\n",
       "      <td>0.15</td>\n",
       "      <td>83.0</td>\n",
       "      <td>8.5</td>\n",
       "      <td>T</td>\n",
       "      <td>8.5</td>\n",
       "      <td>1.56</td>\n",
       "    </tr>\n",
       "    <tr>\n",
       "      <th>1591</th>\n",
       "      <td>Need for Speed: Most Wanted</td>\n",
       "      <td>X360</td>\n",
       "      <td>2005</td>\n",
       "      <td>Racing</td>\n",
       "      <td>1.00</td>\n",
       "      <td>0.13</td>\n",
       "      <td>0.02</td>\n",
       "      <td>0.10</td>\n",
       "      <td>83.0</td>\n",
       "      <td>8.5</td>\n",
       "      <td>T</td>\n",
       "      <td>8.5</td>\n",
       "      <td>1.25</td>\n",
       "    </tr>\n",
       "    <tr>\n",
       "      <th>5972</th>\n",
       "      <td>Need for Speed: Most Wanted</td>\n",
       "      <td>PC</td>\n",
       "      <td>2005</td>\n",
       "      <td>Racing</td>\n",
       "      <td>0.02</td>\n",
       "      <td>0.23</td>\n",
       "      <td>0.00</td>\n",
       "      <td>0.04</td>\n",
       "      <td>82.0</td>\n",
       "      <td>8.5</td>\n",
       "      <td>T</td>\n",
       "      <td>8.5</td>\n",
       "      <td>0.29</td>\n",
       "    </tr>\n",
       "    <tr>\n",
       "      <th>11715</th>\n",
       "      <td>Need for Speed: Most Wanted</td>\n",
       "      <td>PC</td>\n",
       "      <td>2012</td>\n",
       "      <td>Racing</td>\n",
       "      <td>0.00</td>\n",
       "      <td>0.06</td>\n",
       "      <td>0.00</td>\n",
       "      <td>0.02</td>\n",
       "      <td>82.0</td>\n",
       "      <td>8.5</td>\n",
       "      <td>T</td>\n",
       "      <td>8.5</td>\n",
       "      <td>0.08</td>\n",
       "    </tr>\n",
       "    <tr>\n",
       "      <th>16230</th>\n",
       "      <td>Madden NFL 13</td>\n",
       "      <td>PS3</td>\n",
       "      <td>2012</td>\n",
       "      <td>Sports</td>\n",
       "      <td>0.00</td>\n",
       "      <td>0.01</td>\n",
       "      <td>0.00</td>\n",
       "      <td>0.00</td>\n",
       "      <td>83.0</td>\n",
       "      <td>5.5</td>\n",
       "      <td>E</td>\n",
       "      <td>5.5</td>\n",
       "      <td>0.01</td>\n",
       "    </tr>\n",
       "  </tbody>\n",
       "</table>\n",
       "</div>"
      ],
      "text/plain": [
       "                              name platform  year_of_release   genre  \\\n",
       "604                  Madden NFL 13      PS3             2012  Sports   \n",
       "1190   Need for Speed: Most Wanted     X360             2012  Racing   \n",
       "1591   Need for Speed: Most Wanted     X360             2005  Racing   \n",
       "5972   Need for Speed: Most Wanted       PC             2005  Racing   \n",
       "11715  Need for Speed: Most Wanted       PC             2012  Racing   \n",
       "16230                Madden NFL 13      PS3             2012  Sports   \n",
       "\n",
       "       na_sales  eu_sales  jp_sales  other_sales  critic_score  user_score  \\\n",
       "604        2.11      0.22      0.00         0.23          83.0         5.5   \n",
       "1190       0.62      0.78      0.01         0.15          83.0         8.5   \n",
       "1591       1.00      0.13      0.02         0.10          83.0         8.5   \n",
       "5972       0.02      0.23      0.00         0.04          82.0         8.5   \n",
       "11715      0.00      0.06      0.00         0.02          82.0         8.5   \n",
       "16230      0.00      0.01      0.00         0.00          83.0         5.5   \n",
       "\n",
       "      rating user_score_with_tbd  all_sales  \n",
       "604        E                 5.5       2.56  \n",
       "1190       T                 8.5       1.56  \n",
       "1591       T                 8.5       1.25  \n",
       "5972       T                 8.5       0.29  \n",
       "11715      T                 8.5       0.08  \n",
       "16230      E                 5.5       0.01  "
      ]
     },
     "execution_count": 19,
     "metadata": {},
     "output_type": "execute_result"
    }
   ],
   "source": [
    "# Поиск дубликатов по столбцам name и platform\n",
    "\n",
    "df.loc[df.duplicated(subset=['name', 'platform'], keep=False)]"
   ]
  },
  {
   "cell_type": "markdown",
   "id": "aabf954b",
   "metadata": {},
   "source": [
    "Мы нашли 3 пары дубликатов. Удалим дублирующие строки."
   ]
  },
  {
   "cell_type": "code",
   "execution_count": 20,
   "id": "8b9653c0",
   "metadata": {},
   "outputs": [
    {
     "data": {
      "text/plain": [
       "0"
      ]
     },
     "metadata": {},
     "output_type": "display_data"
    }
   ],
   "source": [
    "# Удаление дубликатов по паре name-platform\n",
    "\n",
    "df.drop_duplicates(subset=['name', 'platform'], inplace=True)\n",
    "display(df.duplicated(subset=['name', 'platform']).sum()) # Проверка"
   ]
  },
  {
   "cell_type": "markdown",
   "id": "4027b211",
   "metadata": {},
   "source": [
    "## Исследовательский анализ данных"
   ]
  },
  {
   "cell_type": "markdown",
   "id": "d2d525ba",
   "metadata": {},
   "source": [
    "### Распределение выпуска игр по годам"
   ]
  },
  {
   "cell_type": "code",
   "execution_count": 21,
   "id": "3b62cc33",
   "metadata": {},
   "outputs": [
    {
     "data": {
      "image/png": "[encoded data removed]",
      "text/plain": [
       "<Figure size 1080x576 with 1 Axes>"
      ]
     },
     "metadata": {
      "needs_background": "light"
     },
     "output_type": "display_data"
    }
   ],
   "source": [
    "# Посмотрим, сколько игр выпускалось в каждые годы\n",
    "# Построим диаграмму распределения выпусков по годам\n",
    "\n",
    "(df.groupby('year_of_release')['year_of_release']\n",
    "   .count()\n",
    "   .plot(kind='bar', \n",
    "         figsize=(15, 8), \n",
    "         grid=True,\n",
    "         title='Распределение выпусков по годам')\n",
    "    .set(xlabel='Годы выпуска',\n",
    "         ylabel='Число выпусков'));"
   ]
  },
  {
   "cell_type": "code",
   "execution_count": 22,
   "id": "42328b44",
   "metadata": {},
   "outputs": [
    {
     "data": {
      "image/png": "[encoded data removed]",
      "text/plain": [
       "<Figure size 1080x576 with 1 Axes>"
      ]
     },
     "metadata": {
      "needs_background": "light"
     },
     "output_type": "display_data"
    }
   ],
   "source": [
    "# Построим график распределения выпусков по годам, в котором учитывается выход игры на любой платформе\n",
    "\n",
    "fig, ax = plt.subplots()\n",
    "(df.groupby('year_of_release')['year_of_release']\n",
    "   .count()\n",
    "   .plot(kind='bar', \n",
    "         figsize=(15, 8), \n",
    "         grid=True,\n",
    "         title='Распределение выпусков по годам',\n",
    "         alpha=0.5,\n",
    "         ax=ax)\n",
    "    .set(xlabel='Годы выпуска',\n",
    "         ylabel='Число выпусков'));\n",
    "\n",
    "# Находим игры, которые в одном году выходили на нескольких плафтормах и оставляем только одну строчку,\n",
    "# которая будет учитываться в сумме для распределения выпуска по годам\n",
    "# График будет отрисовываться красным цветом.\n",
    "\n",
    "(df.drop_duplicates(subset=['name', 'year_of_release'])\n",
    "   .groupby('year_of_release')['year_of_release']\n",
    "   .count()\n",
    "   .plot(kind='bar', \n",
    "         figsize=(15, 8), \n",
    "         grid=True,\n",
    "         title='Распределение выпусков по годам',\n",
    "         alpha=0.5,\n",
    "         ax=ax,\n",
    "         color='red')\n",
    "    .set(xlabel='Годы выпуска',\n",
    "         ylabel='Число выпусков'));\n",
    "ax.legend(['Выпуск игры учитывается на всех плафтормах', 'Выпуск игры на разных плафтормах считается одним выпуском']);"
   ]
  },
  {
   "cell_type": "markdown",
   "id": "ce012689",
   "metadata": {},
   "source": [
    "Рост числа выпусков в период с 1994 по 2008 год связан с быстрым развитием и выходом новых плафторм. Как видно из сравнения графиков, начиная с 1997 года игры начали выпускать сразу на нескольких плафтормах, причем количество альтернативных платформ увеличивалось и достигало максимума в 2009-2011 годы. Это может быть связано с тем, что в этот период было много популярных платформ."
   ]
  },
  {
   "cell_type": "markdown",
   "id": "f0ac5c5a",
   "metadata": {},
   "source": [
    "Выведем статистические данные по столбцу year_of_release."
   ]
  },
  {
   "cell_type": "code",
   "execution_count": 23,
   "id": "f2f424cf",
   "metadata": {},
   "outputs": [
    {
     "data": {
      "text/plain": [
       "count    16441.000000\n",
       "mean      2006.485676\n",
       "std          5.875735\n",
       "min       1980.000000\n",
       "25%       2003.000000\n",
       "50%       2007.000000\n",
       "75%       2010.000000\n",
       "max       2016.000000\n",
       "Name: year_of_release, dtype: float64"
      ]
     },
     "execution_count": 23,
     "metadata": {},
     "output_type": "execute_result"
    }
   ],
   "source": [
    "df['year_of_release'].describe()"
   ]
  },
  {
   "cell_type": "markdown",
   "id": "d9dc040a",
   "metadata": {},
   "source": [
    "Для удобства преобразуем его к типу int."
   ]
  },
  {
   "cell_type": "code",
   "execution_count": 24,
   "id": "8bfd391f",
   "metadata": {},
   "outputs": [],
   "source": [
    "df.year_of_release = df.year_of_release.astype(int)"
   ]
  },
  {
   "cell_type": "markdown",
   "id": "31d49f97",
   "metadata": {},
   "source": [
    "Выведем на экран процент выпусков, вышедших после 2014 года."
   ]
  },
  {
   "cell_type": "code",
   "execution_count": 25,
   "id": "9e9d6585",
   "metadata": {},
   "outputs": [
    {
     "name": "stdout",
     "output_type": "stream",
     "text": [
      "Процент выпусков после 2014 года: 10%\n"
     ]
    }
   ],
   "source": [
    "print('Процент выпусков после 2014 года: {:.0%}'.format(\\\n",
    "    df[df.year_of_release >= 2014]['year_of_release'].count() / df.shape[0]))"
   ]
  },
  {
   "cell_type": "markdown",
   "id": "c35dbf12",
   "metadata": {},
   "source": [
    "### Изменение продаж по платформам"
   ]
  },
  {
   "cell_type": "markdown",
   "id": "312008ca",
   "metadata": {},
   "source": [
    "Посмотрим, как менялись продажи по платформам и распределение продаж по годам для всех платформ."
   ]
  },
  {
   "cell_type": "code",
   "execution_count": 26,
   "id": "7bfbe3b8",
   "metadata": {},
   "outputs": [
    {
     "data": {
      "image/png": "[encoded data removed]",
      "text/plain": [
       "<Figure size 432x288 with 1 Axes>"
      ]
     },
     "metadata": {
      "needs_background": "light"
     },
     "output_type": "display_data"
    }
   ],
   "source": [
    "(df.sort_values(by='year_of_release')\n",
    "   .plot(x='platform', \n",
    "         y='year_of_release', \n",
    "         kind='scatter', \n",
    "         grid=True, \n",
    "         c='green',\n",
    "         title='Распределение продаж по годам для всех платформ')\n",
    "    .set(xlabel='Платформы',\n",
    "         ylabel='Годы выпуска'));\n",
    "plt.xticks(rotation=90)\n",
    "plt.show()"
   ]
  },
  {
   "cell_type": "markdown",
   "id": "18ed9326",
   "metadata": {},
   "source": [
    "Определим 5 платформ с наибольшими суммарными продажами."
   ]
  },
  {
   "cell_type": "code",
   "execution_count": 27,
   "id": "669c82ba",
   "metadata": {},
   "outputs": [
    {
     "data": {
      "text/html": [
       "<div>\n",
       "<style scoped>\n",
       "    .dataframe tbody tr th:only-of-type {\n",
       "        vertical-align: middle;\n",
       "    }\n",
       "\n",
       "    .dataframe tbody tr th {\n",
       "        vertical-align: top;\n",
       "    }\n",
       "\n",
       "    .dataframe thead th {\n",
       "        text-align: right;\n",
       "    }\n",
       "</style>\n",
       "<table border=\"1\" class=\"dataframe\">\n",
       "  <thead>\n",
       "    <tr style=\"text-align: right;\">\n",
       "      <th></th>\n",
       "      <th>all_sales</th>\n",
       "    </tr>\n",
       "    <tr>\n",
       "      <th>platform</th>\n",
       "      <th></th>\n",
       "    </tr>\n",
       "  </thead>\n",
       "  <tbody>\n",
       "    <tr>\n",
       "      <th>PS2</th>\n",
       "      <td>1233.56</td>\n",
       "    </tr>\n",
       "    <tr>\n",
       "      <th>X360</th>\n",
       "      <td>959.99</td>\n",
       "    </tr>\n",
       "    <tr>\n",
       "      <th>PS3</th>\n",
       "      <td>931.33</td>\n",
       "    </tr>\n",
       "    <tr>\n",
       "      <th>Wii</th>\n",
       "      <td>891.18</td>\n",
       "    </tr>\n",
       "    <tr>\n",
       "      <th>DS</th>\n",
       "      <td>802.78</td>\n",
       "    </tr>\n",
       "  </tbody>\n",
       "</table>\n",
       "</div>"
      ],
      "text/plain": [
       "          all_sales\n",
       "platform           \n",
       "PS2         1233.56\n",
       "X360         959.99\n",
       "PS3          931.33\n",
       "Wii          891.18\n",
       "DS           802.78"
      ]
     },
     "metadata": {},
     "output_type": "display_data"
    }
   ],
   "source": [
    "top_platforms = (df.pivot_table(index='platform', values='all_sales', aggfunc='sum')\n",
    "                  .sort_values(by='all_sales', ascending=False)\n",
    "                  .head()\n",
    "                )\n",
    "display(top_platforms)"
   ]
  },
  {
   "cell_type": "markdown",
   "id": "36a3f03b",
   "metadata": {},
   "source": [
    "Построим для этих платформ распределение продаж по годам."
   ]
  },
  {
   "cell_type": "code",
   "execution_count": 28,
   "id": "9cb10b90",
   "metadata": {},
   "outputs": [
    {
     "data": {
      "image/png": "[encoded data removed]",
      "text/plain": [
       "<Figure size 432x288 with 1 Axes>"
      ]
     },
     "metadata": {
      "needs_background": "light"
     },
     "output_type": "display_data"
    }
   ],
   "source": [
    "(df.query('platform in @top_platforms.index')\n",
    "  .plot(x='platform', \n",
    "        y='year_of_release', \n",
    "        kind='scatter', \n",
    "        grid=True, \n",
    "        c='green', \n",
    "        title='Распределение продаж по годам для самых прибыльных платформ')\n",
    "  .set(xlabel='Платформы', \n",
    "       ylabel='Годы выпуска'));"
   ]
  },
  {
   "cell_type": "markdown",
   "id": "e10699dc",
   "metadata": {},
   "source": [
    "Как видно из графиков, игры для конкретных платформ выпускаются в течение нескольких лет. Рассмотрим эти промежутки для всех платформ."
   ]
  },
  {
   "cell_type": "code",
   "execution_count": 29,
   "id": "6797669e",
   "metadata": {},
   "outputs": [
    {
     "data": {
      "image/png": "[encoded data removed]",
      "text/plain": [
       "<Figure size 432x288 with 1 Axes>"
      ]
     },
     "metadata": {
      "needs_background": "light"
     },
     "output_type": "display_data"
    }
   ],
   "source": [
    "(\n",
    "    df.pivot_table(index='platform', values=['year_of_release'], aggfunc=lambda x: x.max() - x.min())\n",
    "      .sort_values(by='year_of_release')\n",
    "      .plot(kind='bar', grid=True, title='Интервал существования платформ')\n",
    "      .set(xlabel='Платформы',\n",
    "           ylabel='Временной интервал (кол-во лет)')\n",
    ");"
   ]
  },
  {
   "cell_type": "markdown",
   "id": "566a7bc2",
   "metadata": {},
   "source": [
    "Значения для платформ *DC* и *PC* сильно отличаются, поэтому посчитаем медианное значение для этого интервала."
   ]
  },
  {
   "cell_type": "code",
   "execution_count": 30,
   "id": "a2cc13a2",
   "metadata": {},
   "outputs": [
    {
     "name": "stdout",
     "output_type": "stream",
     "text": [
      "Характерный срок существования платформ: 6.0 лет\n"
     ]
    }
   ],
   "source": [
    "print('Характерный срок существования платформ: {} лет'.format(\n",
    "        df.pivot_table(index='platform', values=['year_of_release'], aggfunc=lambda x: x.max() - x.min())\n",
    "          .median()[0])\n",
    ")"
   ]
  },
  {
   "cell_type": "markdown",
   "id": "368b498f",
   "metadata": {},
   "source": [
    "Мы вычислили, что средняя продолжительность использования плафтормы составляет 6 лет."
   ]
  },
  {
   "cell_type": "markdown",
   "id": "2c054dd6",
   "metadata": {},
   "source": [
    "   ### Выбор актуального периода"
   ]
  },
  {
   "cell_type": "markdown",
   "id": "43936302",
   "metadata": {},
   "source": [
    "Поскольку компьютерные игры являются стремительно развивающейся индустрией, в качестве актуального периода выберем 3 года: с 2014 по 2016."
   ]
  },
  {
   "cell_type": "markdown",
   "id": "83f5e9c6",
   "metadata": {},
   "source": [
    "Чтобы данные за предыдущие годы не мешали нам, удалим записи, в которых *year_of_release* < 2014, и сохраним результат в новый датафрейм df_new."
   ]
  },
  {
   "cell_type": "code",
   "execution_count": 31,
   "id": "8c04ff5b",
   "metadata": {},
   "outputs": [],
   "source": [
    "df_new = df.drop(df[df['year_of_release'] < 2014].index)"
   ]
  },
  {
   "cell_type": "markdown",
   "id": "756603b8",
   "metadata": {},
   "source": [
    "### Анализ изменения продаж по платформам"
   ]
  },
  {
   "cell_type": "markdown",
   "id": "7cd00ab3",
   "metadata": {},
   "source": [
    "Отобразим самые прибыльные плафтормы за актуальный период."
   ]
  },
  {
   "cell_type": "code",
   "execution_count": 32,
   "id": "d6116216",
   "metadata": {},
   "outputs": [
    {
     "data": {
      "text/html": [
       "<div>\n",
       "<style scoped>\n",
       "    .dataframe tbody tr th:only-of-type {\n",
       "        vertical-align: middle;\n",
       "    }\n",
       "\n",
       "    .dataframe tbody tr th {\n",
       "        vertical-align: top;\n",
       "    }\n",
       "\n",
       "    .dataframe thead th {\n",
       "        text-align: right;\n",
       "    }\n",
       "</style>\n",
       "<table border=\"1\" class=\"dataframe\">\n",
       "  <thead>\n",
       "    <tr style=\"text-align: right;\">\n",
       "      <th></th>\n",
       "      <th>all_sales</th>\n",
       "    </tr>\n",
       "    <tr>\n",
       "      <th>platform</th>\n",
       "      <th></th>\n",
       "    </tr>\n",
       "  </thead>\n",
       "  <tbody>\n",
       "    <tr>\n",
       "      <th>PS4</th>\n",
       "      <td>288.15</td>\n",
       "    </tr>\n",
       "    <tr>\n",
       "      <th>XOne</th>\n",
       "      <td>140.36</td>\n",
       "    </tr>\n",
       "    <tr>\n",
       "      <th>3DS</th>\n",
       "      <td>86.68</td>\n",
       "    </tr>\n",
       "    <tr>\n",
       "      <th>PS3</th>\n",
       "      <td>68.18</td>\n",
       "    </tr>\n",
       "    <tr>\n",
       "      <th>X360</th>\n",
       "      <td>48.22</td>\n",
       "    </tr>\n",
       "  </tbody>\n",
       "</table>\n",
       "</div>"
      ],
      "text/plain": [
       "          all_sales\n",
       "platform           \n",
       "PS4          288.15\n",
       "XOne         140.36\n",
       "3DS           86.68\n",
       "PS3           68.18\n",
       "X360          48.22"
      ]
     },
     "execution_count": 32,
     "metadata": {},
     "output_type": "execute_result"
    }
   ],
   "source": [
    "# Определяем топ-5 прибыльных плафторм за актуальный период.\n",
    "# Сохраняем их в top_new_platforms для дальнейшего использования\n",
    "\n",
    "top_new_platforms = (\n",
    "    df_new.pivot_table(index='platform', values='all_sales', aggfunc='sum')\n",
    "          .sort_values(by='all_sales', ascending=False)\n",
    "          .head()\n",
    ")\n",
    "top_new_platforms"
   ]
  },
  {
   "cell_type": "markdown",
   "id": "0e5ec3e3",
   "metadata": {},
   "source": [
    "Теперь рассмотрим, как распределяются продажи для этих плафторм."
   ]
  },
  {
   "cell_type": "code",
   "execution_count": 33,
   "id": "0162f306",
   "metadata": {},
   "outputs": [
    {
     "data": {
      "image/png": "[encoded data removed]",
      "text/plain": [
       "<Figure size 1440x720 with 1 Axes>"
      ]
     },
     "metadata": {
      "needs_background": "light"
     },
     "output_type": "display_data"
    }
   ],
   "source": [
    "# Построим распределение по общим продажам для самых прибыльных плафторм\n",
    "(\n",
    "    df_new.query('platform in @top_new_platforms.index')\n",
    "          .pivot_table(\n",
    "              index=['year_of_release'],\n",
    "              columns=['platform'], \n",
    "              values='all_sales',\n",
    "              aggfunc='sum')\n",
    "          .plot.bar(rot=0, grid=True, figsize=(20, 10), stacked=True)\n",
    "         .set(xlabel='Год выпуска',\n",
    "              ylabel='Суммарные продажи')\n",
    ");"
   ]
  },
  {
   "cell_type": "markdown",
   "id": "7dba3b62",
   "metadata": {},
   "source": [
    "Мы видим, что для всех платформ продажи падают.\n",
    "\n",
    "Рассмотрим распределение продаж для всех платформ."
   ]
  },
  {
   "cell_type": "code",
   "execution_count": 34,
   "id": "923c5feb",
   "metadata": {},
   "outputs": [
    {
     "data": {
      "image/png": "[encoded data removed]",
      "text/plain": [
       "<Figure size 1080x648 with 1 Axes>"
      ]
     },
     "metadata": {
      "needs_background": "light"
     },
     "output_type": "display_data"
    }
   ],
   "source": [
    "# Построим распределение общих продаж по всем плафтормам\n",
    "(\n",
    "    df_new.pivot_table(index=['year_of_release'], \n",
    "                       columns=['platform'], \n",
    "                       values='all_sales', \n",
    "                       aggfunc='sum')\n",
    "          .plot.line(colormap='tab20', title='Распределение продаж по всем плафтормам', figsize=(15, 9))\n",
    "          .set(xlabel='Год выпуска',\n",
    "               ylabel='Суммарные продажи')\n",
    ");\n",
    "plt.legend(title='Платформы', loc='upper left')\n",
    "plt.show()"
   ]
  },
  {
   "cell_type": "markdown",
   "id": "f99684cb",
   "metadata": {},
   "source": [
    "Выведем на экран данные о прибыльности плафторм за 2016 год."
   ]
  },
  {
   "cell_type": "code",
   "execution_count": 35,
   "id": "cfbdf3a3",
   "metadata": {},
   "outputs": [
    {
     "data": {
      "text/html": [
       "<div>\n",
       "<style scoped>\n",
       "    .dataframe tbody tr th:only-of-type {\n",
       "        vertical-align: middle;\n",
       "    }\n",
       "\n",
       "    .dataframe tbody tr th {\n",
       "        vertical-align: top;\n",
       "    }\n",
       "\n",
       "    .dataframe thead th {\n",
       "        text-align: right;\n",
       "    }\n",
       "</style>\n",
       "<table border=\"1\" class=\"dataframe\">\n",
       "  <thead>\n",
       "    <tr style=\"text-align: right;\">\n",
       "      <th></th>\n",
       "      <th>all_sales</th>\n",
       "    </tr>\n",
       "    <tr>\n",
       "      <th>platform</th>\n",
       "      <th></th>\n",
       "    </tr>\n",
       "  </thead>\n",
       "  <tbody>\n",
       "    <tr>\n",
       "      <th>PS4</th>\n",
       "      <td>69.25</td>\n",
       "    </tr>\n",
       "    <tr>\n",
       "      <th>XOne</th>\n",
       "      <td>26.15</td>\n",
       "    </tr>\n",
       "    <tr>\n",
       "      <th>3DS</th>\n",
       "      <td>15.14</td>\n",
       "    </tr>\n",
       "    <tr>\n",
       "      <th>PC</th>\n",
       "      <td>5.25</td>\n",
       "    </tr>\n",
       "    <tr>\n",
       "      <th>WiiU</th>\n",
       "      <td>4.60</td>\n",
       "    </tr>\n",
       "    <tr>\n",
       "      <th>PSV</th>\n",
       "      <td>4.25</td>\n",
       "    </tr>\n",
       "    <tr>\n",
       "      <th>PS3</th>\n",
       "      <td>3.60</td>\n",
       "    </tr>\n",
       "    <tr>\n",
       "      <th>X360</th>\n",
       "      <td>1.52</td>\n",
       "    </tr>\n",
       "    <tr>\n",
       "      <th>Wii</th>\n",
       "      <td>0.18</td>\n",
       "    </tr>\n",
       "  </tbody>\n",
       "</table>\n",
       "</div>"
      ],
      "text/plain": [
       "          all_sales\n",
       "platform           \n",
       "PS4           69.25\n",
       "XOne          26.15\n",
       "3DS           15.14\n",
       "PC             5.25\n",
       "WiiU           4.60\n",
       "PSV            4.25\n",
       "PS3            3.60\n",
       "X360           1.52\n",
       "Wii            0.18"
      ]
     },
     "metadata": {},
     "output_type": "display_data"
    }
   ],
   "source": [
    "display(\n",
    "    df_new.query('year_of_release == 2016')\n",
    "          .pivot_table(index='platform', values='all_sales', aggfunc='sum')\n",
    "          .sort_values(by='all_sales', ascending=False)\n",
    ")"
   ]
  },
  {
   "cell_type": "markdown",
   "id": "5516ae0b",
   "metadata": {},
   "source": [
    "Как видно из графиков, продажи падают для всех плафторм. Возможно, это связано с ростом популярности мобильных игр, а также снижением покупательской способности населения. Второе может объяснить и то, что продажи для платформы *PC* относительно стабильны на протяжении всего интервала наблюдения. Однако в последние 5 лет и здесь наблюдается спад. Тем не менее *PC* можно отнести к потенциально прибыльным платформам, равно как и *PS4, XOne, 3DS, WiiU*.\n",
    "\n",
    "**Вывод.** К самым перспективным платформам можно отнести:\n",
    "- *PC*, из-за стабильности на протяжении многих лет и распространенности среди пользователей;\n",
    "- *PS4*, поскольку на момент 2016 года это самая прибыльная платформа, также она является новым поколением одной из самых прибыльных серий (предыдущие выпуски PS2 и PS3) входят в определенные нами топ-5 самых прибыльных платформ;\n",
    "- *XOne*, вторая по прибыльности на момент 2016 года, ее предшественница, плафторма X360, входит в топ-5 самых прибыльных плафторм;\n",
    "- *3DS*, третяя по прибыльности на 2016 год, ее предшественница, платформа DS, входит в топ-5 самых прибыльных платформ;\n",
    "- *WiiU*, пятая по прибыльности за 2016 год, ее предшественница, платформа Wii, входит в топ-5 самых прибыльных плафторм."
   ]
  },
  {
   "cell_type": "markdown",
   "id": "830a6294",
   "metadata": {},
   "source": [
    "### Ящик с усами по глобальным продажам игр в разбивке по платформам"
   ]
  },
  {
   "cell_type": "code",
   "execution_count": 36,
   "id": "1ff01c2f",
   "metadata": {},
   "outputs": [
    {
     "data": {
      "image/png": "[encoded data removed]",
      "text/plain": [
       "<Figure size 432x288 with 1 Axes>"
      ]
     },
     "metadata": {
      "needs_background": "light"
     },
     "output_type": "display_data"
    }
   ],
   "source": [
    "# Построим ящик с усами по глобальным продажам игр в разбивке по платформам\n",
    "\n",
    "sns.boxplot(data=df_new.query('platform in @top_new_platforms.index'), x='platform', y='all_sales')\n",
    "plt.show()"
   ]
  },
  {
   "cell_type": "code",
   "execution_count": 37,
   "id": "7b2a46ff",
   "metadata": {},
   "outputs": [
    {
     "data": {
      "image/png": "[encoded data removed]",
      "text/plain": [
       "<Figure size 1080x720 with 1 Axes>"
      ]
     },
     "metadata": {
      "needs_background": "light"
     },
     "output_type": "display_data"
    }
   ],
   "source": [
    "# Рассмотрим ближе значения от 0 до 0.85 млн\n",
    "\n",
    "plt.figure(figsize=(15, 10))\n",
    "sns.boxplot(data=df_new.query('platform in @top_new_platforms.index'), x='platform', y='all_sales')\n",
    "plt.ylim(0, 0.85)\n",
    "plt.title('Ящик с усами по глобальным продажам игр в разбивке по платформам')\n",
    "plt.xlabel('Платформа')\n",
    "plt.ylabel('Суммарные продажи')\n",
    "plt.show()"
   ]
  },
  {
   "cell_type": "markdown",
   "id": "21a1438c",
   "metadata": {},
   "source": [
    "Выведем на экран статистические характеристики по каждой платформе."
   ]
  },
  {
   "cell_type": "code",
   "execution_count": 38,
   "id": "ccf2e84e",
   "metadata": {},
   "outputs": [
    {
     "data": {
      "text/html": [
       "<div>\n",
       "<style scoped>\n",
       "    .dataframe tbody tr th:only-of-type {\n",
       "        vertical-align: middle;\n",
       "    }\n",
       "\n",
       "    .dataframe tbody tr th {\n",
       "        vertical-align: top;\n",
       "    }\n",
       "\n",
       "    .dataframe thead th {\n",
       "        text-align: right;\n",
       "    }\n",
       "</style>\n",
       "<table border=\"1\" class=\"dataframe\">\n",
       "  <thead>\n",
       "    <tr style=\"text-align: right;\">\n",
       "      <th></th>\n",
       "      <th>count</th>\n",
       "      <th>mean</th>\n",
       "      <th>std</th>\n",
       "      <th>min</th>\n",
       "      <th>25%</th>\n",
       "      <th>50%</th>\n",
       "      <th>75%</th>\n",
       "      <th>max</th>\n",
       "    </tr>\n",
       "    <tr>\n",
       "      <th>platform</th>\n",
       "      <th></th>\n",
       "      <th></th>\n",
       "      <th></th>\n",
       "      <th></th>\n",
       "      <th></th>\n",
       "      <th></th>\n",
       "      <th></th>\n",
       "      <th></th>\n",
       "    </tr>\n",
       "  </thead>\n",
       "  <tbody>\n",
       "    <tr>\n",
       "      <th>3DS</th>\n",
       "      <td>512.0</td>\n",
       "      <td>0.503535</td>\n",
       "      <td>1.441271</td>\n",
       "      <td>0.01</td>\n",
       "      <td>0.05</td>\n",
       "      <td>0.12</td>\n",
       "      <td>0.3325</td>\n",
       "      <td>14.60</td>\n",
       "    </tr>\n",
       "    <tr>\n",
       "      <th>PS3</th>\n",
       "      <td>1305.0</td>\n",
       "      <td>0.713663</td>\n",
       "      <td>1.403467</td>\n",
       "      <td>0.00</td>\n",
       "      <td>0.11</td>\n",
       "      <td>0.28</td>\n",
       "      <td>0.7600</td>\n",
       "      <td>21.05</td>\n",
       "    </tr>\n",
       "    <tr>\n",
       "      <th>PS4</th>\n",
       "      <td>392.0</td>\n",
       "      <td>0.801378</td>\n",
       "      <td>1.609456</td>\n",
       "      <td>0.01</td>\n",
       "      <td>0.06</td>\n",
       "      <td>0.20</td>\n",
       "      <td>0.7300</td>\n",
       "      <td>14.63</td>\n",
       "    </tr>\n",
       "    <tr>\n",
       "      <th>X360</th>\n",
       "      <td>1231.0</td>\n",
       "      <td>0.779846</td>\n",
       "      <td>1.632731</td>\n",
       "      <td>0.01</td>\n",
       "      <td>0.11</td>\n",
       "      <td>0.28</td>\n",
       "      <td>0.7700</td>\n",
       "      <td>21.82</td>\n",
       "    </tr>\n",
       "    <tr>\n",
       "      <th>XOne</th>\n",
       "      <td>247.0</td>\n",
       "      <td>0.645020</td>\n",
       "      <td>1.036139</td>\n",
       "      <td>0.01</td>\n",
       "      <td>0.06</td>\n",
       "      <td>0.22</td>\n",
       "      <td>0.6850</td>\n",
       "      <td>7.39</td>\n",
       "    </tr>\n",
       "  </tbody>\n",
       "</table>\n",
       "</div>"
      ],
      "text/plain": [
       "           count      mean       std   min   25%   50%     75%    max\n",
       "platform                                                             \n",
       "3DS        512.0  0.503535  1.441271  0.01  0.05  0.12  0.3325  14.60\n",
       "PS3       1305.0  0.713663  1.403467  0.00  0.11  0.28  0.7600  21.05\n",
       "PS4        392.0  0.801378  1.609456  0.01  0.06  0.20  0.7300  14.63\n",
       "X360      1231.0  0.779846  1.632731  0.01  0.11  0.28  0.7700  21.82\n",
       "XOne       247.0  0.645020  1.036139  0.01  0.06  0.22  0.6850   7.39"
      ]
     },
     "execution_count": 38,
     "metadata": {},
     "output_type": "execute_result"
    }
   ],
   "source": [
    "df.query('platform in @top_new_platforms.index').groupby('platform')['all_sales'].describe()"
   ]
  },
  {
   "cell_type": "markdown",
   "id": "171ae67d",
   "metadata": {},
   "source": [
    "- Из диаграмм размаха видно, что для всех 5 диаграмм характерны выбросы со значениями, значиетельно превышающими границу верхнего квартиля.\n",
    "- Платформа *3DS* имеет самый маленький межквартильный размах, а *PS4* - самый большой. \n",
    "- Для платформ *XOne* и *PS4* продано наименьшее число копий игр. Возможно, это связано с тем, что приставки вышли позже остальных приставок в списке.\n",
    "- Медианное значение для платформы *3DS* значительно меньше остальных платформ."
   ]
  },
  {
   "cell_type": "markdown",
   "id": "8e6eeb1e",
   "metadata": {},
   "source": [
    "### Исследование влияния отзывов пользователей и критиков на продажи"
   ]
  },
  {
   "cell_type": "markdown",
   "id": "633995bb",
   "metadata": {},
   "source": [
    "Для примера рассмотрим, как влияют на продажи внутри платформы **PS3** отзывы пользователей и критиков."
   ]
  },
  {
   "cell_type": "markdown",
   "id": "f83d3ea8",
   "metadata": {},
   "source": [
    "**Отзывы критиков**"
   ]
  },
  {
   "cell_type": "markdown",
   "id": "101065ad",
   "metadata": {},
   "source": [
    "Создадим таблицу с данными только по плафторе PS3."
   ]
  },
  {
   "cell_type": "code",
   "execution_count": 39,
   "id": "14d5e07d",
   "metadata": {},
   "outputs": [],
   "source": [
    "ps3_df = df_new.query('platform == \"PS3\"')[['critic_score', 'user_score', 'all_sales']]"
   ]
  },
  {
   "cell_type": "markdown",
   "id": "be881d0c",
   "metadata": {},
   "source": [
    "Построим диаграмму рассеяния для _оценки критиков_."
   ]
  },
  {
   "cell_type": "code",
   "execution_count": 40,
   "id": "f7b68aad",
   "metadata": {},
   "outputs": [
    {
     "data": {
      "image/png": "[encoded data removed]",
      "text/plain": [
       "<Figure size 432x288 with 1 Axes>"
      ]
     },
     "metadata": {
      "needs_background": "light"
     },
     "output_type": "display_data"
    }
   ],
   "source": [
    "(ps3_df.plot(x='critic_score', \n",
    "             y='all_sales', \n",
    "             kind='scatter', \n",
    "             grid=True, \n",
    "             c='green',\n",
    "             title='Зависимость продаж от отзывов критиков для платформы PS3')\n",
    "        .set(xlabel='Оценка критиков',\n",
    "             ylabel='Суммарные продажи'));"
   ]
  },
  {
   "cell_type": "markdown",
   "id": "0e978e34",
   "metadata": {},
   "source": [
    "Построим диаграмму рассеяния для _оценки пользователей."
   ]
  },
  {
   "cell_type": "code",
   "execution_count": 41,
   "id": "dd0e6deb",
   "metadata": {},
   "outputs": [
    {
     "data": {
      "image/png": "[encoded data removed]",
      "text/plain": [
       "<Figure size 432x288 with 1 Axes>"
      ]
     },
     "metadata": {
      "needs_background": "light"
     },
     "output_type": "display_data"
    }
   ],
   "source": [
    "(ps3_df.plot(x='user_score', \n",
    "             y='all_sales', \n",
    "             kind='scatter', \n",
    "             grid=True, \n",
    "             c='blue',\n",
    "             title='Зависимость продаж от оценки пользователей для платформы PS3')\n",
    "        .set(xlabel='Оценка пользователей',\n",
    "             ylabel='Суммарные продажи'));"
   ]
  },
  {
   "cell_type": "markdown",
   "id": "436f25c9",
   "metadata": {},
   "source": [
    "Посчитаем корреляцию между оценками и продажами."
   ]
  },
  {
   "cell_type": "code",
   "execution_count": 42,
   "id": "256a91f7",
   "metadata": {},
   "outputs": [
    {
     "name": "stdout",
     "output_type": "stream",
     "text": [
      "Корреляция между оценками критиков и продажами для платформы PS3 0.45\n",
      "Корреляция между оценками пользователей и продажами для платформы PS3 -0.17\n"
     ]
    }
   ],
   "source": [
    "print('Корреляция между оценками критиков и продажами для платформы PS3',\\\n",
    "      round(ps3_df['critic_score'].corr(ps3_df['all_sales']), 2))\n",
    "print('Корреляция между оценками пользователей и продажами для платформы PS3', \\\n",
    "      round(ps3_df['user_score'].corr(ps3_df['all_sales']), 2))"
   ]
  },
  {
   "cell_type": "markdown",
   "id": "bb40f86c",
   "metadata": {},
   "source": [
    "### Выводы"
   ]
  },
  {
   "cell_type": "markdown",
   "id": "ded71845",
   "metadata": {},
   "source": [
    "Оценки критиков демонстрируют прямую, средне-слабую корреляцию с продажами для популярных платформ. Корреляции между оценками пользоваталей и продажами нет."
   ]
  },
  {
   "cell_type": "markdown",
   "id": "c2f5b936",
   "metadata": {},
   "source": [
    "### Соотношение выводов с продажами игр на других платформах"
   ]
  },
  {
   "cell_type": "markdown",
   "id": "db01f0ff",
   "metadata": {},
   "source": [
    "Посчитаем коэффициент корреляции Пирсона для всех топ-5 популярных платформ."
   ]
  },
  {
   "cell_type": "code",
   "execution_count": 43,
   "id": "e0756a4b",
   "metadata": {},
   "outputs": [
    {
     "name": "stdout",
     "output_type": "stream",
     "text": [
      "Корреляция между оценками и продажами для плафтормы PS4\n",
      "Оценки критиков: 0.4\n",
      "Оценки пользователей: -0.04\n",
      "Корреляция между оценками и продажами для плафтормы XOne\n",
      "Оценки критиков: 0.43\n",
      "Оценки пользователей: -0.07\n",
      "Корреляция между оценками и продажами для плафтормы 3DS\n",
      "Оценки критиков: 0.31\n",
      "Оценки пользователей: 0.22\n",
      "Корреляция между оценками и продажами для плафтормы PS3\n",
      "Оценки критиков: 0.45\n",
      "Оценки пользователей: -0.17\n",
      "Корреляция между оценками и продажами для плафтормы X360\n",
      "Оценки критиков: 0.53\n",
      "Оценки пользователей: -0.14\n"
     ]
    }
   ],
   "source": [
    "for platform in top_new_platforms.index:\n",
    "    data = df_new.query('platform == @platform')[['critic_score', 'user_score', 'all_sales']]\n",
    "    print('Корреляция между оценками и продажами для плафтормы', platform)\n",
    "    print('Оценки критиков:', round(data['critic_score'].corr(data['all_sales']), 2))\n",
    "    print('Оценки пользователей:', round(data['user_score'].corr(data['all_sales']), 2))"
   ]
  },
  {
   "cell_type": "markdown",
   "id": "b54a4ac8",
   "metadata": {},
   "source": [
    "Полученный результат подтверждает выводы, сделанные для популярных игр о средне-слабой корреляции между оценками критиков и продажами и отсутствии корреляции между оценками пользователей и продажами."
   ]
  },
  {
   "cell_type": "markdown",
   "id": "5da76409",
   "metadata": {},
   "source": [
    "Оценим зависимость продаж от оценок для всех остальных плафторм (платформ не из списка топ-5)."
   ]
  },
  {
   "cell_type": "code",
   "execution_count": 44,
   "id": "99400fc5",
   "metadata": {},
   "outputs": [
    {
     "name": "stdout",
     "output_type": "stream",
     "text": [
      "Корреляция между оценками и продажами для плафторм не из списка топ-5\n",
      "Оценки критиков: 0.19\n",
      "Оценки пользователей: 0.12\n"
     ]
    }
   ],
   "source": [
    "data =  df_new.query('platform not in @top_new_platforms.index')[['critic_score', 'user_score', 'all_sales']]\n",
    "print('Корреляция между оценками и продажами для плафторм не из списка топ-5')\n",
    "print('Оценки критиков:', round(data['critic_score'].corr(data['all_sales']), 2))\n",
    "print('Оценки пользователей:', round(data['user_score'].corr(data['all_sales']), 2))"
   ]
  },
  {
   "cell_type": "markdown",
   "id": "798fb899",
   "metadata": {},
   "source": [
    "Мы видим, что для остальных платформ корреляция между продажами и оценкой пользователей и критиков слабая."
   ]
  },
  {
   "cell_type": "markdown",
   "id": "07a3e3a2",
   "metadata": {},
   "source": [
    "### Общее распределение продаж по жанрам"
   ]
  },
  {
   "cell_type": "markdown",
   "id": "28f2bc4f",
   "metadata": {},
   "source": [
    "Рассмотрим распределение игр по жанрам. В качестве аггрегирующей функции выбираем медиану, чтобы избежать влияния игр, \"берущих количеством\"."
   ]
  },
  {
   "cell_type": "code",
   "execution_count": 45,
   "id": "9cda2812",
   "metadata": {},
   "outputs": [
    {
     "data": {
      "text/html": [
       "<div>\n",
       "<style scoped>\n",
       "    .dataframe tbody tr th:only-of-type {\n",
       "        vertical-align: middle;\n",
       "    }\n",
       "\n",
       "    .dataframe tbody tr th {\n",
       "        vertical-align: top;\n",
       "    }\n",
       "\n",
       "    .dataframe thead th {\n",
       "        text-align: right;\n",
       "    }\n",
       "</style>\n",
       "<table border=\"1\" class=\"dataframe\">\n",
       "  <thead>\n",
       "    <tr style=\"text-align: right;\">\n",
       "      <th>genre</th>\n",
       "      <th>Adventure</th>\n",
       "      <th>Puzzle</th>\n",
       "      <th>Strategy</th>\n",
       "      <th>Action</th>\n",
       "      <th>Misc</th>\n",
       "      <th>Racing</th>\n",
       "      <th>Simulation</th>\n",
       "      <th>Role-Playing</th>\n",
       "      <th>Fighting</th>\n",
       "      <th>Platform</th>\n",
       "      <th>Sports</th>\n",
       "      <th>Shooter</th>\n",
       "    </tr>\n",
       "  </thead>\n",
       "  <tbody>\n",
       "    <tr>\n",
       "      <th>all_sales</th>\n",
       "      <td>0.03</td>\n",
       "      <td>0.045</td>\n",
       "      <td>0.06</td>\n",
       "      <td>0.09</td>\n",
       "      <td>0.09</td>\n",
       "      <td>0.09</td>\n",
       "      <td>0.1</td>\n",
       "      <td>0.11</td>\n",
       "      <td>0.125</td>\n",
       "      <td>0.14</td>\n",
       "      <td>0.18</td>\n",
       "      <td>0.515</td>\n",
       "    </tr>\n",
       "  </tbody>\n",
       "</table>\n",
       "</div>"
      ],
      "text/plain": [
       "genre      Adventure  Puzzle  Strategy  Action  Misc  Racing  Simulation  \\\n",
       "all_sales       0.03   0.045      0.06    0.09  0.09    0.09         0.1   \n",
       "\n",
       "genre      Role-Playing  Fighting  Platform  Sports  Shooter  \n",
       "all_sales          0.11     0.125      0.14    0.18    0.515  "
      ]
     },
     "execution_count": 45,
     "metadata": {},
     "output_type": "execute_result"
    },
    {
     "data": {
      "image/png": "[encoded data removed]",
      "text/plain": [
       "<Figure size 432x288 with 1 Axes>"
      ]
     },
     "metadata": {
      "needs_background": "light"
     },
     "output_type": "display_data"
    }
   ],
   "source": [
    "genre_df = df_new.pivot_table(index='genre', values='all_sales', aggfunc='median')\n",
    "(\n",
    "    genre_df.sort_values(by='all_sales')\n",
    "            .plot(kind='bar', grid=True, title='Распределение продаж по жанрам')\n",
    "            .set(xlabel='Жанры',\n",
    "                 ylabel='Медианные продажи')\n",
    ");\n",
    "\n",
    "# Выводим численные значения в виде таблицы\n",
    "\n",
    "genre_df.sort_values(by='all_sales').T"
   ]
  },
  {
   "cell_type": "code",
   "execution_count": 46,
   "id": "34307c76",
   "metadata": {},
   "outputs": [
    {
     "data": {
      "text/html": [
       "<div>\n",
       "<style scoped>\n",
       "    .dataframe tbody tr th:only-of-type {\n",
       "        vertical-align: middle;\n",
       "    }\n",
       "\n",
       "    .dataframe tbody tr th {\n",
       "        vertical-align: top;\n",
       "    }\n",
       "\n",
       "    .dataframe thead th {\n",
       "        text-align: right;\n",
       "    }\n",
       "</style>\n",
       "<table border=\"1\" class=\"dataframe\">\n",
       "  <thead>\n",
       "    <tr style=\"text-align: right;\">\n",
       "      <th></th>\n",
       "      <th>all_sales</th>\n",
       "    </tr>\n",
       "  </thead>\n",
       "  <tbody>\n",
       "    <tr>\n",
       "      <th>count</th>\n",
       "      <td>12.000000</td>\n",
       "    </tr>\n",
       "    <tr>\n",
       "      <th>mean</th>\n",
       "      <td>0.131250</td>\n",
       "    </tr>\n",
       "    <tr>\n",
       "      <th>std</th>\n",
       "      <td>0.127585</td>\n",
       "    </tr>\n",
       "    <tr>\n",
       "      <th>min</th>\n",
       "      <td>0.030000</td>\n",
       "    </tr>\n",
       "    <tr>\n",
       "      <th>25%</th>\n",
       "      <td>0.082500</td>\n",
       "    </tr>\n",
       "    <tr>\n",
       "      <th>50%</th>\n",
       "      <td>0.095000</td>\n",
       "    </tr>\n",
       "    <tr>\n",
       "      <th>75%</th>\n",
       "      <td>0.128750</td>\n",
       "    </tr>\n",
       "    <tr>\n",
       "      <th>max</th>\n",
       "      <td>0.515000</td>\n",
       "    </tr>\n",
       "  </tbody>\n",
       "</table>\n",
       "</div>"
      ],
      "text/plain": [
       "       all_sales\n",
       "count  12.000000\n",
       "mean    0.131250\n",
       "std     0.127585\n",
       "min     0.030000\n",
       "25%     0.082500\n",
       "50%     0.095000\n",
       "75%     0.128750\n",
       "max     0.515000"
      ]
     },
     "execution_count": 46,
     "metadata": {},
     "output_type": "execute_result"
    }
   ],
   "source": [
    "df_new.pivot_table(index='genre', values='all_sales', aggfunc='median').describe()"
   ]
  },
  {
   "cell_type": "markdown",
   "id": "b00bf256",
   "metadata": {},
   "source": [
    "Самым прибыльным жанром является Shooter. Можно сказать, что в жанрах, расположенных ниже первого квартиля, продается меньше игр. Это Adventure, Puzzle и Strategy. В жанрах, расположенных выше последнего квартиля, продается больше игр. Это Platform, Sports и Shooter."
   ]
  },
  {
   "cell_type": "markdown",
   "id": "a81f5f4e",
   "metadata": {},
   "source": [
    "## Составление портрета пользователя по регионам"
   ]
  },
  {
   "cell_type": "markdown",
   "id": "a1825c12",
   "metadata": {},
   "source": [
    "Рассмотрим пользователей каждого региона (NA, EU, JP).\n",
    "\n",
    "Определим самые популярные платформы и жанры и опишем различия в долях продаж."
   ]
  },
  {
   "cell_type": "code",
   "execution_count": 47,
   "id": "74464015",
   "metadata": {},
   "outputs": [],
   "source": [
    "# Функция получает на вход название столбца, по которому надо отобрать 5 самых популярных элементов,\n",
    "# и выводит на экран эти элементы.\n",
    "\n",
    "def get_popular(column_name):\n",
    "    # Создадим словарь названий столбцов - продажи по разным регионам\n",
    "    sale_list = {'na_sales': 'Северная Америка',\n",
    "                 'eu_sales': 'Европа',\n",
    "                 'jp_sales': 'Япония'}\n",
    "\n",
    "    # Для каждого рынка (na, eu, jp) отбираем топ5 платформ, счиаем доли от всех продаж по региону и выводим результат\n",
    "    for item in sale_list.keys():\n",
    "        q = (df_new.pivot_table(index=column_name, values=item, aggfunc='sum')\n",
    "               .sort_values(by=item, ascending=False)\n",
    "               .head())\n",
    "    \n",
    "        # Считаем долю от суммарной продажи в регионе\n",
    "        q[item] = q[item] / q[item].sum()\n",
    "    \n",
    "        # Выводим результат на экран по каждому рынку\n",
    "        print('Анализ долей продаж для рынка', sale_list[item])\n",
    "        print('________________________________________________')\n",
    "        display(q[item])\n",
    "        display(q[item].describe())"
   ]
  },
  {
   "cell_type": "markdown",
   "id": "ce2c71d5",
   "metadata": {},
   "source": [
    "### Исследование популярных платформ"
   ]
  },
  {
   "cell_type": "code",
   "execution_count": 48,
   "id": "5987c0e8",
   "metadata": {},
   "outputs": [
    {
     "name": "stdout",
     "output_type": "stream",
     "text": [
      "Анализ долей продаж для рынка Северная Америка\n",
      "________________________________________________\n"
     ]
    },
    {
     "data": {
      "text/plain": [
       "platform\n",
       "PS4     0.389963\n",
       "XOne    0.321390\n",
       "X360    0.111915\n",
       "3DS     0.089532\n",
       "PS3     0.087199\n",
       "Name: na_sales, dtype: float64"
      ]
     },
     "metadata": {},
     "output_type": "display_data"
    },
    {
     "data": {
      "text/plain": [
       "count    5.000000\n",
       "mean     0.200000\n",
       "std      0.144489\n",
       "min      0.087199\n",
       "25%      0.089532\n",
       "50%      0.111915\n",
       "75%      0.321390\n",
       "max      0.389963\n",
       "Name: na_sales, dtype: float64"
      ]
     },
     "metadata": {},
     "output_type": "display_data"
    },
    {
     "name": "stdout",
     "output_type": "stream",
     "text": [
      "Анализ долей продаж для рынка Европа\n",
      "________________________________________________\n"
     ]
    },
    {
     "data": {
      "text/plain": [
       "platform\n",
       "PS4     0.551204\n",
       "XOne    0.196041\n",
       "PS3     0.108257\n",
       "PC      0.076170\n",
       "3DS     0.068328\n",
       "Name: eu_sales, dtype: float64"
      ]
     },
     "metadata": {},
     "output_type": "display_data"
    },
    {
     "data": {
      "text/plain": [
       "count    5.000000\n",
       "mean     0.200000\n",
       "std      0.202761\n",
       "min      0.068328\n",
       "25%      0.076170\n",
       "50%      0.108257\n",
       "75%      0.196041\n",
       "max      0.551204\n",
       "Name: eu_sales, dtype: float64"
      ]
     },
     "metadata": {},
     "output_type": "display_data"
    },
    {
     "name": "stdout",
     "output_type": "stream",
     "text": [
      "Анализ долей продаж для рынка Япония\n",
      "________________________________________________\n"
     ]
    },
    {
     "data": {
      "text/plain": [
       "platform\n",
       "3DS     0.479151\n",
       "PS4     0.162677\n",
       "PSV     0.157479\n",
       "PS3     0.121521\n",
       "WiiU    0.079173\n",
       "Name: jp_sales, dtype: float64"
      ]
     },
     "metadata": {},
     "output_type": "display_data"
    },
    {
     "data": {
      "text/plain": [
       "count    5.000000\n",
       "mean     0.200000\n",
       "std      0.159597\n",
       "min      0.079173\n",
       "25%      0.121521\n",
       "50%      0.157479\n",
       "75%      0.162677\n",
       "max      0.479151\n",
       "Name: jp_sales, dtype: float64"
      ]
     },
     "metadata": {},
     "output_type": "display_data"
    }
   ],
   "source": [
    "get_popular('platform')"
   ]
  },
  {
   "cell_type": "markdown",
   "id": "1529acf6",
   "metadata": {},
   "source": [
    "Мы сравнили три рынка продаж: Северную Америку, Японию и Европу.\n",
    "- Для каждого рынка топ-5 самых прибыльных платформ (платформы и их положение в рейтинге) отличается.\n",
    "- Для Европы и Америки список топ-5 платформ практически совпадает (отличие в одном пункте).\n",
    "- В Европе доля лидера продаж PS4 в 2 раза превышает плафторму, занимающую 2 место в рейтинге. Для Японии аналогичная ситуация: доля продаж лидера 3DS значительно превышает остальные плафтормы. В Америке между первым и вторым местом (PS4 и XOne) разрыв небольшой.\n",
    "- В Японии наиболее популярны японские игровые плафтормы."
   ]
  },
  {
   "cell_type": "markdown",
   "id": "c8a55c7f",
   "metadata": {},
   "source": [
    "### Исследование популярных жанров"
   ]
  },
  {
   "cell_type": "code",
   "execution_count": 49,
   "id": "0e405a08",
   "metadata": {},
   "outputs": [
    {
     "name": "stdout",
     "output_type": "stream",
     "text": [
      "Анализ долей продаж для рынка Северная Америка\n",
      "________________________________________________\n"
     ]
    },
    {
     "data": {
      "text/plain": [
       "genre\n",
       "Shooter         0.320959\n",
       "Action          0.294598\n",
       "Sports          0.187368\n",
       "Role-Playing    0.135946\n",
       "Misc            0.061129\n",
       "Name: na_sales, dtype: float64"
      ]
     },
     "metadata": {},
     "output_type": "display_data"
    },
    {
     "data": {
      "text/plain": [
       "count    5.000000\n",
       "mean     0.200000\n",
       "std      0.108544\n",
       "min      0.061129\n",
       "25%      0.135946\n",
       "50%      0.187368\n",
       "75%      0.294598\n",
       "max      0.320959\n",
       "Name: na_sales, dtype: float64"
      ]
     },
     "metadata": {},
     "output_type": "display_data"
    },
    {
     "name": "stdout",
     "output_type": "stream",
     "text": [
      "Анализ долей продаж для рынка Европа\n",
      "________________________________________________\n"
     ]
    },
    {
     "data": {
      "text/plain": [
       "genre\n",
       "Action          0.327214\n",
       "Shooter         0.287079\n",
       "Sports          0.200368\n",
       "Role-Playing    0.123428\n",
       "Racing          0.061911\n",
       "Name: eu_sales, dtype: float64"
      ]
     },
     "metadata": {},
     "output_type": "display_data"
    },
    {
     "data": {
      "text/plain": [
       "count    5.000000\n",
       "mean     0.200000\n",
       "std      0.110338\n",
       "min      0.061911\n",
       "25%      0.123428\n",
       "50%      0.200368\n",
       "75%      0.287079\n",
       "max      0.327214\n",
       "Name: eu_sales, dtype: float64"
      ]
     },
     "metadata": {},
     "output_type": "display_data"
    },
    {
     "name": "stdout",
     "output_type": "stream",
     "text": [
      "Анализ долей продаж для рынка Япония\n",
      "________________________________________________\n"
     ]
    },
    {
     "data": {
      "text/plain": [
       "genre\n",
       "Role-Playing    0.401598\n",
       "Action          0.381235\n",
       "Fighting        0.082098\n",
       "Misc            0.072303\n",
       "Shooter         0.062766\n",
       "Name: jp_sales, dtype: float64"
      ]
     },
     "metadata": {},
     "output_type": "display_data"
    },
    {
     "data": {
      "text/plain": [
       "count    5.000000\n",
       "mean     0.200000\n",
       "std      0.175020\n",
       "min      0.062766\n",
       "25%      0.072303\n",
       "50%      0.082098\n",
       "75%      0.381235\n",
       "max      0.401598\n",
       "Name: jp_sales, dtype: float64"
      ]
     },
     "metadata": {},
     "output_type": "display_data"
    }
   ],
   "source": [
    "get_popular('genre')"
   ]
  },
  {
   "cell_type": "markdown",
   "id": "74261fa3",
   "metadata": {},
   "source": [
    "Пользователи из Америки и Европы предпочитают практически одинаковые жанры игр Shooter и Action, причем распределение продаж также практически одинаково. Среди пользователей Японии самый популярный жанр - *Role-Playing*. При этом  в Японии на игры этого жанра приходится 40% всех продаж."
   ]
  },
  {
   "cell_type": "markdown",
   "id": "735d87e6",
   "metadata": {},
   "source": [
    "### Исследование влияния рейтинга ESRB на продажи в отдельном регионе"
   ]
  },
  {
   "cell_type": "markdown",
   "id": "de21a2aa",
   "metadata": {},
   "source": [
    "Исследуем влияние рейтинга ESRB на продажи в отдельном регионе."
   ]
  },
  {
   "cell_type": "code",
   "execution_count": 50,
   "id": "5f4be1ff",
   "metadata": {},
   "outputs": [
    {
     "name": "stdout",
     "output_type": "stream",
     "text": [
      "Анализ долей продаж для рынка Северная Америка\n",
      "________________________________________________\n"
     ]
    },
    {
     "data": {
      "text/plain": [
       "rating\n",
       "M       0.439592\n",
       "E       0.231330\n",
       "T       0.177578\n",
       "E10+    0.151500\n",
       "Name: na_sales, dtype: float64"
      ]
     },
     "metadata": {},
     "output_type": "display_data"
    },
    {
     "data": {
      "text/plain": [
       "count    4.000000\n",
       "mean     0.250000\n",
       "std      0.130691\n",
       "min      0.151500\n",
       "25%      0.171059\n",
       "50%      0.204454\n",
       "75%      0.283396\n",
       "max      0.439592\n",
       "Name: na_sales, dtype: float64"
      ]
     },
     "metadata": {},
     "output_type": "display_data"
    },
    {
     "name": "stdout",
     "output_type": "stream",
     "text": [
      "Анализ долей продаж для рынка Европа\n",
      "________________________________________________\n"
     ]
    },
    {
     "data": {
      "text/plain": [
       "rating\n",
       "M       0.441317\n",
       "E       0.274217\n",
       "T       0.160912\n",
       "E10+    0.123554\n",
       "Name: eu_sales, dtype: float64"
      ]
     },
     "metadata": {},
     "output_type": "display_data"
    },
    {
     "data": {
      "text/plain": [
       "count    4.000000\n",
       "mean     0.250000\n",
       "std      0.142728\n",
       "min      0.123554\n",
       "25%      0.151573\n",
       "50%      0.217565\n",
       "75%      0.315992\n",
       "max      0.441317\n",
       "Name: eu_sales, dtype: float64"
      ]
     },
     "metadata": {},
     "output_type": "display_data"
    },
    {
     "name": "stdout",
     "output_type": "stream",
     "text": [
      "Анализ долей продаж для рынка Япония\n",
      "________________________________________________\n"
     ]
    },
    {
     "data": {
      "text/plain": [
       "rating\n",
       "T       0.408400\n",
       "E       0.247030\n",
       "M       0.221332\n",
       "E10+    0.123238\n",
       "Name: jp_sales, dtype: float64"
      ]
     },
     "metadata": {},
     "output_type": "display_data"
    },
    {
     "data": {
      "text/plain": [
       "count    4.000000\n",
       "mean     0.250000\n",
       "std      0.118307\n",
       "min      0.123238\n",
       "25%      0.196809\n",
       "50%      0.234181\n",
       "75%      0.287372\n",
       "max      0.408400\n",
       "Name: jp_sales, dtype: float64"
      ]
     },
     "metadata": {},
     "output_type": "display_data"
    }
   ],
   "source": [
    "# Воспользуемся функцией get_popular, чтобы посмотреть, как распределяется прибыль по рейтингам.\n",
    "\n",
    "get_popular('rating')"
   ]
  },
  {
   "cell_type": "markdown",
   "id": "443d2df1",
   "metadata": {},
   "source": [
    "Чтобы учесть в исследовании игры, для которых не указан рейтинг, заполним пропуски в столбце _rating_ значением \"not defined\"."
   ]
  },
  {
   "cell_type": "markdown",
   "id": "adaff8c7",
   "metadata": {},
   "source": [
    "Выясним, сколько пропусков в столбце _rating_."
   ]
  },
  {
   "cell_type": "code",
   "execution_count": 51,
   "id": "cab8b808",
   "metadata": {},
   "outputs": [
    {
     "name": "stdout",
     "output_type": "stream",
     "text": [
      "Число пропусков в столбце rating 749\n"
     ]
    }
   ],
   "source": [
    "print('Число пропусков в столбце rating', df_new['rating'].isna().sum())"
   ]
  },
  {
   "cell_type": "markdown",
   "id": "d974f052",
   "metadata": {},
   "source": [
    "Создадим новый столбец rating_stub, в который скопируем столбец _rating_, заполнив в нем пропуски значением \"not defined\"."
   ]
  },
  {
   "cell_type": "code",
   "execution_count": 52,
   "id": "4ed50c8c",
   "metadata": {},
   "outputs": [
    {
     "name": "stdout",
     "output_type": "stream",
     "text": [
      "Число пропусков в столбце rating_stub 0\n"
     ]
    }
   ],
   "source": [
    "df_new['rating_stub'] = df_new['rating'].fillna(value='not defined')\n",
    "\n",
    "# Проверка\n",
    "print('Число пропусков в столбце rating_stub', df_new['rating_stub'].isna().sum())"
   ]
  },
  {
   "cell_type": "markdown",
   "id": "692449f5",
   "metadata": {},
   "source": [
    "Определяем распределение долей продаж с учетом игр без рейтинга."
   ]
  },
  {
   "cell_type": "code",
   "execution_count": 53,
   "id": "db1382cd",
   "metadata": {},
   "outputs": [
    {
     "name": "stdout",
     "output_type": "stream",
     "text": [
      "Анализ долей продаж для рынка Северная Америка\n",
      "________________________________________________\n"
     ]
    },
    {
     "data": {
      "text/plain": [
       "rating_stub\n",
       "M              0.339435\n",
       "not defined    0.227839\n",
       "E              0.178624\n",
       "T              0.137119\n",
       "E10+           0.116982\n",
       "Name: na_sales, dtype: float64"
      ]
     },
     "metadata": {},
     "output_type": "display_data"
    },
    {
     "data": {
      "text/plain": [
       "count    5.000000\n",
       "mean     0.200000\n",
       "std      0.088770\n",
       "min      0.116982\n",
       "25%      0.137119\n",
       "50%      0.178624\n",
       "75%      0.227839\n",
       "max      0.339435\n",
       "Name: na_sales, dtype: float64"
      ]
     },
     "metadata": {},
     "output_type": "display_data"
    },
    {
     "name": "stdout",
     "output_type": "stream",
     "text": [
      "Анализ долей продаж для рынка Европа\n",
      "________________________________________________\n"
     ]
    },
    {
     "data": {
      "text/plain": [
       "rating_stub\n",
       "M              0.345205\n",
       "not defined    0.217785\n",
       "E              0.214497\n",
       "T              0.125868\n",
       "E10+           0.096645\n",
       "Name: eu_sales, dtype: float64"
      ]
     },
     "metadata": {},
     "output_type": "display_data"
    },
    {
     "data": {
      "text/plain": [
       "count    5.000000\n",
       "mean     0.200000\n",
       "std      0.097196\n",
       "min      0.096645\n",
       "25%      0.125868\n",
       "50%      0.214497\n",
       "75%      0.217785\n",
       "max      0.345205\n",
       "Name: eu_sales, dtype: float64"
      ]
     },
     "metadata": {},
     "output_type": "display_data"
    },
    {
     "name": "stdout",
     "output_type": "stream",
     "text": [
      "Анализ долей продаж для рынка Япония\n",
      "________________________________________________\n"
     ]
    },
    {
     "data": {
      "text/plain": [
       "rating_stub\n",
       "not defined    0.611236\n",
       "T              0.158771\n",
       "E              0.096036\n",
       "M              0.086046\n",
       "E10+           0.047911\n",
       "Name: jp_sales, dtype: float64"
      ]
     },
     "metadata": {},
     "output_type": "display_data"
    },
    {
     "data": {
      "text/plain": [
       "count    5.000000\n",
       "mean     0.200000\n",
       "std      0.233313\n",
       "min      0.047911\n",
       "25%      0.086046\n",
       "50%      0.096036\n",
       "75%      0.158771\n",
       "max      0.611236\n",
       "Name: jp_sales, dtype: float64"
      ]
     },
     "metadata": {},
     "output_type": "display_data"
    }
   ],
   "source": [
    "get_popular('rating_stub')"
   ]
  },
  {
   "cell_type": "markdown",
   "id": "265bd3a2",
   "metadata": {},
   "source": [
    "***Вывод***\n",
    "\n",
    "Для Европы и Америки наибольшую прибыль приносят игры категорий M (для взрослых). В Японии самыми прибыльными являются игры категории not defined, то есть игры, для которых рейтинг не указан. Скорее всего это японские игры, для которых рейтинг определяется японской организацией (например, CERO)."
   ]
  },
  {
   "cell_type": "markdown",
   "id": "fa3ab987",
   "metadata": {},
   "source": [
    "## Проверка гипотез"
   ]
  },
  {
   "cell_type": "markdown",
   "id": "85394672",
   "metadata": {},
   "source": [
    "### Средние пользовательские рейтинги платформ Xbox One и PC одинаковые"
   ]
  },
  {
   "cell_type": "markdown",
   "id": "686bdc33",
   "metadata": {},
   "source": [
    "Формулируем нулевую гипотезу таким образом, чтобы использовать знак равенства: \"Средний пользовательский рейтинг платформы Xbox One = cредний пользовательский рейтинг платформы PC\". Формулируем альтернативную двустороннюю гипотезу, потому что есть возможное отклонение и в большую, и в меньшую стороны: \"средний пользовательский рейтинг платформы Xbox One ≠ cредний пользовательский рейтинг платформы PC\". Выберем стандартный уровень статистической значимости 5%. Будем использовать метод для проверки гипотезы о равенстве среднего двух генеральных совокупностей по взятым из них выборкам *scipy.stats.ttest_ind*.\n",
    "\n",
    "H_0: Средний пользовательский рейтинг платформы Xbox One = cредний пользовательский рейтинг платформы PC\n",
    "\n",
    "H_a: Средний пользовательский рейтинг платформы Xbox One ≠ cредний пользовательский рейтинг платформы PC\n",
    "\n",
    "alpha = 0.05"
   ]
  },
  {
   "cell_type": "code",
   "execution_count": 54,
   "id": "17e67937",
   "metadata": {},
   "outputs": [
    {
     "name": "stdout",
     "output_type": "stream",
     "text": [
      "0.1160137942843255\n",
      "Не получилось отвергнуть нулевую гипотезу\n"
     ]
    }
   ],
   "source": [
    "sample1 = df_new[df_new['platform'] =='XOne']['user_score']\n",
    "sample2 = df_new[df_new['platform'] =='PC']['user_score']\n",
    "\n",
    "results = st.ttest_ind(sample1, sample2, equal_var = False, nan_policy='omit')\n",
    "\n",
    "alpha = 0.05\n",
    "\n",
    "print(results.pvalue)\n",
    "\n",
    "if (results.pvalue < alpha):\n",
    "    print('Отвергаем нулевую гипотезу')\n",
    "else:\n",
    "    print('Не получилось отвергнуть нулевую гипотезу')"
   ]
  },
  {
   "cell_type": "markdown",
   "id": "916d1f80",
   "metadata": {},
   "source": [
    "**Вывод**\n",
    "\n",
    "Средние пользовательские рейтинги плафторм Xbox One и PC различаются незначимо."
   ]
  },
  {
   "cell_type": "markdown",
   "id": "6909fc1b",
   "metadata": {},
   "source": [
    "### Средние пользовательские рейтинги жанров Action (англ. «действие», экшен-игры) и Sports (англ. «спортивные соревнования») разные"
   ]
  },
  {
   "cell_type": "markdown",
   "id": "fad06e69",
   "metadata": {},
   "source": [
    "Формулируем нулевую гипотезу таким образом, чтобы использовать знак равенства: \"Средний пользовательский рейтинг жанра Action = cредний пользовательский рейтинг жанра Sports\". Формулируем альтернативную двустороннюю гипотезу, потому что есть возможное отклонение и в большую, и в меньшую стороны: \"Средний пользовательский рейтинг жанра Action ≠ cредний пользовательский рейтинг жанра Sports\". Выберем стандартный уровень статистической значимости 5%. Будем использовать метод для проверки гипотезы о равенстве среднего двух генеральных совокупностей по взятым из них выборкам *scipy.stats.ttest_ind*.\n",
    "\n",
    "H_0: Средний пользовательский рейтинг жанра Action = cредний пользовательский рейтинг жанра Sports\n",
    "\n",
    "H_a: Средний пользовательский рейтинг жанра Action ≠ cредний пользовательский рейтинг жанра Sports\n",
    "\n",
    "alpha = 0.05"
   ]
  },
  {
   "cell_type": "code",
   "execution_count": 55,
   "id": "7abf424c",
   "metadata": {},
   "outputs": [
    {
     "name": "stdout",
     "output_type": "stream",
     "text": [
      "1.1825796838209034e-14\n",
      "Отвергаем нулевую гипотезу\n"
     ]
    }
   ],
   "source": [
    "sample1 = df_new[df_new['genre'] =='Action']['user_score']\n",
    "sample2 = df_new[df_new['genre'] =='Sports']['user_score']\n",
    "\n",
    "results = st.ttest_ind(sample1, sample2, equal_var = False, nan_policy='omit')\n",
    "\n",
    "alpha = 0.05\n",
    "\n",
    "print(results.pvalue)\n",
    "\n",
    "if (results.pvalue < alpha):\n",
    "    print('Отвергаем нулевую гипотезу')\n",
    "else:\n",
    "    print('Не получилось отвергнуть нулевую гипотезу')"
   ]
  },
  {
   "cell_type": "markdown",
   "id": "a2773317",
   "metadata": {},
   "source": [
    "**Вывод**\n",
    "\n",
    "Средние пользовательские рейтинги жанров Action и Sports значимо различаются."
   ]
  },
  {
   "cell_type": "markdown",
   "id": "f3fdd005",
   "metadata": {},
   "source": [
    "## Общий вывод"
   ]
  },
  {
   "cell_type": "markdown",
   "id": "66bcbb8b",
   "metadata": {},
   "source": [
    "Мы проанализировали данные о компьютерных играх, включающие информацию о продажах, пользовательских и экспертных оценках, жанрах и платформах.\n",
    "\n",
    "В рамках *предобработки данных* мы выполнили следующие действия:\n",
    "- Переименовали столбцы в соответствии со змеиной нотацией\n",
    "- Преобразовали тип столбца *year_of_release*\n",
    "- Преобразовали тип столбца user_score:\n",
    "\tВ стобце содержались значения *tbd* = to be determined. Такие значения могли появиться по нескольких причинам. Например, недостотаточно пользовательских голосов, чтобы выдать результат, или игра вышла, но не дошла до пользователя на момент среза данных. Чтобы эти значения не мешали нам в обработке значений, мы приравняли их к NaN и выполнили соответсвующую замену.\n",
    "- Обработали пропуски:\n",
    "    * Удалили строки с пропусками в столбцах name и *genre*\n",
    "    * Удалили строки с пропусками в столбце *year_of_release*\n",
    "    * Для столбцов *critic_score*, *user_score* и *rating* оставили пропуски, чтобы не искажать статистики, т.к. у нас нет необходимой информации для их заполнения.\n",
    "- Добавили столбец *all_sales* с суммарными продажами\n",
    "- Выполнили поиск явных и неявных дубликатов. Удалили строки с повторяющимися парами значениями *имя-платформа*.\n",
    "\n",
    "Далее мы провели *исследовательский анализ данных*\n",
    "- Изучив распределение продаж по платформам, мы отобрали 5 платформ с наибольшими суммарными продажами (PS2, X360, PS3, Wii, DS), а также определили, что в среднем плафторма используется 6 лет.\n",
    "- В качестве актуального периода мы выбрали период с 2014 по 2016 год.\n",
    "- Проанализировав изменение продаж по всем плафтормам, мы выяснили, что продажи падают.  Возможно, это связано с ростом популярности мобильных игр, а также снижением покупательской способности населения. К наиболее перспективным плафтормам можно отнести 5 самых прибыльных на 2016 год платформ: PC, PS4, XOne, 3DS,и WiiU, поскольку это самые актуальные и прибыльные плафтормы, которые также являются новыми версиями топ-5  платформ с наибольшими суммарными продажами.\n",
    "- Проанализировав влияние оценок критиков и пользователей на продажи, мы выяснили, что оценка пользователей не коррелирует с продажами, а между продажами и оценкой критиков существует средне-слабая связь для популярных платформ, и слабая для всех остальных.\n",
    "- Проанализировав распределение продаж по жанрам, мы выяснили, что самым популярным является жанр Shooter. Самыми непопулярными - Puzzle, Strategy и Adventure.\n",
    "\n",
    "Далее мы составили *портрет пользователя по регионам*. Мы исследовали продажи в Северной Америке, Европе и Японии.\n",
    "- В Европе и Америке пользователи предпочитают практически одинаковые плафтормы.\n",
    "- Пользователи Японии предпочитают японские платформы.\n",
    "- Распредление долей продаж между топ-5 платформами отличается: в Европе и Японии доля лидера продаж в 2 раза превышает долю продаж для плафтормы, занимающей 2 место в рейтинге. В Америке между первым и вторым местом разрыв небольшой.\n",
    "- Пользователи Европы и Америки предпочитают одинаковые жанры игр. Причем, самые популярные - это Action и Shooter.\n",
    "- Пользователи Японии предпочитают игры жанра  Role-Playing. При этом в Японии на игры этого жанра приходится 40% всех продаж.\n",
    "- Для Европы и Америки наибольшую прибыль приносят игры категорий M.\n",
    "- В Японии наибольшую долю продаж составляют игры с неуказанной категорией, скорее всего это японские игры, для которых нет рейтинга ESRB.\n",
    "\n",
    "Далее мы *проверили 2 гипотезы* и выяснили, что:\n",
    "- средние пользовательские рейтинги плафторм Xbox One и PC различаются незначимо;\n",
    "- средние пользовательские рейтинги жанров Action и Sports различаются значимо.\n",
    "\n",
    "В результате проведенного анализа можно рекомендовать сделать ставку на перспективные платформы: PC, PS4, XOne, 3DS и WiiU. Причем, для Японии предпочтительными являются японские плафтормы и японские игры. Для Европы и Америки стоит сделать ставку на игры в жанрах Action и Shooter в категории M. Чтобы определить популярные жанры для Японии необходима дополнительная информация о рейтингах от японской организации."
   ]
  }
 ],
 "metadata": {
  "ExecuteTimeLog": [
   {
    "duration": 1466,
    "start_time": "2022-08-01T15:13:55.833Z"
   },
   {
    "duration": 0,
    "start_time": "2022-08-01T15:13:57.303Z"
   },
   {
    "duration": 0,
    "start_time": "2022-08-01T15:13:57.304Z"
   },
   {
    "duration": 0,
    "start_time": "2022-08-01T15:13:57.310Z"
   },
   {
    "duration": 0,
    "start_time": "2022-08-01T15:13:57.311Z"
   },
   {
    "duration": 0,
    "start_time": "2022-08-01T15:13:57.312Z"
   },
   {
    "duration": 0,
    "start_time": "2022-08-01T15:13:57.313Z"
   },
   {
    "duration": 0,
    "start_time": "2022-08-01T15:13:57.314Z"
   },
   {
    "duration": 0,
    "start_time": "2022-08-01T15:13:57.315Z"
   },
   {
    "duration": 0,
    "start_time": "2022-08-01T15:13:57.317Z"
   },
   {
    "duration": 0,
    "start_time": "2022-08-01T15:13:57.317Z"
   },
   {
    "duration": 0,
    "start_time": "2022-08-01T15:13:57.318Z"
   },
   {
    "duration": 0,
    "start_time": "2022-08-01T15:13:57.319Z"
   },
   {
    "duration": 0,
    "start_time": "2022-08-01T15:13:57.321Z"
   },
   {
    "duration": 1,
    "start_time": "2022-08-01T15:13:57.333Z"
   },
   {
    "duration": 0,
    "start_time": "2022-08-01T15:13:57.340Z"
   },
   {
    "duration": 0,
    "start_time": "2022-08-01T15:13:57.341Z"
   },
   {
    "duration": 0,
    "start_time": "2022-08-01T15:13:57.342Z"
   },
   {
    "duration": 0,
    "start_time": "2022-08-01T15:13:57.343Z"
   },
   {
    "duration": 0,
    "start_time": "2022-08-01T15:13:57.345Z"
   },
   {
    "duration": 0,
    "start_time": "2022-08-01T15:13:57.346Z"
   },
   {
    "duration": 0,
    "start_time": "2022-08-01T15:13:57.347Z"
   },
   {
    "duration": 0,
    "start_time": "2022-08-01T15:13:57.348Z"
   },
   {
    "duration": 0,
    "start_time": "2022-08-01T15:13:57.350Z"
   },
   {
    "duration": 0,
    "start_time": "2022-08-01T15:13:57.351Z"
   },
   {
    "duration": 0,
    "start_time": "2022-08-01T15:13:57.352Z"
   },
   {
    "duration": 0,
    "start_time": "2022-08-01T15:13:57.353Z"
   },
   {
    "duration": 0,
    "start_time": "2022-08-01T15:13:57.353Z"
   },
   {
    "duration": 0,
    "start_time": "2022-08-01T15:13:57.354Z"
   },
   {
    "duration": 0,
    "start_time": "2022-08-01T15:13:57.355Z"
   },
   {
    "duration": 0,
    "start_time": "2022-08-01T15:13:57.357Z"
   },
   {
    "duration": 0,
    "start_time": "2022-08-01T15:13:57.357Z"
   },
   {
    "duration": 0,
    "start_time": "2022-08-01T15:13:57.358Z"
   },
   {
    "duration": 0,
    "start_time": "2022-08-01T15:13:57.359Z"
   },
   {
    "duration": 0,
    "start_time": "2022-08-01T15:13:57.360Z"
   },
   {
    "duration": 0,
    "start_time": "2022-08-01T15:13:57.411Z"
   },
   {
    "duration": 0,
    "start_time": "2022-08-01T15:13:57.412Z"
   },
   {
    "duration": 0,
    "start_time": "2022-08-01T15:13:57.413Z"
   },
   {
    "duration": 0,
    "start_time": "2022-08-01T15:13:57.414Z"
   },
   {
    "duration": 0,
    "start_time": "2022-08-01T15:13:57.415Z"
   },
   {
    "duration": 0,
    "start_time": "2022-08-01T15:13:57.416Z"
   },
   {
    "duration": 0,
    "start_time": "2022-08-01T15:13:57.417Z"
   },
   {
    "duration": 0,
    "start_time": "2022-08-01T15:13:57.418Z"
   },
   {
    "duration": 0,
    "start_time": "2022-08-01T15:13:57.419Z"
   },
   {
    "duration": 0,
    "start_time": "2022-08-01T15:13:57.421Z"
   },
   {
    "duration": 0,
    "start_time": "2022-08-01T15:13:57.422Z"
   },
   {
    "duration": 75,
    "start_time": "2022-08-01T15:15:19.709Z"
   },
   {
    "duration": 1325,
    "start_time": "2022-08-01T15:15:31.878Z"
   },
   {
    "duration": 15,
    "start_time": "2022-08-01T15:15:33.205Z"
   },
   {
    "duration": 781,
    "start_time": "2022-08-01T15:15:33.221Z"
   },
   {
    "duration": 7,
    "start_time": "2022-08-01T15:15:34.009Z"
   },
   {
    "duration": 11,
    "start_time": "2022-08-01T15:15:34.018Z"
   },
   {
    "duration": 9,
    "start_time": "2022-08-01T15:15:34.031Z"
   },
   {
    "duration": 10,
    "start_time": "2022-08-01T15:15:34.041Z"
   },
   {
    "duration": 12,
    "start_time": "2022-08-01T15:15:34.053Z"
   },
   {
    "duration": 7,
    "start_time": "2022-08-01T15:15:34.067Z"
   },
   {
    "duration": 5,
    "start_time": "2022-08-01T15:15:34.077Z"
   },
   {
    "duration": 21,
    "start_time": "2022-08-01T15:15:34.109Z"
   },
   {
    "duration": 18,
    "start_time": "2022-08-01T15:15:34.132Z"
   },
   {
    "duration": 9,
    "start_time": "2022-08-01T15:15:34.153Z"
   },
   {
    "duration": 7,
    "start_time": "2022-08-01T15:15:34.164Z"
   },
   {
    "duration": 50,
    "start_time": "2022-08-01T15:15:34.173Z"
   },
   {
    "duration": 6,
    "start_time": "2022-08-01T15:15:34.226Z"
   },
   {
    "duration": 17,
    "start_time": "2022-08-01T15:15:34.233Z"
   },
   {
    "duration": 9,
    "start_time": "2022-08-01T15:15:34.252Z"
   },
   {
    "duration": 449,
    "start_time": "2022-08-01T15:15:34.263Z"
   },
   {
    "duration": 19,
    "start_time": "2022-08-01T15:15:34.714Z"
   },
   {
    "duration": 9,
    "start_time": "2022-08-01T15:15:34.735Z"
   },
   {
    "duration": 346,
    "start_time": "2022-08-01T15:15:34.745Z"
   },
   {
    "duration": 26,
    "start_time": "2022-08-01T15:15:35.093Z"
   },
   {
    "duration": 195,
    "start_time": "2022-08-01T15:15:35.121Z"
   },
   {
    "duration": 1131,
    "start_time": "2022-08-01T15:15:35.318Z"
   },
   {
    "duration": 17,
    "start_time": "2022-08-01T15:15:36.452Z"
   },
   {
    "duration": 14,
    "start_time": "2022-08-01T15:15:36.470Z"
   },
   {
    "duration": 489,
    "start_time": "2022-08-01T15:15:36.488Z"
   },
   {
    "duration": 494,
    "start_time": "2022-08-01T15:15:36.979Z"
   },
   {
    "duration": 18,
    "start_time": "2022-08-01T15:15:37.475Z"
   },
   {
    "duration": 215,
    "start_time": "2022-08-01T15:15:37.510Z"
   },
   {
    "duration": 198,
    "start_time": "2022-08-01T15:15:37.727Z"
   },
   {
    "duration": 33,
    "start_time": "2022-08-01T15:15:37.927Z"
   },
   {
    "duration": 7,
    "start_time": "2022-08-01T15:15:37.962Z"
   },
   {
    "duration": 168,
    "start_time": "2022-08-01T15:15:37.971Z"
   },
   {
    "duration": 162,
    "start_time": "2022-08-01T15:15:38.141Z"
   },
   {
    "duration": 8,
    "start_time": "2022-08-01T15:15:38.310Z"
   },
   {
    "duration": 9,
    "start_time": "2022-08-01T15:15:38.320Z"
   },
   {
    "duration": 246,
    "start_time": "2022-08-01T15:15:38.332Z"
   },
   {
    "duration": 146,
    "start_time": "2022-08-01T15:15:38.580Z"
   },
   {
    "duration": 4,
    "start_time": "2022-08-01T15:15:38.728Z"
   },
   {
    "duration": 80,
    "start_time": "2022-08-01T15:15:38.734Z"
   },
   {
    "duration": 195,
    "start_time": "2022-08-01T15:15:38.816Z"
   },
   {
    "duration": 58,
    "start_time": "2022-08-01T15:15:39.014Z"
   },
   {
    "duration": 43,
    "start_time": "2022-08-01T15:15:39.073Z"
   },
   {
    "duration": 13,
    "start_time": "2022-08-01T15:15:39.118Z"
   },
   {
    "duration": 175,
    "start_time": "2022-08-01T15:16:07.907Z"
   },
   {
    "duration": 1482,
    "start_time": "2022-08-01T20:03:27.635Z"
   },
   {
    "duration": 160,
    "start_time": "2022-08-01T20:06:55.497Z"
   },
   {
    "duration": 4,
    "start_time": "2022-08-01T20:13:40.884Z"
   },
   {
    "duration": 96,
    "start_time": "2022-08-01T20:13:48.394Z"
   },
   {
    "duration": 12,
    "start_time": "2022-08-01T20:13:48.492Z"
   },
   {
    "duration": 621,
    "start_time": "2022-08-01T20:13:48.506Z"
   },
   {
    "duration": 5,
    "start_time": "2022-08-01T20:13:49.129Z"
   },
   {
    "duration": 5,
    "start_time": "2022-08-01T20:13:57.432Z"
   },
   {
    "duration": 101,
    "start_time": "2022-08-01T20:14:05.101Z"
   },
   {
    "duration": 12,
    "start_time": "2022-08-01T20:14:05.204Z"
   },
   {
    "duration": 654,
    "start_time": "2022-08-01T20:14:05.217Z"
   },
   {
    "duration": 5,
    "start_time": "2022-08-01T20:14:09.272Z"
   },
   {
    "duration": 5,
    "start_time": "2022-08-01T20:14:12.280Z"
   },
   {
    "duration": 4,
    "start_time": "2022-08-01T20:15:33.636Z"
   },
   {
    "duration": 20,
    "start_time": "2022-08-01T20:48:13.674Z"
   },
   {
    "duration": 13,
    "start_time": "2022-08-01T20:49:52.757Z"
   },
   {
    "duration": 19,
    "start_time": "2022-08-01T20:50:29.172Z"
   },
   {
    "duration": 89,
    "start_time": "2022-08-01T20:51:19.577Z"
   },
   {
    "duration": 16,
    "start_time": "2022-08-01T20:51:31.075Z"
   },
   {
    "duration": 12,
    "start_time": "2022-08-01T20:51:35.034Z"
   },
   {
    "duration": 114,
    "start_time": "2022-08-01T20:51:43.964Z"
   },
   {
    "duration": 12,
    "start_time": "2022-08-01T20:51:44.080Z"
   },
   {
    "duration": 725,
    "start_time": "2022-08-01T20:51:44.093Z"
   },
   {
    "duration": 4,
    "start_time": "2022-08-01T20:51:44.819Z"
   },
   {
    "duration": 6,
    "start_time": "2022-08-01T20:51:44.824Z"
   },
   {
    "duration": 5,
    "start_time": "2022-08-01T20:51:44.831Z"
   },
   {
    "duration": 7,
    "start_time": "2022-08-01T20:51:44.838Z"
   },
   {
    "duration": 7,
    "start_time": "2022-08-01T20:51:44.846Z"
   },
   {
    "duration": 5,
    "start_time": "2022-08-01T20:51:44.854Z"
   },
   {
    "duration": 6,
    "start_time": "2022-08-01T20:51:44.861Z"
   },
   {
    "duration": 7,
    "start_time": "2022-08-01T20:51:44.868Z"
   },
   {
    "duration": 14,
    "start_time": "2022-08-01T20:51:44.902Z"
   },
   {
    "duration": 20,
    "start_time": "2022-08-01T20:51:44.918Z"
   },
   {
    "duration": 9,
    "start_time": "2022-08-01T20:51:44.940Z"
   },
   {
    "duration": 2,
    "start_time": "2022-08-01T20:51:44.950Z"
   },
   {
    "duration": 12,
    "start_time": "2022-08-01T20:51:49.031Z"
   },
   {
    "duration": 17,
    "start_time": "2022-08-01T20:52:53.344Z"
   },
   {
    "duration": 100,
    "start_time": "2022-08-01T20:52:59.996Z"
   },
   {
    "duration": 13,
    "start_time": "2022-08-01T20:53:00.098Z"
   },
   {
    "duration": 631,
    "start_time": "2022-08-01T20:53:00.113Z"
   },
   {
    "duration": 5,
    "start_time": "2022-08-01T20:53:00.746Z"
   },
   {
    "duration": 12,
    "start_time": "2022-08-01T20:53:00.752Z"
   },
   {
    "duration": 8,
    "start_time": "2022-08-01T20:53:00.766Z"
   },
   {
    "duration": 10,
    "start_time": "2022-08-01T20:53:00.776Z"
   },
   {
    "duration": 17,
    "start_time": "2022-08-01T20:53:00.787Z"
   },
   {
    "duration": 11,
    "start_time": "2022-08-01T20:53:00.806Z"
   },
   {
    "duration": 12,
    "start_time": "2022-08-01T20:53:00.820Z"
   },
   {
    "duration": 31,
    "start_time": "2022-08-01T20:53:00.834Z"
   },
   {
    "duration": 19,
    "start_time": "2022-08-01T20:53:00.867Z"
   },
   {
    "duration": 19,
    "start_time": "2022-08-01T20:53:00.888Z"
   },
   {
    "duration": 11,
    "start_time": "2022-08-01T20:53:00.909Z"
   },
   {
    "duration": 5,
    "start_time": "2022-08-01T20:53:00.921Z"
   },
   {
    "duration": 32,
    "start_time": "2022-08-01T20:53:02.428Z"
   },
   {
    "duration": 16,
    "start_time": "2022-08-01T20:54:52.676Z"
   },
   {
    "duration": 71,
    "start_time": "2022-08-01T20:55:58.264Z"
   },
   {
    "duration": 69,
    "start_time": "2022-08-01T20:56:18.056Z"
   },
   {
    "duration": 70,
    "start_time": "2022-08-01T20:56:21.830Z"
   },
   {
    "duration": 92,
    "start_time": "2022-08-01T21:00:28.430Z"
   },
   {
    "duration": 13,
    "start_time": "2022-08-01T21:00:28.525Z"
   },
   {
    "duration": 650,
    "start_time": "2022-08-01T21:00:28.540Z"
   },
   {
    "duration": 11,
    "start_time": "2022-08-01T21:00:29.192Z"
   },
   {
    "duration": 5,
    "start_time": "2022-08-01T21:00:29.204Z"
   },
   {
    "duration": 5,
    "start_time": "2022-08-01T21:00:29.211Z"
   },
   {
    "duration": 9,
    "start_time": "2022-08-01T21:00:29.218Z"
   },
   {
    "duration": 10,
    "start_time": "2022-08-01T21:00:29.228Z"
   },
   {
    "duration": 23,
    "start_time": "2022-08-01T21:00:29.239Z"
   },
   {
    "duration": 8,
    "start_time": "2022-08-01T21:00:29.264Z"
   },
   {
    "duration": 8,
    "start_time": "2022-08-01T21:00:29.274Z"
   },
   {
    "duration": 20,
    "start_time": "2022-08-01T21:00:29.284Z"
   },
   {
    "duration": 14,
    "start_time": "2022-08-01T21:00:29.305Z"
   },
   {
    "duration": 6,
    "start_time": "2022-08-01T21:00:29.322Z"
   },
   {
    "duration": 2,
    "start_time": "2022-08-01T21:00:29.330Z"
   },
   {
    "duration": 28,
    "start_time": "2022-08-01T21:00:30.998Z"
   },
   {
    "duration": 14,
    "start_time": "2022-08-01T21:05:29.531Z"
   },
   {
    "duration": 23,
    "start_time": "2022-08-01T21:05:36.309Z"
   },
   {
    "duration": 75,
    "start_time": "2022-08-01T21:05:40.070Z"
   },
   {
    "duration": 10,
    "start_time": "2022-08-01T21:05:53.598Z"
   },
   {
    "duration": 20,
    "start_time": "2022-08-01T21:06:03.850Z"
   },
   {
    "duration": 4,
    "start_time": "2022-08-01T21:06:19.429Z"
   },
   {
    "duration": 4,
    "start_time": "2022-08-01T21:06:39.414Z"
   },
   {
    "duration": 4,
    "start_time": "2022-08-01T21:06:51.151Z"
   },
   {
    "duration": 3,
    "start_time": "2022-08-01T21:07:00.073Z"
   },
   {
    "duration": 105,
    "start_time": "2022-08-01T21:07:09.064Z"
   },
   {
    "duration": 23,
    "start_time": "2022-08-01T21:07:26.405Z"
   },
   {
    "duration": 23,
    "start_time": "2022-08-01T21:11:12.406Z"
   },
   {
    "duration": 3,
    "start_time": "2022-08-01T21:11:55.834Z"
   },
   {
    "duration": 43,
    "start_time": "2022-08-01T21:11:59.013Z"
   },
   {
    "duration": 7,
    "start_time": "2022-08-01T21:12:32.601Z"
   },
   {
    "duration": 8,
    "start_time": "2022-08-01T21:12:43.479Z"
   },
   {
    "duration": 5,
    "start_time": "2022-08-01T21:15:08.101Z"
   },
   {
    "duration": 1152,
    "start_time": "2022-08-01T21:22:56.733Z"
   },
   {
    "duration": 1164,
    "start_time": "2022-08-01T21:23:07.100Z"
   },
   {
    "duration": 20,
    "start_time": "2022-08-01T21:23:22.875Z"
   },
   {
    "duration": 3,
    "start_time": "2022-08-01T21:23:46.678Z"
   },
   {
    "duration": 3,
    "start_time": "2022-08-01T21:24:01.844Z"
   },
   {
    "duration": 73,
    "start_time": "2022-08-01T21:24:05.043Z"
   },
   {
    "duration": 25,
    "start_time": "2022-08-01T21:24:22.951Z"
   },
   {
    "duration": 22,
    "start_time": "2022-08-01T21:24:40.993Z"
   },
   {
    "duration": 117,
    "start_time": "2022-08-01T21:24:49.242Z"
   },
   {
    "duration": 13,
    "start_time": "2022-08-01T21:24:49.360Z"
   },
   {
    "duration": 631,
    "start_time": "2022-08-01T21:24:49.374Z"
   },
   {
    "duration": 4,
    "start_time": "2022-08-01T21:24:50.006Z"
   },
   {
    "duration": 8,
    "start_time": "2022-08-01T21:24:50.013Z"
   },
   {
    "duration": 7,
    "start_time": "2022-08-01T21:24:50.023Z"
   },
   {
    "duration": 5,
    "start_time": "2022-08-01T21:24:50.032Z"
   },
   {
    "duration": 9,
    "start_time": "2022-08-01T21:24:50.039Z"
   },
   {
    "duration": 5,
    "start_time": "2022-08-01T21:24:50.050Z"
   },
   {
    "duration": 9,
    "start_time": "2022-08-01T21:24:50.057Z"
   },
   {
    "duration": 6,
    "start_time": "2022-08-01T21:24:50.067Z"
   },
   {
    "duration": 15,
    "start_time": "2022-08-01T21:24:50.103Z"
   },
   {
    "duration": 14,
    "start_time": "2022-08-01T21:24:50.119Z"
   },
   {
    "duration": 6,
    "start_time": "2022-08-01T21:24:50.136Z"
   },
   {
    "duration": 3,
    "start_time": "2022-08-01T21:24:50.144Z"
   },
   {
    "duration": 59,
    "start_time": "2022-08-01T21:24:50.148Z"
   },
   {
    "duration": 23,
    "start_time": "2022-08-01T21:24:52.445Z"
   },
   {
    "duration": 24,
    "start_time": "2022-08-01T21:25:07.827Z"
   },
   {
    "duration": 21,
    "start_time": "2022-08-01T21:25:54.653Z"
   },
   {
    "duration": 27,
    "start_time": "2022-08-01T21:26:07.245Z"
   },
   {
    "duration": 1258,
    "start_time": "2022-08-01T21:26:26.580Z"
   },
   {
    "duration": 23,
    "start_time": "2022-08-01T21:26:34.066Z"
   },
   {
    "duration": 365,
    "start_time": "2022-08-01T22:00:01.429Z"
   },
   {
    "duration": 93,
    "start_time": "2022-08-01T22:00:10.898Z"
   },
   {
    "duration": 11,
    "start_time": "2022-08-01T22:00:10.993Z"
   },
   {
    "duration": 626,
    "start_time": "2022-08-01T22:00:11.005Z"
   },
   {
    "duration": 4,
    "start_time": "2022-08-01T22:00:11.633Z"
   },
   {
    "duration": 5,
    "start_time": "2022-08-01T22:00:11.639Z"
   },
   {
    "duration": 5,
    "start_time": "2022-08-01T22:00:11.646Z"
   },
   {
    "duration": 6,
    "start_time": "2022-08-01T22:00:11.653Z"
   },
   {
    "duration": 7,
    "start_time": "2022-08-01T22:00:11.660Z"
   },
   {
    "duration": 4,
    "start_time": "2022-08-01T22:00:11.669Z"
   },
   {
    "duration": 28,
    "start_time": "2022-08-01T22:00:11.675Z"
   },
   {
    "duration": 8,
    "start_time": "2022-08-01T22:00:11.705Z"
   },
   {
    "duration": 17,
    "start_time": "2022-08-01T22:00:11.714Z"
   },
   {
    "duration": 14,
    "start_time": "2022-08-01T22:00:11.733Z"
   },
   {
    "duration": 9,
    "start_time": "2022-08-01T22:00:11.749Z"
   },
   {
    "duration": 14,
    "start_time": "2022-08-01T22:00:11.760Z"
   },
   {
    "duration": 21,
    "start_time": "2022-08-01T22:00:14.609Z"
   },
   {
    "duration": 16,
    "start_time": "2022-08-01T22:00:22.222Z"
   },
   {
    "duration": 100,
    "start_time": "2022-08-01T22:00:29.058Z"
   },
   {
    "duration": 12,
    "start_time": "2022-08-01T22:00:29.160Z"
   },
   {
    "duration": 641,
    "start_time": "2022-08-01T22:00:29.174Z"
   },
   {
    "duration": 3,
    "start_time": "2022-08-01T22:00:29.817Z"
   },
   {
    "duration": 7,
    "start_time": "2022-08-01T22:00:29.822Z"
   },
   {
    "duration": 6,
    "start_time": "2022-08-01T22:00:29.831Z"
   },
   {
    "duration": 6,
    "start_time": "2022-08-01T22:00:29.839Z"
   },
   {
    "duration": 7,
    "start_time": "2022-08-01T22:00:29.846Z"
   },
   {
    "duration": 7,
    "start_time": "2022-08-01T22:00:29.855Z"
   },
   {
    "duration": 6,
    "start_time": "2022-08-01T22:00:29.863Z"
   },
   {
    "duration": 33,
    "start_time": "2022-08-01T22:00:29.871Z"
   },
   {
    "duration": 14,
    "start_time": "2022-08-01T22:00:29.906Z"
   },
   {
    "duration": 14,
    "start_time": "2022-08-01T22:00:29.922Z"
   },
   {
    "duration": 6,
    "start_time": "2022-08-01T22:00:29.938Z"
   },
   {
    "duration": 2,
    "start_time": "2022-08-01T22:00:29.946Z"
   },
   {
    "duration": 22,
    "start_time": "2022-08-01T22:00:31.449Z"
   },
   {
    "duration": 23,
    "start_time": "2022-08-01T22:01:01.098Z"
   },
   {
    "duration": 97,
    "start_time": "2022-08-01T22:01:18.567Z"
   },
   {
    "duration": 11,
    "start_time": "2022-08-01T22:01:18.666Z"
   },
   {
    "duration": 718,
    "start_time": "2022-08-01T22:01:18.678Z"
   },
   {
    "duration": 6,
    "start_time": "2022-08-01T22:01:19.397Z"
   },
   {
    "duration": 21,
    "start_time": "2022-08-01T22:01:19.405Z"
   },
   {
    "duration": 26,
    "start_time": "2022-08-01T22:01:19.427Z"
   },
   {
    "duration": 5,
    "start_time": "2022-08-01T22:01:19.454Z"
   },
   {
    "duration": 6,
    "start_time": "2022-08-01T22:01:19.461Z"
   },
   {
    "duration": 5,
    "start_time": "2022-08-01T22:01:19.468Z"
   },
   {
    "duration": 7,
    "start_time": "2022-08-01T22:01:19.474Z"
   },
   {
    "duration": 6,
    "start_time": "2022-08-01T22:01:19.482Z"
   },
   {
    "duration": 16,
    "start_time": "2022-08-01T22:01:19.490Z"
   },
   {
    "duration": 14,
    "start_time": "2022-08-01T22:01:19.508Z"
   },
   {
    "duration": 6,
    "start_time": "2022-08-01T22:01:19.524Z"
   },
   {
    "duration": 3,
    "start_time": "2022-08-01T22:01:19.532Z"
   },
   {
    "duration": 26,
    "start_time": "2022-08-01T22:01:21.387Z"
   },
   {
    "duration": 93,
    "start_time": "2022-08-01T22:01:52.240Z"
   },
   {
    "duration": 12,
    "start_time": "2022-08-01T22:01:52.335Z"
   },
   {
    "duration": 649,
    "start_time": "2022-08-01T22:01:52.349Z"
   },
   {
    "duration": 4,
    "start_time": "2022-08-01T22:01:53.000Z"
   },
   {
    "duration": 7,
    "start_time": "2022-08-01T22:01:53.006Z"
   },
   {
    "duration": 8,
    "start_time": "2022-08-01T22:01:53.014Z"
   },
   {
    "duration": 6,
    "start_time": "2022-08-01T22:01:53.024Z"
   },
   {
    "duration": 9,
    "start_time": "2022-08-01T22:01:53.032Z"
   },
   {
    "duration": 7,
    "start_time": "2022-08-01T22:01:53.043Z"
   },
   {
    "duration": 7,
    "start_time": "2022-08-01T22:01:53.052Z"
   },
   {
    "duration": 7,
    "start_time": "2022-08-01T22:01:53.060Z"
   },
   {
    "duration": 44,
    "start_time": "2022-08-01T22:01:53.068Z"
   },
   {
    "duration": 16,
    "start_time": "2022-08-01T22:01:53.114Z"
   },
   {
    "duration": 10,
    "start_time": "2022-08-01T22:01:53.132Z"
   },
   {
    "duration": 3,
    "start_time": "2022-08-01T22:01:53.143Z"
   },
   {
    "duration": 26,
    "start_time": "2022-08-01T22:01:55.550Z"
   },
   {
    "duration": 20,
    "start_time": "2022-08-01T22:02:26.423Z"
   },
   {
    "duration": 307,
    "start_time": "2022-08-01T22:06:02.526Z"
   },
   {
    "duration": 110,
    "start_time": "2022-08-01T22:06:08.967Z"
   },
   {
    "duration": 12,
    "start_time": "2022-08-01T22:06:09.079Z"
   },
   {
    "duration": 635,
    "start_time": "2022-08-01T22:06:09.093Z"
   },
   {
    "duration": 4,
    "start_time": "2022-08-01T22:06:09.729Z"
   },
   {
    "duration": 20,
    "start_time": "2022-08-01T22:06:09.735Z"
   },
   {
    "duration": 16,
    "start_time": "2022-08-01T22:06:09.756Z"
   },
   {
    "duration": 12,
    "start_time": "2022-08-01T22:06:09.773Z"
   },
   {
    "duration": 19,
    "start_time": "2022-08-01T22:06:09.787Z"
   },
   {
    "duration": 34,
    "start_time": "2022-08-01T22:06:09.808Z"
   },
   {
    "duration": 27,
    "start_time": "2022-08-01T22:06:09.844Z"
   },
   {
    "duration": 17,
    "start_time": "2022-08-01T22:06:09.874Z"
   },
   {
    "duration": 36,
    "start_time": "2022-08-01T22:06:09.893Z"
   },
   {
    "duration": 19,
    "start_time": "2022-08-01T22:06:09.931Z"
   },
   {
    "duration": 12,
    "start_time": "2022-08-01T22:06:09.952Z"
   },
   {
    "duration": 19,
    "start_time": "2022-08-01T22:06:09.966Z"
   },
   {
    "duration": 28,
    "start_time": "2022-08-01T22:06:11.297Z"
   },
   {
    "duration": 96,
    "start_time": "2022-08-01T22:06:38.376Z"
   },
   {
    "duration": 12,
    "start_time": "2022-08-01T22:06:38.473Z"
   },
   {
    "duration": 750,
    "start_time": "2022-08-01T22:06:38.487Z"
   },
   {
    "duration": 4,
    "start_time": "2022-08-01T22:06:39.239Z"
   },
   {
    "duration": 10,
    "start_time": "2022-08-01T22:06:39.245Z"
   },
   {
    "duration": 6,
    "start_time": "2022-08-01T22:06:39.257Z"
   },
   {
    "duration": 8,
    "start_time": "2022-08-01T22:06:39.264Z"
   },
   {
    "duration": 9,
    "start_time": "2022-08-01T22:06:39.273Z"
   },
   {
    "duration": 20,
    "start_time": "2022-08-01T22:06:39.284Z"
   },
   {
    "duration": 4,
    "start_time": "2022-08-01T22:06:39.306Z"
   },
   {
    "duration": 8,
    "start_time": "2022-08-01T22:06:39.312Z"
   },
   {
    "duration": 15,
    "start_time": "2022-08-01T22:06:39.322Z"
   },
   {
    "duration": 14,
    "start_time": "2022-08-01T22:06:39.339Z"
   },
   {
    "duration": 7,
    "start_time": "2022-08-01T22:06:39.355Z"
   },
   {
    "duration": 5,
    "start_time": "2022-08-01T22:06:39.363Z"
   },
   {
    "duration": 23,
    "start_time": "2022-08-01T22:06:40.549Z"
   },
   {
    "duration": 16,
    "start_time": "2022-08-01T22:08:14.596Z"
   },
   {
    "duration": 8,
    "start_time": "2022-08-01T22:11:36.546Z"
   },
   {
    "duration": 9,
    "start_time": "2022-08-01T22:11:44.252Z"
   },
   {
    "duration": 7,
    "start_time": "2022-08-01T22:11:50.871Z"
   },
   {
    "duration": 1257,
    "start_time": "2022-08-01T22:12:16.487Z"
   },
   {
    "duration": 3,
    "start_time": "2022-08-01T22:12:27.479Z"
   },
   {
    "duration": 16,
    "start_time": "2022-08-01T22:12:30.094Z"
   },
   {
    "duration": 94,
    "start_time": "2022-08-01T22:13:44.178Z"
   },
   {
    "duration": 13,
    "start_time": "2022-08-01T22:13:44.274Z"
   },
   {
    "duration": 606,
    "start_time": "2022-08-01T22:13:44.289Z"
   },
   {
    "duration": 6,
    "start_time": "2022-08-01T22:13:44.897Z"
   },
   {
    "duration": 5,
    "start_time": "2022-08-01T22:13:44.905Z"
   },
   {
    "duration": 6,
    "start_time": "2022-08-01T22:13:44.911Z"
   },
   {
    "duration": 6,
    "start_time": "2022-08-01T22:13:44.918Z"
   },
   {
    "duration": 6,
    "start_time": "2022-08-01T22:13:44.925Z"
   },
   {
    "duration": 4,
    "start_time": "2022-08-01T22:13:44.933Z"
   },
   {
    "duration": 5,
    "start_time": "2022-08-01T22:13:44.939Z"
   },
   {
    "duration": 9,
    "start_time": "2022-08-01T22:13:44.945Z"
   },
   {
    "duration": 14,
    "start_time": "2022-08-01T22:13:44.956Z"
   },
   {
    "duration": 16,
    "start_time": "2022-08-01T22:13:45.003Z"
   },
   {
    "duration": 10,
    "start_time": "2022-08-01T22:13:45.022Z"
   },
   {
    "duration": 2,
    "start_time": "2022-08-01T22:13:45.034Z"
   },
   {
    "duration": 26,
    "start_time": "2022-08-01T22:13:45.037Z"
   },
   {
    "duration": 3,
    "start_time": "2022-08-01T22:13:45.065Z"
   },
   {
    "duration": 10,
    "start_time": "2022-08-01T22:13:45.069Z"
   },
   {
    "duration": 2,
    "start_time": "2022-08-01T22:13:45.102Z"
   },
   {
    "duration": 12,
    "start_time": "2022-08-01T22:13:45.106Z"
   },
   {
    "duration": 16,
    "start_time": "2022-08-01T22:13:45.120Z"
   },
   {
    "duration": 20,
    "start_time": "2022-08-01T22:13:47.636Z"
   },
   {
    "duration": 22,
    "start_time": "2022-08-01T22:15:25.157Z"
   },
   {
    "duration": 29,
    "start_time": "2022-08-01T22:15:43.415Z"
   },
   {
    "duration": 42,
    "start_time": "2022-08-01T22:18:57.809Z"
   },
   {
    "duration": 9,
    "start_time": "2022-08-01T22:20:40.099Z"
   },
   {
    "duration": 23,
    "start_time": "2022-08-01T22:20:44.474Z"
   },
   {
    "duration": 27,
    "start_time": "2022-08-01T22:21:17.429Z"
   },
   {
    "duration": 17,
    "start_time": "2022-08-01T22:21:34.067Z"
   },
   {
    "duration": 79,
    "start_time": "2022-08-01T22:25:31.415Z"
   },
   {
    "duration": 19,
    "start_time": "2022-08-01T22:25:34.551Z"
   },
   {
    "duration": 287,
    "start_time": "2022-08-01T22:26:01.657Z"
   },
   {
    "duration": 114,
    "start_time": "2022-08-01T22:26:11.625Z"
   },
   {
    "duration": 12,
    "start_time": "2022-08-01T22:26:11.741Z"
   },
   {
    "duration": 704,
    "start_time": "2022-08-01T22:26:11.755Z"
   },
   {
    "duration": 4,
    "start_time": "2022-08-01T22:26:12.461Z"
   },
   {
    "duration": 5,
    "start_time": "2022-08-01T22:26:12.467Z"
   },
   {
    "duration": 5,
    "start_time": "2022-08-01T22:26:12.473Z"
   },
   {
    "duration": 23,
    "start_time": "2022-08-01T22:26:12.480Z"
   },
   {
    "duration": 10,
    "start_time": "2022-08-01T22:26:12.505Z"
   },
   {
    "duration": 14,
    "start_time": "2022-08-01T22:26:12.516Z"
   },
   {
    "duration": 10,
    "start_time": "2022-08-01T22:26:12.532Z"
   },
   {
    "duration": 9,
    "start_time": "2022-08-01T22:26:12.544Z"
   },
   {
    "duration": 22,
    "start_time": "2022-08-01T22:26:12.554Z"
   },
   {
    "duration": 29,
    "start_time": "2022-08-01T22:26:12.578Z"
   },
   {
    "duration": 5,
    "start_time": "2022-08-01T22:26:12.610Z"
   },
   {
    "duration": 3,
    "start_time": "2022-08-01T22:26:12.616Z"
   },
   {
    "duration": 21,
    "start_time": "2022-08-01T22:26:12.621Z"
   },
   {
    "duration": 2,
    "start_time": "2022-08-01T22:26:12.643Z"
   },
   {
    "duration": 10,
    "start_time": "2022-08-01T22:26:12.646Z"
   },
   {
    "duration": 6,
    "start_time": "2022-08-01T22:26:12.657Z"
   },
   {
    "duration": 8,
    "start_time": "2022-08-01T22:26:12.665Z"
   },
   {
    "duration": 29,
    "start_time": "2022-08-01T22:26:12.674Z"
   },
   {
    "duration": 18,
    "start_time": "2022-08-01T22:26:14.271Z"
   },
   {
    "duration": 19,
    "start_time": "2022-08-01T22:26:30.401Z"
   },
   {
    "duration": 18,
    "start_time": "2022-08-01T22:27:15.786Z"
   },
   {
    "duration": 20,
    "start_time": "2022-08-01T22:27:37.529Z"
   },
   {
    "duration": 19,
    "start_time": "2022-08-01T22:27:43.328Z"
   },
   {
    "duration": 94,
    "start_time": "2022-08-01T22:29:53.345Z"
   },
   {
    "duration": 14,
    "start_time": "2022-08-01T22:29:53.441Z"
   },
   {
    "duration": 596,
    "start_time": "2022-08-01T22:29:53.457Z"
   },
   {
    "duration": 3,
    "start_time": "2022-08-01T22:29:54.055Z"
   },
   {
    "duration": 6,
    "start_time": "2022-08-01T22:29:54.060Z"
   },
   {
    "duration": 5,
    "start_time": "2022-08-01T22:29:54.068Z"
   },
   {
    "duration": 17,
    "start_time": "2022-08-01T22:29:54.074Z"
   },
   {
    "duration": 12,
    "start_time": "2022-08-01T22:29:54.092Z"
   },
   {
    "duration": 4,
    "start_time": "2022-08-01T22:29:54.105Z"
   },
   {
    "duration": 3,
    "start_time": "2022-08-01T22:29:54.112Z"
   },
   {
    "duration": 4,
    "start_time": "2022-08-01T22:29:54.117Z"
   },
   {
    "duration": 15,
    "start_time": "2022-08-01T22:29:54.123Z"
   },
   {
    "duration": 15,
    "start_time": "2022-08-01T22:29:54.139Z"
   },
   {
    "duration": 6,
    "start_time": "2022-08-01T22:29:54.156Z"
   },
   {
    "duration": 2,
    "start_time": "2022-08-01T22:29:54.164Z"
   },
   {
    "duration": 55,
    "start_time": "2022-08-01T22:29:54.167Z"
   },
   {
    "duration": 2,
    "start_time": "2022-08-01T22:29:54.223Z"
   },
   {
    "duration": 3,
    "start_time": "2022-08-01T22:29:54.227Z"
   },
   {
    "duration": 3,
    "start_time": "2022-08-01T22:29:54.232Z"
   },
   {
    "duration": 9,
    "start_time": "2022-08-01T22:29:54.237Z"
   },
   {
    "duration": 13,
    "start_time": "2022-08-01T22:29:54.248Z"
   },
   {
    "duration": 20,
    "start_time": "2022-08-01T22:29:57.112Z"
   },
   {
    "duration": 9,
    "start_time": "2022-08-01T22:31:16.360Z"
   },
   {
    "duration": 8,
    "start_time": "2022-08-01T22:31:47.590Z"
   },
   {
    "duration": 19,
    "start_time": "2022-08-01T22:32:04.612Z"
   },
   {
    "duration": 19,
    "start_time": "2022-08-01T22:32:08.905Z"
   },
   {
    "duration": 3,
    "start_time": "2022-08-01T22:34:17.504Z"
   },
   {
    "duration": 30,
    "start_time": "2022-08-01T22:34:36.487Z"
   },
   {
    "duration": 24,
    "start_time": "2022-08-01T22:34:54.594Z"
   },
   {
    "duration": 19,
    "start_time": "2022-08-01T22:35:16.448Z"
   },
   {
    "duration": 15,
    "start_time": "2022-08-01T22:35:34.116Z"
   },
   {
    "duration": 192,
    "start_time": "2022-08-01T22:35:42.799Z"
   },
   {
    "duration": 11,
    "start_time": "2022-08-01T22:35:42.993Z"
   },
   {
    "duration": 632,
    "start_time": "2022-08-01T22:35:43.005Z"
   },
   {
    "duration": 3,
    "start_time": "2022-08-01T22:35:43.639Z"
   },
   {
    "duration": 6,
    "start_time": "2022-08-01T22:35:43.644Z"
   },
   {
    "duration": 8,
    "start_time": "2022-08-01T22:35:43.651Z"
   },
   {
    "duration": 6,
    "start_time": "2022-08-01T22:35:43.660Z"
   },
   {
    "duration": 8,
    "start_time": "2022-08-01T22:35:43.667Z"
   },
   {
    "duration": 6,
    "start_time": "2022-08-01T22:35:43.677Z"
   },
   {
    "duration": 20,
    "start_time": "2022-08-01T22:35:43.684Z"
   },
   {
    "duration": 5,
    "start_time": "2022-08-01T22:35:43.706Z"
   },
   {
    "duration": 19,
    "start_time": "2022-08-01T22:35:43.712Z"
   },
   {
    "duration": 15,
    "start_time": "2022-08-01T22:35:43.733Z"
   },
   {
    "duration": 16,
    "start_time": "2022-08-01T22:35:43.750Z"
   },
   {
    "duration": 5,
    "start_time": "2022-08-01T22:35:43.767Z"
   },
   {
    "duration": 37,
    "start_time": "2022-08-01T22:35:43.773Z"
   },
   {
    "duration": 6,
    "start_time": "2022-08-01T22:35:43.812Z"
   },
   {
    "duration": 5,
    "start_time": "2022-08-01T22:35:43.820Z"
   },
   {
    "duration": 5,
    "start_time": "2022-08-01T22:35:43.826Z"
   },
   {
    "duration": 9,
    "start_time": "2022-08-01T22:35:43.833Z"
   },
   {
    "duration": 18,
    "start_time": "2022-08-01T22:35:43.843Z"
   },
   {
    "duration": 18,
    "start_time": "2022-08-01T22:35:43.862Z"
   },
   {
    "duration": 20,
    "start_time": "2022-08-01T22:35:45.114Z"
   },
   {
    "duration": 21,
    "start_time": "2022-08-01T22:35:55.310Z"
   },
   {
    "duration": 162,
    "start_time": "2022-08-01T22:35:58.352Z"
   },
   {
    "duration": 10,
    "start_time": "2022-08-01T22:35:58.516Z"
   },
   {
    "duration": 689,
    "start_time": "2022-08-01T22:35:58.528Z"
   },
   {
    "duration": 3,
    "start_time": "2022-08-01T22:35:59.219Z"
   },
   {
    "duration": 8,
    "start_time": "2022-08-01T22:35:59.224Z"
   },
   {
    "duration": 13,
    "start_time": "2022-08-01T22:35:59.234Z"
   },
   {
    "duration": 8,
    "start_time": "2022-08-01T22:35:59.248Z"
   },
   {
    "duration": 13,
    "start_time": "2022-08-01T22:35:59.257Z"
   },
   {
    "duration": 6,
    "start_time": "2022-08-01T22:35:59.271Z"
   },
   {
    "duration": 11,
    "start_time": "2022-08-01T22:35:59.278Z"
   },
   {
    "duration": 11,
    "start_time": "2022-08-01T22:35:59.291Z"
   },
   {
    "duration": 13,
    "start_time": "2022-08-01T22:35:59.303Z"
   },
   {
    "duration": 13,
    "start_time": "2022-08-01T22:35:59.318Z"
   },
   {
    "duration": 6,
    "start_time": "2022-08-01T22:35:59.333Z"
   },
   {
    "duration": 3,
    "start_time": "2022-08-01T22:35:59.340Z"
   },
   {
    "duration": 23,
    "start_time": "2022-08-01T22:35:59.344Z"
   },
   {
    "duration": 6,
    "start_time": "2022-08-01T22:35:59.369Z"
   },
   {
    "duration": 26,
    "start_time": "2022-08-01T22:35:59.376Z"
   },
   {
    "duration": 6,
    "start_time": "2022-08-01T22:35:59.404Z"
   },
   {
    "duration": 8,
    "start_time": "2022-08-01T22:35:59.411Z"
   },
   {
    "duration": 14,
    "start_time": "2022-08-01T22:35:59.421Z"
   },
   {
    "duration": 22,
    "start_time": "2022-08-01T22:35:59.436Z"
   },
   {
    "duration": 43,
    "start_time": "2022-08-01T22:35:59.459Z"
   },
   {
    "duration": 18,
    "start_time": "2022-08-01T22:36:01.384Z"
   },
   {
    "duration": 110,
    "start_time": "2022-08-01T22:36:11.223Z"
   },
   {
    "duration": 11,
    "start_time": "2022-08-01T22:36:11.335Z"
   },
   {
    "duration": 626,
    "start_time": "2022-08-01T22:36:11.348Z"
   },
   {
    "duration": 3,
    "start_time": "2022-08-01T22:36:11.976Z"
   },
   {
    "duration": 5,
    "start_time": "2022-08-01T22:36:11.981Z"
   },
   {
    "duration": 15,
    "start_time": "2022-08-01T22:36:11.987Z"
   },
   {
    "duration": 5,
    "start_time": "2022-08-01T22:36:12.004Z"
   },
   {
    "duration": 8,
    "start_time": "2022-08-01T22:36:12.010Z"
   },
   {
    "duration": 5,
    "start_time": "2022-08-01T22:36:12.019Z"
   },
   {
    "duration": 5,
    "start_time": "2022-08-01T22:36:12.025Z"
   },
   {
    "duration": 5,
    "start_time": "2022-08-01T22:36:12.031Z"
   },
   {
    "duration": 14,
    "start_time": "2022-08-01T22:36:12.038Z"
   },
   {
    "duration": 16,
    "start_time": "2022-08-01T22:36:12.054Z"
   },
   {
    "duration": 34,
    "start_time": "2022-08-01T22:36:12.072Z"
   },
   {
    "duration": 4,
    "start_time": "2022-08-01T22:36:12.108Z"
   },
   {
    "duration": 24,
    "start_time": "2022-08-01T22:36:12.113Z"
   },
   {
    "duration": 2,
    "start_time": "2022-08-01T22:36:12.138Z"
   },
   {
    "duration": 6,
    "start_time": "2022-08-01T22:36:12.141Z"
   },
   {
    "duration": 5,
    "start_time": "2022-08-01T22:36:12.148Z"
   },
   {
    "duration": 8,
    "start_time": "2022-08-01T22:36:12.154Z"
   },
   {
    "duration": 15,
    "start_time": "2022-08-01T22:36:12.163Z"
   },
   {
    "duration": 39,
    "start_time": "2022-08-01T22:36:12.179Z"
   },
   {
    "duration": 14,
    "start_time": "2022-08-01T22:36:21.897Z"
   },
   {
    "duration": 14,
    "start_time": "2022-08-01T22:36:44.401Z"
   },
   {
    "duration": 19,
    "start_time": "2022-08-01T22:36:48.634Z"
   },
   {
    "duration": 16,
    "start_time": "2022-08-01T22:37:18.314Z"
   },
   {
    "duration": 21,
    "start_time": "2022-08-01T22:37:45.642Z"
   },
   {
    "duration": 12,
    "start_time": "2022-08-01T22:38:52.888Z"
   },
   {
    "duration": 306,
    "start_time": "2022-08-01T22:50:33.157Z"
   },
   {
    "duration": 304,
    "start_time": "2022-08-01T22:50:41.113Z"
   },
   {
    "duration": 382,
    "start_time": "2022-08-01T22:50:51.170Z"
   },
   {
    "duration": 320,
    "start_time": "2022-08-01T22:52:21.324Z"
   },
   {
    "duration": 10,
    "start_time": "2022-08-01T23:12:55.229Z"
   },
   {
    "duration": 24,
    "start_time": "2022-08-01T23:13:15.040Z"
   },
   {
    "duration": 11,
    "start_time": "2022-08-01T23:13:31.974Z"
   },
   {
    "duration": 10,
    "start_time": "2022-08-01T23:13:40.839Z"
   },
   {
    "duration": 10,
    "start_time": "2022-08-01T23:13:43.484Z"
   },
   {
    "duration": 26,
    "start_time": "2022-08-01T23:13:49.136Z"
   },
   {
    "duration": 26,
    "start_time": "2022-08-01T23:14:07.499Z"
   },
   {
    "duration": 9,
    "start_time": "2022-08-01T23:18:34.465Z"
   },
   {
    "duration": 296,
    "start_time": "2022-08-01T23:19:46.671Z"
   },
   {
    "duration": 74,
    "start_time": "2022-08-01T23:21:26.220Z"
   },
   {
    "duration": 305,
    "start_time": "2022-08-01T23:22:30.992Z"
   },
   {
    "duration": 101,
    "start_time": "2022-08-01T23:22:47.078Z"
   },
   {
    "duration": 294,
    "start_time": "2022-08-01T23:22:56.597Z"
   },
   {
    "duration": 36,
    "start_time": "2022-08-01T23:23:08.512Z"
   },
   {
    "duration": 36,
    "start_time": "2022-08-01T23:23:18.541Z"
   },
   {
    "duration": 75,
    "start_time": "2022-08-01T23:25:57.747Z"
   },
   {
    "duration": 113,
    "start_time": "2022-08-01T23:26:09.432Z"
   },
   {
    "duration": 38,
    "start_time": "2022-08-01T23:26:23.907Z"
   },
   {
    "duration": 41,
    "start_time": "2022-08-01T23:26:34.490Z"
   },
   {
    "duration": 38,
    "start_time": "2022-08-01T23:26:50.202Z"
   },
   {
    "duration": 31,
    "start_time": "2022-08-01T23:27:49.170Z"
   },
   {
    "duration": 309,
    "start_time": "2022-08-01T23:28:00.647Z"
   },
   {
    "duration": 40,
    "start_time": "2022-08-01T23:28:21.425Z"
   },
   {
    "duration": 35,
    "start_time": "2022-08-01T23:28:25.482Z"
   },
   {
    "duration": 386,
    "start_time": "2022-08-01T23:28:36.042Z"
   },
   {
    "duration": 361,
    "start_time": "2022-08-01T23:28:56.367Z"
   },
   {
    "duration": 334,
    "start_time": "2022-08-01T23:29:15.585Z"
   },
   {
    "duration": 483,
    "start_time": "2022-08-01T23:29:19.131Z"
   },
   {
    "duration": 370,
    "start_time": "2022-08-01T23:29:35.552Z"
   },
   {
    "duration": 375,
    "start_time": "2022-08-01T23:29:44.571Z"
   },
   {
    "duration": 363,
    "start_time": "2022-08-01T23:31:43.391Z"
   },
   {
    "duration": 363,
    "start_time": "2022-08-01T23:32:59.127Z"
   },
   {
    "duration": 412,
    "start_time": "2022-08-01T23:33:38.817Z"
   },
   {
    "duration": 488,
    "start_time": "2022-08-01T23:33:52.529Z"
   },
   {
    "duration": 304,
    "start_time": "2022-08-01T23:34:15.764Z"
   },
   {
    "duration": 411,
    "start_time": "2022-08-01T23:36:19.085Z"
   },
   {
    "duration": 411,
    "start_time": "2022-08-01T23:36:24.680Z"
   },
   {
    "duration": 404,
    "start_time": "2022-08-01T23:37:28.426Z"
   },
   {
    "duration": 514,
    "start_time": "2022-08-01T23:37:37.661Z"
   },
   {
    "duration": 404,
    "start_time": "2022-08-01T23:37:55.758Z"
   },
   {
    "duration": 405,
    "start_time": "2022-08-01T23:39:09.182Z"
   },
   {
    "duration": 399,
    "start_time": "2022-08-01T23:39:21.941Z"
   },
   {
    "duration": 409,
    "start_time": "2022-08-01T23:39:48.930Z"
   },
   {
    "duration": 405,
    "start_time": "2022-08-01T23:39:57.375Z"
   },
   {
    "duration": 514,
    "start_time": "2022-08-01T23:40:13.627Z"
   },
   {
    "duration": 3,
    "start_time": "2022-08-01T23:49:13.912Z"
   },
   {
    "duration": 7,
    "start_time": "2022-08-01T23:50:31.138Z"
   },
   {
    "duration": 6,
    "start_time": "2022-08-01T23:50:51.882Z"
   },
   {
    "duration": 7,
    "start_time": "2022-08-01T23:50:58.640Z"
   },
   {
    "duration": 6,
    "start_time": "2022-08-01T23:51:07.566Z"
   },
   {
    "duration": 6,
    "start_time": "2022-08-01T23:51:25.993Z"
   },
   {
    "duration": 6,
    "start_time": "2022-08-01T23:52:27.402Z"
   },
   {
    "duration": 8,
    "start_time": "2022-08-02T00:00:10.037Z"
   },
   {
    "duration": 46,
    "start_time": "2022-08-02T06:36:15.724Z"
   },
   {
    "duration": 1520,
    "start_time": "2022-08-02T06:36:20.341Z"
   },
   {
    "duration": 14,
    "start_time": "2022-08-02T06:36:21.862Z"
   },
   {
    "duration": 611,
    "start_time": "2022-08-02T06:36:21.878Z"
   },
   {
    "duration": 4,
    "start_time": "2022-08-02T06:36:22.491Z"
   },
   {
    "duration": 6,
    "start_time": "2022-08-02T06:36:22.496Z"
   },
   {
    "duration": 5,
    "start_time": "2022-08-02T06:36:22.503Z"
   },
   {
    "duration": 5,
    "start_time": "2022-08-02T06:36:22.509Z"
   },
   {
    "duration": 5,
    "start_time": "2022-08-02T06:36:22.515Z"
   },
   {
    "duration": 30,
    "start_time": "2022-08-02T06:36:22.522Z"
   },
   {
    "duration": 4,
    "start_time": "2022-08-02T06:36:22.555Z"
   },
   {
    "duration": 5,
    "start_time": "2022-08-02T06:36:22.560Z"
   },
   {
    "duration": 14,
    "start_time": "2022-08-02T06:36:22.566Z"
   },
   {
    "duration": 16,
    "start_time": "2022-08-02T06:36:22.582Z"
   },
   {
    "duration": 8,
    "start_time": "2022-08-02T06:36:22.599Z"
   },
   {
    "duration": 2,
    "start_time": "2022-08-02T06:36:22.608Z"
   },
   {
    "duration": 51,
    "start_time": "2022-08-02T06:36:22.612Z"
   },
   {
    "duration": 2,
    "start_time": "2022-08-02T06:36:22.664Z"
   },
   {
    "duration": 5,
    "start_time": "2022-08-02T06:36:22.667Z"
   },
   {
    "duration": 5,
    "start_time": "2022-08-02T06:36:22.674Z"
   },
   {
    "duration": 7,
    "start_time": "2022-08-02T06:36:22.680Z"
   },
   {
    "duration": 13,
    "start_time": "2022-08-02T06:36:22.689Z"
   },
   {
    "duration": 18,
    "start_time": "2022-08-02T06:36:22.704Z"
   },
   {
    "duration": 35,
    "start_time": "2022-08-02T06:36:22.723Z"
   },
   {
    "duration": 309,
    "start_time": "2022-08-02T06:36:22.759Z"
   },
   {
    "duration": 398,
    "start_time": "2022-08-02T06:36:23.070Z"
   },
   {
    "duration": 13,
    "start_time": "2022-08-02T06:36:23.470Z"
   },
   {
    "duration": 3,
    "start_time": "2022-08-02T06:36:23.484Z"
   },
   {
    "duration": 6,
    "start_time": "2022-08-02T06:36:23.489Z"
   },
   {
    "duration": 269,
    "start_time": "2022-08-02T06:36:23.497Z"
   },
   {
    "duration": 13,
    "start_time": "2022-08-02T06:36:23.768Z"
   },
   {
    "duration": 223,
    "start_time": "2022-08-02T06:36:23.782Z"
   },
   {
    "duration": 722,
    "start_time": "2022-08-02T06:36:24.007Z"
   },
   {
    "duration": 21,
    "start_time": "2022-08-02T06:36:24.731Z"
   },
   {
    "duration": 8,
    "start_time": "2022-08-02T06:36:24.753Z"
   },
   {
    "duration": 430,
    "start_time": "2022-08-02T06:36:24.762Z"
   },
   {
    "duration": 419,
    "start_time": "2022-08-02T06:36:27.361Z"
   },
   {
    "duration": 59,
    "start_time": "2022-08-02T06:37:08.924Z"
   },
   {
    "duration": 187,
    "start_time": "2022-08-02T06:37:14.814Z"
   },
   {
    "duration": 8,
    "start_time": "2022-08-02T06:42:09.524Z"
   },
   {
    "duration": 96,
    "start_time": "2022-08-02T06:42:19.095Z"
   },
   {
    "duration": 12,
    "start_time": "2022-08-02T06:42:19.193Z"
   },
   {
    "duration": 649,
    "start_time": "2022-08-02T06:42:19.206Z"
   },
   {
    "duration": 3,
    "start_time": "2022-08-02T06:42:19.856Z"
   },
   {
    "duration": 6,
    "start_time": "2022-08-02T06:42:19.861Z"
   },
   {
    "duration": 7,
    "start_time": "2022-08-02T06:42:19.868Z"
   },
   {
    "duration": 4,
    "start_time": "2022-08-02T06:42:19.876Z"
   },
   {
    "duration": 7,
    "start_time": "2022-08-02T06:42:19.882Z"
   },
   {
    "duration": 7,
    "start_time": "2022-08-02T06:42:19.890Z"
   },
   {
    "duration": 6,
    "start_time": "2022-08-02T06:42:19.898Z"
   },
   {
    "duration": 5,
    "start_time": "2022-08-02T06:42:19.906Z"
   },
   {
    "duration": 43,
    "start_time": "2022-08-02T06:42:19.912Z"
   },
   {
    "duration": 13,
    "start_time": "2022-08-02T06:42:19.957Z"
   },
   {
    "duration": 107,
    "start_time": "2022-08-02T06:42:19.973Z"
   },
   {
    "duration": 2,
    "start_time": "2022-08-02T06:42:20.081Z"
   },
   {
    "duration": 23,
    "start_time": "2022-08-02T06:42:20.085Z"
   },
   {
    "duration": 2,
    "start_time": "2022-08-02T06:42:20.109Z"
   },
   {
    "duration": 3,
    "start_time": "2022-08-02T06:42:20.113Z"
   },
   {
    "duration": 4,
    "start_time": "2022-08-02T06:42:20.118Z"
   },
   {
    "duration": 30,
    "start_time": "2022-08-02T06:42:20.123Z"
   },
   {
    "duration": 14,
    "start_time": "2022-08-02T06:42:20.155Z"
   },
   {
    "duration": 19,
    "start_time": "2022-08-02T06:42:20.171Z"
   },
   {
    "duration": 15,
    "start_time": "2022-08-02T06:42:20.192Z"
   },
   {
    "duration": 313,
    "start_time": "2022-08-02T06:42:20.208Z"
   },
   {
    "duration": 416,
    "start_time": "2022-08-02T06:42:20.523Z"
   },
   {
    "duration": 21,
    "start_time": "2022-08-02T06:42:20.941Z"
   },
   {
    "duration": 2,
    "start_time": "2022-08-02T06:42:20.964Z"
   },
   {
    "duration": 8,
    "start_time": "2022-08-02T06:42:20.967Z"
   },
   {
    "duration": 281,
    "start_time": "2022-08-02T06:42:20.977Z"
   },
   {
    "duration": 14,
    "start_time": "2022-08-02T06:42:21.259Z"
   },
   {
    "duration": 153,
    "start_time": "2022-08-02T06:42:21.274Z"
   },
   {
    "duration": 266,
    "start_time": "2022-08-02T06:42:21.429Z"
   },
   {
    "duration": 13,
    "start_time": "2022-08-02T06:42:21.697Z"
   },
   {
    "duration": 7,
    "start_time": "2022-08-02T06:42:21.712Z"
   },
   {
    "duration": 277,
    "start_time": "2022-08-02T06:42:21.721Z"
   },
   {
    "duration": 430,
    "start_time": "2022-08-02T06:42:22.000Z"
   },
   {
    "duration": 15,
    "start_time": "2022-08-02T06:42:22.432Z"
   },
   {
    "duration": 242,
    "start_time": "2022-08-02T06:42:22.448Z"
   },
   {
    "duration": 134,
    "start_time": "2022-08-02T06:42:22.692Z"
   },
   {
    "duration": 31,
    "start_time": "2022-08-02T06:42:22.828Z"
   },
   {
    "duration": 6,
    "start_time": "2022-08-02T06:42:22.862Z"
   },
   {
    "duration": 125,
    "start_time": "2022-08-02T06:42:22.870Z"
   },
   {
    "duration": 124,
    "start_time": "2022-08-02T06:42:22.996Z"
   },
   {
    "duration": 5,
    "start_time": "2022-08-02T06:42:23.122Z"
   },
   {
    "duration": 18,
    "start_time": "2022-08-02T06:42:23.128Z"
   },
   {
    "duration": 181,
    "start_time": "2022-08-02T06:42:23.151Z"
   },
   {
    "duration": 109,
    "start_time": "2022-08-02T06:42:23.333Z"
   },
   {
    "duration": 5,
    "start_time": "2022-08-02T06:42:23.451Z"
   },
   {
    "duration": 44,
    "start_time": "2022-08-02T06:42:23.457Z"
   },
   {
    "duration": 63,
    "start_time": "2022-08-02T06:42:23.502Z"
   },
   {
    "duration": 38,
    "start_time": "2022-08-02T06:42:23.566Z"
   },
   {
    "duration": 8,
    "start_time": "2022-08-02T06:42:23.605Z"
   },
   {
    "duration": 38,
    "start_time": "2022-08-02T06:42:23.615Z"
   },
   {
    "duration": 96,
    "start_time": "2022-08-02T06:43:31.761Z"
   },
   {
    "duration": 12,
    "start_time": "2022-08-02T06:43:31.859Z"
   },
   {
    "duration": 634,
    "start_time": "2022-08-02T06:43:31.873Z"
   },
   {
    "duration": 3,
    "start_time": "2022-08-02T06:43:32.509Z"
   },
   {
    "duration": 5,
    "start_time": "2022-08-02T06:43:32.514Z"
   },
   {
    "duration": 7,
    "start_time": "2022-08-02T06:43:32.521Z"
   },
   {
    "duration": 8,
    "start_time": "2022-08-02T06:43:32.529Z"
   },
   {
    "duration": 6,
    "start_time": "2022-08-02T06:43:32.551Z"
   },
   {
    "duration": 5,
    "start_time": "2022-08-02T06:43:32.558Z"
   },
   {
    "duration": 6,
    "start_time": "2022-08-02T06:43:32.564Z"
   },
   {
    "duration": 5,
    "start_time": "2022-08-02T06:43:32.571Z"
   },
   {
    "duration": 18,
    "start_time": "2022-08-02T06:43:32.578Z"
   },
   {
    "duration": 17,
    "start_time": "2022-08-02T06:43:32.597Z"
   },
   {
    "duration": 9,
    "start_time": "2022-08-02T06:43:32.616Z"
   },
   {
    "duration": 2,
    "start_time": "2022-08-02T06:43:32.652Z"
   },
   {
    "duration": 24,
    "start_time": "2022-08-02T06:43:32.655Z"
   },
   {
    "duration": 2,
    "start_time": "2022-08-02T06:43:32.681Z"
   },
   {
    "duration": 5,
    "start_time": "2022-08-02T06:43:32.685Z"
   },
   {
    "duration": 5,
    "start_time": "2022-08-02T06:43:32.691Z"
   },
   {
    "duration": 8,
    "start_time": "2022-08-02T06:43:32.697Z"
   },
   {
    "duration": 13,
    "start_time": "2022-08-02T06:43:32.706Z"
   },
   {
    "duration": 45,
    "start_time": "2022-08-02T06:43:32.721Z"
   },
   {
    "duration": 14,
    "start_time": "2022-08-02T06:43:32.767Z"
   },
   {
    "duration": 386,
    "start_time": "2022-08-02T06:43:32.783Z"
   },
   {
    "duration": 397,
    "start_time": "2022-08-02T06:43:33.171Z"
   },
   {
    "duration": 12,
    "start_time": "2022-08-02T06:43:33.570Z"
   },
   {
    "duration": 2,
    "start_time": "2022-08-02T06:43:33.583Z"
   },
   {
    "duration": 6,
    "start_time": "2022-08-02T06:43:33.587Z"
   },
   {
    "duration": 259,
    "start_time": "2022-08-02T06:43:33.595Z"
   },
   {
    "duration": 13,
    "start_time": "2022-08-02T06:43:33.856Z"
   },
   {
    "duration": 138,
    "start_time": "2022-08-02T06:43:33.870Z"
   },
   {
    "duration": 254,
    "start_time": "2022-08-02T06:43:34.010Z"
   },
   {
    "duration": 12,
    "start_time": "2022-08-02T06:43:34.266Z"
   },
   {
    "duration": 8,
    "start_time": "2022-08-02T06:43:37.022Z"
   },
   {
    "duration": 277,
    "start_time": "2022-08-02T06:43:41.243Z"
   },
   {
    "duration": 91,
    "start_time": "2022-08-02T06:43:53.124Z"
   },
   {
    "duration": 12,
    "start_time": "2022-08-02T06:43:53.217Z"
   },
   {
    "duration": 611,
    "start_time": "2022-08-02T06:43:53.230Z"
   },
   {
    "duration": 4,
    "start_time": "2022-08-02T06:43:53.842Z"
   },
   {
    "duration": 5,
    "start_time": "2022-08-02T06:43:53.853Z"
   },
   {
    "duration": 7,
    "start_time": "2022-08-02T06:43:53.859Z"
   },
   {
    "duration": 6,
    "start_time": "2022-08-02T06:43:53.867Z"
   },
   {
    "duration": 6,
    "start_time": "2022-08-02T06:43:53.875Z"
   },
   {
    "duration": 6,
    "start_time": "2022-08-02T06:43:53.883Z"
   },
   {
    "duration": 5,
    "start_time": "2022-08-02T06:43:53.892Z"
   },
   {
    "duration": 6,
    "start_time": "2022-08-02T06:43:53.898Z"
   },
   {
    "duration": 48,
    "start_time": "2022-08-02T06:43:53.905Z"
   },
   {
    "duration": 13,
    "start_time": "2022-08-02T06:43:53.955Z"
   },
   {
    "duration": 10,
    "start_time": "2022-08-02T06:43:53.969Z"
   },
   {
    "duration": 3,
    "start_time": "2022-08-02T06:43:53.980Z"
   },
   {
    "duration": 132,
    "start_time": "2022-08-02T06:43:53.984Z"
   },
   {
    "duration": 2,
    "start_time": "2022-08-02T06:43:54.118Z"
   },
   {
    "duration": 4,
    "start_time": "2022-08-02T06:43:54.121Z"
   },
   {
    "duration": 4,
    "start_time": "2022-08-02T06:43:54.126Z"
   },
   {
    "duration": 24,
    "start_time": "2022-08-02T06:43:54.132Z"
   },
   {
    "duration": 14,
    "start_time": "2022-08-02T06:43:54.157Z"
   },
   {
    "duration": 20,
    "start_time": "2022-08-02T06:43:54.173Z"
   },
   {
    "duration": 15,
    "start_time": "2022-08-02T06:43:54.194Z"
   },
   {
    "duration": 323,
    "start_time": "2022-08-02T06:43:54.210Z"
   },
   {
    "duration": 410,
    "start_time": "2022-08-02T06:43:54.535Z"
   },
   {
    "duration": 17,
    "start_time": "2022-08-02T06:43:54.946Z"
   },
   {
    "duration": 2,
    "start_time": "2022-08-02T06:43:54.964Z"
   },
   {
    "duration": 6,
    "start_time": "2022-08-02T06:43:54.969Z"
   },
   {
    "duration": 267,
    "start_time": "2022-08-02T06:43:54.977Z"
   },
   {
    "duration": 18,
    "start_time": "2022-08-02T06:43:55.245Z"
   },
   {
    "duration": 142,
    "start_time": "2022-08-02T06:43:55.265Z"
   },
   {
    "duration": 271,
    "start_time": "2022-08-02T06:43:55.408Z"
   },
   {
    "duration": 14,
    "start_time": "2022-08-02T06:43:55.680Z"
   },
   {
    "duration": 8,
    "start_time": "2022-08-02T06:43:57.210Z"
   },
   {
    "duration": 214,
    "start_time": "2022-08-02T06:44:00.914Z"
   },
   {
    "duration": 97,
    "start_time": "2022-08-02T06:44:15.297Z"
   },
   {
    "duration": 12,
    "start_time": "2022-08-02T06:44:15.395Z"
   },
   {
    "duration": 783,
    "start_time": "2022-08-02T06:44:15.408Z"
   },
   {
    "duration": 4,
    "start_time": "2022-08-02T06:44:16.192Z"
   },
   {
    "duration": 9,
    "start_time": "2022-08-02T06:44:16.198Z"
   },
   {
    "duration": 6,
    "start_time": "2022-08-02T06:44:16.208Z"
   },
   {
    "duration": 13,
    "start_time": "2022-08-02T06:44:16.215Z"
   },
   {
    "duration": 9,
    "start_time": "2022-08-02T06:44:16.229Z"
   },
   {
    "duration": 14,
    "start_time": "2022-08-02T06:44:16.240Z"
   },
   {
    "duration": 4,
    "start_time": "2022-08-02T06:44:16.256Z"
   },
   {
    "duration": 9,
    "start_time": "2022-08-02T06:44:16.261Z"
   },
   {
    "duration": 21,
    "start_time": "2022-08-02T06:44:16.271Z"
   },
   {
    "duration": 13,
    "start_time": "2022-08-02T06:44:16.294Z"
   },
   {
    "duration": 10,
    "start_time": "2022-08-02T06:44:16.310Z"
   },
   {
    "duration": 6,
    "start_time": "2022-08-02T06:44:16.322Z"
   },
   {
    "duration": 37,
    "start_time": "2022-08-02T06:44:16.329Z"
   },
   {
    "duration": 2,
    "start_time": "2022-08-02T06:44:16.368Z"
   },
   {
    "duration": 7,
    "start_time": "2022-08-02T06:44:16.371Z"
   },
   {
    "duration": 4,
    "start_time": "2022-08-02T06:44:16.379Z"
   },
   {
    "duration": 8,
    "start_time": "2022-08-02T06:44:16.385Z"
   },
   {
    "duration": 14,
    "start_time": "2022-08-02T06:44:16.394Z"
   },
   {
    "duration": 19,
    "start_time": "2022-08-02T06:44:16.410Z"
   },
   {
    "duration": 16,
    "start_time": "2022-08-02T06:44:16.451Z"
   },
   {
    "duration": 320,
    "start_time": "2022-08-02T06:44:16.468Z"
   },
   {
    "duration": 412,
    "start_time": "2022-08-02T06:44:16.789Z"
   },
   {
    "duration": 13,
    "start_time": "2022-08-02T06:44:17.202Z"
   },
   {
    "duration": 2,
    "start_time": "2022-08-02T06:44:17.216Z"
   },
   {
    "duration": 9,
    "start_time": "2022-08-02T06:44:17.220Z"
   },
   {
    "duration": 265,
    "start_time": "2022-08-02T06:44:17.230Z"
   },
   {
    "duration": 13,
    "start_time": "2022-08-02T06:44:17.496Z"
   },
   {
    "duration": 143,
    "start_time": "2022-08-02T06:44:17.511Z"
   },
   {
    "duration": 275,
    "start_time": "2022-08-02T06:44:17.655Z"
   },
   {
    "duration": 21,
    "start_time": "2022-08-02T06:44:17.932Z"
   },
   {
    "duration": 8,
    "start_time": "2022-08-02T06:44:21.521Z"
   },
   {
    "duration": 250,
    "start_time": "2022-08-02T06:44:31.353Z"
   },
   {
    "duration": 335,
    "start_time": "2022-08-02T06:47:05.121Z"
   },
   {
    "duration": 259,
    "start_time": "2022-08-02T06:48:23.865Z"
   },
   {
    "duration": 274,
    "start_time": "2022-08-02T06:48:37.967Z"
   },
   {
    "duration": 15,
    "start_time": "2022-08-02T06:49:00.179Z"
   },
   {
    "duration": 14,
    "start_time": "2022-08-02T06:49:21.860Z"
   },
   {
    "duration": 142,
    "start_time": "2022-08-02T06:49:58.320Z"
   },
   {
    "duration": 131,
    "start_time": "2022-08-02T06:50:06.721Z"
   },
   {
    "duration": 152,
    "start_time": "2022-08-02T06:50:28.869Z"
   },
   {
    "duration": 148,
    "start_time": "2022-08-02T06:51:42.920Z"
   },
   {
    "duration": 135,
    "start_time": "2022-08-02T06:51:54.728Z"
   },
   {
    "duration": 175,
    "start_time": "2022-08-02T06:52:04.567Z"
   },
   {
    "duration": 197,
    "start_time": "2022-08-02T06:52:15.909Z"
   },
   {
    "duration": 260,
    "start_time": "2022-08-02T06:52:41.895Z"
   },
   {
    "duration": 166,
    "start_time": "2022-08-02T06:52:52.920Z"
   },
   {
    "duration": 149,
    "start_time": "2022-08-02T06:54:12.387Z"
   },
   {
    "duration": 154,
    "start_time": "2022-08-02T06:54:43.724Z"
   },
   {
    "duration": 165,
    "start_time": "2022-08-02T06:54:52.775Z"
   },
   {
    "duration": 155,
    "start_time": "2022-08-02T06:55:03.947Z"
   },
   {
    "duration": 164,
    "start_time": "2022-08-02T06:55:08.527Z"
   },
   {
    "duration": 96,
    "start_time": "2022-08-02T06:56:42.428Z"
   },
   {
    "duration": 13,
    "start_time": "2022-08-02T06:56:42.525Z"
   },
   {
    "duration": 704,
    "start_time": "2022-08-02T06:56:42.540Z"
   },
   {
    "duration": 7,
    "start_time": "2022-08-02T06:56:43.246Z"
   },
   {
    "duration": 7,
    "start_time": "2022-08-02T06:56:43.255Z"
   },
   {
    "duration": 10,
    "start_time": "2022-08-02T06:56:43.264Z"
   },
   {
    "duration": 7,
    "start_time": "2022-08-02T06:56:43.276Z"
   },
   {
    "duration": 10,
    "start_time": "2022-08-02T06:56:43.285Z"
   },
   {
    "duration": 5,
    "start_time": "2022-08-02T06:56:43.297Z"
   },
   {
    "duration": 10,
    "start_time": "2022-08-02T06:56:43.305Z"
   },
   {
    "duration": 8,
    "start_time": "2022-08-02T06:56:43.317Z"
   },
   {
    "duration": 43,
    "start_time": "2022-08-02T06:56:43.327Z"
   },
   {
    "duration": 21,
    "start_time": "2022-08-02T06:56:43.372Z"
   },
   {
    "duration": 9,
    "start_time": "2022-08-02T06:56:43.395Z"
   },
   {
    "duration": 6,
    "start_time": "2022-08-02T06:56:43.406Z"
   },
   {
    "duration": 48,
    "start_time": "2022-08-02T06:56:43.414Z"
   },
   {
    "duration": 3,
    "start_time": "2022-08-02T06:56:43.464Z"
   },
   {
    "duration": 5,
    "start_time": "2022-08-02T06:56:43.468Z"
   },
   {
    "duration": 5,
    "start_time": "2022-08-02T06:56:43.475Z"
   },
   {
    "duration": 10,
    "start_time": "2022-08-02T06:56:43.481Z"
   },
   {
    "duration": 14,
    "start_time": "2022-08-02T06:56:43.493Z"
   },
   {
    "duration": 50,
    "start_time": "2022-08-02T06:56:43.509Z"
   },
   {
    "duration": 16,
    "start_time": "2022-08-02T06:56:43.561Z"
   },
   {
    "duration": 442,
    "start_time": "2022-08-02T06:56:43.578Z"
   },
   {
    "duration": 477,
    "start_time": "2022-08-02T06:56:44.022Z"
   },
   {
    "duration": 15,
    "start_time": "2022-08-02T06:56:44.500Z"
   },
   {
    "duration": 2,
    "start_time": "2022-08-02T06:56:44.516Z"
   },
   {
    "duration": 12,
    "start_time": "2022-08-02T06:56:44.521Z"
   },
   {
    "duration": 333,
    "start_time": "2022-08-02T06:56:44.535Z"
   },
   {
    "duration": 13,
    "start_time": "2022-08-02T06:56:44.870Z"
   },
   {
    "duration": 152,
    "start_time": "2022-08-02T06:56:44.884Z"
   },
   {
    "duration": 289,
    "start_time": "2022-08-02T06:56:45.038Z"
   },
   {
    "duration": 14,
    "start_time": "2022-08-02T06:56:45.328Z"
   },
   {
    "duration": 9,
    "start_time": "2022-08-02T06:56:45.352Z"
   },
   {
    "duration": 268,
    "start_time": "2022-08-02T06:56:45.362Z"
   },
   {
    "duration": 301,
    "start_time": "2022-08-02T06:56:45.632Z"
   },
   {
    "duration": 22,
    "start_time": "2022-08-02T06:56:45.935Z"
   },
   {
    "duration": 156,
    "start_time": "2022-08-02T06:56:45.958Z"
   },
   {
    "duration": 256,
    "start_time": "2022-08-02T06:56:49.235Z"
   },
   {
    "duration": 181,
    "start_time": "2022-08-02T06:58:44.088Z"
   },
   {
    "duration": 230,
    "start_time": "2022-08-02T07:05:02.965Z"
   },
   {
    "duration": 235,
    "start_time": "2022-08-02T07:05:21.135Z"
   },
   {
    "duration": 207,
    "start_time": "2022-08-02T07:05:39.936Z"
   },
   {
    "duration": 201,
    "start_time": "2022-08-02T07:05:46.765Z"
   },
   {
    "duration": 24,
    "start_time": "2022-08-02T07:09:09.458Z"
   },
   {
    "duration": 8,
    "start_time": "2022-08-02T07:09:32.360Z"
   },
   {
    "duration": 88,
    "start_time": "2022-08-02T07:12:40.448Z"
   },
   {
    "duration": 11,
    "start_time": "2022-08-02T07:12:40.538Z"
   },
   {
    "duration": 848,
    "start_time": "2022-08-02T07:12:40.551Z"
   },
   {
    "duration": 4,
    "start_time": "2022-08-02T07:12:41.401Z"
   },
   {
    "duration": 7,
    "start_time": "2022-08-02T07:12:41.408Z"
   },
   {
    "duration": 9,
    "start_time": "2022-08-02T07:12:41.417Z"
   },
   {
    "duration": 25,
    "start_time": "2022-08-02T07:12:41.428Z"
   },
   {
    "duration": 11,
    "start_time": "2022-08-02T07:12:41.455Z"
   },
   {
    "duration": 5,
    "start_time": "2022-08-02T07:12:41.468Z"
   },
   {
    "duration": 9,
    "start_time": "2022-08-02T07:12:41.475Z"
   },
   {
    "duration": 12,
    "start_time": "2022-08-02T07:12:41.486Z"
   },
   {
    "duration": 16,
    "start_time": "2022-08-02T07:12:41.500Z"
   },
   {
    "duration": 35,
    "start_time": "2022-08-02T07:12:41.518Z"
   },
   {
    "duration": 8,
    "start_time": "2022-08-02T07:12:41.556Z"
   },
   {
    "duration": 3,
    "start_time": "2022-08-02T07:12:41.566Z"
   },
   {
    "duration": 30,
    "start_time": "2022-08-02T07:12:41.571Z"
   },
   {
    "duration": 2,
    "start_time": "2022-08-02T07:12:41.603Z"
   },
   {
    "duration": 5,
    "start_time": "2022-08-02T07:12:41.607Z"
   },
   {
    "duration": 4,
    "start_time": "2022-08-02T07:12:41.614Z"
   },
   {
    "duration": 33,
    "start_time": "2022-08-02T07:12:41.620Z"
   },
   {
    "duration": 15,
    "start_time": "2022-08-02T07:12:41.655Z"
   },
   {
    "duration": 22,
    "start_time": "2022-08-02T07:12:41.672Z"
   },
   {
    "duration": 17,
    "start_time": "2022-08-02T07:12:41.696Z"
   },
   {
    "duration": 428,
    "start_time": "2022-08-02T07:12:41.714Z"
   },
   {
    "duration": 630,
    "start_time": "2022-08-02T07:12:42.143Z"
   },
   {
    "duration": 14,
    "start_time": "2022-08-02T07:12:42.775Z"
   },
   {
    "duration": 3,
    "start_time": "2022-08-02T07:12:42.790Z"
   },
   {
    "duration": 8,
    "start_time": "2022-08-02T07:12:42.794Z"
   },
   {
    "duration": 400,
    "start_time": "2022-08-02T07:12:42.803Z"
   },
   {
    "duration": 14,
    "start_time": "2022-08-02T07:12:43.205Z"
   },
   {
    "duration": 225,
    "start_time": "2022-08-02T07:12:43.221Z"
   },
   {
    "duration": 408,
    "start_time": "2022-08-02T07:12:43.448Z"
   },
   {
    "duration": 15,
    "start_time": "2022-08-02T07:12:43.858Z"
   },
   {
    "duration": 11,
    "start_time": "2022-08-02T07:12:43.875Z"
   },
   {
    "duration": 8,
    "start_time": "2022-08-02T07:12:49.819Z"
   },
   {
    "duration": 9,
    "start_time": "2022-08-02T07:12:52.926Z"
   },
   {
    "duration": 191,
    "start_time": "2022-08-02T07:12:56.222Z"
   },
   {
    "duration": 13,
    "start_time": "2022-08-02T07:17:49.550Z"
   },
   {
    "duration": 13,
    "start_time": "2022-08-02T07:18:00.454Z"
   },
   {
    "duration": 15,
    "start_time": "2022-08-02T07:19:44.423Z"
   },
   {
    "duration": 234,
    "start_time": "2022-08-02T07:19:51.981Z"
   },
   {
    "duration": 406,
    "start_time": "2022-08-02T07:20:45.978Z"
   },
   {
    "duration": 173,
    "start_time": "2022-08-02T07:22:19.430Z"
   },
   {
    "duration": 204,
    "start_time": "2022-08-02T07:22:37.190Z"
   },
   {
    "duration": 328,
    "start_time": "2022-08-02T07:22:48.443Z"
   },
   {
    "duration": 30,
    "start_time": "2022-08-02T07:23:41.726Z"
   },
   {
    "duration": 14,
    "start_time": "2022-08-02T07:27:45.283Z"
   },
   {
    "duration": 203,
    "start_time": "2022-08-02T07:28:09.025Z"
   },
   {
    "duration": 7,
    "start_time": "2022-08-02T07:47:00.775Z"
   },
   {
    "duration": 209,
    "start_time": "2022-08-02T07:47:06.947Z"
   },
   {
    "duration": 226,
    "start_time": "2022-08-02T07:47:43.551Z"
   },
   {
    "duration": 233,
    "start_time": "2022-08-02T07:47:52.431Z"
   },
   {
    "duration": 212,
    "start_time": "2022-08-02T07:48:39.334Z"
   },
   {
    "duration": 1135,
    "start_time": "2022-08-02T07:48:59.991Z"
   },
   {
    "duration": 14,
    "start_time": "2022-08-02T07:49:01.128Z"
   },
   {
    "duration": 621,
    "start_time": "2022-08-02T07:49:01.144Z"
   },
   {
    "duration": 4,
    "start_time": "2022-08-02T07:49:01.766Z"
   },
   {
    "duration": 12,
    "start_time": "2022-08-02T07:49:01.772Z"
   },
   {
    "duration": 6,
    "start_time": "2022-08-02T07:49:01.785Z"
   },
   {
    "duration": 7,
    "start_time": "2022-08-02T07:49:01.793Z"
   },
   {
    "duration": 7,
    "start_time": "2022-08-02T07:49:01.802Z"
   },
   {
    "duration": 5,
    "start_time": "2022-08-02T07:49:01.811Z"
   },
   {
    "duration": 8,
    "start_time": "2022-08-02T07:49:01.818Z"
   },
   {
    "duration": 27,
    "start_time": "2022-08-02T07:49:01.827Z"
   },
   {
    "duration": 20,
    "start_time": "2022-08-02T07:49:01.856Z"
   },
   {
    "duration": 19,
    "start_time": "2022-08-02T07:49:01.877Z"
   },
   {
    "duration": 14,
    "start_time": "2022-08-02T07:49:01.898Z"
   },
   {
    "duration": 3,
    "start_time": "2022-08-02T07:49:01.914Z"
   },
   {
    "duration": 49,
    "start_time": "2022-08-02T07:49:01.919Z"
   },
   {
    "duration": 6,
    "start_time": "2022-08-02T07:49:01.970Z"
   },
   {
    "duration": 5,
    "start_time": "2022-08-02T07:49:01.977Z"
   },
   {
    "duration": 15,
    "start_time": "2022-08-02T07:49:01.983Z"
   },
   {
    "duration": 8,
    "start_time": "2022-08-02T07:49:02.000Z"
   },
   {
    "duration": 20,
    "start_time": "2022-08-02T07:49:02.010Z"
   },
   {
    "duration": 32,
    "start_time": "2022-08-02T07:49:02.032Z"
   },
   {
    "duration": 14,
    "start_time": "2022-08-02T07:49:02.066Z"
   },
   {
    "duration": 354,
    "start_time": "2022-08-02T07:49:02.082Z"
   },
   {
    "duration": 453,
    "start_time": "2022-08-02T07:49:02.437Z"
   },
   {
    "duration": 17,
    "start_time": "2022-08-02T07:49:02.892Z"
   },
   {
    "duration": 3,
    "start_time": "2022-08-02T07:49:02.910Z"
   },
   {
    "duration": 14,
    "start_time": "2022-08-02T07:49:02.914Z"
   },
   {
    "duration": 292,
    "start_time": "2022-08-02T07:49:02.929Z"
   },
   {
    "duration": 14,
    "start_time": "2022-08-02T07:49:03.223Z"
   },
   {
    "duration": 236,
    "start_time": "2022-08-02T07:49:03.238Z"
   },
   {
    "duration": 339,
    "start_time": "2022-08-02T07:49:03.475Z"
   },
   {
    "duration": 14,
    "start_time": "2022-08-02T07:49:03.816Z"
   },
   {
    "duration": 20,
    "start_time": "2022-08-02T07:49:03.832Z"
   },
   {
    "duration": 12,
    "start_time": "2022-08-02T07:49:03.854Z"
   },
   {
    "duration": 237,
    "start_time": "2022-08-02T07:49:03.868Z"
   },
   {
    "duration": 316,
    "start_time": "2022-08-02T07:49:04.106Z"
   },
   {
    "duration": 15,
    "start_time": "2022-08-02T07:49:04.424Z"
   },
   {
    "duration": 142,
    "start_time": "2022-08-02T07:49:04.440Z"
   },
   {
    "duration": 203,
    "start_time": "2022-08-02T07:49:04.584Z"
   },
   {
    "duration": 24,
    "start_time": "2022-08-02T07:49:04.790Z"
   },
   {
    "duration": 4,
    "start_time": "2022-08-02T07:49:04.816Z"
   },
   {
    "duration": 133,
    "start_time": "2022-08-02T07:49:07.843Z"
   },
   {
    "duration": 134,
    "start_time": "2022-08-02T07:49:16.677Z"
   },
   {
    "duration": 123,
    "start_time": "2022-08-02T07:49:29.547Z"
   },
   {
    "duration": 5,
    "start_time": "2022-08-02T07:49:49.597Z"
   },
   {
    "duration": 6,
    "start_time": "2022-08-02T08:43:20.813Z"
   },
   {
    "duration": 13,
    "start_time": "2022-08-02T08:45:51.949Z"
   },
   {
    "duration": 90,
    "start_time": "2022-08-02T08:47:36.590Z"
   },
   {
    "duration": 16,
    "start_time": "2022-08-02T08:47:43.652Z"
   },
   {
    "duration": 84,
    "start_time": "2022-08-02T08:51:33.900Z"
   },
   {
    "duration": 77,
    "start_time": "2022-08-02T08:52:04.363Z"
   },
   {
    "duration": 24,
    "start_time": "2022-08-02T08:52:11.222Z"
   },
   {
    "duration": 24,
    "start_time": "2022-08-02T08:55:06.861Z"
   },
   {
    "duration": 24,
    "start_time": "2022-08-02T08:55:15.713Z"
   },
   {
    "duration": 28,
    "start_time": "2022-08-02T08:55:19.461Z"
   },
   {
    "duration": 9,
    "start_time": "2022-08-02T09:02:12.522Z"
   },
   {
    "duration": 9,
    "start_time": "2022-08-02T09:03:05.778Z"
   },
   {
    "duration": 9,
    "start_time": "2022-08-02T09:03:20.002Z"
   },
   {
    "duration": 11,
    "start_time": "2022-08-02T09:03:26.062Z"
   },
   {
    "duration": 10,
    "start_time": "2022-08-02T09:03:28.896Z"
   },
   {
    "duration": 191,
    "start_time": "2022-08-02T09:10:57.774Z"
   },
   {
    "duration": 263,
    "start_time": "2022-08-02T09:11:17.161Z"
   },
   {
    "duration": 107,
    "start_time": "2022-08-02T09:11:27.630Z"
   },
   {
    "duration": 107,
    "start_time": "2022-08-02T09:11:33.302Z"
   },
   {
    "duration": 400,
    "start_time": "2022-08-02T09:13:30.210Z"
   },
   {
    "duration": 120,
    "start_time": "2022-08-02T09:14:15.923Z"
   },
   {
    "duration": 193,
    "start_time": "2022-08-02T09:19:28.865Z"
   },
   {
    "duration": 102,
    "start_time": "2022-08-02T09:19:36.652Z"
   },
   {
    "duration": 173,
    "start_time": "2022-08-02T09:20:25.440Z"
   },
   {
    "duration": 177,
    "start_time": "2022-08-02T09:20:35.582Z"
   },
   {
    "duration": 181,
    "start_time": "2022-08-02T09:20:42.806Z"
   },
   {
    "duration": 257,
    "start_time": "2022-08-02T09:21:51.643Z"
   },
   {
    "duration": 96,
    "start_time": "2022-08-02T09:22:18.342Z"
   },
   {
    "duration": 92,
    "start_time": "2022-08-02T09:23:10.533Z"
   },
   {
    "duration": 99,
    "start_time": "2022-08-02T09:23:32.754Z"
   },
   {
    "duration": 21,
    "start_time": "2022-08-02T09:27:23.762Z"
   },
   {
    "duration": 22,
    "start_time": "2022-08-02T09:27:41.742Z"
   },
   {
    "duration": 25,
    "start_time": "2022-08-02T09:27:46.145Z"
   },
   {
    "duration": 29,
    "start_time": "2022-08-02T09:31:29.030Z"
   },
   {
    "duration": 87,
    "start_time": "2022-08-02T09:32:10.929Z"
   },
   {
    "duration": 103,
    "start_time": "2022-08-02T09:32:24.862Z"
   },
   {
    "duration": 105,
    "start_time": "2022-08-02T09:37:42.842Z"
   },
   {
    "duration": 203,
    "start_time": "2022-08-02T09:37:52.631Z"
   },
   {
    "duration": 16,
    "start_time": "2022-08-02T09:41:46.530Z"
   },
   {
    "duration": 165,
    "start_time": "2022-08-02T09:43:25.202Z"
   },
   {
    "duration": 182,
    "start_time": "2022-08-02T09:44:19.182Z"
   },
   {
    "duration": 199,
    "start_time": "2022-08-02T09:44:43.782Z"
   },
   {
    "duration": 183,
    "start_time": "2022-08-02T09:45:13.550Z"
   },
   {
    "duration": 18,
    "start_time": "2022-08-02T09:45:36.262Z"
   },
   {
    "duration": 16,
    "start_time": "2022-08-02T09:45:46.331Z"
   },
   {
    "duration": 8,
    "start_time": "2022-08-02T09:47:19.042Z"
   },
   {
    "duration": 141,
    "start_time": "2022-08-02T09:47:23.882Z"
   },
   {
    "duration": 12,
    "start_time": "2022-08-02T09:47:24.025Z"
   },
   {
    "duration": 747,
    "start_time": "2022-08-02T09:47:24.038Z"
   },
   {
    "duration": 4,
    "start_time": "2022-08-02T09:47:24.786Z"
   },
   {
    "duration": 10,
    "start_time": "2022-08-02T09:47:24.791Z"
   },
   {
    "duration": 5,
    "start_time": "2022-08-02T09:47:24.802Z"
   },
   {
    "duration": 7,
    "start_time": "2022-08-02T09:47:24.808Z"
   },
   {
    "duration": 9,
    "start_time": "2022-08-02T09:47:24.816Z"
   },
   {
    "duration": 27,
    "start_time": "2022-08-02T09:47:24.827Z"
   },
   {
    "duration": 6,
    "start_time": "2022-08-02T09:47:24.856Z"
   },
   {
    "duration": 7,
    "start_time": "2022-08-02T09:47:24.863Z"
   },
   {
    "duration": 19,
    "start_time": "2022-08-02T09:47:24.872Z"
   },
   {
    "duration": 15,
    "start_time": "2022-08-02T09:47:24.892Z"
   },
   {
    "duration": 12,
    "start_time": "2022-08-02T09:47:24.911Z"
   },
   {
    "duration": 2,
    "start_time": "2022-08-02T09:47:24.925Z"
   },
   {
    "duration": 43,
    "start_time": "2022-08-02T09:47:24.929Z"
   },
   {
    "duration": 2,
    "start_time": "2022-08-02T09:47:24.974Z"
   },
   {
    "duration": 6,
    "start_time": "2022-08-02T09:47:24.978Z"
   },
   {
    "duration": 8,
    "start_time": "2022-08-02T09:47:24.985Z"
   },
   {
    "duration": 10,
    "start_time": "2022-08-02T09:47:24.995Z"
   },
   {
    "duration": 18,
    "start_time": "2022-08-02T09:47:25.007Z"
   },
   {
    "duration": 43,
    "start_time": "2022-08-02T09:47:25.027Z"
   },
   {
    "duration": 15,
    "start_time": "2022-08-02T09:47:25.072Z"
   },
   {
    "duration": 319,
    "start_time": "2022-08-02T09:47:25.088Z"
   },
   {
    "duration": 408,
    "start_time": "2022-08-02T09:47:25.408Z"
   },
   {
    "duration": 14,
    "start_time": "2022-08-02T09:47:25.818Z"
   },
   {
    "duration": 2,
    "start_time": "2022-08-02T09:47:25.833Z"
   },
   {
    "duration": 19,
    "start_time": "2022-08-02T09:47:25.837Z"
   },
   {
    "duration": 299,
    "start_time": "2022-08-02T09:47:25.857Z"
   },
   {
    "duration": 18,
    "start_time": "2022-08-02T09:47:26.158Z"
   },
   {
    "duration": 167,
    "start_time": "2022-08-02T09:47:26.177Z"
   },
   {
    "duration": 280,
    "start_time": "2022-08-02T09:47:26.345Z"
   },
   {
    "duration": 14,
    "start_time": "2022-08-02T09:47:26.627Z"
   },
   {
    "duration": 16,
    "start_time": "2022-08-02T09:47:26.642Z"
   },
   {
    "duration": 12,
    "start_time": "2022-08-02T09:47:26.660Z"
   },
   {
    "duration": 317,
    "start_time": "2022-08-02T09:47:26.673Z"
   },
   {
    "duration": 287,
    "start_time": "2022-08-02T09:47:26.992Z"
   },
   {
    "duration": 17,
    "start_time": "2022-08-02T09:47:27.281Z"
   },
   {
    "duration": 179,
    "start_time": "2022-08-02T09:47:27.300Z"
   },
   {
    "duration": 213,
    "start_time": "2022-08-02T09:47:27.481Z"
   },
   {
    "duration": 27,
    "start_time": "2022-08-02T09:47:27.698Z"
   },
   {
    "duration": 5,
    "start_time": "2022-08-02T09:47:27.727Z"
   },
   {
    "duration": 168,
    "start_time": "2022-08-02T09:47:27.733Z"
   },
   {
    "duration": 135,
    "start_time": "2022-08-02T09:47:27.903Z"
   },
   {
    "duration": 13,
    "start_time": "2022-08-02T09:47:28.040Z"
   },
   {
    "duration": 10,
    "start_time": "2022-08-02T09:47:28.054Z"
   },
   {
    "duration": 28,
    "start_time": "2022-08-02T09:47:28.065Z"
   },
   {
    "duration": 9,
    "start_time": "2022-08-02T09:47:28.095Z"
   },
   {
    "duration": 239,
    "start_time": "2022-08-02T09:47:28.105Z"
   },
   {
    "duration": 18,
    "start_time": "2022-08-02T09:47:28.345Z"
   },
   {
    "duration": 4,
    "start_time": "2022-08-02T09:47:28.365Z"
   },
   {
    "duration": 44,
    "start_time": "2022-08-02T09:47:33.625Z"
   },
   {
    "duration": 4,
    "start_time": "2022-08-02T09:48:09.937Z"
   },
   {
    "duration": 36,
    "start_time": "2022-08-02T09:48:13.482Z"
   },
   {
    "duration": 37,
    "start_time": "2022-08-02T09:55:11.902Z"
   },
   {
    "duration": 39,
    "start_time": "2022-08-02T09:58:37.537Z"
   },
   {
    "duration": 6,
    "start_time": "2022-08-02T10:02:50.103Z"
   },
   {
    "duration": 10,
    "start_time": "2022-08-02T10:03:13.943Z"
   },
   {
    "duration": 6,
    "start_time": "2022-08-02T10:03:18.642Z"
   },
   {
    "duration": 5,
    "start_time": "2022-08-02T10:03:24.223Z"
   },
   {
    "duration": 6,
    "start_time": "2022-08-02T10:03:37.691Z"
   },
   {
    "duration": 122,
    "start_time": "2022-08-02T10:03:43.325Z"
   },
   {
    "duration": 42,
    "start_time": "2022-08-02T10:03:43.449Z"
   },
   {
    "duration": 723,
    "start_time": "2022-08-02T10:03:43.495Z"
   },
   {
    "duration": 4,
    "start_time": "2022-08-02T10:03:44.219Z"
   },
   {
    "duration": 7,
    "start_time": "2022-08-02T10:03:44.225Z"
   },
   {
    "duration": 19,
    "start_time": "2022-08-02T10:03:44.234Z"
   },
   {
    "duration": 5,
    "start_time": "2022-08-02T10:03:44.255Z"
   },
   {
    "duration": 8,
    "start_time": "2022-08-02T10:03:44.261Z"
   },
   {
    "duration": 8,
    "start_time": "2022-08-02T10:03:44.270Z"
   },
   {
    "duration": 7,
    "start_time": "2022-08-02T10:03:44.280Z"
   },
   {
    "duration": 5,
    "start_time": "2022-08-02T10:03:44.288Z"
   },
   {
    "duration": 16,
    "start_time": "2022-08-02T10:03:44.295Z"
   },
   {
    "duration": 42,
    "start_time": "2022-08-02T10:03:44.313Z"
   },
   {
    "duration": 12,
    "start_time": "2022-08-02T10:03:44.358Z"
   },
   {
    "duration": 5,
    "start_time": "2022-08-02T10:03:44.371Z"
   },
   {
    "duration": 145,
    "start_time": "2022-08-02T10:03:44.378Z"
   },
   {
    "duration": 7,
    "start_time": "2022-08-02T10:03:44.524Z"
   },
   {
    "duration": 19,
    "start_time": "2022-08-02T10:03:44.533Z"
   },
   {
    "duration": 7,
    "start_time": "2022-08-02T10:03:44.555Z"
   },
   {
    "duration": 12,
    "start_time": "2022-08-02T10:03:44.564Z"
   },
   {
    "duration": 21,
    "start_time": "2022-08-02T10:03:44.578Z"
   },
   {
    "duration": 50,
    "start_time": "2022-08-02T10:03:44.605Z"
   },
   {
    "duration": 18,
    "start_time": "2022-08-02T10:03:44.657Z"
   },
   {
    "duration": 370,
    "start_time": "2022-08-02T10:03:44.677Z"
   },
   {
    "duration": 459,
    "start_time": "2022-08-02T10:03:45.052Z"
   },
   {
    "duration": 14,
    "start_time": "2022-08-02T10:03:45.513Z"
   },
   {
    "duration": 3,
    "start_time": "2022-08-02T10:03:45.528Z"
   },
   {
    "duration": 21,
    "start_time": "2022-08-02T10:03:45.532Z"
   },
   {
    "duration": 283,
    "start_time": "2022-08-02T10:03:45.555Z"
   },
   {
    "duration": 17,
    "start_time": "2022-08-02T10:03:45.839Z"
   },
   {
    "duration": 157,
    "start_time": "2022-08-02T10:03:45.858Z"
   },
   {
    "duration": 304,
    "start_time": "2022-08-02T10:03:46.017Z"
   },
   {
    "duration": 15,
    "start_time": "2022-08-02T10:03:46.322Z"
   },
   {
    "duration": 20,
    "start_time": "2022-08-02T10:03:46.338Z"
   },
   {
    "duration": 13,
    "start_time": "2022-08-02T10:03:46.360Z"
   },
   {
    "duration": 241,
    "start_time": "2022-08-02T10:03:46.374Z"
   },
   {
    "duration": 272,
    "start_time": "2022-08-02T10:03:46.617Z"
   },
   {
    "duration": 15,
    "start_time": "2022-08-02T10:03:46.891Z"
   },
   {
    "duration": 204,
    "start_time": "2022-08-02T10:03:46.907Z"
   },
   {
    "duration": 354,
    "start_time": "2022-08-02T10:03:47.113Z"
   },
   {
    "duration": 26,
    "start_time": "2022-08-02T10:03:47.471Z"
   },
   {
    "duration": 6,
    "start_time": "2022-08-02T10:03:47.498Z"
   },
   {
    "duration": 150,
    "start_time": "2022-08-02T10:03:47.505Z"
   },
   {
    "duration": 134,
    "start_time": "2022-08-02T10:03:47.656Z"
   },
   {
    "duration": 6,
    "start_time": "2022-08-02T10:03:47.791Z"
   },
   {
    "duration": 5,
    "start_time": "2022-08-02T10:03:47.798Z"
   },
   {
    "duration": 26,
    "start_time": "2022-08-02T10:03:47.805Z"
   },
   {
    "duration": 24,
    "start_time": "2022-08-02T10:03:47.834Z"
   },
   {
    "duration": 203,
    "start_time": "2022-08-02T10:03:47.860Z"
   },
   {
    "duration": 17,
    "start_time": "2022-08-02T10:03:48.065Z"
   },
   {
    "duration": 5,
    "start_time": "2022-08-02T10:03:48.084Z"
   },
   {
    "duration": 72,
    "start_time": "2022-08-02T10:03:48.091Z"
   },
   {
    "duration": 37,
    "start_time": "2022-08-02T10:03:48.165Z"
   },
   {
    "duration": 81,
    "start_time": "2022-08-02T10:03:48.203Z"
   },
   {
    "duration": 7,
    "start_time": "2022-08-02T10:03:51.624Z"
   },
   {
    "duration": 7,
    "start_time": "2022-08-02T10:05:02.639Z"
   },
   {
    "duration": 6,
    "start_time": "2022-08-02T10:05:15.204Z"
   },
   {
    "duration": 41,
    "start_time": "2022-08-02T10:05:24.855Z"
   },
   {
    "duration": 1235,
    "start_time": "2022-08-02T10:07:01.160Z"
   },
   {
    "duration": 13,
    "start_time": "2022-08-02T10:07:02.397Z"
   },
   {
    "duration": 718,
    "start_time": "2022-08-02T10:07:02.412Z"
   },
   {
    "duration": 6,
    "start_time": "2022-08-02T10:07:03.132Z"
   },
   {
    "duration": 13,
    "start_time": "2022-08-02T10:07:03.140Z"
   },
   {
    "duration": 4,
    "start_time": "2022-08-02T10:07:03.155Z"
   },
   {
    "duration": 7,
    "start_time": "2022-08-02T10:07:03.161Z"
   },
   {
    "duration": 8,
    "start_time": "2022-08-02T10:07:03.169Z"
   },
   {
    "duration": 10,
    "start_time": "2022-08-02T10:07:03.178Z"
   },
   {
    "duration": 7,
    "start_time": "2022-08-02T10:07:03.189Z"
   },
   {
    "duration": 9,
    "start_time": "2022-08-02T10:07:03.197Z"
   },
   {
    "duration": 20,
    "start_time": "2022-08-02T10:07:03.207Z"
   },
   {
    "duration": 17,
    "start_time": "2022-08-02T10:07:03.253Z"
   },
   {
    "duration": 7,
    "start_time": "2022-08-02T10:07:03.273Z"
   },
   {
    "duration": 3,
    "start_time": "2022-08-02T10:07:03.282Z"
   },
   {
    "duration": 28,
    "start_time": "2022-08-02T10:07:03.286Z"
   },
   {
    "duration": 2,
    "start_time": "2022-08-02T10:07:03.316Z"
   },
   {
    "duration": 35,
    "start_time": "2022-08-02T10:07:03.319Z"
   },
   {
    "duration": 10,
    "start_time": "2022-08-02T10:07:03.355Z"
   },
   {
    "duration": 10,
    "start_time": "2022-08-02T10:07:03.366Z"
   },
   {
    "duration": 18,
    "start_time": "2022-08-02T10:07:03.378Z"
   },
   {
    "duration": 21,
    "start_time": "2022-08-02T10:07:03.397Z"
   },
   {
    "duration": 39,
    "start_time": "2022-08-02T10:07:03.419Z"
   },
   {
    "duration": 370,
    "start_time": "2022-08-02T10:07:03.460Z"
   },
   {
    "duration": 481,
    "start_time": "2022-08-02T10:07:03.832Z"
   },
   {
    "duration": 28,
    "start_time": "2022-08-02T10:07:04.315Z"
   },
   {
    "duration": 4,
    "start_time": "2022-08-02T10:07:04.345Z"
   },
   {
    "duration": 10,
    "start_time": "2022-08-02T10:07:04.352Z"
   },
   {
    "duration": 306,
    "start_time": "2022-08-02T10:07:04.365Z"
   },
   {
    "duration": 24,
    "start_time": "2022-08-02T10:07:04.674Z"
   },
   {
    "duration": 244,
    "start_time": "2022-08-02T10:07:04.700Z"
   },
   {
    "duration": 351,
    "start_time": "2022-08-02T10:07:04.952Z"
   },
   {
    "duration": 14,
    "start_time": "2022-08-02T10:07:05.305Z"
   },
   {
    "duration": 8,
    "start_time": "2022-08-02T10:07:05.321Z"
   },
   {
    "duration": 31,
    "start_time": "2022-08-02T10:07:05.330Z"
   },
   {
    "duration": 244,
    "start_time": "2022-08-02T10:07:05.362Z"
   },
   {
    "duration": 323,
    "start_time": "2022-08-02T10:07:05.608Z"
   },
   {
    "duration": 18,
    "start_time": "2022-08-02T10:07:05.932Z"
   },
   {
    "duration": 148,
    "start_time": "2022-08-02T10:07:05.952Z"
   },
   {
    "duration": 211,
    "start_time": "2022-08-02T10:07:06.102Z"
   },
   {
    "duration": 27,
    "start_time": "2022-08-02T10:07:06.316Z"
   },
   {
    "duration": 6,
    "start_time": "2022-08-02T10:07:06.353Z"
   },
   {
    "duration": 147,
    "start_time": "2022-08-02T10:07:06.360Z"
   },
   {
    "duration": 139,
    "start_time": "2022-08-02T10:07:06.509Z"
   },
   {
    "duration": 5,
    "start_time": "2022-08-02T10:07:06.653Z"
   },
   {
    "duration": 4,
    "start_time": "2022-08-02T10:07:06.660Z"
   },
   {
    "duration": 25,
    "start_time": "2022-08-02T10:07:06.666Z"
   },
   {
    "duration": 8,
    "start_time": "2022-08-02T10:07:06.692Z"
   },
   {
    "duration": 211,
    "start_time": "2022-08-02T10:07:06.702Z"
   },
   {
    "duration": 15,
    "start_time": "2022-08-02T10:07:06.914Z"
   },
   {
    "duration": 4,
    "start_time": "2022-08-02T10:07:06.930Z"
   },
   {
    "duration": 62,
    "start_time": "2022-08-02T10:07:06.952Z"
   },
   {
    "duration": 80,
    "start_time": "2022-08-02T10:07:07.016Z"
   },
   {
    "duration": 85,
    "start_time": "2022-08-02T10:07:07.098Z"
   },
   {
    "duration": 93,
    "start_time": "2022-08-02T10:07:09.844Z"
   },
   {
    "duration": 7,
    "start_time": "2022-08-02T10:07:26.598Z"
   },
   {
    "duration": 27,
    "start_time": "2022-08-02T10:07:39.047Z"
   },
   {
    "duration": 9,
    "start_time": "2022-08-02T10:07:51.266Z"
   },
   {
    "duration": 11,
    "start_time": "2022-08-02T10:07:56.606Z"
   },
   {
    "duration": 10,
    "start_time": "2022-08-02T10:08:12.043Z"
   },
   {
    "duration": 29,
    "start_time": "2022-08-02T10:08:27.340Z"
   },
   {
    "duration": 11,
    "start_time": "2022-08-02T10:08:39.340Z"
   },
   {
    "duration": 9,
    "start_time": "2022-08-02T10:09:06.541Z"
   },
   {
    "duration": 7,
    "start_time": "2022-08-02T10:09:15.186Z"
   },
   {
    "duration": 8,
    "start_time": "2022-08-02T10:10:34.406Z"
   },
   {
    "duration": 9,
    "start_time": "2022-08-02T10:16:26.283Z"
   },
   {
    "duration": 1204,
    "start_time": "2022-08-02T11:25:33.838Z"
   },
   {
    "duration": 22,
    "start_time": "2022-08-02T11:25:35.043Z"
   },
   {
    "duration": 659,
    "start_time": "2022-08-02T11:25:35.070Z"
   },
   {
    "duration": 4,
    "start_time": "2022-08-02T11:25:35.732Z"
   },
   {
    "duration": 23,
    "start_time": "2022-08-02T11:25:35.737Z"
   },
   {
    "duration": 16,
    "start_time": "2022-08-02T11:25:35.762Z"
   },
   {
    "duration": 5,
    "start_time": "2022-08-02T11:25:35.780Z"
   },
   {
    "duration": 8,
    "start_time": "2022-08-02T11:25:35.786Z"
   },
   {
    "duration": 8,
    "start_time": "2022-08-02T11:25:35.795Z"
   },
   {
    "duration": 20,
    "start_time": "2022-08-02T11:25:35.806Z"
   },
   {
    "duration": 37,
    "start_time": "2022-08-02T11:25:35.828Z"
   },
   {
    "duration": 21,
    "start_time": "2022-08-02T11:25:35.867Z"
   },
   {
    "duration": 14,
    "start_time": "2022-08-02T11:25:35.890Z"
   },
   {
    "duration": 6,
    "start_time": "2022-08-02T11:25:35.906Z"
   },
   {
    "duration": 8,
    "start_time": "2022-08-02T11:25:35.914Z"
   },
   {
    "duration": 46,
    "start_time": "2022-08-02T11:25:35.923Z"
   },
   {
    "duration": 2,
    "start_time": "2022-08-02T11:25:35.972Z"
   },
   {
    "duration": 8,
    "start_time": "2022-08-02T11:25:35.976Z"
   },
   {
    "duration": 5,
    "start_time": "2022-08-02T11:25:35.985Z"
   },
   {
    "duration": 21,
    "start_time": "2022-08-02T11:25:35.992Z"
   },
   {
    "duration": 27,
    "start_time": "2022-08-02T11:25:36.014Z"
   },
   {
    "duration": 26,
    "start_time": "2022-08-02T11:25:36.043Z"
   },
   {
    "duration": 31,
    "start_time": "2022-08-02T11:25:36.070Z"
   },
   {
    "duration": 367,
    "start_time": "2022-08-02T11:25:36.103Z"
   },
   {
    "duration": 429,
    "start_time": "2022-08-02T11:25:36.471Z"
   },
   {
    "duration": 13,
    "start_time": "2022-08-02T11:25:36.902Z"
   },
   {
    "duration": 2,
    "start_time": "2022-08-02T11:25:36.917Z"
   },
   {
    "duration": 6,
    "start_time": "2022-08-02T11:25:36.922Z"
   },
   {
    "duration": 282,
    "start_time": "2022-08-02T11:25:36.929Z"
   },
   {
    "duration": 14,
    "start_time": "2022-08-02T11:25:37.213Z"
   },
   {
    "duration": 240,
    "start_time": "2022-08-02T11:25:37.229Z"
   },
   {
    "duration": 318,
    "start_time": "2022-08-02T11:25:37.470Z"
   },
   {
    "duration": 16,
    "start_time": "2022-08-02T11:25:37.789Z"
   },
   {
    "duration": 7,
    "start_time": "2022-08-02T11:25:37.807Z"
   },
   {
    "duration": 14,
    "start_time": "2022-08-02T11:25:37.816Z"
   },
   {
    "duration": 234,
    "start_time": "2022-08-02T11:25:37.852Z"
   },
   {
    "duration": 324,
    "start_time": "2022-08-02T11:25:38.087Z"
   },
   {
    "duration": 15,
    "start_time": "2022-08-02T11:25:38.412Z"
   },
   {
    "duration": 143,
    "start_time": "2022-08-02T11:25:38.428Z"
   },
   {
    "duration": 217,
    "start_time": "2022-08-02T11:25:38.573Z"
   },
   {
    "duration": 36,
    "start_time": "2022-08-02T11:25:38.792Z"
   },
   {
    "duration": 24,
    "start_time": "2022-08-02T11:25:38.831Z"
   },
   {
    "duration": 162,
    "start_time": "2022-08-02T11:25:38.861Z"
   },
   {
    "duration": 131,
    "start_time": "2022-08-02T11:25:39.025Z"
   },
   {
    "duration": 12,
    "start_time": "2022-08-02T11:25:39.157Z"
   },
   {
    "duration": 3,
    "start_time": "2022-08-02T11:25:39.171Z"
   },
   {
    "duration": 25,
    "start_time": "2022-08-02T11:25:39.175Z"
   },
   {
    "duration": 8,
    "start_time": "2022-08-02T11:25:39.201Z"
   },
   {
    "duration": 201,
    "start_time": "2022-08-02T11:25:39.211Z"
   },
   {
    "duration": 15,
    "start_time": "2022-08-02T11:25:39.413Z"
   },
   {
    "duration": 5,
    "start_time": "2022-08-02T11:25:39.429Z"
   },
   {
    "duration": 49,
    "start_time": "2022-08-02T11:25:39.436Z"
   },
   {
    "duration": 34,
    "start_time": "2022-08-02T11:25:39.486Z"
   },
   {
    "duration": 73,
    "start_time": "2022-08-02T11:25:39.521Z"
   },
   {
    "duration": 6,
    "start_time": "2022-08-02T11:25:39.596Z"
   },
   {
    "duration": 9,
    "start_time": "2022-08-02T11:25:39.604Z"
   },
   {
    "duration": 5,
    "start_time": "2022-08-02T11:27:10.081Z"
   },
   {
    "duration": 96,
    "start_time": "2022-08-02T11:27:17.342Z"
   },
   {
    "duration": 13,
    "start_time": "2022-08-02T11:27:17.440Z"
   },
   {
    "duration": 701,
    "start_time": "2022-08-02T11:27:17.455Z"
   },
   {
    "duration": 4,
    "start_time": "2022-08-02T11:27:18.158Z"
   },
   {
    "duration": 5,
    "start_time": "2022-08-02T11:27:20.569Z"
   },
   {
    "duration": 451,
    "start_time": "2022-08-02T11:37:45.340Z"
   },
   {
    "duration": 7,
    "start_time": "2022-08-02T11:41:51.853Z"
   },
   {
    "duration": 7,
    "start_time": "2022-08-02T11:42:53.637Z"
   },
   {
    "duration": 16,
    "start_time": "2022-08-02T11:45:10.589Z"
   },
   {
    "duration": 1250,
    "start_time": "2022-08-02T18:08:43.923Z"
   },
   {
    "duration": 14,
    "start_time": "2022-08-02T18:08:45.176Z"
   },
   {
    "duration": 674,
    "start_time": "2022-08-02T18:08:45.192Z"
   },
   {
    "duration": 5,
    "start_time": "2022-08-02T18:08:45.868Z"
   },
   {
    "duration": 6,
    "start_time": "2022-08-02T18:08:45.888Z"
   },
   {
    "duration": 15,
    "start_time": "2022-08-02T18:08:45.896Z"
   },
   {
    "duration": 9,
    "start_time": "2022-08-02T18:08:45.912Z"
   },
   {
    "duration": 11,
    "start_time": "2022-08-02T18:08:45.923Z"
   },
   {
    "duration": 6,
    "start_time": "2022-08-02T18:08:45.935Z"
   },
   {
    "duration": 6,
    "start_time": "2022-08-02T18:08:45.942Z"
   },
   {
    "duration": 7,
    "start_time": "2022-08-02T18:08:45.949Z"
   },
   {
    "duration": 39,
    "start_time": "2022-08-02T18:08:45.957Z"
   },
   {
    "duration": 23,
    "start_time": "2022-08-02T18:08:45.998Z"
   },
   {
    "duration": 9,
    "start_time": "2022-08-02T18:08:46.025Z"
   },
   {
    "duration": 6,
    "start_time": "2022-08-02T18:08:46.035Z"
   },
   {
    "duration": 27,
    "start_time": "2022-08-02T18:08:46.042Z"
   },
   {
    "duration": 16,
    "start_time": "2022-08-02T18:08:46.071Z"
   },
   {
    "duration": 14,
    "start_time": "2022-08-02T18:08:46.089Z"
   },
   {
    "duration": 11,
    "start_time": "2022-08-02T18:08:46.105Z"
   },
   {
    "duration": 9,
    "start_time": "2022-08-02T18:08:46.117Z"
   },
   {
    "duration": 18,
    "start_time": "2022-08-02T18:08:46.127Z"
   },
   {
    "duration": 18,
    "start_time": "2022-08-02T18:08:46.146Z"
   },
   {
    "duration": 31,
    "start_time": "2022-08-02T18:08:46.165Z"
   },
   {
    "duration": 431,
    "start_time": "2022-08-02T18:08:46.197Z"
   },
   {
    "duration": 463,
    "start_time": "2022-08-02T18:08:46.630Z"
   },
   {
    "duration": 19,
    "start_time": "2022-08-02T18:08:47.095Z"
   },
   {
    "duration": 2,
    "start_time": "2022-08-02T18:08:47.116Z"
   },
   {
    "duration": 10,
    "start_time": "2022-08-02T18:08:47.120Z"
   },
   {
    "duration": 297,
    "start_time": "2022-08-02T18:08:47.131Z"
   },
   {
    "duration": 14,
    "start_time": "2022-08-02T18:08:47.430Z"
   },
   {
    "duration": 240,
    "start_time": "2022-08-02T18:08:47.446Z"
   },
   {
    "duration": 354,
    "start_time": "2022-08-02T18:08:47.688Z"
   },
   {
    "duration": 13,
    "start_time": "2022-08-02T18:08:48.044Z"
   },
   {
    "duration": 7,
    "start_time": "2022-08-02T18:08:48.059Z"
   },
   {
    "duration": 32,
    "start_time": "2022-08-02T18:08:48.067Z"
   },
   {
    "duration": 249,
    "start_time": "2022-08-02T18:08:48.101Z"
   },
   {
    "duration": 297,
    "start_time": "2022-08-02T18:08:48.352Z"
   },
   {
    "duration": 17,
    "start_time": "2022-08-02T18:08:48.650Z"
   },
   {
    "duration": 171,
    "start_time": "2022-08-02T18:08:48.669Z"
   },
   {
    "duration": 224,
    "start_time": "2022-08-02T18:08:48.842Z"
   },
   {
    "duration": 42,
    "start_time": "2022-08-02T18:08:49.071Z"
   },
   {
    "duration": 7,
    "start_time": "2022-08-02T18:08:49.115Z"
   },
   {
    "duration": 179,
    "start_time": "2022-08-02T18:08:49.124Z"
   },
   {
    "duration": 128,
    "start_time": "2022-08-02T18:08:49.305Z"
   },
   {
    "duration": 5,
    "start_time": "2022-08-02T18:08:49.434Z"
   },
   {
    "duration": 6,
    "start_time": "2022-08-02T18:08:49.441Z"
   },
   {
    "duration": 45,
    "start_time": "2022-08-02T18:08:49.448Z"
   },
   {
    "duration": 11,
    "start_time": "2022-08-02T18:08:49.496Z"
   },
   {
    "duration": 228,
    "start_time": "2022-08-02T18:08:49.508Z"
   },
   {
    "duration": 14,
    "start_time": "2022-08-02T18:08:49.738Z"
   },
   {
    "duration": 4,
    "start_time": "2022-08-02T18:08:49.754Z"
   },
   {
    "duration": 58,
    "start_time": "2022-08-02T18:08:49.759Z"
   },
   {
    "duration": 36,
    "start_time": "2022-08-02T18:08:49.818Z"
   },
   {
    "duration": 45,
    "start_time": "2022-08-02T18:08:49.887Z"
   },
   {
    "duration": 8,
    "start_time": "2022-08-02T18:08:49.933Z"
   },
   {
    "duration": 13,
    "start_time": "2022-08-02T18:08:49.942Z"
   },
   {
    "duration": 51,
    "start_time": "2022-08-03T10:36:48.882Z"
   },
   {
    "duration": 1782,
    "start_time": "2022-08-03T10:37:00.418Z"
   },
   {
    "duration": 16,
    "start_time": "2022-08-03T10:37:02.202Z"
   },
   {
    "duration": 812,
    "start_time": "2022-08-03T10:37:02.220Z"
   },
   {
    "duration": 5,
    "start_time": "2022-08-03T10:37:03.034Z"
   },
   {
    "duration": 10,
    "start_time": "2022-08-03T10:37:03.042Z"
   },
   {
    "duration": 8,
    "start_time": "2022-08-03T10:37:03.067Z"
   },
   {
    "duration": 10,
    "start_time": "2022-08-03T10:37:03.077Z"
   },
   {
    "duration": 12,
    "start_time": "2022-08-03T10:37:03.089Z"
   },
   {
    "duration": 8,
    "start_time": "2022-08-03T10:37:03.102Z"
   },
   {
    "duration": 10,
    "start_time": "2022-08-03T10:37:03.112Z"
   },
   {
    "duration": 11,
    "start_time": "2022-08-03T10:37:03.124Z"
   },
   {
    "duration": 35,
    "start_time": "2022-08-03T10:37:03.136Z"
   },
   {
    "duration": 21,
    "start_time": "2022-08-03T10:37:03.173Z"
   },
   {
    "duration": 12,
    "start_time": "2022-08-03T10:37:03.197Z"
   },
   {
    "duration": 6,
    "start_time": "2022-08-03T10:37:03.210Z"
   },
   {
    "duration": 50,
    "start_time": "2022-08-03T10:37:03.218Z"
   },
   {
    "duration": 3,
    "start_time": "2022-08-03T10:37:03.270Z"
   },
   {
    "duration": 9,
    "start_time": "2022-08-03T10:37:03.274Z"
   },
   {
    "duration": 9,
    "start_time": "2022-08-03T10:37:03.284Z"
   },
   {
    "duration": 15,
    "start_time": "2022-08-03T10:37:03.295Z"
   },
   {
    "duration": 20,
    "start_time": "2022-08-03T10:37:03.312Z"
   },
   {
    "duration": 42,
    "start_time": "2022-08-03T10:37:03.334Z"
   },
   {
    "duration": 17,
    "start_time": "2022-08-03T10:37:03.378Z"
   },
   {
    "duration": 393,
    "start_time": "2022-08-03T10:37:03.396Z"
   },
   {
    "duration": 519,
    "start_time": "2022-08-03T10:37:03.791Z"
   },
   {
    "duration": 16,
    "start_time": "2022-08-03T10:37:04.312Z"
   },
   {
    "duration": 2,
    "start_time": "2022-08-03T10:37:04.330Z"
   },
   {
    "duration": 12,
    "start_time": "2022-08-03T10:37:04.334Z"
   },
   {
    "duration": 478,
    "start_time": "2022-08-03T10:37:04.347Z"
   },
   {
    "duration": 15,
    "start_time": "2022-08-03T10:37:04.827Z"
   },
   {
    "duration": 183,
    "start_time": "2022-08-03T10:37:04.844Z"
   },
   {
    "duration": 842,
    "start_time": "2022-08-03T10:37:05.030Z"
   },
   {
    "duration": 16,
    "start_time": "2022-08-03T10:37:05.873Z"
   },
   {
    "duration": 8,
    "start_time": "2022-08-03T10:37:05.890Z"
   },
   {
    "duration": 13,
    "start_time": "2022-08-03T10:37:05.900Z"
   },
   {
    "duration": 278,
    "start_time": "2022-08-03T10:37:05.915Z"
   },
   {
    "duration": 350,
    "start_time": "2022-08-03T10:37:06.195Z"
   },
   {
    "duration": 28,
    "start_time": "2022-08-03T10:37:06.548Z"
   },
   {
    "duration": 220,
    "start_time": "2022-08-03T10:37:06.579Z"
   },
   {
    "duration": 257,
    "start_time": "2022-08-03T10:37:06.801Z"
   },
   {
    "duration": 38,
    "start_time": "2022-08-03T10:37:07.067Z"
   },
   {
    "duration": 9,
    "start_time": "2022-08-03T10:37:07.107Z"
   },
   {
    "duration": 192,
    "start_time": "2022-08-03T10:37:07.119Z"
   },
   {
    "duration": 165,
    "start_time": "2022-08-03T10:37:07.313Z"
   },
   {
    "duration": 6,
    "start_time": "2022-08-03T10:37:07.480Z"
   },
   {
    "duration": 10,
    "start_time": "2022-08-03T10:37:07.488Z"
   },
   {
    "duration": 38,
    "start_time": "2022-08-03T10:37:07.500Z"
   },
   {
    "duration": 31,
    "start_time": "2022-08-03T10:37:07.540Z"
   },
   {
    "duration": 238,
    "start_time": "2022-08-03T10:37:07.573Z"
   },
   {
    "duration": 20,
    "start_time": "2022-08-03T10:37:07.813Z"
   },
   {
    "duration": 5,
    "start_time": "2022-08-03T10:37:07.836Z"
   },
   {
    "duration": 70,
    "start_time": "2022-08-03T10:37:07.843Z"
   },
   {
    "duration": 96,
    "start_time": "2022-08-03T10:37:07.916Z"
   },
   {
    "duration": 212,
    "start_time": "2022-08-03T10:37:08.015Z"
   },
   {
    "duration": 7,
    "start_time": "2022-08-03T10:37:08.229Z"
   },
   {
    "duration": 40,
    "start_time": "2022-08-03T10:37:08.238Z"
   },
   {
    "duration": 15,
    "start_time": "2022-08-03T10:37:08.280Z"
   },
   {
    "duration": 21,
    "start_time": "2022-08-03T10:46:31.283Z"
   },
   {
    "duration": 6,
    "start_time": "2022-08-03T10:46:49.658Z"
   },
   {
    "duration": 5,
    "start_time": "2022-08-03T10:46:57.267Z"
   },
   {
    "duration": 4,
    "start_time": "2022-08-03T10:47:00.428Z"
   },
   {
    "duration": 8,
    "start_time": "2022-08-03T10:49:12.459Z"
   },
   {
    "duration": 6,
    "start_time": "2022-08-03T10:49:54.734Z"
   },
   {
    "duration": 8,
    "start_time": "2022-08-03T10:50:07.185Z"
   },
   {
    "duration": 93,
    "start_time": "2022-08-03T10:50:34.636Z"
   },
   {
    "duration": 13,
    "start_time": "2022-08-03T10:50:34.731Z"
   },
   {
    "duration": 733,
    "start_time": "2022-08-03T10:50:34.746Z"
   },
   {
    "duration": 4,
    "start_time": "2022-08-03T10:50:35.483Z"
   },
   {
    "duration": 31,
    "start_time": "2022-08-03T10:50:35.489Z"
   },
   {
    "duration": 10,
    "start_time": "2022-08-03T10:50:35.522Z"
   },
   {
    "duration": 12,
    "start_time": "2022-08-03T10:50:35.533Z"
   },
   {
    "duration": 10,
    "start_time": "2022-08-03T10:50:35.547Z"
   },
   {
    "duration": 8,
    "start_time": "2022-08-03T10:50:35.559Z"
   },
   {
    "duration": 6,
    "start_time": "2022-08-03T10:50:35.570Z"
   },
   {
    "duration": 8,
    "start_time": "2022-08-03T10:50:35.577Z"
   },
   {
    "duration": 19,
    "start_time": "2022-08-03T10:50:35.586Z"
   },
   {
    "duration": 16,
    "start_time": "2022-08-03T10:50:35.606Z"
   },
   {
    "duration": 19,
    "start_time": "2022-08-03T10:50:35.625Z"
   },
   {
    "duration": 8,
    "start_time": "2022-08-03T10:50:35.646Z"
   },
   {
    "duration": 25,
    "start_time": "2022-08-03T10:50:35.668Z"
   },
   {
    "duration": 17,
    "start_time": "2022-08-03T10:50:35.695Z"
   },
   {
    "duration": 31,
    "start_time": "2022-08-03T10:50:35.714Z"
   },
   {
    "duration": 7,
    "start_time": "2022-08-03T10:50:35.746Z"
   },
   {
    "duration": 12,
    "start_time": "2022-08-03T10:50:35.754Z"
   },
   {
    "duration": 14,
    "start_time": "2022-08-03T10:50:35.768Z"
   },
   {
    "duration": 19,
    "start_time": "2022-08-03T10:50:35.783Z"
   },
   {
    "duration": 15,
    "start_time": "2022-08-03T10:50:35.804Z"
   },
   {
    "duration": 350,
    "start_time": "2022-08-03T10:50:35.820Z"
   },
   {
    "duration": 545,
    "start_time": "2022-08-03T10:50:36.171Z"
   },
   {
    "duration": 17,
    "start_time": "2022-08-03T10:50:36.719Z"
   },
   {
    "duration": 3,
    "start_time": "2022-08-03T10:50:36.738Z"
   },
   {
    "duration": 46,
    "start_time": "2022-08-03T10:50:36.745Z"
   },
   {
    "duration": 297,
    "start_time": "2022-08-03T10:50:36.793Z"
   },
   {
    "duration": 15,
    "start_time": "2022-08-03T10:50:37.091Z"
   },
   {
    "duration": 167,
    "start_time": "2022-08-03T10:50:37.107Z"
   },
   {
    "duration": 326,
    "start_time": "2022-08-03T10:50:37.275Z"
   },
   {
    "duration": 15,
    "start_time": "2022-08-03T10:50:37.603Z"
   },
   {
    "duration": 8,
    "start_time": "2022-08-03T10:50:37.620Z"
   },
   {
    "duration": 14,
    "start_time": "2022-08-03T10:50:37.630Z"
   },
   {
    "duration": 360,
    "start_time": "2022-08-03T10:50:37.645Z"
   },
   {
    "duration": 301,
    "start_time": "2022-08-03T10:50:38.007Z"
   },
   {
    "duration": 16,
    "start_time": "2022-08-03T10:50:38.309Z"
   },
   {
    "duration": 170,
    "start_time": "2022-08-03T10:50:38.327Z"
   },
   {
    "duration": 236,
    "start_time": "2022-08-03T10:50:38.499Z"
   },
   {
    "duration": 40,
    "start_time": "2022-08-03T10:50:38.737Z"
   },
   {
    "duration": 6,
    "start_time": "2022-08-03T10:50:38.780Z"
   },
   {
    "duration": 163,
    "start_time": "2022-08-03T10:50:38.788Z"
   },
   {
    "duration": 145,
    "start_time": "2022-08-03T10:50:38.953Z"
   },
   {
    "duration": 6,
    "start_time": "2022-08-03T10:50:39.100Z"
   },
   {
    "duration": 8,
    "start_time": "2022-08-03T10:50:39.107Z"
   },
   {
    "duration": 30,
    "start_time": "2022-08-03T10:50:39.116Z"
   },
   {
    "duration": 26,
    "start_time": "2022-08-03T10:50:39.148Z"
   },
   {
    "duration": 223,
    "start_time": "2022-08-03T10:50:39.176Z"
   },
   {
    "duration": 17,
    "start_time": "2022-08-03T10:50:39.401Z"
   },
   {
    "duration": 4,
    "start_time": "2022-08-03T10:50:39.420Z"
   },
   {
    "duration": 67,
    "start_time": "2022-08-03T10:50:39.426Z"
   },
   {
    "duration": 75,
    "start_time": "2022-08-03T10:50:39.495Z"
   },
   {
    "duration": 41,
    "start_time": "2022-08-03T10:50:39.572Z"
   },
   {
    "duration": 8,
    "start_time": "2022-08-03T10:50:42.558Z"
   },
   {
    "duration": 12,
    "start_time": "2022-08-03T10:51:15.883Z"
   },
   {
    "duration": 10,
    "start_time": "2022-08-03T10:51:23.929Z"
   },
   {
    "duration": 9,
    "start_time": "2022-08-03T10:52:08.028Z"
   },
   {
    "duration": 9,
    "start_time": "2022-08-03T10:52:21.362Z"
   },
   {
    "duration": 113,
    "start_time": "2022-08-03T10:52:35.841Z"
   },
   {
    "duration": 13,
    "start_time": "2022-08-03T10:52:35.956Z"
   },
   {
    "duration": 777,
    "start_time": "2022-08-03T10:52:35.971Z"
   },
   {
    "duration": 4,
    "start_time": "2022-08-03T10:52:36.750Z"
   },
   {
    "duration": 33,
    "start_time": "2022-08-03T10:52:36.756Z"
   },
   {
    "duration": 13,
    "start_time": "2022-08-03T10:52:36.792Z"
   },
   {
    "duration": 7,
    "start_time": "2022-08-03T10:52:36.807Z"
   },
   {
    "duration": 13,
    "start_time": "2022-08-03T10:52:36.816Z"
   },
   {
    "duration": 13,
    "start_time": "2022-08-03T10:52:36.831Z"
   },
   {
    "duration": 17,
    "start_time": "2022-08-03T10:52:36.847Z"
   },
   {
    "duration": 7,
    "start_time": "2022-08-03T10:52:36.866Z"
   },
   {
    "duration": 26,
    "start_time": "2022-08-03T10:52:36.875Z"
   },
   {
    "duration": 20,
    "start_time": "2022-08-03T10:52:36.903Z"
   },
   {
    "duration": 19,
    "start_time": "2022-08-03T10:52:36.925Z"
   },
   {
    "duration": 16,
    "start_time": "2022-08-03T10:52:36.946Z"
   },
   {
    "duration": 125,
    "start_time": "2022-08-03T10:52:36.964Z"
   },
   {
    "duration": 2,
    "start_time": "2022-08-03T10:52:37.091Z"
   },
   {
    "duration": 5,
    "start_time": "2022-08-03T10:52:37.095Z"
   },
   {
    "duration": 5,
    "start_time": "2022-08-03T10:52:37.101Z"
   },
   {
    "duration": 9,
    "start_time": "2022-08-03T10:52:37.107Z"
   },
   {
    "duration": 15,
    "start_time": "2022-08-03T10:52:37.118Z"
   },
   {
    "duration": 47,
    "start_time": "2022-08-03T10:52:37.135Z"
   },
   {
    "duration": 18,
    "start_time": "2022-08-03T10:52:37.183Z"
   },
   {
    "duration": 356,
    "start_time": "2022-08-03T10:52:37.203Z"
   },
   {
    "duration": 466,
    "start_time": "2022-08-03T10:52:37.567Z"
   },
   {
    "duration": 15,
    "start_time": "2022-08-03T10:52:38.035Z"
   },
   {
    "duration": 2,
    "start_time": "2022-08-03T10:52:38.052Z"
   },
   {
    "duration": 7,
    "start_time": "2022-08-03T10:52:38.070Z"
   },
   {
    "duration": 295,
    "start_time": "2022-08-03T10:52:38.079Z"
   },
   {
    "duration": 14,
    "start_time": "2022-08-03T10:52:38.376Z"
   },
   {
    "duration": 169,
    "start_time": "2022-08-03T10:52:38.392Z"
   },
   {
    "duration": 336,
    "start_time": "2022-08-03T10:52:38.562Z"
   },
   {
    "duration": 16,
    "start_time": "2022-08-03T10:52:38.900Z"
   },
   {
    "duration": 34,
    "start_time": "2022-08-03T10:52:38.918Z"
   },
   {
    "duration": 35,
    "start_time": "2022-08-03T10:52:38.954Z"
   },
   {
    "duration": 269,
    "start_time": "2022-08-03T10:52:38.990Z"
   },
   {
    "duration": 296,
    "start_time": "2022-08-03T10:52:39.261Z"
   },
   {
    "duration": 22,
    "start_time": "2022-08-03T10:52:39.558Z"
   },
   {
    "duration": 169,
    "start_time": "2022-08-03T10:52:39.581Z"
   },
   {
    "duration": 329,
    "start_time": "2022-08-03T10:52:39.752Z"
   },
   {
    "duration": 27,
    "start_time": "2022-08-03T10:52:40.082Z"
   },
   {
    "duration": 6,
    "start_time": "2022-08-03T10:52:40.111Z"
   },
   {
    "duration": 168,
    "start_time": "2022-08-03T10:52:40.119Z"
   },
   {
    "duration": 163,
    "start_time": "2022-08-03T10:52:40.290Z"
   },
   {
    "duration": 14,
    "start_time": "2022-08-03T10:52:40.455Z"
   },
   {
    "duration": 5,
    "start_time": "2022-08-03T10:52:40.470Z"
   },
   {
    "duration": 32,
    "start_time": "2022-08-03T10:52:40.477Z"
   },
   {
    "duration": 10,
    "start_time": "2022-08-03T10:52:40.510Z"
   },
   {
    "duration": 245,
    "start_time": "2022-08-03T10:52:40.522Z"
   },
   {
    "duration": 17,
    "start_time": "2022-08-03T10:52:40.769Z"
   },
   {
    "duration": 5,
    "start_time": "2022-08-03T10:52:40.787Z"
   },
   {
    "duration": 79,
    "start_time": "2022-08-03T10:52:40.794Z"
   },
   {
    "duration": 46,
    "start_time": "2022-08-03T10:52:40.875Z"
   },
   {
    "duration": 79,
    "start_time": "2022-08-03T10:52:40.923Z"
   },
   {
    "duration": 5,
    "start_time": "2022-08-03T10:52:43.869Z"
   },
   {
    "duration": 6,
    "start_time": "2022-08-03T10:52:51.930Z"
   },
   {
    "duration": 10,
    "start_time": "2022-08-03T10:52:57.166Z"
   },
   {
    "duration": 9,
    "start_time": "2022-08-03T10:53:06.041Z"
   },
   {
    "duration": 72,
    "start_time": "2022-08-03T10:53:20.629Z"
   },
   {
    "duration": 917,
    "start_time": "2022-08-03T10:53:26.865Z"
   },
   {
    "duration": 103,
    "start_time": "2022-08-03T10:53:56.774Z"
   },
   {
    "duration": 15,
    "start_time": "2022-08-03T10:53:56.879Z"
   },
   {
    "duration": 816,
    "start_time": "2022-08-03T10:53:56.895Z"
   },
   {
    "duration": 4,
    "start_time": "2022-08-03T10:53:57.713Z"
   },
   {
    "duration": 12,
    "start_time": "2022-08-03T10:53:57.720Z"
   },
   {
    "duration": 6,
    "start_time": "2022-08-03T10:53:57.734Z"
   },
   {
    "duration": 27,
    "start_time": "2022-08-03T10:53:57.742Z"
   },
   {
    "duration": 8,
    "start_time": "2022-08-03T10:53:57.771Z"
   },
   {
    "duration": 6,
    "start_time": "2022-08-03T10:53:57.781Z"
   },
   {
    "duration": 12,
    "start_time": "2022-08-03T10:53:57.789Z"
   },
   {
    "duration": 12,
    "start_time": "2022-08-03T10:53:57.803Z"
   },
   {
    "duration": 18,
    "start_time": "2022-08-03T10:53:57.816Z"
   },
   {
    "duration": 36,
    "start_time": "2022-08-03T10:53:57.837Z"
   },
   {
    "duration": 9,
    "start_time": "2022-08-03T10:53:57.877Z"
   },
   {
    "duration": 3,
    "start_time": "2022-08-03T10:53:57.887Z"
   },
   {
    "duration": 28,
    "start_time": "2022-08-03T10:53:57.892Z"
   },
   {
    "duration": 5,
    "start_time": "2022-08-03T10:53:57.922Z"
   },
   {
    "duration": 8,
    "start_time": "2022-08-03T10:53:57.929Z"
   },
   {
    "duration": 29,
    "start_time": "2022-08-03T10:53:57.939Z"
   },
   {
    "duration": 12,
    "start_time": "2022-08-03T10:53:57.970Z"
   },
   {
    "duration": 17,
    "start_time": "2022-08-03T10:53:57.984Z"
   },
   {
    "duration": 25,
    "start_time": "2022-08-03T10:53:58.003Z"
   },
   {
    "duration": 48,
    "start_time": "2022-08-03T10:53:58.030Z"
   },
   {
    "duration": 381,
    "start_time": "2022-08-03T10:53:58.079Z"
   },
   {
    "duration": 632,
    "start_time": "2022-08-03T10:53:58.462Z"
   },
   {
    "duration": 16,
    "start_time": "2022-08-03T10:53:59.097Z"
   },
   {
    "duration": 2,
    "start_time": "2022-08-03T10:53:59.116Z"
   },
   {
    "duration": 10,
    "start_time": "2022-08-03T10:53:59.121Z"
   },
   {
    "duration": 330,
    "start_time": "2022-08-03T10:53:59.133Z"
   },
   {
    "duration": 17,
    "start_time": "2022-08-03T10:53:59.468Z"
   },
   {
    "duration": 182,
    "start_time": "2022-08-03T10:53:59.488Z"
   },
   {
    "duration": 321,
    "start_time": "2022-08-03T10:53:59.672Z"
   },
   {
    "duration": 18,
    "start_time": "2022-08-03T10:53:59.995Z"
   },
   {
    "duration": 9,
    "start_time": "2022-08-03T10:54:00.015Z"
   },
   {
    "duration": 42,
    "start_time": "2022-08-03T10:54:00.027Z"
   },
   {
    "duration": 255,
    "start_time": "2022-08-03T10:54:00.072Z"
   },
   {
    "duration": 311,
    "start_time": "2022-08-03T10:54:00.329Z"
   },
   {
    "duration": 26,
    "start_time": "2022-08-03T10:54:00.642Z"
   },
   {
    "duration": 176,
    "start_time": "2022-08-03T10:54:00.670Z"
   },
   {
    "duration": 250,
    "start_time": "2022-08-03T10:54:00.848Z"
   },
   {
    "duration": 30,
    "start_time": "2022-08-03T10:54:01.102Z"
   },
   {
    "duration": 5,
    "start_time": "2022-08-03T10:54:01.134Z"
   },
   {
    "duration": 179,
    "start_time": "2022-08-03T10:54:01.141Z"
   },
   {
    "duration": 158,
    "start_time": "2022-08-03T10:54:01.322Z"
   },
   {
    "duration": 7,
    "start_time": "2022-08-03T10:54:01.481Z"
   },
   {
    "duration": 13,
    "start_time": "2022-08-03T10:54:01.491Z"
   },
   {
    "duration": 52,
    "start_time": "2022-08-03T10:54:01.507Z"
   },
   {
    "duration": 15,
    "start_time": "2022-08-03T10:54:01.569Z"
   },
   {
    "duration": 338,
    "start_time": "2022-08-03T10:54:01.586Z"
   },
   {
    "duration": 17,
    "start_time": "2022-08-03T10:54:01.926Z"
   },
   {
    "duration": 7,
    "start_time": "2022-08-03T10:54:01.944Z"
   },
   {
    "duration": 68,
    "start_time": "2022-08-03T10:54:01.953Z"
   },
   {
    "duration": 65,
    "start_time": "2022-08-03T10:54:02.023Z"
   },
   {
    "duration": 47,
    "start_time": "2022-08-03T10:54:02.089Z"
   },
   {
    "duration": 10,
    "start_time": "2022-08-03T10:54:02.168Z"
   },
   {
    "duration": 9,
    "start_time": "2022-08-03T10:54:04.876Z"
   },
   {
    "duration": 14,
    "start_time": "2022-08-03T10:56:23.438Z"
   },
   {
    "duration": 8,
    "start_time": "2022-08-03T10:56:44.836Z"
   },
   {
    "duration": 93,
    "start_time": "2022-08-03T10:56:52.136Z"
   },
   {
    "duration": 14,
    "start_time": "2022-08-03T10:56:52.231Z"
   },
   {
    "duration": 767,
    "start_time": "2022-08-03T10:56:52.246Z"
   },
   {
    "duration": 3,
    "start_time": "2022-08-03T10:56:53.015Z"
   },
   {
    "duration": 9,
    "start_time": "2022-08-03T10:56:53.020Z"
   },
   {
    "duration": 7,
    "start_time": "2022-08-03T10:56:53.031Z"
   },
   {
    "duration": 8,
    "start_time": "2022-08-03T10:56:53.039Z"
   },
   {
    "duration": 25,
    "start_time": "2022-08-03T10:56:53.048Z"
   },
   {
    "duration": 31,
    "start_time": "2022-08-03T10:56:53.075Z"
   },
   {
    "duration": 8,
    "start_time": "2022-08-03T10:56:53.108Z"
   },
   {
    "duration": 15,
    "start_time": "2022-08-03T10:56:53.117Z"
   },
   {
    "duration": 30,
    "start_time": "2022-08-03T10:56:53.134Z"
   },
   {
    "duration": 16,
    "start_time": "2022-08-03T10:56:53.165Z"
   },
   {
    "duration": 8,
    "start_time": "2022-08-03T10:56:53.183Z"
   },
   {
    "duration": 3,
    "start_time": "2022-08-03T10:56:53.192Z"
   },
   {
    "duration": 27,
    "start_time": "2022-08-03T10:56:53.196Z"
   },
   {
    "duration": 2,
    "start_time": "2022-08-03T10:56:53.225Z"
   },
   {
    "duration": 5,
    "start_time": "2022-08-03T10:56:53.228Z"
   },
   {
    "duration": 33,
    "start_time": "2022-08-03T10:56:53.235Z"
   },
   {
    "duration": 7,
    "start_time": "2022-08-03T10:56:53.270Z"
   },
   {
    "duration": 16,
    "start_time": "2022-08-03T10:56:53.279Z"
   },
   {
    "duration": 20,
    "start_time": "2022-08-03T10:56:53.297Z"
   },
   {
    "duration": 15,
    "start_time": "2022-08-03T10:56:53.318Z"
   },
   {
    "duration": 388,
    "start_time": "2022-08-03T10:56:53.335Z"
   },
   {
    "duration": 458,
    "start_time": "2022-08-03T10:56:53.725Z"
   },
   {
    "duration": 14,
    "start_time": "2022-08-03T10:56:54.185Z"
   },
   {
    "duration": 2,
    "start_time": "2022-08-03T10:56:54.201Z"
   },
   {
    "duration": 10,
    "start_time": "2022-08-03T10:56:54.205Z"
   },
   {
    "duration": 288,
    "start_time": "2022-08-03T10:56:54.216Z"
   },
   {
    "duration": 13,
    "start_time": "2022-08-03T10:56:54.506Z"
   },
   {
    "duration": 168,
    "start_time": "2022-08-03T10:56:54.521Z"
   },
   {
    "duration": 400,
    "start_time": "2022-08-03T10:56:54.691Z"
   },
   {
    "duration": 15,
    "start_time": "2022-08-03T10:56:55.092Z"
   },
   {
    "duration": 8,
    "start_time": "2022-08-03T10:56:55.109Z"
   },
   {
    "duration": 12,
    "start_time": "2022-08-03T10:56:55.119Z"
   },
   {
    "duration": 239,
    "start_time": "2022-08-03T10:56:55.133Z"
   },
   {
    "duration": 308,
    "start_time": "2022-08-03T10:56:55.374Z"
   },
   {
    "duration": 17,
    "start_time": "2022-08-03T10:56:55.684Z"
   },
   {
    "duration": 209,
    "start_time": "2022-08-03T10:56:55.703Z"
   },
   {
    "duration": 218,
    "start_time": "2022-08-03T10:56:55.914Z"
   },
   {
    "duration": 33,
    "start_time": "2022-08-03T10:56:56.135Z"
   },
   {
    "duration": 5,
    "start_time": "2022-08-03T10:56:56.170Z"
   },
   {
    "duration": 142,
    "start_time": "2022-08-03T10:56:56.176Z"
   },
   {
    "duration": 137,
    "start_time": "2022-08-03T10:56:56.319Z"
   },
   {
    "duration": 16,
    "start_time": "2022-08-03T10:56:56.458Z"
   },
   {
    "duration": 9,
    "start_time": "2022-08-03T10:56:56.480Z"
   },
   {
    "duration": 42,
    "start_time": "2022-08-03T10:56:56.491Z"
   },
   {
    "duration": 15,
    "start_time": "2022-08-03T10:56:56.535Z"
   },
   {
    "duration": 265,
    "start_time": "2022-08-03T10:56:56.551Z"
   },
   {
    "duration": 15,
    "start_time": "2022-08-03T10:56:56.818Z"
   },
   {
    "duration": 4,
    "start_time": "2022-08-03T10:56:56.835Z"
   },
   {
    "duration": 56,
    "start_time": "2022-08-03T10:56:56.840Z"
   },
   {
    "duration": 39,
    "start_time": "2022-08-03T10:56:56.897Z"
   },
   {
    "duration": 43,
    "start_time": "2022-08-03T10:56:56.967Z"
   },
   {
    "duration": 7,
    "start_time": "2022-08-03T10:56:57.012Z"
   },
   {
    "duration": 10,
    "start_time": "2022-08-03T10:57:00.033Z"
   },
   {
    "duration": 11,
    "start_time": "2022-08-03T10:57:13.939Z"
   },
   {
    "duration": 93,
    "start_time": "2022-08-03T10:58:04.741Z"
   },
   {
    "duration": 14,
    "start_time": "2022-08-03T10:58:04.837Z"
   },
   {
    "duration": 875,
    "start_time": "2022-08-03T10:58:04.853Z"
   },
   {
    "duration": 4,
    "start_time": "2022-08-03T10:58:05.730Z"
   },
   {
    "duration": 36,
    "start_time": "2022-08-03T10:58:05.735Z"
   },
   {
    "duration": 64,
    "start_time": "2022-08-03T10:58:05.773Z"
   },
   {
    "duration": 13,
    "start_time": "2022-08-03T10:58:05.839Z"
   },
   {
    "duration": 17,
    "start_time": "2022-08-03T10:58:05.854Z"
   },
   {
    "duration": 7,
    "start_time": "2022-08-03T10:58:05.873Z"
   },
   {
    "duration": 18,
    "start_time": "2022-08-03T10:58:05.883Z"
   },
   {
    "duration": 10,
    "start_time": "2022-08-03T10:58:05.903Z"
   },
   {
    "duration": 23,
    "start_time": "2022-08-03T10:58:05.915Z"
   },
   {
    "duration": 17,
    "start_time": "2022-08-03T10:58:05.940Z"
   },
   {
    "duration": 11,
    "start_time": "2022-08-03T10:58:05.967Z"
   },
   {
    "duration": 5,
    "start_time": "2022-08-03T10:58:05.979Z"
   },
   {
    "duration": 36,
    "start_time": "2022-08-03T10:58:05.986Z"
   },
   {
    "duration": 9,
    "start_time": "2022-08-03T10:58:06.024Z"
   },
   {
    "duration": 5,
    "start_time": "2022-08-03T10:58:06.035Z"
   },
   {
    "duration": 6,
    "start_time": "2022-08-03T10:58:06.042Z"
   },
   {
    "duration": 20,
    "start_time": "2022-08-03T10:58:06.049Z"
   },
   {
    "duration": 16,
    "start_time": "2022-08-03T10:58:06.071Z"
   },
   {
    "duration": 23,
    "start_time": "2022-08-03T10:58:06.089Z"
   },
   {
    "duration": 17,
    "start_time": "2022-08-03T10:58:06.114Z"
   },
   {
    "duration": 417,
    "start_time": "2022-08-03T10:58:06.132Z"
   },
   {
    "duration": 566,
    "start_time": "2022-08-03T10:58:06.552Z"
   },
   {
    "duration": 15,
    "start_time": "2022-08-03T10:58:07.120Z"
   },
   {
    "duration": 2,
    "start_time": "2022-08-03T10:58:07.138Z"
   },
   {
    "duration": 29,
    "start_time": "2022-08-03T10:58:07.145Z"
   },
   {
    "duration": 303,
    "start_time": "2022-08-03T10:58:07.176Z"
   },
   {
    "duration": 16,
    "start_time": "2022-08-03T10:58:07.482Z"
   },
   {
    "duration": 179,
    "start_time": "2022-08-03T10:58:07.499Z"
   },
   {
    "duration": 308,
    "start_time": "2022-08-03T10:58:07.680Z"
   },
   {
    "duration": 14,
    "start_time": "2022-08-03T10:58:07.990Z"
   },
   {
    "duration": 9,
    "start_time": "2022-08-03T10:58:08.006Z"
   },
   {
    "duration": 14,
    "start_time": "2022-08-03T10:58:08.016Z"
   },
   {
    "duration": 271,
    "start_time": "2022-08-03T10:58:08.032Z"
   },
   {
    "duration": 414,
    "start_time": "2022-08-03T10:58:08.305Z"
   },
   {
    "duration": 17,
    "start_time": "2022-08-03T10:58:08.721Z"
   },
   {
    "duration": 193,
    "start_time": "2022-08-03T10:58:08.740Z"
   },
   {
    "duration": 226,
    "start_time": "2022-08-03T10:58:08.934Z"
   },
   {
    "duration": 34,
    "start_time": "2022-08-03T10:58:09.162Z"
   },
   {
    "duration": 6,
    "start_time": "2022-08-03T10:58:09.198Z"
   },
   {
    "duration": 171,
    "start_time": "2022-08-03T10:58:09.206Z"
   },
   {
    "duration": 150,
    "start_time": "2022-08-03T10:58:09.379Z"
   },
   {
    "duration": 7,
    "start_time": "2022-08-03T10:58:09.532Z"
   },
   {
    "duration": 9,
    "start_time": "2022-08-03T10:58:09.541Z"
   },
   {
    "duration": 45,
    "start_time": "2022-08-03T10:58:09.552Z"
   },
   {
    "duration": 11,
    "start_time": "2022-08-03T10:58:09.599Z"
   },
   {
    "duration": 237,
    "start_time": "2022-08-03T10:58:09.611Z"
   },
   {
    "duration": 26,
    "start_time": "2022-08-03T10:58:09.849Z"
   },
   {
    "duration": 6,
    "start_time": "2022-08-03T10:58:09.877Z"
   },
   {
    "duration": 49,
    "start_time": "2022-08-03T10:58:09.885Z"
   },
   {
    "duration": 72,
    "start_time": "2022-08-03T10:58:09.936Z"
   },
   {
    "duration": 78,
    "start_time": "2022-08-03T10:58:10.009Z"
   },
   {
    "duration": 8,
    "start_time": "2022-08-03T10:58:12.689Z"
   },
   {
    "duration": 9,
    "start_time": "2022-08-03T11:00:39.230Z"
   },
   {
    "duration": 7,
    "start_time": "2022-08-03T11:00:51.139Z"
   },
   {
    "duration": 11,
    "start_time": "2022-08-03T11:01:01.531Z"
   },
   {
    "duration": 9,
    "start_time": "2022-08-03T11:01:05.568Z"
   },
   {
    "duration": 12,
    "start_time": "2022-08-03T11:01:26.599Z"
   },
   {
    "duration": 7,
    "start_time": "2022-08-03T11:02:47.138Z"
   },
   {
    "duration": 100,
    "start_time": "2022-08-03T11:03:15.543Z"
   },
   {
    "duration": 14,
    "start_time": "2022-08-03T11:03:15.645Z"
   },
   {
    "duration": 752,
    "start_time": "2022-08-03T11:03:15.660Z"
   },
   {
    "duration": 4,
    "start_time": "2022-08-03T11:03:16.414Z"
   },
   {
    "duration": 6,
    "start_time": "2022-08-03T11:03:16.420Z"
   },
   {
    "duration": 8,
    "start_time": "2022-08-03T11:03:16.427Z"
   },
   {
    "duration": 6,
    "start_time": "2022-08-03T11:03:16.437Z"
   },
   {
    "duration": 34,
    "start_time": "2022-08-03T11:03:16.445Z"
   },
   {
    "duration": 17,
    "start_time": "2022-08-03T11:03:16.481Z"
   },
   {
    "duration": 7,
    "start_time": "2022-08-03T11:03:16.501Z"
   },
   {
    "duration": 11,
    "start_time": "2022-08-03T11:03:16.510Z"
   },
   {
    "duration": 30,
    "start_time": "2022-08-03T11:03:16.524Z"
   },
   {
    "duration": 29,
    "start_time": "2022-08-03T11:03:16.557Z"
   },
   {
    "duration": 9,
    "start_time": "2022-08-03T11:03:16.591Z"
   },
   {
    "duration": 5,
    "start_time": "2022-08-03T11:03:16.603Z"
   },
   {
    "duration": 60,
    "start_time": "2022-08-03T11:03:16.610Z"
   },
   {
    "duration": 5,
    "start_time": "2022-08-03T11:03:16.672Z"
   },
   {
    "duration": 12,
    "start_time": "2022-08-03T11:03:16.679Z"
   },
   {
    "duration": 7,
    "start_time": "2022-08-03T11:03:16.694Z"
   },
   {
    "duration": 16,
    "start_time": "2022-08-03T11:03:16.703Z"
   },
   {
    "duration": 23,
    "start_time": "2022-08-03T11:03:16.721Z"
   },
   {
    "duration": 47,
    "start_time": "2022-08-03T11:03:16.746Z"
   },
   {
    "duration": 23,
    "start_time": "2022-08-03T11:03:16.795Z"
   },
   {
    "duration": 472,
    "start_time": "2022-08-03T11:03:16.820Z"
   },
   {
    "duration": 473,
    "start_time": "2022-08-03T11:03:17.294Z"
   },
   {
    "duration": 14,
    "start_time": "2022-08-03T11:03:17.769Z"
   },
   {
    "duration": 23,
    "start_time": "2022-08-03T11:03:17.785Z"
   },
   {
    "duration": 26,
    "start_time": "2022-08-03T11:03:17.810Z"
   },
   {
    "duration": 308,
    "start_time": "2022-08-03T11:03:17.838Z"
   },
   {
    "duration": 23,
    "start_time": "2022-08-03T11:03:18.148Z"
   },
   {
    "duration": 171,
    "start_time": "2022-08-03T11:03:18.173Z"
   },
   {
    "duration": 313,
    "start_time": "2022-08-03T11:03:18.346Z"
   },
   {
    "duration": 15,
    "start_time": "2022-08-03T11:03:18.668Z"
   },
   {
    "duration": 9,
    "start_time": "2022-08-03T11:03:18.684Z"
   },
   {
    "duration": 15,
    "start_time": "2022-08-03T11:03:18.695Z"
   },
   {
    "duration": 271,
    "start_time": "2022-08-03T11:03:18.712Z"
   },
   {
    "duration": 316,
    "start_time": "2022-08-03T11:03:18.984Z"
   },
   {
    "duration": 17,
    "start_time": "2022-08-03T11:03:19.301Z"
   },
   {
    "duration": 187,
    "start_time": "2022-08-03T11:03:19.320Z"
   },
   {
    "duration": 227,
    "start_time": "2022-08-03T11:03:19.510Z"
   },
   {
    "duration": 32,
    "start_time": "2022-08-03T11:03:19.741Z"
   },
   {
    "duration": 5,
    "start_time": "2022-08-03T11:03:19.775Z"
   },
   {
    "duration": 270,
    "start_time": "2022-08-03T11:03:19.782Z"
   },
   {
    "duration": 140,
    "start_time": "2022-08-03T11:03:20.053Z"
   },
   {
    "duration": 7,
    "start_time": "2022-08-03T11:03:20.194Z"
   },
   {
    "duration": 9,
    "start_time": "2022-08-03T11:03:20.202Z"
   },
   {
    "duration": 30,
    "start_time": "2022-08-03T11:03:20.213Z"
   },
   {
    "duration": 29,
    "start_time": "2022-08-03T11:03:20.245Z"
   },
   {
    "duration": 220,
    "start_time": "2022-08-03T11:03:20.276Z"
   },
   {
    "duration": 17,
    "start_time": "2022-08-03T11:03:20.497Z"
   },
   {
    "duration": 5,
    "start_time": "2022-08-03T11:03:20.516Z"
   },
   {
    "duration": 70,
    "start_time": "2022-08-03T11:03:20.523Z"
   },
   {
    "duration": 41,
    "start_time": "2022-08-03T11:03:20.594Z"
   },
   {
    "duration": 45,
    "start_time": "2022-08-03T11:03:20.668Z"
   },
   {
    "duration": 47,
    "start_time": "2022-08-03T11:04:33.039Z"
   },
   {
    "duration": 21,
    "start_time": "2022-08-03T11:05:02.985Z"
   },
   {
    "duration": 6,
    "start_time": "2022-08-03T11:22:30.589Z"
   },
   {
    "duration": 39,
    "start_time": "2022-08-03T11:23:26.834Z"
   },
   {
    "duration": 8,
    "start_time": "2022-08-03T11:24:27.052Z"
   },
   {
    "duration": 48,
    "start_time": "2022-08-03T11:24:29.330Z"
   },
   {
    "duration": 41,
    "start_time": "2022-08-03T11:34:45.621Z"
   },
   {
    "duration": 74,
    "start_time": "2022-08-03T11:41:32.924Z"
   },
   {
    "duration": 14,
    "start_time": "2022-08-03T11:41:40.172Z"
   },
   {
    "duration": 71,
    "start_time": "2022-08-03T11:41:55.576Z"
   },
   {
    "duration": 12,
    "start_time": "2022-08-03T11:42:11.117Z"
   },
   {
    "duration": 11,
    "start_time": "2022-08-03T11:42:25.082Z"
   },
   {
    "duration": 13,
    "start_time": "2022-08-03T11:42:54.116Z"
   },
   {
    "duration": 13,
    "start_time": "2022-08-03T11:43:02.560Z"
   },
   {
    "duration": 78,
    "start_time": "2022-08-03T11:43:48.972Z"
   },
   {
    "duration": 16,
    "start_time": "2022-08-03T11:43:55.216Z"
   },
   {
    "duration": 17,
    "start_time": "2022-08-03T11:44:01.820Z"
   },
   {
    "duration": 19,
    "start_time": "2022-08-03T11:44:24.452Z"
   },
   {
    "duration": 106,
    "start_time": "2022-08-03T11:44:32.021Z"
   },
   {
    "duration": 15,
    "start_time": "2022-08-03T11:44:32.129Z"
   },
   {
    "duration": 789,
    "start_time": "2022-08-03T11:44:32.146Z"
   },
   {
    "duration": 4,
    "start_time": "2022-08-03T11:44:32.937Z"
   },
   {
    "duration": 21,
    "start_time": "2022-08-03T11:44:32.943Z"
   },
   {
    "duration": 22,
    "start_time": "2022-08-03T11:44:32.967Z"
   },
   {
    "duration": 27,
    "start_time": "2022-08-03T11:44:32.991Z"
   },
   {
    "duration": 28,
    "start_time": "2022-08-03T11:44:33.020Z"
   },
   {
    "duration": 21,
    "start_time": "2022-08-03T11:44:33.050Z"
   },
   {
    "duration": 28,
    "start_time": "2022-08-03T11:44:33.073Z"
   },
   {
    "duration": 16,
    "start_time": "2022-08-03T11:44:33.102Z"
   },
   {
    "duration": 28,
    "start_time": "2022-08-03T11:44:33.120Z"
   },
   {
    "duration": 22,
    "start_time": "2022-08-03T11:44:33.150Z"
   },
   {
    "duration": 11,
    "start_time": "2022-08-03T11:44:33.174Z"
   },
   {
    "duration": 29,
    "start_time": "2022-08-03T11:44:33.186Z"
   },
   {
    "duration": 47,
    "start_time": "2022-08-03T11:44:33.217Z"
   },
   {
    "duration": 8,
    "start_time": "2022-08-03T11:44:33.265Z"
   },
   {
    "duration": 22,
    "start_time": "2022-08-03T11:44:33.275Z"
   },
   {
    "duration": 20,
    "start_time": "2022-08-03T11:44:33.299Z"
   },
   {
    "duration": 13,
    "start_time": "2022-08-03T11:44:33.321Z"
   },
   {
    "duration": 17,
    "start_time": "2022-08-03T11:44:33.335Z"
   },
   {
    "duration": 32,
    "start_time": "2022-08-03T11:44:33.354Z"
   },
   {
    "duration": 16,
    "start_time": "2022-08-03T11:44:33.388Z"
   },
   {
    "duration": 348,
    "start_time": "2022-08-03T11:44:33.405Z"
   },
   {
    "duration": 485,
    "start_time": "2022-08-03T11:44:33.754Z"
   },
   {
    "duration": 16,
    "start_time": "2022-08-03T11:44:34.240Z"
   },
   {
    "duration": 11,
    "start_time": "2022-08-03T11:44:34.257Z"
   },
   {
    "duration": 33,
    "start_time": "2022-08-03T11:44:34.270Z"
   },
   {
    "duration": 412,
    "start_time": "2022-08-03T11:44:34.304Z"
   },
   {
    "duration": 15,
    "start_time": "2022-08-03T11:44:34.718Z"
   },
   {
    "duration": 181,
    "start_time": "2022-08-03T11:44:34.734Z"
   },
   {
    "duration": 329,
    "start_time": "2022-08-03T11:44:34.918Z"
   },
   {
    "duration": 19,
    "start_time": "2022-08-03T11:44:35.249Z"
   },
   {
    "duration": 13,
    "start_time": "2022-08-03T11:44:35.270Z"
   },
   {
    "duration": 54,
    "start_time": "2022-08-03T11:44:35.285Z"
   },
   {
    "duration": 269,
    "start_time": "2022-08-03T11:44:35.341Z"
   },
   {
    "duration": 302,
    "start_time": "2022-08-03T11:44:35.612Z"
   },
   {
    "duration": 15,
    "start_time": "2022-08-03T11:44:35.915Z"
   },
   {
    "duration": 169,
    "start_time": "2022-08-03T11:44:35.932Z"
   },
   {
    "duration": 222,
    "start_time": "2022-08-03T11:44:36.103Z"
   },
   {
    "duration": 40,
    "start_time": "2022-08-03T11:44:36.329Z"
   },
   {
    "duration": 7,
    "start_time": "2022-08-03T11:44:36.371Z"
   },
   {
    "duration": 190,
    "start_time": "2022-08-03T11:44:36.380Z"
   },
   {
    "duration": 176,
    "start_time": "2022-08-03T11:44:36.572Z"
   },
   {
    "duration": 6,
    "start_time": "2022-08-03T11:44:36.750Z"
   },
   {
    "duration": 2,
    "start_time": "2022-08-03T11:44:36.768Z"
   },
   {
    "duration": 40,
    "start_time": "2022-08-03T11:44:36.773Z"
   },
   {
    "duration": 15,
    "start_time": "2022-08-03T11:44:36.815Z"
   },
   {
    "duration": 243,
    "start_time": "2022-08-03T11:44:36.831Z"
   },
   {
    "duration": 15,
    "start_time": "2022-08-03T11:44:37.076Z"
   },
   {
    "duration": 13,
    "start_time": "2022-08-03T11:44:37.092Z"
   },
   {
    "duration": 73,
    "start_time": "2022-08-03T11:44:37.106Z"
   },
   {
    "duration": 41,
    "start_time": "2022-08-03T11:44:37.180Z"
   },
   {
    "duration": 176,
    "start_time": "2022-08-03T11:44:37.223Z"
   },
   {
    "duration": 16,
    "start_time": "2022-08-03T11:44:39.033Z"
   },
   {
    "duration": 17,
    "start_time": "2022-08-03T11:45:03.619Z"
   },
   {
    "duration": 29,
    "start_time": "2022-08-03T11:45:19.216Z"
   },
   {
    "duration": 56,
    "start_time": "2022-08-03T11:46:01.439Z"
   },
   {
    "duration": 49,
    "start_time": "2022-08-03T11:46:56.613Z"
   },
   {
    "duration": 208,
    "start_time": "2022-08-03T11:50:22.131Z"
   },
   {
    "duration": 6,
    "start_time": "2022-08-03T11:50:59.959Z"
   },
   {
    "duration": 44,
    "start_time": "2022-08-03T11:51:04.350Z"
   },
   {
    "duration": 1302,
    "start_time": "2022-08-03T12:09:05.834Z"
   },
   {
    "duration": 15,
    "start_time": "2022-08-03T12:09:07.138Z"
   },
   {
    "duration": 703,
    "start_time": "2022-08-03T12:09:07.155Z"
   },
   {
    "duration": 9,
    "start_time": "2022-08-03T12:09:07.860Z"
   },
   {
    "duration": 5,
    "start_time": "2022-08-03T12:09:07.872Z"
   },
   {
    "duration": 7,
    "start_time": "2022-08-03T12:09:07.879Z"
   },
   {
    "duration": 8,
    "start_time": "2022-08-03T12:09:07.887Z"
   },
   {
    "duration": 11,
    "start_time": "2022-08-03T12:09:07.897Z"
   },
   {
    "duration": 6,
    "start_time": "2022-08-03T12:09:07.909Z"
   },
   {
    "duration": 5,
    "start_time": "2022-08-03T12:09:07.917Z"
   },
   {
    "duration": 6,
    "start_time": "2022-08-03T12:09:07.923Z"
   },
   {
    "duration": 43,
    "start_time": "2022-08-03T12:09:07.930Z"
   },
   {
    "duration": 16,
    "start_time": "2022-08-03T12:09:07.975Z"
   },
   {
    "duration": 8,
    "start_time": "2022-08-03T12:09:07.994Z"
   },
   {
    "duration": 2,
    "start_time": "2022-08-03T12:09:08.004Z"
   },
   {
    "duration": 28,
    "start_time": "2022-08-03T12:09:08.008Z"
   },
   {
    "duration": 31,
    "start_time": "2022-08-03T12:09:08.037Z"
   },
   {
    "duration": 3,
    "start_time": "2022-08-03T12:09:08.069Z"
   },
   {
    "duration": 5,
    "start_time": "2022-08-03T12:09:08.074Z"
   },
   {
    "duration": 11,
    "start_time": "2022-08-03T12:09:08.081Z"
   },
   {
    "duration": 18,
    "start_time": "2022-08-03T12:09:08.093Z"
   },
   {
    "duration": 21,
    "start_time": "2022-08-03T12:09:08.113Z"
   },
   {
    "duration": 44,
    "start_time": "2022-08-03T12:09:08.136Z"
   },
   {
    "duration": 358,
    "start_time": "2022-08-03T12:09:08.182Z"
   },
   {
    "duration": 522,
    "start_time": "2022-08-03T12:09:08.542Z"
   },
   {
    "duration": 17,
    "start_time": "2022-08-03T12:09:09.068Z"
   },
   {
    "duration": 3,
    "start_time": "2022-08-03T12:09:09.086Z"
   },
   {
    "duration": 11,
    "start_time": "2022-08-03T12:09:09.090Z"
   },
   {
    "duration": 321,
    "start_time": "2022-08-03T12:09:09.103Z"
   },
   {
    "duration": 15,
    "start_time": "2022-08-03T12:09:09.426Z"
   },
   {
    "duration": 260,
    "start_time": "2022-08-03T12:09:09.443Z"
   },
   {
    "duration": 375,
    "start_time": "2022-08-03T12:09:09.705Z"
   },
   {
    "duration": 16,
    "start_time": "2022-08-03T12:09:10.081Z"
   },
   {
    "duration": 10,
    "start_time": "2022-08-03T12:09:10.099Z"
   },
   {
    "duration": 17,
    "start_time": "2022-08-03T12:09:10.110Z"
   },
   {
    "duration": 297,
    "start_time": "2022-08-03T12:09:10.129Z"
   },
   {
    "duration": 341,
    "start_time": "2022-08-03T12:09:10.428Z"
   },
   {
    "duration": 17,
    "start_time": "2022-08-03T12:09:10.771Z"
   },
   {
    "duration": 189,
    "start_time": "2022-08-03T12:09:10.789Z"
   },
   {
    "duration": 244,
    "start_time": "2022-08-03T12:09:10.981Z"
   },
   {
    "duration": 40,
    "start_time": "2022-08-03T12:09:11.229Z"
   },
   {
    "duration": 7,
    "start_time": "2022-08-03T12:09:11.270Z"
   },
   {
    "duration": 167,
    "start_time": "2022-08-03T12:09:11.279Z"
   },
   {
    "duration": 161,
    "start_time": "2022-08-03T12:09:11.448Z"
   },
   {
    "duration": 6,
    "start_time": "2022-08-03T12:09:11.610Z"
   },
   {
    "duration": 9,
    "start_time": "2022-08-03T12:09:11.617Z"
   },
   {
    "duration": 40,
    "start_time": "2022-08-03T12:09:11.628Z"
   },
   {
    "duration": 10,
    "start_time": "2022-08-03T12:09:11.669Z"
   },
   {
    "duration": 207,
    "start_time": "2022-08-03T12:09:11.681Z"
   },
   {
    "duration": 17,
    "start_time": "2022-08-03T12:09:11.890Z"
   },
   {
    "duration": 4,
    "start_time": "2022-08-03T12:09:11.908Z"
   },
   {
    "duration": 75,
    "start_time": "2022-08-03T12:09:11.914Z"
   },
   {
    "duration": 81,
    "start_time": "2022-08-03T12:09:11.991Z"
   },
   {
    "duration": 50,
    "start_time": "2022-08-03T12:09:12.074Z"
   },
   {
    "duration": 6,
    "start_time": "2022-08-03T12:09:12.127Z"
   },
   {
    "duration": 78,
    "start_time": "2022-08-03T12:09:12.134Z"
   },
   {
    "duration": 10,
    "start_time": "2022-08-03T12:09:12.214Z"
   },
   {
    "duration": 43,
    "start_time": "2022-08-03T12:09:12.225Z"
   }
  ],
  "kernelspec": {
   "display_name": "Python 3 (ipykernel)",
   "language": "python",
   "name": "python3"
  },
  "language_info": {
   "codemirror_mode": {
    "name": "ipython",
    "version": 3
   },
   "file_extension": ".py",
   "mimetype": "text/x-python",
   "name": "python",
   "nbconvert_exporter": "python",
   "pygments_lexer": "ipython3",
   "version": "3.9.12"
  },
  "toc": {
   "base_numbering": 1,
   "nav_menu": {},
   "number_sections": true,
   "sideBar": true,
   "skip_h1_title": true,
   "title_cell": "Содержание",
   "title_sidebar": "Содержание",
   "toc_cell": true,
   "toc_position": {
    "height": "calc(100% - 180px)",
    "left": "10px",
    "top": "150px",
    "width": "283.941px"
   },
   "toc_section_display": true,
   "toc_window_display": true
  }
 },
 "nbformat": 4,
 "nbformat_minor": 5
}
