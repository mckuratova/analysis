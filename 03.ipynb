{
 "cells": [
  {
   "cell_type": "markdown",
   "metadata": {},
   "source": [
    "# Исследование объявлений о продаже квартир\n",
    "\n",
    "В вашем распоряжении данные сервиса Яндекс.Недвижимость — архив объявлений о продаже квартир в Санкт-Петербурге и соседних населённых пунктов за несколько лет. Нужно научиться определять рыночную стоимость объектов недвижимости. Ваша задача — установить параметры. Это позволит построить автоматизированную систему: она отследит аномалии и мошенническую деятельность. \n",
    "\n",
    "По каждой квартире на продажу доступны два вида данных. Первые вписаны пользователем, вторые — получены автоматически на основе картографических данных. Например, расстояние до центра, аэропорта, ближайшего парка и водоёма. "
   ]
  },
  {
   "cell_type": "markdown",
   "metadata": {
    "toc": true
   },
   "source": [
    "<h1>Содержание<span class=\"tocSkip\"></span></h1>\n",
    "<div class=\"toc\"><ul class=\"toc-item\"><li><span><a href=\"#Открытие-файла-с-данными-и-изучение-общей-информации\" data-toc-modified-id=\"Открытие-файла-с-данными-и-изучение-общей-информации-1\"><span class=\"toc-item-num\">1&nbsp;&nbsp;</span>Открытие файла с данными и изучение общей информации</a></span><ul class=\"toc-item\"><li><span><a href=\"#Знакомство-с-данными\" data-toc-modified-id=\"Знакомство-с-данными-1.1\"><span class=\"toc-item-num\">1.1&nbsp;&nbsp;</span>Знакомство с данными</a></span></li><li><span><a href=\"#Визуализация-данных\" data-toc-modified-id=\"Визуализация-данных-1.2\"><span class=\"toc-item-num\">1.2&nbsp;&nbsp;</span>Визуализация данных</a></span></li><li><span><a href=\"#Выводы\" data-toc-modified-id=\"Выводы-1.3\"><span class=\"toc-item-num\">1.3&nbsp;&nbsp;</span>Выводы</a></span></li></ul></li><li><span><a href=\"#Предобработка-данных\" data-toc-modified-id=\"Предобработка-данных-2\"><span class=\"toc-item-num\">2&nbsp;&nbsp;</span>Предобработка данных</a></span><ul class=\"toc-item\"><li><span><a href=\"#Поиск-пропущенных-значений-в-столбцах\" data-toc-modified-id=\"Поиск-пропущенных-значений-в-столбцах-2.1\"><span class=\"toc-item-num\">2.1&nbsp;&nbsp;</span>Поиск пропущенных значений в столбцах</a></span></li><li><span><a href=\"#Обработка-пропущенных-значений-в-столбцах\" data-toc-modified-id=\"Обработка-пропущенных-значений-в-столбцах-2.2\"><span class=\"toc-item-num\">2.2&nbsp;&nbsp;</span>Обработка пропущенных значений в столбцах</a></span></li><li><span><a href=\"#Поиск-столбцов,-для-которых-нужно-изменить-тип-данных\" data-toc-modified-id=\"Поиск-столбцов,-для-которых-нужно-изменить-тип-данных-2.3\"><span class=\"toc-item-num\">2.3&nbsp;&nbsp;</span>Поиск столбцов, для которых нужно изменить тип данных</a></span></li><li><span><a href=\"#Поиск-и-устранение-дубликатов-в-столбце-locality_name\" data-toc-modified-id=\"Поиск-и-устранение-дубликатов-в-столбце-locality_name-2.4\"><span class=\"toc-item-num\">2.4&nbsp;&nbsp;</span>Поиск и устранение дубликатов в столбце locality_name</a></span></li><li><span><a href=\"#Поиск-и-устранение-редких-и-выбивающихся-значений\" data-toc-modified-id=\"Поиск-и-устранение-редких-и-выбивающихся-значений-2.5\"><span class=\"toc-item-num\">2.5&nbsp;&nbsp;</span>Поиск и устранение редких и выбивающихся значений</a></span><ul class=\"toc-item\"><li><span><a href=\"#last_price\" data-toc-modified-id=\"last_price-2.5.1\"><span class=\"toc-item-num\">2.5.1&nbsp;&nbsp;</span>last_price</a></span></li><li><span><a href=\"#total_area\" data-toc-modified-id=\"total_area-2.5.2\"><span class=\"toc-item-num\">2.5.2&nbsp;&nbsp;</span>total_area</a></span></li><li><span><a href=\"#rooms\" data-toc-modified-id=\"rooms-2.5.3\"><span class=\"toc-item-num\">2.5.3&nbsp;&nbsp;</span>rooms</a></span></li><li><span><a href=\"#ceiling_height\" data-toc-modified-id=\"ceiling_height-2.5.4\"><span class=\"toc-item-num\">2.5.4&nbsp;&nbsp;</span>ceiling_height</a></span></li><li><span><a href=\"#kitchen_area\" data-toc-modified-id=\"kitchen_area-2.5.5\"><span class=\"toc-item-num\">2.5.5&nbsp;&nbsp;</span>kitchen_area</a></span></li><li><span><a href=\"#Выводы\" data-toc-modified-id=\"Выводы-2.5.6\"><span class=\"toc-item-num\">2.5.6&nbsp;&nbsp;</span>Выводы</a></span></li></ul></li><li><span><a href=\"#Добавление-в-таблицу-новых-столбцов\" data-toc-modified-id=\"Добавление-в-таблицу-новых-столбцов-2.6\"><span class=\"toc-item-num\">2.6&nbsp;&nbsp;</span>Добавление в таблицу новых столбцов</a></span><ul class=\"toc-item\"><li><span><a href=\"#Цена-одного-квадратного-метра\" data-toc-modified-id=\"Цена-одного-квадратного-метра-2.6.1\"><span class=\"toc-item-num\">2.6.1&nbsp;&nbsp;</span>Цена одного квадратного метра</a></span></li><li><span><a href=\"#День-недели-публикации-объявления\" data-toc-modified-id=\"День-недели-публикации-объявления-2.6.2\"><span class=\"toc-item-num\">2.6.2&nbsp;&nbsp;</span>День недели публикации объявления</a></span></li><li><span><a href=\"#Месяц-публикации-объявления\" data-toc-modified-id=\"Месяц-публикации-объявления-2.6.3\"><span class=\"toc-item-num\">2.6.3&nbsp;&nbsp;</span>Месяц публикации объявления</a></span></li><li><span><a href=\"#Год-публикации-объявления\" data-toc-modified-id=\"Год-публикации-объявления-2.6.4\"><span class=\"toc-item-num\">2.6.4&nbsp;&nbsp;</span>Год публикации объявления</a></span></li><li><span><a href=\"#Тип-этажа-квартиры\" data-toc-modified-id=\"Тип-этажа-квартиры-2.6.5\"><span class=\"toc-item-num\">2.6.5&nbsp;&nbsp;</span>Тип этажа квартиры</a></span></li><li><span><a href=\"#Расстояние-до-центра-города-в-километрах\" data-toc-modified-id=\"Расстояние-до-центра-города-в-километрах-2.6.6\"><span class=\"toc-item-num\">2.6.6&nbsp;&nbsp;</span>Расстояние до центра города в километрах</a></span></li></ul></li></ul></li><li><span><a href=\"#Исследовательский-анализ-данных\" data-toc-modified-id=\"Исследовательский-анализ-данных-3\"><span class=\"toc-item-num\">3&nbsp;&nbsp;</span>Исследовательский анализ данных</a></span><ul class=\"toc-item\"><li><span><a href=\"#Исследование-параметров-объекта\" data-toc-modified-id=\"Исследование-параметров-объекта-3.1\"><span class=\"toc-item-num\">3.1&nbsp;&nbsp;</span>Исследование параметров объекта</a></span><ul class=\"toc-item\"><li><span><a href=\"#Общая-площадь-(total_area)\" data-toc-modified-id=\"Общая-площадь-(total_area)-3.1.1\"><span class=\"toc-item-num\">3.1.1&nbsp;&nbsp;</span>Общая площадь (total_area)</a></span></li><li><span><a href=\"#Жилая-площадь-(living_area)\" data-toc-modified-id=\"Жилая-площадь-(living_area)-3.1.2\"><span class=\"toc-item-num\">3.1.2&nbsp;&nbsp;</span>Жилая площадь (living_area)</a></span></li><li><span><a href=\"#Площадь-кухни-(kitchen_area)\" data-toc-modified-id=\"Площадь-кухни-(kitchen_area)-3.1.3\"><span class=\"toc-item-num\">3.1.3&nbsp;&nbsp;</span>Площадь кухни (kitchen_area)</a></span></li><li><span><a href=\"#Цена-объекта\" data-toc-modified-id=\"Цена-объекта-3.1.4\"><span class=\"toc-item-num\">3.1.4&nbsp;&nbsp;</span>Цена объекта</a></span></li><li><span><a href=\"#Количество-комнат\" data-toc-modified-id=\"Количество-комнат-3.1.5\"><span class=\"toc-item-num\">3.1.5&nbsp;&nbsp;</span>Количество комнат</a></span></li><li><span><a href=\"#Высота-потолков\" data-toc-modified-id=\"Высота-потолков-3.1.6\"><span class=\"toc-item-num\">3.1.6&nbsp;&nbsp;</span>Высота потолков</a></span></li><li><span><a href=\"#Этаж-квартиры\" data-toc-modified-id=\"Этаж-квартиры-3.1.7\"><span class=\"toc-item-num\">3.1.7&nbsp;&nbsp;</span>Этаж квартиры</a></span></li><li><span><a href=\"#Тип-этажа-квартиры-(«первый»,-«последний»,-«другой»)\" data-toc-modified-id=\"Тип-этажа-квартиры-(«первый»,-«последний»,-«другой»)-3.1.8\"><span class=\"toc-item-num\">3.1.8&nbsp;&nbsp;</span>Тип этажа квартиры («первый», «последний», «другой»)</a></span></li><li><span><a href=\"#Общее-количество-этажей-в-доме\" data-toc-modified-id=\"Общее-количество-этажей-в-доме-3.1.9\"><span class=\"toc-item-num\">3.1.9&nbsp;&nbsp;</span>Общее количество этажей в доме</a></span></li><li><span><a href=\"#Расстояние-до-центра-города-в-метрах\" data-toc-modified-id=\"Расстояние-до-центра-города-в-метрах-3.1.10\"><span class=\"toc-item-num\">3.1.10&nbsp;&nbsp;</span>Расстояние до центра города в метрах</a></span></li><li><span><a href=\"#Расстояние-до-ближайшего-парка\" data-toc-modified-id=\"Расстояние-до-ближайшего-парка-3.1.11\"><span class=\"toc-item-num\">3.1.11&nbsp;&nbsp;</span>Расстояние до ближайшего парка</a></span></li><li><span><a href=\"#День-публикации-объявления\" data-toc-modified-id=\"День-публикации-объявления-3.1.12\"><span class=\"toc-item-num\">3.1.12&nbsp;&nbsp;</span>День публикации объявления</a></span></li><li><span><a href=\"#Месяц-публикации-объявления\" data-toc-modified-id=\"Месяц-публикации-объявления-3.1.13\"><span class=\"toc-item-num\">3.1.13&nbsp;&nbsp;</span>Месяц публикации объявления</a></span></li><li><span><a href=\"#Выводы\" data-toc-modified-id=\"Выводы-3.1.14\"><span class=\"toc-item-num\">3.1.14&nbsp;&nbsp;</span>Выводы</a></span></li></ul></li><li><span><a href=\"#Анализ-скорости-продажи-квартиры\" data-toc-modified-id=\"Анализ-скорости-продажи-квартиры-3.2\"><span class=\"toc-item-num\">3.2&nbsp;&nbsp;</span>Анализ скорости продажи квартиры</a></span><ul class=\"toc-item\"><li><span><a href=\"#Вывод\" data-toc-modified-id=\"Вывод-3.2.1\"><span class=\"toc-item-num\">3.2.1&nbsp;&nbsp;</span>Вывод</a></span></li></ul></li><li><span><a href=\"#Определение-факторов,-влияющих-на-полную-стоимость-объекта\" data-toc-modified-id=\"Определение-факторов,-влияющих-на-полную-стоимость-объекта-3.3\"><span class=\"toc-item-num\">3.3&nbsp;&nbsp;</span>Определение факторов, влияющих на полную стоимость объекта</a></span><ul class=\"toc-item\"><li><span><a href=\"#Общая-площадь\" data-toc-modified-id=\"Общая-площадь-3.3.1\"><span class=\"toc-item-num\">3.3.1&nbsp;&nbsp;</span>Общая площадь</a></span></li><li><span><a href=\"#Жилая-площадь\" data-toc-modified-id=\"Жилая-площадь-3.3.2\"><span class=\"toc-item-num\">3.3.2&nbsp;&nbsp;</span>Жилая площадь</a></span></li><li><span><a href=\"#Площадь-кухни\" data-toc-modified-id=\"Площадь-кухни-3.3.3\"><span class=\"toc-item-num\">3.3.3&nbsp;&nbsp;</span>Площадь кухни</a></span></li><li><span><a href=\"#Количество-комнат\" data-toc-modified-id=\"Количество-комнат-3.3.4\"><span class=\"toc-item-num\">3.3.4&nbsp;&nbsp;</span>Количество комнат</a></span></li><li><span><a href=\"#Этаж\" data-toc-modified-id=\"Этаж-3.3.5\"><span class=\"toc-item-num\">3.3.5&nbsp;&nbsp;</span>Этаж</a></span></li><li><span><a href=\"#День-недели-публикации-объявления\" data-toc-modified-id=\"День-недели-публикации-объявления-3.3.6\"><span class=\"toc-item-num\">3.3.6&nbsp;&nbsp;</span>День недели публикации объявления</a></span></li><li><span><a href=\"#Месяц-публикации-объявления\" data-toc-modified-id=\"Месяц-публикации-объявления-3.3.7\"><span class=\"toc-item-num\">3.3.7&nbsp;&nbsp;</span>Месяц публикации объявления</a></span></li><li><span><a href=\"#Год-публикации-объявления\" data-toc-modified-id=\"Год-публикации-объявления-3.3.8\"><span class=\"toc-item-num\">3.3.8&nbsp;&nbsp;</span>Год публикации объявления</a></span></li></ul></li><li><span><a href=\"#Анализ-стоимости-одного-квадратного-метра\" data-toc-modified-id=\"Анализ-стоимости-одного-квадратного-метра-3.4\"><span class=\"toc-item-num\">3.4&nbsp;&nbsp;</span>Анализ стоимости одного квадратного метра</a></span></li><li><span><a href=\"#Оценка-зависимости-цены-от-расстояния-до-центра\" data-toc-modified-id=\"Оценка-зависимости-цены-от-расстояния-до-центра-3.5\"><span class=\"toc-item-num\">3.5&nbsp;&nbsp;</span>Оценка зависимости цены от расстояния до центра</a></span></li></ul></li><li><span><a href=\"#Общий-вывод\" data-toc-modified-id=\"Общий-вывод-4\"><span class=\"toc-item-num\">4&nbsp;&nbsp;</span>Общий вывод</a></span></li></ul></div>"
   ]
  },
  {
   "cell_type": "markdown",
   "metadata": {},
   "source": [
    "## Открытие файла с данными и изучение общей информации"
   ]
  },
  {
   "cell_type": "code",
   "execution_count": 1,
   "metadata": {},
   "outputs": [],
   "source": [
    "import pandas as pd\n",
    "import numpy as np\n",
    "import matplotlib.pyplot as plt\n",
    "import seaborn as sns\n",
    "import math"
   ]
  },
  {
   "cell_type": "markdown",
   "metadata": {},
   "source": [
    "### Знакомство с данными"
   ]
  },
  {
   "cell_type": "markdown",
   "metadata": {},
   "source": [
    "Чтение файла с данными. В качестве разделителя указываем знак табуляции. Результат сохраняем в датафрейм data"
   ]
  },
  {
   "cell_type": "code",
   "execution_count": 2,
   "metadata": {},
   "outputs": [
    {
     "name": "stderr",
     "output_type": "stream",
     "text": [
      "C:\\Users\\maria\\anaconda3\\lib\\site-packages\\IPython\\core\\interactiveshell.py:3369: FutureWarning: In a future version of pandas all arguments of read_csv except for the argument 'filepath_or_buffer' will be keyword-only.\n",
      "  exec(code_obj, self.user_global_ns, self.user_ns)\n"
     ]
    },
    {
     "data": {
      "text/html": [
       "<div>\n",
       "<style scoped>\n",
       "    .dataframe tbody tr th:only-of-type {\n",
       "        vertical-align: middle;\n",
       "    }\n",
       "\n",
       "    .dataframe tbody tr th {\n",
       "        vertical-align: top;\n",
       "    }\n",
       "\n",
       "    .dataframe thead th {\n",
       "        text-align: right;\n",
       "    }\n",
       "</style>\n",
       "<table border=\"1\" class=\"dataframe\">\n",
       "  <thead>\n",
       "    <tr style=\"text-align: right;\">\n",
       "      <th></th>\n",
       "      <th>total_images</th>\n",
       "      <th>last_price</th>\n",
       "      <th>total_area</th>\n",
       "      <th>first_day_exposition</th>\n",
       "      <th>rooms</th>\n",
       "      <th>ceiling_height</th>\n",
       "      <th>floors_total</th>\n",
       "      <th>living_area</th>\n",
       "      <th>floor</th>\n",
       "      <th>is_apartment</th>\n",
       "      <th>...</th>\n",
       "      <th>kitchen_area</th>\n",
       "      <th>balcony</th>\n",
       "      <th>locality_name</th>\n",
       "      <th>airports_nearest</th>\n",
       "      <th>cityCenters_nearest</th>\n",
       "      <th>parks_around3000</th>\n",
       "      <th>parks_nearest</th>\n",
       "      <th>ponds_around3000</th>\n",
       "      <th>ponds_nearest</th>\n",
       "      <th>days_exposition</th>\n",
       "    </tr>\n",
       "  </thead>\n",
       "  <tbody>\n",
       "    <tr>\n",
       "      <th>0</th>\n",
       "      <td>20</td>\n",
       "      <td>13,000,000.00</td>\n",
       "      <td>108.00</td>\n",
       "      <td>2019-03-07T00:00:00</td>\n",
       "      <td>3</td>\n",
       "      <td>2.70</td>\n",
       "      <td>16.00</td>\n",
       "      <td>51.00</td>\n",
       "      <td>8</td>\n",
       "      <td>NaN</td>\n",
       "      <td>...</td>\n",
       "      <td>25.00</td>\n",
       "      <td>NaN</td>\n",
       "      <td>Санкт-Петербург</td>\n",
       "      <td>18,863.00</td>\n",
       "      <td>16,028.00</td>\n",
       "      <td>1.00</td>\n",
       "      <td>482.00</td>\n",
       "      <td>2.00</td>\n",
       "      <td>755.00</td>\n",
       "      <td>NaN</td>\n",
       "    </tr>\n",
       "    <tr>\n",
       "      <th>1</th>\n",
       "      <td>7</td>\n",
       "      <td>3,350,000.00</td>\n",
       "      <td>40.40</td>\n",
       "      <td>2018-12-04T00:00:00</td>\n",
       "      <td>1</td>\n",
       "      <td>NaN</td>\n",
       "      <td>11.00</td>\n",
       "      <td>18.60</td>\n",
       "      <td>1</td>\n",
       "      <td>NaN</td>\n",
       "      <td>...</td>\n",
       "      <td>11.00</td>\n",
       "      <td>2.00</td>\n",
       "      <td>посёлок Шушары</td>\n",
       "      <td>12,817.00</td>\n",
       "      <td>18,603.00</td>\n",
       "      <td>0.00</td>\n",
       "      <td>NaN</td>\n",
       "      <td>0.00</td>\n",
       "      <td>NaN</td>\n",
       "      <td>81.00</td>\n",
       "    </tr>\n",
       "    <tr>\n",
       "      <th>2</th>\n",
       "      <td>10</td>\n",
       "      <td>5,196,000.00</td>\n",
       "      <td>56.00</td>\n",
       "      <td>2015-08-20T00:00:00</td>\n",
       "      <td>2</td>\n",
       "      <td>NaN</td>\n",
       "      <td>5.00</td>\n",
       "      <td>34.30</td>\n",
       "      <td>4</td>\n",
       "      <td>NaN</td>\n",
       "      <td>...</td>\n",
       "      <td>8.30</td>\n",
       "      <td>0.00</td>\n",
       "      <td>Санкт-Петербург</td>\n",
       "      <td>21,741.00</td>\n",
       "      <td>13,933.00</td>\n",
       "      <td>1.00</td>\n",
       "      <td>90.00</td>\n",
       "      <td>2.00</td>\n",
       "      <td>574.00</td>\n",
       "      <td>558.00</td>\n",
       "    </tr>\n",
       "    <tr>\n",
       "      <th>3</th>\n",
       "      <td>0</td>\n",
       "      <td>64,900,000.00</td>\n",
       "      <td>159.00</td>\n",
       "      <td>2015-07-24T00:00:00</td>\n",
       "      <td>3</td>\n",
       "      <td>NaN</td>\n",
       "      <td>14.00</td>\n",
       "      <td>NaN</td>\n",
       "      <td>9</td>\n",
       "      <td>NaN</td>\n",
       "      <td>...</td>\n",
       "      <td>NaN</td>\n",
       "      <td>0.00</td>\n",
       "      <td>Санкт-Петербург</td>\n",
       "      <td>28,098.00</td>\n",
       "      <td>6,800.00</td>\n",
       "      <td>2.00</td>\n",
       "      <td>84.00</td>\n",
       "      <td>3.00</td>\n",
       "      <td>234.00</td>\n",
       "      <td>424.00</td>\n",
       "    </tr>\n",
       "    <tr>\n",
       "      <th>4</th>\n",
       "      <td>2</td>\n",
       "      <td>10,000,000.00</td>\n",
       "      <td>100.00</td>\n",
       "      <td>2018-06-19T00:00:00</td>\n",
       "      <td>2</td>\n",
       "      <td>3.03</td>\n",
       "      <td>14.00</td>\n",
       "      <td>32.00</td>\n",
       "      <td>13</td>\n",
       "      <td>NaN</td>\n",
       "      <td>...</td>\n",
       "      <td>41.00</td>\n",
       "      <td>NaN</td>\n",
       "      <td>Санкт-Петербург</td>\n",
       "      <td>31,856.00</td>\n",
       "      <td>8,098.00</td>\n",
       "      <td>2.00</td>\n",
       "      <td>112.00</td>\n",
       "      <td>1.00</td>\n",
       "      <td>48.00</td>\n",
       "      <td>121.00</td>\n",
       "    </tr>\n",
       "  </tbody>\n",
       "</table>\n",
       "<p>5 rows × 22 columns</p>\n",
       "</div>"
      ],
      "text/plain": [
       "   total_images    last_price  total_area first_day_exposition  rooms  \\\n",
       "0            20 13,000,000.00      108.00  2019-03-07T00:00:00      3   \n",
       "1             7  3,350,000.00       40.40  2018-12-04T00:00:00      1   \n",
       "2            10  5,196,000.00       56.00  2015-08-20T00:00:00      2   \n",
       "3             0 64,900,000.00      159.00  2015-07-24T00:00:00      3   \n",
       "4             2 10,000,000.00      100.00  2018-06-19T00:00:00      2   \n",
       "\n",
       "   ceiling_height  floors_total  living_area  floor is_apartment  ...  \\\n",
       "0            2.70         16.00        51.00      8          NaN  ...   \n",
       "1             NaN         11.00        18.60      1          NaN  ...   \n",
       "2             NaN          5.00        34.30      4          NaN  ...   \n",
       "3             NaN         14.00          NaN      9          NaN  ...   \n",
       "4            3.03         14.00        32.00     13          NaN  ...   \n",
       "\n",
       "   kitchen_area  balcony    locality_name  airports_nearest  \\\n",
       "0         25.00      NaN  Санкт-Петербург         18,863.00   \n",
       "1         11.00     2.00   посёлок Шушары         12,817.00   \n",
       "2          8.30     0.00  Санкт-Петербург         21,741.00   \n",
       "3           NaN     0.00  Санкт-Петербург         28,098.00   \n",
       "4         41.00      NaN  Санкт-Петербург         31,856.00   \n",
       "\n",
       "  cityCenters_nearest  parks_around3000  parks_nearest  ponds_around3000  \\\n",
       "0           16,028.00              1.00         482.00              2.00   \n",
       "1           18,603.00              0.00            NaN              0.00   \n",
       "2           13,933.00              1.00          90.00              2.00   \n",
       "3            6,800.00              2.00          84.00              3.00   \n",
       "4            8,098.00              2.00         112.00              1.00   \n",
       "\n",
       "   ponds_nearest  days_exposition  \n",
       "0         755.00              NaN  \n",
       "1            NaN            81.00  \n",
       "2         574.00           558.00  \n",
       "3         234.00           424.00  \n",
       "4          48.00           121.00  \n",
       "\n",
       "[5 rows x 22 columns]"
      ]
     },
     "metadata": {},
     "output_type": "display_data"
    },
    {
     "name": "stdout",
     "output_type": "stream",
     "text": [
      "<class 'pandas.core.frame.DataFrame'>\n",
      "RangeIndex: 23699 entries, 0 to 23698\n",
      "Data columns (total 22 columns):\n",
      " #   Column                Non-Null Count  Dtype  \n",
      "---  ------                --------------  -----  \n",
      " 0   total_images          23699 non-null  int64  \n",
      " 1   last_price            23699 non-null  float64\n",
      " 2   total_area            23699 non-null  float64\n",
      " 3   first_day_exposition  23699 non-null  object \n",
      " 4   rooms                 23699 non-null  int64  \n",
      " 5   ceiling_height        14504 non-null  float64\n",
      " 6   floors_total          23613 non-null  float64\n",
      " 7   living_area           21796 non-null  float64\n",
      " 8   floor                 23699 non-null  int64  \n",
      " 9   is_apartment          2775 non-null   object \n",
      " 10  studio                23699 non-null  bool   \n",
      " 11  open_plan             23699 non-null  bool   \n",
      " 12  kitchen_area          21421 non-null  float64\n",
      " 13  balcony               12180 non-null  float64\n",
      " 14  locality_name         23650 non-null  object \n",
      " 15  airports_nearest      18157 non-null  float64\n",
      " 16  cityCenters_nearest   18180 non-null  float64\n",
      " 17  parks_around3000      18181 non-null  float64\n",
      " 18  parks_nearest         8079 non-null   float64\n",
      " 19  ponds_around3000      18181 non-null  float64\n",
      " 20  ponds_nearest         9110 non-null   float64\n",
      " 21  days_exposition       20518 non-null  float64\n",
      "dtypes: bool(2), float64(14), int64(3), object(3)\n",
      "memory usage: 3.7+ MB\n"
     ]
    }
   ],
   "source": [
    "# Будем отображать числа с точностью до сотых\n",
    "pd.options.display.float_format ='{:,.2f}'.format\n",
    "\n",
    "try:\n",
    "    data = pd.read_csv('C:\\\\Users\\\\data_science\\\\projects\\\\datasets\\\\real_estate_data.csv', \n",
    "                       '\\t')\n",
    "except FileNotFoundError:\n",
    "    data = pd.read_csv('/datasets/real_estate_data.csv', '\\t')\n",
    "display(data.head())\n",
    "\n",
    "# Отображаем общую информацию о данных\n",
    "data.info()"
   ]
  },
  {
   "cell_type": "markdown",
   "metadata": {},
   "source": [
    "Во избежание ошибок в дальнейшем переименуем столбец cityCenters_nearest в соответствии со змеиной нотацией ->  city_centers_nearest"
   ]
  },
  {
   "cell_type": "code",
   "execution_count": 3,
   "metadata": {},
   "outputs": [],
   "source": [
    "# Переименовываем столбец cityCenters_nearest в city_centers_nearest\n",
    "data.rename(columns={'cityCenters_nearest': 'city_centers_nearest'}, inplace=True)"
   ]
  },
  {
   "cell_type": "markdown",
   "metadata": {},
   "source": [
    "### Визуализация данных"
   ]
  },
  {
   "cell_type": "code",
   "execution_count": 4,
   "metadata": {},
   "outputs": [
    {
     "data": {
      "image/png": "[encoded data removed]",
      "text/plain": [
       "<Figure size 1080x1440 with 20 Axes>"
      ]
     },
     "metadata": {
      "needs_background": "light"
     },
     "output_type": "display_data"
    }
   ],
   "source": [
    "# Строим общую гистограмму по всем столбцам таблицы\n",
    "data.hist(figsize=(15, 20));"
   ]
  },
  {
   "cell_type": "markdown",
   "metadata": {},
   "source": [
    "### Выводы"
   ]
  },
  {
   "cell_type": "markdown",
   "metadata": {},
   "source": [
    "Мы считали файл с данными в датафрейм. Датафрейм содержит 22 столбца, 23699 строк. В некоторых столбцах присутствуют пропуски в данных. Кроме того, в некоторых столбцах необходимо изменить тип данных.\n",
    "    \n",
    "Мы переименовали столбец *cityCenters_nearest*  в *city_centers_nearest*, чтобы избежать ошибок в написании. \n",
    "    \n",
    "Мы также построили гистограммы по всем столбцам, по которым видно, что в столбцах last_price, total_area, rooms, ceiling_height, kitchen_area наблюдается большой разброс данных."
   ]
  },
  {
   "cell_type": "markdown",
   "metadata": {},
   "source": [
    "## Предобработка данных"
   ]
  },
  {
   "cell_type": "markdown",
   "metadata": {},
   "source": [
    "### Поиск пропущенных значений в столбцах"
   ]
  },
  {
   "cell_type": "code",
   "execution_count": 5,
   "metadata": {},
   "outputs": [
    {
     "name": "stdout",
     "output_type": "stream",
     "text": [
      "Процент пропусков в столбцах\n",
      "total_images             0\n",
      "last_price               0\n",
      "total_area               0\n",
      "first_day_exposition     0\n",
      "rooms                    0\n",
      "ceiling_height          38\n",
      "floors_total             0\n",
      "living_area              8\n",
      "floor                    0\n",
      "is_apartment            88\n",
      "studio                   0\n",
      "open_plan                0\n",
      "kitchen_area             9\n",
      "balcony                 48\n",
      "locality_name            0\n",
      "airports_nearest        23\n",
      "city_centers_nearest    23\n",
      "parks_around3000        23\n",
      "parks_nearest           65\n",
      "ponds_around3000        23\n",
      "ponds_nearest           61\n",
      "days_exposition         13\n",
      "dtype: int32\n",
      "Число столбцов с пропусками:  14\n"
     ]
    }
   ],
   "source": [
    "# Определяем, в каких столбцах есть пропуски, выводим число пропусков в процентах и число таких столбцов\n",
    "print('Процент пропусков в столбцах')\n",
    "print((data.isna().sum() / data.shape[0] * 100).astype(int))\n",
    "print('Число столбцов с пропусками: ', data.isna().any().sum())"
   ]
  },
  {
   "cell_type": "markdown",
   "metadata": {},
   "source": [
    "### Обработка пропущенных значений в столбцах"
   ]
  },
  {
   "cell_type": "markdown",
   "metadata": {},
   "source": [
    "Заполняем пропуски в следующих столбцах:\n",
    "- *ceiling_height*: нестаднартная высота потолка была бы указана в объявлении в качестве преимущества, пропуск вероятнее всего соответсвует стандартной высоте, которую мы рассчитаем как медианное значение высоты по всему набору данных.\n",
    "- *living_area*: заполняем медианным значением для объектов с таким же количеством комнат.\n",
    "- *is_apartment*: если значение пропущено, то объект скорее всего не является апартаментами; заполняем пропуски значением False\n",
    "- *balcony*: если число балконов не указано, то скорее всего их нет; заполняем пропуски нулями.\n",
    "- *parks_around3000*: если для объекта указан параметр park_nearest и он меньше или равен 3 км, то вместо пропуска подставляем значение 1; если параметр не указан или больше 3 км, то подставляем 0.\n",
    "- *ponds_around3000*: если для объекта указан параметр ponds_nearest и он меньше или раавен 3 км, то вместо пропуска подставляем значение 1; если параметр не указан или больше 3 км, то подставляем 0.\n",
    "- *airports_nearest* и *cityCenters_nearest* заполняем самым частым значением по местности locality_name\n",
    "- floors_total: заполняем медианным значением или числом floor, если оно превышает медианное значение\n",
    "- days_exposition: заполняем медианным значением\n",
    "\n",
    "Пропуски в остальных столбцах оставляем без изменений."
   ]
  },
  {
   "cell_type": "code",
   "execution_count": 6,
   "metadata": {},
   "outputs": [],
   "source": [
    "# ceiling_height - заполняем пропуски медианным значением высоты\n",
    "\n",
    "data['ceiling_height'].fillna(value=data['ceiling_height'].median(), inplace=True)"
   ]
  },
  {
   "cell_type": "code",
   "execution_count": 7,
   "metadata": {},
   "outputs": [],
   "source": [
    "# living_area - заполняем пропуски медианным значением для соответсвующего числа комнат\n",
    "\n",
    "data['living_area'] = data['living_area'].fillna(data.groupby('rooms')['living_area'].transform('median'))"
   ]
  },
  {
   "cell_type": "code",
   "execution_count": 8,
   "metadata": {},
   "outputs": [],
   "source": [
    "# is_apartment - заполняем пропуски значением False\n",
    "\n",
    "data['is_apartment'].fillna(value=False, inplace=True)"
   ]
  },
  {
   "cell_type": "code",
   "execution_count": 9,
   "metadata": {},
   "outputs": [],
   "source": [
    "# balcony - заполняем пропуски числом 0\n",
    "\n",
    "data['balcony'].fillna(value=0, inplace=True)"
   ]
  },
  {
   "cell_type": "code",
   "execution_count": 10,
   "metadata": {},
   "outputs": [],
   "source": [
    "# parks_around3000 и ponds_around3000\n",
    "# Определяем функцию get_value для подстановки значения в столбец *_around3000:\n",
    "# для пропусков проверяем столбец *_nearest, если значение в нем меньше 3000, то возвращаем 1,\n",
    "# иначе пропуск заменяем на 0.\n",
    "# Вызываем функцию для заполнения пропусков в столбцах\n",
    "\n",
    "def get_value(around, near):\n",
    "    if math.isnan(around):\n",
    "        if near <= 3000:\n",
    "            return 1\n",
    "        else:\n",
    "            return 0\n",
    "    return around"
   ]
  },
  {
   "cell_type": "code",
   "execution_count": 11,
   "metadata": {},
   "outputs": [],
   "source": [
    "data['parks_around3000'] = data.apply(lambda x: get_value(x.parks_around3000, x.parks_nearest), axis=1)\n",
    "data['ponds_around3000'] = data.apply(lambda x: get_value(x.ponds_around3000, x.ponds_nearest), axis=1)"
   ]
  },
  {
   "cell_type": "code",
   "execution_count": 12,
   "metadata": {},
   "outputs": [
    {
     "data": {
      "text/plain": [
       "5519"
      ]
     },
     "execution_count": 12,
     "metadata": {},
     "output_type": "execute_result"
    }
   ],
   "source": [
    "data.city_centers_nearest.isna().sum()"
   ]
  },
  {
   "cell_type": "code",
   "execution_count": 13,
   "metadata": {},
   "outputs": [],
   "source": [
    "# airports_nearest и city_centers_nearest\n",
    "# Вместо пропусков airports_nearest и city_centers_nearest подставляем средние значения для этой местности.\n",
    "\n",
    "data['airports_nearest'] = data['airports_nearest'].fillna(data.groupby('locality_name')['airports_nearest']\n",
    "                                                               .transform('mean'))\n",
    "data['city_centers_nearest'] = data['city_centers_nearest'].fillna(data.groupby('locality_name')['city_centers_nearest']\n",
    "                                                                       .transform('mean'))"
   ]
  },
  {
   "cell_type": "code",
   "execution_count": 14,
   "metadata": {},
   "outputs": [
    {
     "name": "stdout",
     "output_type": "stream",
     "text": [
      "Пропусков в столбце airports_nearest:  5394\n",
      "Пропусков в столбце city_centers_nearest:  5394\n"
     ]
    }
   ],
   "source": [
    "# Проверяем наличиепропусков для этих столбцов и удаляем их\n",
    "print('Пропусков в столбце airports_nearest: ', data.airports_nearest.isna().sum())\n",
    "print('Пропусков в столбце city_centers_nearest: ', data.city_centers_nearest.isna().sum())\n",
    "data.dropna(subset=['airports_nearest'], inplace=True)\n",
    "data.dropna(subset=['city_centers_nearest'], inplace=True)"
   ]
  },
  {
   "cell_type": "code",
   "execution_count": 15,
   "metadata": {},
   "outputs": [],
   "source": [
    "# floors_total - заполняем пропуски значением из столбца floor\n",
    "\n",
    "data['floors_total'] = data['floors_total'].fillna(data['floor'])"
   ]
  },
  {
   "cell_type": "code",
   "execution_count": 16,
   "metadata": {},
   "outputs": [],
   "source": [
    "# days_exposition - заполняем пропуски медианным значением\n",
    "\n",
    "data['days_exposition'] = data['days_exposition'].fillna(data['days_exposition'].median());"
   ]
  },
  {
   "cell_type": "code",
   "execution_count": 17,
   "metadata": {},
   "outputs": [],
   "source": [
    "# Удалим строки с пропуском в столбце locality_name. Поскольку местоположение квартиры имеет первостепенное значение,\n",
    "# строки без этого значения не будут показательны для анализа\n",
    "\n",
    "data.dropna(subset=['locality_name'], inplace=True)"
   ]
  },
  {
   "cell_type": "code",
   "execution_count": 18,
   "metadata": {},
   "outputs": [
    {
     "data": {
      "text/plain": [
       "total_images                0\n",
       "last_price                  0\n",
       "total_area                  0\n",
       "first_day_exposition        0\n",
       "rooms                       0\n",
       "ceiling_height              0\n",
       "floors_total                0\n",
       "living_area                 0\n",
       "floor                       0\n",
       "is_apartment                0\n",
       "studio                      0\n",
       "open_plan                   0\n",
       "kitchen_area             1582\n",
       "balcony                     0\n",
       "locality_name               0\n",
       "airports_nearest            0\n",
       "city_centers_nearest        0\n",
       "parks_around3000            0\n",
       "parks_nearest           10200\n",
       "ponds_around3000            0\n",
       "ponds_nearest            9179\n",
       "days_exposition             0\n",
       "dtype: int64"
      ]
     },
     "execution_count": 18,
     "metadata": {},
     "output_type": "execute_result"
    }
   ],
   "source": [
    "# Проверим, что пропуски в обработанных столбцах отсутствуют.\n",
    "# Проверяем столбцы ceiling_height, living_area, is_apartment, balcony, \n",
    "#                   parks_around3000, ponds_around3000, floors_total и days_exposition.\n",
    "\n",
    "data.isna().sum()"
   ]
  },
  {
   "cell_type": "markdown",
   "metadata": {},
   "source": [
    "**Выводы**\n",
    "- Больше всего пропусков содержится в столбцах parks_nearest и ponds_nearest. Скорее всего этих полей не было в заполняемой форме, также как и airports_nearest и city_centers_nearest, потому что эти поля незаполнены одновременно.\n",
    "- Меньше всего пропусков в столбцах floors_total и locality_name. Поскольу пропусков немного и эти параметры важны при выборе квартиры, вероятнее всего они отсутствуют из-за ошибок операторов, вводящих данные.\n",
    "- По числу пропусков в стобцах kitchen_area и days_exposition можно предположить, что они связаны с системной ошибкой.\n",
    "- Поскольку местоположение квартиры имеет первостепенное значение, cтроки без этого значения не будут показательны для анализа. Поэтому мы удалили строки, в которых пропущены значения для locality_name."
   ]
  },
  {
   "cell_type": "markdown",
   "metadata": {},
   "source": [
    "###  Поиск столбцов, для которых нужно изменить тип данных"
   ]
  },
  {
   "cell_type": "code",
   "execution_count": 19,
   "metadata": {},
   "outputs": [
    {
     "name": "stdout",
     "output_type": "stream",
     "text": [
      "<class 'pandas.core.frame.DataFrame'>\n",
      "Int64Index: 18264 entries, 0 to 23697\n",
      "Data columns (total 22 columns):\n",
      " #   Column                Non-Null Count  Dtype  \n",
      "---  ------                --------------  -----  \n",
      " 0   total_images          18264 non-null  int64  \n",
      " 1   last_price            18264 non-null  float64\n",
      " 2   total_area            18264 non-null  float64\n",
      " 3   first_day_exposition  18264 non-null  object \n",
      " 4   rooms                 18264 non-null  int64  \n",
      " 5   ceiling_height        18264 non-null  float64\n",
      " 6   floors_total          18264 non-null  float64\n",
      " 7   living_area           18264 non-null  float64\n",
      " 8   floor                 18264 non-null  int64  \n",
      " 9   is_apartment          18264 non-null  bool   \n",
      " 10  studio                18264 non-null  bool   \n",
      " 11  open_plan             18264 non-null  bool   \n",
      " 12  kitchen_area          16682 non-null  float64\n",
      " 13  balcony               18264 non-null  float64\n",
      " 14  locality_name         18264 non-null  object \n",
      " 15  airports_nearest      18264 non-null  float64\n",
      " 16  city_centers_nearest  18264 non-null  float64\n",
      " 17  parks_around3000      18264 non-null  float64\n",
      " 18  parks_nearest         8064 non-null   float64\n",
      " 19  ponds_around3000      18264 non-null  float64\n",
      " 20  ponds_nearest         9085 non-null   float64\n",
      " 21  days_exposition       18264 non-null  float64\n",
      "dtypes: bool(3), float64(14), int64(3), object(2)\n",
      "memory usage: 2.8+ MB\n"
     ]
    }
   ],
   "source": [
    "# Отображаем общую информацию о данных\n",
    "data.info()"
   ]
  },
  {
   "cell_type": "markdown",
   "metadata": {},
   "source": [
    "**Выводы**\n",
    "\n",
    "Изучив типы данных столбцов, делаем вывод, что необходимо преобразовать тип данных для следующих столбцов:\n",
    "- first_day_exposition: object -> datetime (т. к. это дата),\n",
    "- floors_total: float64 -> int (т. к. количество этажей - целое число),\n",
    "- balcony: float64 -> int (т. к. количество балконов - целое число),\n",
    "- days_exposition: float64 -> int (т. к. количество дней - целое число)."
   ]
  },
  {
   "cell_type": "code",
   "execution_count": 20,
   "metadata": {},
   "outputs": [
    {
     "name": "stdout",
     "output_type": "stream",
     "text": [
      "Тип данных в столбце first_day_exposition после преобразования: datetime64[ns]\n",
      "Тип данных в столбце floors_total после преобразования: int32\n",
      "Тип данных в столбце balcony после преобразования: int32\n",
      "Тип данных в столбце days_exposition после преобразования: int32\n"
     ]
    }
   ],
   "source": [
    "data['first_day_exposition'] = pd.to_datetime(data['first_day_exposition'], format='%Y-%m-%dT%H:%M:%S')\n",
    "data['floors_total'] = data['floors_total'].astype(int)\n",
    "data['balcony'] = data['balcony'].astype(int)\n",
    "data['days_exposition'] = data['days_exposition'].astype(int)\n",
    "\n",
    "print('Тип данных в столбце first_day_exposition после преобразования:', data['first_day_exposition'].dtype) # проверка\n",
    "print('Тип данных в столбце floors_total после преобразования:', data['floors_total'].dtype) # проверка\n",
    "print('Тип данных в столбце balcony после преобразования:', data['balcony'].dtype) # проверка\n",
    "print('Тип данных в столбце days_exposition после преобразования:', data['days_exposition'].dtype) # проверка"
   ]
  },
  {
   "cell_type": "markdown",
   "metadata": {},
   "source": [
    "### Поиск и устранение дубликатов в столбце locality_name"
   ]
  },
  {
   "cell_type": "code",
   "execution_count": 21,
   "metadata": {},
   "outputs": [
    {
     "data": {
      "text/plain": [
       "['Зеленогорск',\n",
       " 'Колпино',\n",
       " 'Красное Село',\n",
       " 'Кронштадт',\n",
       " 'Ломоносов',\n",
       " 'Павловск',\n",
       " 'Петергоф',\n",
       " 'Пушкин',\n",
       " 'Санкт-Петербург',\n",
       " 'Сестрорецк',\n",
       " 'поселок Лисий Нос',\n",
       " 'поселок Мурино',\n",
       " 'посёлок Александровская',\n",
       " 'посёлок Белоостров',\n",
       " 'посёлок Левашово',\n",
       " 'посёлок Лисий Нос',\n",
       " 'посёлок Металлострой',\n",
       " 'посёлок Молодёжное',\n",
       " 'посёлок Парголово',\n",
       " 'посёлок Песочный',\n",
       " 'посёлок Петро-Славянка',\n",
       " 'посёлок Понтонный',\n",
       " 'посёлок Репино',\n",
       " 'посёлок Сапёрный',\n",
       " 'посёлок Стрельна',\n",
       " 'посёлок Усть-Ижора',\n",
       " 'посёлок Шушары',\n",
       " 'посёлок Щеглово']"
      ]
     },
     "metadata": {},
     "output_type": "display_data"
    },
    {
     "name": "stdout",
     "output_type": "stream",
     "text": [
      "Количество уникальных названий: 28\n"
     ]
    }
   ],
   "source": [
    "# Выводим на экран отсортированный список уникальных названий\n",
    "display(sorted(data['locality_name'].unique()))\n",
    "print('Количество уникальных названий:', len(data['locality_name'].unique()))"
   ]
  },
  {
   "cell_type": "markdown",
   "metadata": {},
   "source": [
    "Чтобы удалить дубликаты, выполним следующие действия:\n",
    "- меняем букву ё на е\n",
    "- удаляем описательные слова: городской поселок, коттеджный поселок, поселок, поселок городского типа, посёлок при железнодорожной станции, поселок станции, деревня, село, садоводческое некоммерческое товарищество, садовое товарищество."
   ]
  },
  {
   "cell_type": "code",
   "execution_count": 22,
   "metadata": {},
   "outputs": [],
   "source": [
    "# меняем букву ё на е\n",
    "data['locality_name'] = data['locality_name'].str.replace('ё', 'е')   "
   ]
  },
  {
   "cell_type": "code",
   "execution_count": 23,
   "metadata": {},
   "outputs": [],
   "source": [
    "# удалим описательные слова\n",
    "description_list = ['городской поселок', 'коттеджный поселок', 'поселок городского типа', \n",
    "                    'поселок станции', 'поселок при железнодорожной станции', 'поселок',\n",
    "                    'деревня', 'село',\n",
    "                    'садоводческое некоммерческое товарищество', 'садовое товарищество']\n",
    "for item in description_list:\n",
    "    data['locality_name'] = data['locality_name'].apply(lambda x: x.lstrip(item)) "
   ]
  },
  {
   "cell_type": "markdown",
   "metadata": {},
   "source": [
    "### Поиск и устранение редких и выбивающихся значений"
   ]
  },
  {
   "cell_type": "markdown",
   "metadata": {},
   "source": [
    "Выведем на экран информацию о столбцах и сохраним число объявлений в отдельную переменную count_all для использования в анализе."
   ]
  },
  {
   "cell_type": "code",
   "execution_count": 24,
   "metadata": {},
   "outputs": [
    {
     "name": "stdout",
     "output_type": "stream",
     "text": [
      "Всего объявлений - 18264\n"
     ]
    },
    {
     "data": {
      "text/html": [
       "<div>\n",
       "<style scoped>\n",
       "    .dataframe tbody tr th:only-of-type {\n",
       "        vertical-align: middle;\n",
       "    }\n",
       "\n",
       "    .dataframe tbody tr th {\n",
       "        vertical-align: top;\n",
       "    }\n",
       "\n",
       "    .dataframe thead th {\n",
       "        text-align: right;\n",
       "    }\n",
       "</style>\n",
       "<table border=\"1\" class=\"dataframe\">\n",
       "  <thead>\n",
       "    <tr style=\"text-align: right;\">\n",
       "      <th></th>\n",
       "      <th>total_images</th>\n",
       "      <th>last_price</th>\n",
       "      <th>total_area</th>\n",
       "      <th>rooms</th>\n",
       "      <th>ceiling_height</th>\n",
       "      <th>floors_total</th>\n",
       "      <th>living_area</th>\n",
       "      <th>floor</th>\n",
       "      <th>kitchen_area</th>\n",
       "      <th>balcony</th>\n",
       "      <th>airports_nearest</th>\n",
       "      <th>city_centers_nearest</th>\n",
       "      <th>parks_around3000</th>\n",
       "      <th>parks_nearest</th>\n",
       "      <th>ponds_around3000</th>\n",
       "      <th>ponds_nearest</th>\n",
       "      <th>days_exposition</th>\n",
       "    </tr>\n",
       "  </thead>\n",
       "  <tbody>\n",
       "    <tr>\n",
       "      <th>count</th>\n",
       "      <td>18,264.00</td>\n",
       "      <td>18,264.00</td>\n",
       "      <td>18,264.00</td>\n",
       "      <td>18,264.00</td>\n",
       "      <td>18,264.00</td>\n",
       "      <td>18,264.00</td>\n",
       "      <td>18,264.00</td>\n",
       "      <td>18,264.00</td>\n",
       "      <td>16,682.00</td>\n",
       "      <td>18,264.00</td>\n",
       "      <td>18,264.00</td>\n",
       "      <td>18,264.00</td>\n",
       "      <td>18,264.00</td>\n",
       "      <td>8,064.00</td>\n",
       "      <td>18,264.00</td>\n",
       "      <td>9,085.00</td>\n",
       "      <td>18,264.00</td>\n",
       "    </tr>\n",
       "    <tr>\n",
       "      <th>mean</th>\n",
       "      <td>10.03</td>\n",
       "      <td>7,585,632.04</td>\n",
       "      <td>63.37</td>\n",
       "      <td>2.14</td>\n",
       "      <td>2.74</td>\n",
       "      <td>11.17</td>\n",
       "      <td>35.93</td>\n",
       "      <td>6.14</td>\n",
       "      <td>10.96</td>\n",
       "      <td>0.58</td>\n",
       "      <td>28,879.46</td>\n",
       "      <td>14,236.24</td>\n",
       "      <td>0.61</td>\n",
       "      <td>490.83</td>\n",
       "      <td>0.76</td>\n",
       "      <td>518.06</td>\n",
       "      <td>171.08</td>\n",
       "    </tr>\n",
       "    <tr>\n",
       "      <th>std</th>\n",
       "      <td>5.74</td>\n",
       "      <td>12,176,980.47</td>\n",
       "      <td>38.93</td>\n",
       "      <td>1.12</td>\n",
       "      <td>0.98</td>\n",
       "      <td>6.55</td>\n",
       "      <td>23.53</td>\n",
       "      <td>4.95</td>\n",
       "      <td>6.36</td>\n",
       "      <td>0.96</td>\n",
       "      <td>12,679.53</td>\n",
       "      <td>8,624.99</td>\n",
       "      <td>0.80</td>\n",
       "      <td>342.55</td>\n",
       "      <td>0.94</td>\n",
       "      <td>277.84</td>\n",
       "      <td>210.26</td>\n",
       "    </tr>\n",
       "    <tr>\n",
       "      <th>min</th>\n",
       "      <td>0.00</td>\n",
       "      <td>12,190.00</td>\n",
       "      <td>12.00</td>\n",
       "      <td>0.00</td>\n",
       "      <td>1.00</td>\n",
       "      <td>1.00</td>\n",
       "      <td>2.00</td>\n",
       "      <td>1.00</td>\n",
       "      <td>1.30</td>\n",
       "      <td>0.00</td>\n",
       "      <td>0.00</td>\n",
       "      <td>181.00</td>\n",
       "      <td>0.00</td>\n",
       "      <td>1.00</td>\n",
       "      <td>0.00</td>\n",
       "      <td>13.00</td>\n",
       "      <td>1.00</td>\n",
       "    </tr>\n",
       "    <tr>\n",
       "      <th>25%</th>\n",
       "      <td>6.00</td>\n",
       "      <td>4,000,000.00</td>\n",
       "      <td>41.10</td>\n",
       "      <td>1.00</td>\n",
       "      <td>2.60</td>\n",
       "      <td>5.00</td>\n",
       "      <td>19.00</td>\n",
       "      <td>3.00</td>\n",
       "      <td>7.10</td>\n",
       "      <td>0.00</td>\n",
       "      <td>18,625.00</td>\n",
       "      <td>9,289.00</td>\n",
       "      <td>0.00</td>\n",
       "      <td>288.00</td>\n",
       "      <td>0.00</td>\n",
       "      <td>293.00</td>\n",
       "      <td>46.00</td>\n",
       "    </tr>\n",
       "    <tr>\n",
       "      <th>50%</th>\n",
       "      <td>10.00</td>\n",
       "      <td>5,250,000.00</td>\n",
       "      <td>54.00</td>\n",
       "      <td>2.00</td>\n",
       "      <td>2.65</td>\n",
       "      <td>9.00</td>\n",
       "      <td>30.56</td>\n",
       "      <td>5.00</td>\n",
       "      <td>9.70</td>\n",
       "      <td>0.00</td>\n",
       "      <td>26,880.50</td>\n",
       "      <td>13,107.00</td>\n",
       "      <td>0.00</td>\n",
       "      <td>454.50</td>\n",
       "      <td>0.00</td>\n",
       "      <td>502.00</td>\n",
       "      <td>96.00</td>\n",
       "    </tr>\n",
       "    <tr>\n",
       "      <th>75%</th>\n",
       "      <td>14.00</td>\n",
       "      <td>7,690,000.00</td>\n",
       "      <td>73.00</td>\n",
       "      <td>3.00</td>\n",
       "      <td>2.73</td>\n",
       "      <td>16.00</td>\n",
       "      <td>44.00</td>\n",
       "      <td>8.00</td>\n",
       "      <td>12.20</td>\n",
       "      <td>1.00</td>\n",
       "      <td>37,348.00</td>\n",
       "      <td>16,318.25</td>\n",
       "      <td>1.00</td>\n",
       "      <td>612.00</td>\n",
       "      <td>1.00</td>\n",
       "      <td>730.00</td>\n",
       "      <td>201.00</td>\n",
       "    </tr>\n",
       "    <tr>\n",
       "      <th>max</th>\n",
       "      <td>50.00</td>\n",
       "      <td>763,000,000.00</td>\n",
       "      <td>900.00</td>\n",
       "      <td>19.00</td>\n",
       "      <td>100.00</td>\n",
       "      <td>60.00</td>\n",
       "      <td>409.70</td>\n",
       "      <td>33.00</td>\n",
       "      <td>112.00</td>\n",
       "      <td>5.00</td>\n",
       "      <td>84,869.00</td>\n",
       "      <td>65,968.00</td>\n",
       "      <td>3.00</td>\n",
       "      <td>3,190.00</td>\n",
       "      <td>3.00</td>\n",
       "      <td>1,344.00</td>\n",
       "      <td>1,572.00</td>\n",
       "    </tr>\n",
       "  </tbody>\n",
       "</table>\n",
       "</div>"
      ],
      "text/plain": [
       "       total_images     last_price  total_area     rooms  ceiling_height  \\\n",
       "count     18,264.00      18,264.00   18,264.00 18,264.00       18,264.00   \n",
       "mean          10.03   7,585,632.04       63.37      2.14            2.74   \n",
       "std            5.74  12,176,980.47       38.93      1.12            0.98   \n",
       "min            0.00      12,190.00       12.00      0.00            1.00   \n",
       "25%            6.00   4,000,000.00       41.10      1.00            2.60   \n",
       "50%           10.00   5,250,000.00       54.00      2.00            2.65   \n",
       "75%           14.00   7,690,000.00       73.00      3.00            2.73   \n",
       "max           50.00 763,000,000.00      900.00     19.00          100.00   \n",
       "\n",
       "       floors_total  living_area     floor  kitchen_area   balcony  \\\n",
       "count     18,264.00    18,264.00 18,264.00     16,682.00 18,264.00   \n",
       "mean          11.17        35.93      6.14         10.96      0.58   \n",
       "std            6.55        23.53      4.95          6.36      0.96   \n",
       "min            1.00         2.00      1.00          1.30      0.00   \n",
       "25%            5.00        19.00      3.00          7.10      0.00   \n",
       "50%            9.00        30.56      5.00          9.70      0.00   \n",
       "75%           16.00        44.00      8.00         12.20      1.00   \n",
       "max           60.00       409.70     33.00        112.00      5.00   \n",
       "\n",
       "       airports_nearest  city_centers_nearest  parks_around3000  \\\n",
       "count         18,264.00             18,264.00         18,264.00   \n",
       "mean          28,879.46             14,236.24              0.61   \n",
       "std           12,679.53              8,624.99              0.80   \n",
       "min                0.00                181.00              0.00   \n",
       "25%           18,625.00              9,289.00              0.00   \n",
       "50%           26,880.50             13,107.00              0.00   \n",
       "75%           37,348.00             16,318.25              1.00   \n",
       "max           84,869.00             65,968.00              3.00   \n",
       "\n",
       "       parks_nearest  ponds_around3000  ponds_nearest  days_exposition  \n",
       "count       8,064.00         18,264.00       9,085.00        18,264.00  \n",
       "mean          490.83              0.76         518.06           171.08  \n",
       "std           342.55              0.94         277.84           210.26  \n",
       "min             1.00              0.00          13.00             1.00  \n",
       "25%           288.00              0.00         293.00            46.00  \n",
       "50%           454.50              0.00         502.00            96.00  \n",
       "75%           612.00              1.00         730.00           201.00  \n",
       "max         3,190.00              3.00       1,344.00         1,572.00  "
      ]
     },
     "execution_count": 24,
     "metadata": {},
     "output_type": "execute_result"
    }
   ],
   "source": [
    "count_all = data.shape[0]\n",
    "print('Всего объявлений -', count_all)\n",
    "data.describe()"
   ]
  },
  {
   "cell_type": "markdown",
   "metadata": {},
   "source": [
    "Рассмотрим подробнее столбцы с выбивающимися значениями."
   ]
  },
  {
   "cell_type": "markdown",
   "metadata": {},
   "source": [
    "#### last_price"
   ]
  },
  {
   "cell_type": "code",
   "execution_count": 25,
   "metadata": {},
   "outputs": [],
   "source": [
    "# Добавим в таблицу новый столбец price_in_mill, в котором сохраним стоимость в миллионах\n",
    "data['price_in_mill'] = data['last_price'] / 1000000"
   ]
  },
  {
   "cell_type": "code",
   "execution_count": 26,
   "metadata": {},
   "outputs": [
    {
     "name": "stdout",
     "output_type": "stream",
     "text": [
      "count   18,264.00\n",
      "mean         7.59\n",
      "std         12.18\n",
      "min          0.01\n",
      "25%          4.00\n",
      "50%          5.25\n",
      "75%          7.69\n",
      "max        763.00\n",
      "Name: price_in_mill, dtype: float64\n"
     ]
    }
   ],
   "source": [
    "# Выведем статистические сведения о столбце\n",
    "print(data['price_in_mill'].describe())"
   ]
  },
  {
   "cell_type": "markdown",
   "metadata": {},
   "source": [
    "Максимальное значение 763 млн, при этом 75% квартир дешевле 6,8 млн.\n",
    "\n",
    "Построим диаграмму размаха, чтобы оценить, выше какого порога значения можно считать нестандартными"
   ]
  },
  {
   "cell_type": "code",
   "execution_count": 27,
   "metadata": {},
   "outputs": [
    {
     "data": {
      "image/png": "[encoded data removed]",
      "text/plain": [
       "<Figure size 432x288 with 1 Axes>"
      ]
     },
     "metadata": {
      "needs_background": "light"
     },
     "output_type": "display_data"
    }
   ],
   "source": [
    "data.boxplot(column='price_in_mill');"
   ]
  },
  {
   "cell_type": "code",
   "execution_count": 28,
   "metadata": {},
   "outputs": [
    {
     "data": {
      "image/png": "[encoded data removed]",
      "text/plain": [
       "<Figure size 432x288 with 1 Axes>"
      ]
     },
     "metadata": {
      "needs_background": "light"
     },
     "output_type": "display_data"
    }
   ],
   "source": [
    "# Для лучшего обзора изменим пределы по оси y\n",
    "plt.ylim(0, 400)\n",
    "data.boxplot(column='price_in_mill');"
   ]
  },
  {
   "cell_type": "markdown",
   "metadata": {},
   "source": [
    "Посчитаем долю квартир, стоимостью больше 200 млн."
   ]
  },
  {
   "cell_type": "code",
   "execution_count": 29,
   "metadata": {},
   "outputs": [
    {
     "name": "stdout",
     "output_type": "stream",
     "text": [
      "Доля квартир стоимостью больше 200 млн - 0.0004927726675427069\n"
     ]
    }
   ],
   "source": [
    "print('Доля квартир стоимостью больше 200 млн -', data[data['price_in_mill'] > 200]['price_in_mill'].count()/count_all)"
   ]
  },
  {
   "cell_type": "markdown",
   "metadata": {},
   "source": [
    "Будем считать значения стоимости больше 200 выбросами и удалим эти строки."
   ]
  },
  {
   "cell_type": "code",
   "execution_count": 30,
   "metadata": {},
   "outputs": [],
   "source": [
    "data = data.drop(data[data['price_in_mill'] > 400].index)"
   ]
  },
  {
   "cell_type": "markdown",
   "metadata": {},
   "source": [
    "#### total_area"
   ]
  },
  {
   "cell_type": "markdown",
   "metadata": {},
   "source": [
    "Выведем статистические сведения о столбце."
   ]
  },
  {
   "cell_type": "code",
   "execution_count": 31,
   "metadata": {},
   "outputs": [
    {
     "name": "stdout",
     "output_type": "stream",
     "text": [
      "count   18,261.00\n",
      "mean        63.28\n",
      "std         38.27\n",
      "min         12.00\n",
      "25%         41.10\n",
      "50%         54.00\n",
      "75%         73.00\n",
      "max        631.20\n",
      "Name: total_area, dtype: float64\n"
     ]
    }
   ],
   "source": [
    "print(data['total_area'].describe())"
   ]
  },
  {
   "cell_type": "markdown",
   "metadata": {},
   "source": [
    "Максимальное значение 900, при этом 75% значений ниже 70 кв. м.\n",
    "\n",
    "Чтобы оценить, выше какого порога значения можно считать нестандартными, построим гистограмму."
   ]
  },
  {
   "cell_type": "code",
   "execution_count": 32,
   "metadata": {},
   "outputs": [
    {
     "data": {
      "image/png": "[encoded data removed]",
      "text/plain": [
       "<Figure size 432x288 with 1 Axes>"
      ]
     },
     "metadata": {
      "needs_background": "light"
     },
     "output_type": "display_data"
    }
   ],
   "source": [
    "data.hist('total_area', range=(0, 900));"
   ]
  },
  {
   "cell_type": "markdown",
   "metadata": {},
   "source": [
    "На гистограмме видно, что основная часть результатов меньше 200. Рассмотрим диапазон 200-900 ближе."
   ]
  },
  {
   "cell_type": "code",
   "execution_count": 33,
   "metadata": {
    "scrolled": true
   },
   "outputs": [
    {
     "data": {
      "image/png": "[encoded data removed]",
      "text/plain": [
       "<Figure size 720x360 with 1 Axes>"
      ]
     },
     "metadata": {
      "needs_background": "light"
     },
     "output_type": "display_data"
    }
   ],
   "source": [
    "data.hist('total_area', range=(200, 900), figsize=(10, 5));"
   ]
  },
  {
   "cell_type": "markdown",
   "metadata": {},
   "source": [
    "На гистограмме для 200 метров мы видим достатоно большое количество квартир. Число квартир падает к площади 400.\n",
    "\n",
    "Посчитаем долю квартир с площадью > 400"
   ]
  },
  {
   "cell_type": "code",
   "execution_count": 34,
   "metadata": {},
   "outputs": [
    {
     "name": "stdout",
     "output_type": "stream",
     "text": [
      "Доля квартир площадью больше 400 - 0.0011498028909329829\n"
     ]
    }
   ],
   "source": [
    "print('Доля квартир площадью больше 400 -', data[data['total_area'] > 400]['total_area'].count()/count_all)"
   ]
  },
  {
   "cell_type": "markdown",
   "metadata": {},
   "source": [
    "Будем считать значения общей площади больше 400 выбросами и удалим этим строки."
   ]
  },
  {
   "cell_type": "code",
   "execution_count": 35,
   "metadata": {},
   "outputs": [],
   "source": [
    "data = data.drop(data[data['total_area'] > 400].index)"
   ]
  },
  {
   "cell_type": "markdown",
   "metadata": {},
   "source": [
    "#### rooms"
   ]
  },
  {
   "cell_type": "markdown",
   "metadata": {},
   "source": [
    "Выведем статистические сведения о столбце."
   ]
  },
  {
   "cell_type": "code",
   "execution_count": 36,
   "metadata": {},
   "outputs": [
    {
     "name": "stdout",
     "output_type": "stream",
     "text": [
      "count   18,240.00\n",
      "mean         2.13\n",
      "std          1.11\n",
      "min          0.00\n",
      "25%          1.00\n",
      "50%          2.00\n",
      "75%          3.00\n",
      "max         19.00\n",
      "Name: rooms, dtype: float64\n"
     ]
    }
   ],
   "source": [
    "print(data['rooms'].describe())"
   ]
  },
  {
   "cell_type": "markdown",
   "metadata": {},
   "source": [
    "Максимальное значение равно 19, а 75% меньше 3."
   ]
  },
  {
   "cell_type": "code",
   "execution_count": 37,
   "metadata": {},
   "outputs": [
    {
     "data": {
      "image/png": "[encoded data removed]",
      "text/plain": [
       "<Figure size 432x288 with 1 Axes>"
      ]
     },
     "metadata": {
      "needs_background": "light"
     },
     "output_type": "display_data"
    }
   ],
   "source": [
    "data.hist('rooms', range=(0, 19));"
   ]
  },
  {
   "cell_type": "markdown",
   "metadata": {},
   "source": [
    "Рассмотрим ближе диапазон от 7.5 до 19."
   ]
  },
  {
   "cell_type": "code",
   "execution_count": 38,
   "metadata": {},
   "outputs": [
    {
     "data": {
      "image/png": "[encoded data removed]",
      "text/plain": [
       "<Figure size 432x288 with 1 Axes>"
      ]
     },
     "metadata": {
      "needs_background": "light"
     },
     "output_type": "display_data"
    }
   ],
   "source": [
    "data.hist('rooms', range=(7.5, 19));"
   ]
  },
  {
   "cell_type": "markdown",
   "metadata": {},
   "source": [
    "Найдем долю квартир, в которых больше 12 комнат."
   ]
  },
  {
   "cell_type": "code",
   "execution_count": 39,
   "metadata": {},
   "outputs": [
    {
     "name": "stdout",
     "output_type": "stream",
     "text": [
      "Число квартир, в которых больше 12 комнат, - 0.0002190100744634253\n"
     ]
    }
   ],
   "source": [
    "print('Число квартир, в которых больше 12 комнат, -', data[data['rooms'] > 12]['rooms'].count()/count_all)"
   ]
  },
  {
   "cell_type": "markdown",
   "metadata": {},
   "source": [
    "Будем считать значения числа комнат больше 12 выбросами и удалим этим строки."
   ]
  },
  {
   "cell_type": "code",
   "execution_count": 40,
   "metadata": {},
   "outputs": [],
   "source": [
    "data = data.drop(data[data['rooms'] > 12].index)"
   ]
  },
  {
   "cell_type": "markdown",
   "metadata": {},
   "source": [
    "#### ceiling_height"
   ]
  },
  {
   "cell_type": "markdown",
   "metadata": {},
   "source": [
    "Выведем статистические сведения о столбце."
   ]
  },
  {
   "cell_type": "code",
   "execution_count": 41,
   "metadata": {},
   "outputs": [
    {
     "name": "stdout",
     "output_type": "stream",
     "text": [
      "count   18,236.00\n",
      "mean         2.74\n",
      "std          0.98\n",
      "min          1.00\n",
      "25%          2.60\n",
      "50%          2.65\n",
      "75%          2.72\n",
      "max        100.00\n",
      "Name: ceiling_height, dtype: float64\n"
     ]
    }
   ],
   "source": [
    "print(data['ceiling_height'].describe())"
   ]
  },
  {
   "cell_type": "markdown",
   "metadata": {},
   "source": [
    "Максимальное значение неправдоподобно большое - 100.\n",
    "\n",
    "Выведем на экран уникальные значения этого столбца, отсортированные по возврастанию"
   ]
  },
  {
   "cell_type": "code",
   "execution_count": 42,
   "metadata": {},
   "outputs": [
    {
     "data": {
      "text/plain": [
       "[1.0,\n",
       " 1.75,\n",
       " 2.0,\n",
       " 2.3,\n",
       " 2.4,\n",
       " 2.45,\n",
       " 2.46,\n",
       " 2.47,\n",
       " 2.48,\n",
       " 2.49,\n",
       " 2.5,\n",
       " 2.51,\n",
       " 2.52,\n",
       " 2.53,\n",
       " 2.54,\n",
       " 2.55,\n",
       " 2.56,\n",
       " 2.57,\n",
       " 2.58,\n",
       " 2.59,\n",
       " 2.6,\n",
       " 2.61,\n",
       " 2.62,\n",
       " 2.63,\n",
       " 2.64,\n",
       " 2.65,\n",
       " 2.66,\n",
       " 2.67,\n",
       " 2.68,\n",
       " 2.69,\n",
       " 2.7,\n",
       " 2.71,\n",
       " 2.72,\n",
       " 2.73,\n",
       " 2.74,\n",
       " 2.75,\n",
       " 2.76,\n",
       " 2.77,\n",
       " 2.78,\n",
       " 2.79,\n",
       " 2.8,\n",
       " 2.81,\n",
       " 2.82,\n",
       " 2.83,\n",
       " 2.84,\n",
       " 2.85,\n",
       " 2.86,\n",
       " 2.87,\n",
       " 2.88,\n",
       " 2.89,\n",
       " 2.9,\n",
       " 2.91,\n",
       " 2.92,\n",
       " 2.93,\n",
       " 2.94,\n",
       " 2.95,\n",
       " 2.96,\n",
       " 2.97,\n",
       " 2.98,\n",
       " 2.99,\n",
       " 3.0,\n",
       " 3.01,\n",
       " 3.02,\n",
       " 3.03,\n",
       " 3.04,\n",
       " 3.05,\n",
       " 3.06,\n",
       " 3.07,\n",
       " 3.08,\n",
       " 3.09,\n",
       " 3.1,\n",
       " 3.11,\n",
       " 3.12,\n",
       " 3.13,\n",
       " 3.14,\n",
       " 3.15,\n",
       " 3.16,\n",
       " 3.17,\n",
       " 3.18,\n",
       " 3.2,\n",
       " 3.21,\n",
       " 3.22,\n",
       " 3.23,\n",
       " 3.24,\n",
       " 3.25,\n",
       " 3.26,\n",
       " 3.27,\n",
       " 3.28,\n",
       " 3.29,\n",
       " 3.3,\n",
       " 3.31,\n",
       " 3.32,\n",
       " 3.33,\n",
       " 3.34,\n",
       " 3.35,\n",
       " 3.36,\n",
       " 3.37,\n",
       " 3.38,\n",
       " 3.39,\n",
       " 3.4,\n",
       " 3.42,\n",
       " 3.43,\n",
       " 3.44,\n",
       " 3.45,\n",
       " 3.46,\n",
       " 3.47,\n",
       " 3.48,\n",
       " 3.49,\n",
       " 3.5,\n",
       " 3.51,\n",
       " 3.52,\n",
       " 3.53,\n",
       " 3.54,\n",
       " 3.55,\n",
       " 3.56,\n",
       " 3.57,\n",
       " 3.58,\n",
       " 3.59,\n",
       " 3.6,\n",
       " 3.62,\n",
       " 3.63,\n",
       " 3.65,\n",
       " 3.66,\n",
       " 3.67,\n",
       " 3.68,\n",
       " 3.69,\n",
       " 3.7,\n",
       " 3.75,\n",
       " 3.76,\n",
       " 3.78,\n",
       " 3.8,\n",
       " 3.82,\n",
       " 3.84,\n",
       " 3.85,\n",
       " 3.86,\n",
       " 3.87,\n",
       " 3.88,\n",
       " 3.9,\n",
       " 3.93,\n",
       " 3.95,\n",
       " 3.98,\n",
       " 4.0,\n",
       " 4.06,\n",
       " 4.1,\n",
       " 4.14,\n",
       " 4.15,\n",
       " 4.19,\n",
       " 4.2,\n",
       " 4.25,\n",
       " 4.3,\n",
       " 4.37,\n",
       " 4.4,\n",
       " 4.45,\n",
       " 4.5,\n",
       " 4.7,\n",
       " 4.8,\n",
       " 4.9,\n",
       " 5.2,\n",
       " 5.3,\n",
       " 5.5,\n",
       " 5.6,\n",
       " 5.8,\n",
       " 6.0,\n",
       " 8.0,\n",
       " 8.3,\n",
       " 10.3,\n",
       " 14.0,\n",
       " 20.0,\n",
       " 22.6,\n",
       " 24.0,\n",
       " 25.0,\n",
       " 26.0,\n",
       " 27.0,\n",
       " 27.5,\n",
       " 32.0,\n",
       " 100.0]"
      ]
     },
     "execution_count": 42,
     "metadata": {},
     "output_type": "execute_result"
    }
   ],
   "source": [
    "sorted(data['ceiling_height'].unique())"
   ]
  },
  {
   "cell_type": "markdown",
   "metadata": {},
   "source": [
    "Логично предположить, что значения больше 20 записаны с ошибкой. Необходимо поделить числа на 10, чтобы получить правдоподобную высоту потолков."
   ]
  },
  {
   "cell_type": "code",
   "execution_count": 43,
   "metadata": {},
   "outputs": [],
   "source": [
    "data['ceiling_height'] = data['ceiling_height'].where(data['ceiling_height'] < 20, round(data['ceiling_height']/10, 2))"
   ]
  },
  {
   "cell_type": "markdown",
   "metadata": {},
   "source": [
    "Построим гистограмму для столбца ceiling_height."
   ]
  },
  {
   "cell_type": "code",
   "execution_count": 44,
   "metadata": {},
   "outputs": [
    {
     "data": {
      "image/png": "[encoded data removed]",
      "text/plain": [
       "<Figure size 432x288 with 1 Axes>"
      ]
     },
     "metadata": {
      "needs_background": "light"
     },
     "output_type": "display_data"
    }
   ],
   "source": [
    "data.hist('ceiling_height', range=(1, 10));"
   ]
  },
  {
   "cell_type": "markdown",
   "metadata": {},
   "source": [
    "Найдем долю значений больше 4, а также долю значений меньше 2."
   ]
  },
  {
   "cell_type": "code",
   "execution_count": 45,
   "metadata": {},
   "outputs": [
    {
     "name": "stdout",
     "output_type": "stream",
     "text": [
      "Доля значений ceiling_height больше 4 метров - 0.002463863337713535\n",
      "Доля значений ceiling_height меньше 2 метров - 0.002463863337713535\n"
     ]
    }
   ],
   "source": [
    "print('Доля значений ceiling_height больше 4 метров -', \n",
    "      data[data['ceiling_height'] > 4]['ceiling_height'].count()/count_all)\n",
    "print('Доля значений ceiling_height меньше 2 метров -', \n",
    "      data[data['ceiling_height'] < 2.5]['ceiling_height'].count()/count_all)"
   ]
  },
  {
   "cell_type": "markdown",
   "metadata": {},
   "source": [
    "Согласно гистограмме выше будем считать все значения больше 4 метров и меньше 2 случайными выбросами и удалим их."
   ]
  },
  {
   "cell_type": "code",
   "execution_count": 46,
   "metadata": {},
   "outputs": [],
   "source": [
    "data = data.drop(data[data['ceiling_height'] > 4].index)\n",
    "data = data.drop(data[data['ceiling_height'] < 2].index)"
   ]
  },
  {
   "cell_type": "markdown",
   "metadata": {},
   "source": [
    "#### kitchen_area"
   ]
  },
  {
   "cell_type": "markdown",
   "metadata": {},
   "source": [
    "Выведем статистические сведения о столбце."
   ]
  },
  {
   "cell_type": "code",
   "execution_count": 47,
   "metadata": {},
   "outputs": [
    {
     "name": "stdout",
     "output_type": "stream",
     "text": [
      "count   16,619.00\n",
      "mean        10.90\n",
      "std          6.16\n",
      "min          1.30\n",
      "25%          7.10\n",
      "50%          9.70\n",
      "75%         12.20\n",
      "max        107.00\n",
      "Name: kitchen_area, dtype: float64\n"
     ]
    }
   ],
   "source": [
    "print(data['kitchen_area'].describe())"
   ]
  },
  {
   "cell_type": "markdown",
   "metadata": {},
   "source": [
    "Максимальное значение для него 112, а больше 75% квартир меньше 12."
   ]
  },
  {
   "cell_type": "code",
   "execution_count": 48,
   "metadata": {},
   "outputs": [
    {
     "data": {
      "image/png": "[encoded data removed]",
      "text/plain": [
       "<Figure size 432x288 with 1 Axes>"
      ]
     },
     "metadata": {
      "needs_background": "light"
     },
     "output_type": "display_data"
    }
   ],
   "source": [
    "data.hist('kitchen_area', range=(0, 112));"
   ]
  },
  {
   "cell_type": "markdown",
   "metadata": {},
   "source": [
    "Рассмотрим ближе диапазон от 20 до 60."
   ]
  },
  {
   "cell_type": "code",
   "execution_count": 49,
   "metadata": {},
   "outputs": [
    {
     "data": {
      "image/png": "[encoded data removed]",
      "text/plain": [
       "<Figure size 432x288 with 1 Axes>"
      ]
     },
     "metadata": {
      "needs_background": "light"
     },
     "output_type": "display_data"
    }
   ],
   "source": [
    "data.hist('kitchen_area', range=(20, 60));"
   ]
  },
  {
   "cell_type": "markdown",
   "metadata": {},
   "source": [
    "Найдем долю квартир с площадью кухни больше 60 кв. метров."
   ]
  },
  {
   "cell_type": "code",
   "execution_count": 50,
   "metadata": {},
   "outputs": [
    {
     "name": "stdout",
     "output_type": "stream",
     "text": [
      "Доля квартир с площадью кухни больше 60 кв. метров - 0.0010950503723171265\n"
     ]
    }
   ],
   "source": [
    "print('Доля квартир с площадью кухни больше 60 кв. метров -', \n",
    "      data[data['kitchen_area'] > 60]['kitchen_area'].count()/count_all)"
   ]
  },
  {
   "cell_type": "markdown",
   "metadata": {},
   "source": [
    "Будем считать значения больше 60 случайными выбросами и удалим эти строки."
   ]
  },
  {
   "cell_type": "code",
   "execution_count": 51,
   "metadata": {},
   "outputs": [],
   "source": [
    "data = data.drop(data[data['kitchen_area'] > 60].index)"
   ]
  },
  {
   "cell_type": "markdown",
   "metadata": {},
   "source": [
    "#### Выводы"
   ]
  },
  {
   "cell_type": "markdown",
   "metadata": {},
   "source": [
    "Проанализировав сведения о каждом столбце, мы увидели, что в столбцах *last_price, total_area, rooms, ceiling_height, kitchen_area* возможно присутствуют выделяющиеся/ошибочные значения. Мы сделали этот вывод из-за очень большого различия между максимальным значением в столбце и границей третьего квартиля. Во всех столбцах мы отбросили выбивающиеся значения. В столбце *ceiling_height* предварительно исправили предположительно неверно записанные значения, исходя из стандартной высоты потолков в квартирах."
   ]
  },
  {
   "cell_type": "markdown",
   "metadata": {},
   "source": [
    "### Добавление в таблицу новых столбцов"
   ]
  },
  {
   "cell_type": "markdown",
   "metadata": {},
   "source": [
    "#### Цена одного квадратного метра"
   ]
  },
  {
   "cell_type": "code",
   "execution_count": 52,
   "metadata": {},
   "outputs": [
    {
     "data": {
      "text/plain": [
       "0   120,370.37\n",
       "1    82,920.79\n",
       "2    92,785.71\n",
       "3   408,176.10\n",
       "4   100,000.00\n",
       "Name: one_meter, dtype: float64"
      ]
     },
     "execution_count": 52,
     "metadata": {},
     "output_type": "execute_result"
    }
   ],
   "source": [
    "# one_meter = last_price / total_area. Округлим полученное значение до сотых.\n",
    "\n",
    "data['one_meter'] = round(data['last_price'] / data['total_area'], 2)\n",
    "data['one_meter'].head() # Проверка"
   ]
  },
  {
   "cell_type": "markdown",
   "metadata": {},
   "source": [
    "#### День недели публикации объявления"
   ]
  },
  {
   "cell_type": "code",
   "execution_count": 53,
   "metadata": {},
   "outputs": [
    {
     "name": "stdout",
     "output_type": "stream",
     "text": [
      "0   2019-03-07\n",
      "1   2018-12-04\n",
      "2   2015-08-20\n",
      "3   2015-07-24\n",
      "4   2018-06-19\n",
      "Name: first_day_exposition, dtype: datetime64[ns]\n"
     ]
    },
    {
     "data": {
      "text/plain": [
       "0    3\n",
       "1    1\n",
       "2    3\n",
       "3    4\n",
       "4    1\n",
       "Name: publication_weekday, dtype: int64"
      ]
     },
     "execution_count": 53,
     "metadata": {},
     "output_type": "execute_result"
    }
   ],
   "source": [
    "# День недели публикации объявления (0 - пн, 1 - вт, 2- ср, 3 - чт, 4 - пт, 5 - сб, 6 - вс)\n",
    "# publication_week_day - извлекаем день недели из даты публикации first_day_exposition (с помощью свойства dt.dayofweek)\n",
    "\n",
    "print(data['first_day_exposition'].head())\n",
    "data['publication_weekday'] = data['first_day_exposition'].dt.dayofweek\n",
    "data['publication_weekday'].head() # Проверка"
   ]
  },
  {
   "cell_type": "markdown",
   "metadata": {},
   "source": [
    "#### Месяц публикации объявления"
   ]
  },
  {
   "cell_type": "code",
   "execution_count": 54,
   "metadata": {},
   "outputs": [
    {
     "name": "stdout",
     "output_type": "stream",
     "text": [
      "0   2019-03-07\n",
      "1   2018-12-04\n",
      "2   2015-08-20\n",
      "3   2015-07-24\n",
      "4   2018-06-19\n",
      "Name: first_day_exposition, dtype: datetime64[ns]\n"
     ]
    },
    {
     "data": {
      "text/plain": [
       "0     3\n",
       "1    12\n",
       "2     8\n",
       "3     7\n",
       "4     6\n",
       "Name: publication_month, dtype: int64"
      ]
     },
     "execution_count": 54,
     "metadata": {},
     "output_type": "execute_result"
    }
   ],
   "source": [
    "# publication_month - извлекаем месяц из даты публикации first_day_exposition (.month)\n",
    "\n",
    "\n",
    "print(data['first_day_exposition'].head())\n",
    "data['publication_month'] = data['first_day_exposition'].dt.month\n",
    "data['publication_month'].head() # Проверка"
   ]
  },
  {
   "cell_type": "markdown",
   "metadata": {},
   "source": [
    "#### Год публикации объявления"
   ]
  },
  {
   "cell_type": "code",
   "execution_count": 55,
   "metadata": {},
   "outputs": [
    {
     "name": "stdout",
     "output_type": "stream",
     "text": [
      "0   2019-03-07\n",
      "1   2018-12-04\n",
      "2   2015-08-20\n",
      "3   2015-07-24\n",
      "4   2018-06-19\n",
      "Name: first_day_exposition, dtype: datetime64[ns]\n"
     ]
    },
    {
     "data": {
      "text/plain": [
       "0    2019\n",
       "1    2018\n",
       "2    2015\n",
       "3    2015\n",
       "4    2018\n",
       "Name: publication_year, dtype: int64"
      ]
     },
     "execution_count": 55,
     "metadata": {},
     "output_type": "execute_result"
    }
   ],
   "source": [
    "# publication_year - извлекаем год из даты публикации first_day_exposition (.year)\n",
    "\n",
    "print(data['first_day_exposition'].head())\n",
    "data['publication_year'] = data['first_day_exposition'].dt.year\n",
    "data['publication_year'].head() # Проверка"
   ]
  },
  {
   "cell_type": "markdown",
   "metadata": {},
   "source": [
    "#### Тип этажа квартиры"
   ]
  },
  {
   "cell_type": "code",
   "execution_count": 56,
   "metadata": {},
   "outputs": [],
   "source": [
    "# Тип этажа квартиры (значения — «первый», «последний», «другой»)\n",
    "# appartment_type\n",
    "    \n",
    "# Функция подстановки типа этажа квартиры - первый, последний, другой\n",
    "def set_floor(row):\n",
    "    if (row['floors_total'] != np.nan):\n",
    "        floors_total = row['floors_total']\n",
    "    else:\n",
    "        return 'другой'\n",
    "    floor = row['floor']    \n",
    "    if floor == 1:\n",
    "        return 'первый'\n",
    "    elif floor == floors_total:\n",
    "        return 'последний'\n",
    "    return 'другой'\n",
    "\n",
    "data['floor_type'] = data.apply(set_floor, axis=1)"
   ]
  },
  {
   "cell_type": "code",
   "execution_count": 57,
   "metadata": {},
   "outputs": [
    {
     "name": "stdout",
     "output_type": "stream",
     "text": [
      "floor_type\n",
      "другой       13798\n",
      "первый        1997\n",
      "последний     2374\n",
      "Name: floor_type, dtype: int64\n"
     ]
    }
   ],
   "source": [
    "print(data.groupby('floor_type')['floor_type'].count()) # проверка"
   ]
  },
  {
   "cell_type": "markdown",
   "metadata": {},
   "source": [
    "#### Расстояние до центра города в километрах"
   ]
  },
  {
   "cell_type": "code",
   "execution_count": 58,
   "metadata": {},
   "outputs": [
    {
     "data": {
      "text/plain": [
       "0   16,028.00\n",
       "1   18,603.00\n",
       "2   13,933.00\n",
       "3    6,800.00\n",
       "4    8,098.00\n",
       "Name: city_centers_nearest, dtype: float64"
      ]
     },
     "metadata": {},
     "output_type": "display_data"
    },
    {
     "data": {
      "text/plain": [
       "0   16.00\n",
       "1   19.00\n",
       "2   14.00\n",
       "3    7.00\n",
       "4    8.00\n",
       "Name: city_centers_km, dtype: float64"
      ]
     },
     "metadata": {},
     "output_type": "display_data"
    }
   ],
   "source": [
    "# Переводим в километры (city_centers_nearest/1000) и округляем до целых значений (round(number))\n",
    "# city_centers_km\n",
    "\n",
    "display(data['city_centers_nearest'].head())\n",
    "data['city_centers_km'] = round(data['city_centers_nearest'] / 1000)#.convert_dtypes()\n",
    "display(data['city_centers_km'].head())"
   ]
  },
  {
   "cell_type": "code",
   "execution_count": 59,
   "metadata": {},
   "outputs": [
    {
     "data": {
      "text/plain": [
       "0"
      ]
     },
     "execution_count": 59,
     "metadata": {},
     "output_type": "execute_result"
    }
   ],
   "source": [
    "data['city_centers_nearest'].isna().sum()"
   ]
  },
  {
   "cell_type": "markdown",
   "metadata": {},
   "source": [
    "## Исследовательский анализ данных"
   ]
  },
  {
   "cell_type": "markdown",
   "metadata": {},
   "source": [
    "### Исследование параметров объекта"
   ]
  },
  {
   "cell_type": "markdown",
   "metadata": {},
   "source": [
    "**Исследуем параметры объектов:**\n",
    "- 1. общая площадь;\n",
    "- 2. жилая площадь;\n",
    "- 3. площадь кухни;\n",
    "- 4. цена объекта;\n",
    "- 5. количество комнат;\n",
    "- 6. высота потолков;\n",
    "- 7. этаж квартиры;\n",
    "- 8. тип этажа квартиры («первый», «последний», «другой»);\n",
    "- 9. общее количество этажей в доме;\n",
    "- 10.расстояние до центра города в метрах;\n",
    "- 11.расстояние до ближайшего аэропорта;\n",
    "- 12.расстояние до ближайшего парка;\n",
    "- 13.день и месяц публикации объявления.\n",
    "\n",
    "Для каждого выведем общие сведения и построим гистограмму"
   ]
  },
  {
   "cell_type": "markdown",
   "metadata": {},
   "source": [
    "#### Общая площадь (total_area)"
   ]
  },
  {
   "cell_type": "code",
   "execution_count": 60,
   "metadata": {},
   "outputs": [
    {
     "data": {
      "text/plain": [
       "count   18,169.00\n",
       "mean        62.44\n",
       "std         34.42\n",
       "min         12.00\n",
       "25%         41.00\n",
       "50%         54.00\n",
       "75%         72.60\n",
       "max        400.00\n",
       "Name: total_area, dtype: float64"
      ]
     },
     "metadata": {},
     "output_type": "display_data"
    },
    {
     "data": {
      "image/png": "[encoded data removed]",
      "text/plain": [
       "<Figure size 432x288 with 1 Axes>"
      ]
     },
     "metadata": {
      "needs_background": "light"
     },
     "output_type": "display_data"
    }
   ],
   "source": [
    "display(data['total_area'].describe())\n",
    "data.hist('total_area');"
   ]
  },
  {
   "cell_type": "markdown",
   "metadata": {},
   "source": [
    "#### Жилая площадь (living_area)"
   ]
  },
  {
   "cell_type": "code",
   "execution_count": 61,
   "metadata": {},
   "outputs": [
    {
     "data": {
      "text/plain": [
       "count   18,169.00\n",
       "mean        35.50\n",
       "std         21.68\n",
       "min          2.00\n",
       "25%         19.00\n",
       "50%         30.50\n",
       "75%         43.70\n",
       "max        260.00\n",
       "Name: living_area, dtype: float64"
      ]
     },
     "metadata": {},
     "output_type": "display_data"
    },
    {
     "data": {
      "image/png": "[encoded data removed]",
      "text/plain": [
       "<Figure size 432x288 with 1 Axes>"
      ]
     },
     "metadata": {
      "needs_background": "light"
     },
     "output_type": "display_data"
    }
   ],
   "source": [
    "display(data['living_area'].describe())\n",
    "data.hist('living_area');"
   ]
  },
  {
   "cell_type": "markdown",
   "metadata": {},
   "source": [
    "#### Площадь кухни (kitchen_area)"
   ]
  },
  {
   "cell_type": "code",
   "execution_count": 62,
   "metadata": {},
   "outputs": [
    {
     "data": {
      "text/plain": [
       "count   16,599.00\n",
       "mean        10.82\n",
       "std          5.73\n",
       "min          1.30\n",
       "25%          7.10\n",
       "50%          9.62\n",
       "75%         12.10\n",
       "max         60.00\n",
       "Name: kitchen_area, dtype: float64"
      ]
     },
     "metadata": {},
     "output_type": "display_data"
    },
    {
     "data": {
      "image/png": "[encoded data removed]",
      "text/plain": [
       "<Figure size 432x288 with 1 Axes>"
      ]
     },
     "metadata": {
      "needs_background": "light"
     },
     "output_type": "display_data"
    }
   ],
   "source": [
    "# Выведем общие сведения и построим гистограмму\n",
    "display(data['kitchen_area'].describe())\n",
    "data.hist('kitchen_area');"
   ]
  },
  {
   "cell_type": "markdown",
   "metadata": {},
   "source": [
    "#### Цена объекта"
   ]
  },
  {
   "cell_type": "code",
   "execution_count": 63,
   "metadata": {},
   "outputs": [
    {
     "data": {
      "text/plain": [
       "count        18,169.00\n",
       "mean      7,282,384.65\n",
       "std       8,627,994.36\n",
       "min          12,190.00\n",
       "25%       4,000,000.00\n",
       "50%       5,250,000.00\n",
       "75%       7,600,000.00\n",
       "max     330,000,000.00\n",
       "Name: last_price, dtype: float64"
      ]
     },
     "metadata": {},
     "output_type": "display_data"
    },
    {
     "data": {
      "image/png": "[encoded data removed]",
      "text/plain": [
       "<Figure size 432x288 with 1 Axes>"
      ]
     },
     "metadata": {
      "needs_background": "light"
     },
     "output_type": "display_data"
    }
   ],
   "source": [
    "display(data['last_price'].describe())\n",
    "data.hist('last_price');"
   ]
  },
  {
   "cell_type": "markdown",
   "metadata": {},
   "source": [
    "Из-за наличия больших значений в четвертом квартиле гистограмма на всем диапазоне значений неинформативна.\n",
    "\n",
    "Рассмотрим подробнее данные, которые меньше границы 4 квартиля."
   ]
  },
  {
   "cell_type": "code",
   "execution_count": 64,
   "metadata": {},
   "outputs": [
    {
     "data": {
      "image/png": "[encoded data removed]",
      "text/plain": [
       "<Figure size 432x288 with 1 Axes>"
      ]
     },
     "metadata": {
      "needs_background": "light"
     },
     "output_type": "display_data"
    }
   ],
   "source": [
    "data.hist('last_price', range=(0, data.last_price.quantile(0.75)));"
   ]
  },
  {
   "cell_type": "markdown",
   "metadata": {},
   "source": [
    "#### Количество комнат"
   ]
  },
  {
   "cell_type": "code",
   "execution_count": 65,
   "metadata": {},
   "outputs": [
    {
     "data": {
      "text/plain": [
       "count   18,169.00\n",
       "mean         2.13\n",
       "std          1.09\n",
       "min          0.00\n",
       "25%          1.00\n",
       "50%          2.00\n",
       "75%          3.00\n",
       "max         11.00\n",
       "Name: rooms, dtype: float64"
      ]
     },
     "metadata": {},
     "output_type": "display_data"
    },
    {
     "data": {
      "image/png": "[encoded data removed]",
      "text/plain": [
       "<Figure size 432x288 with 1 Axes>"
      ]
     },
     "metadata": {
      "needs_background": "light"
     },
     "output_type": "display_data"
    }
   ],
   "source": [
    "display(data['rooms'].describe())\n",
    "data.hist('rooms');"
   ]
  },
  {
   "cell_type": "markdown",
   "metadata": {},
   "source": [
    "#### Высота потолков"
   ]
  },
  {
   "cell_type": "code",
   "execution_count": 66,
   "metadata": {},
   "outputs": [
    {
     "data": {
      "text/plain": [
       "count   18,169.00\n",
       "mean         2.71\n",
       "std          0.22\n",
       "min          2.00\n",
       "25%          2.60\n",
       "50%          2.65\n",
       "75%          2.70\n",
       "max          4.00\n",
       "Name: ceiling_height, dtype: float64"
      ]
     },
     "metadata": {},
     "output_type": "display_data"
    },
    {
     "data": {
      "image/png": "[encoded data removed]",
      "text/plain": [
       "<Figure size 432x288 with 1 Axes>"
      ]
     },
     "metadata": {
      "needs_background": "light"
     },
     "output_type": "display_data"
    }
   ],
   "source": [
    "display(data['ceiling_height'].describe())\n",
    "data.hist('ceiling_height');"
   ]
  },
  {
   "cell_type": "markdown",
   "metadata": {},
   "source": [
    "#### Этаж квартиры"
   ]
  },
  {
   "cell_type": "code",
   "execution_count": 67,
   "metadata": {},
   "outputs": [
    {
     "data": {
      "text/plain": [
       "count   18,169.00\n",
       "mean         6.15\n",
       "std          4.96\n",
       "min          1.00\n",
       "25%          3.00\n",
       "50%          5.00\n",
       "75%          8.00\n",
       "max         33.00\n",
       "Name: floor, dtype: float64"
      ]
     },
     "metadata": {},
     "output_type": "display_data"
    },
    {
     "data": {
      "image/png": "[encoded data removed]",
      "text/plain": [
       "<Figure size 432x288 with 1 Axes>"
      ]
     },
     "metadata": {
      "needs_background": "light"
     },
     "output_type": "display_data"
    }
   ],
   "source": [
    "display(data['floor'].describe())\n",
    "data.hist('floor');"
   ]
  },
  {
   "cell_type": "markdown",
   "metadata": {},
   "source": [
    "Узнаем процент квартир в домах выше 25 этажей."
   ]
  },
  {
   "cell_type": "code",
   "execution_count": 68,
   "metadata": {},
   "outputs": [
    {
     "name": "stdout",
     "output_type": "stream",
     "text": [
      "Квартир в домах выше 25 этажей - 0.002\n"
     ]
    }
   ],
   "source": [
    "print('Квартир в домах выше 25 этажей -', round(data[data['floor'] > 25]['floor'].count() / data['floor'].count(), 3))"
   ]
  },
  {
   "cell_type": "markdown",
   "metadata": {},
   "source": [
    "#### Тип этажа квартиры («первый», «последний», «другой»)"
   ]
  },
  {
   "cell_type": "code",
   "execution_count": 69,
   "metadata": {},
   "outputs": [
    {
     "data": {
      "image/png": "[encoded data removed]",
      "text/plain": [
       "<Figure size 432x288 with 1 Axes>"
      ]
     },
     "metadata": {
      "needs_background": "light"
     },
     "output_type": "display_data"
    }
   ],
   "source": [
    "data.groupby('floor_type')['floor_type'].count()\n",
    "data.groupby('floor_type')['floor_type'].hist();"
   ]
  },
  {
   "cell_type": "markdown",
   "metadata": {},
   "source": [
    "Посчитаем процент квартир на первом и последнем этажах."
   ]
  },
  {
   "cell_type": "code",
   "execution_count": 70,
   "metadata": {},
   "outputs": [
    {
     "name": "stdout",
     "output_type": "stream",
     "text": [
      "Процент квартир на первом этаже - 0.11\n",
      "Процент квартир на последнем этаже - 0.13\n"
     ]
    }
   ],
   "source": [
    "print('Процент квартир на первом этаже -', round(data[data['floor_type'] == 'первый']['floor_type'].count()/data['floor_type'].count(), 2))\n",
    "print('Процент квартир на последнем этаже -', round(data[data['floor_type'] == 'последний']['floor_type'].count()/data['floor_type'].count(), 2))"
   ]
  },
  {
   "cell_type": "markdown",
   "metadata": {},
   "source": [
    "#### Общее количество этажей в доме"
   ]
  },
  {
   "cell_type": "code",
   "execution_count": 71,
   "metadata": {},
   "outputs": [
    {
     "data": {
      "text/plain": [
       "count   18,169.00\n",
       "mean        11.20\n",
       "std          6.54\n",
       "min          1.00\n",
       "25%          5.00\n",
       "50%          9.00\n",
       "75%         16.00\n",
       "max         60.00\n",
       "Name: floors_total, dtype: float64"
      ]
     },
     "metadata": {},
     "output_type": "display_data"
    },
    {
     "data": {
      "image/png": "[encoded data removed]",
      "text/plain": [
       "<Figure size 432x288 with 1 Axes>"
      ]
     },
     "metadata": {
      "needs_background": "light"
     },
     "output_type": "display_data"
    }
   ],
   "source": [
    "display(data['floors_total'].describe())\n",
    "data.hist('floors_total');"
   ]
  },
  {
   "cell_type": "markdown",
   "metadata": {},
   "source": [
    "#### Расстояние до центра города в метрах"
   ]
  },
  {
   "cell_type": "code",
   "execution_count": 72,
   "metadata": {},
   "outputs": [
    {
     "data": {
      "text/plain": [
       "count   18,169.00\n",
       "mean    14,271.33\n",
       "std      8,619.88\n",
       "min        181.00\n",
       "25%      9,380.00\n",
       "50%     13,138.00\n",
       "75%     16,350.00\n",
       "max     65,968.00\n",
       "Name: city_centers_nearest, dtype: float64"
      ]
     },
     "metadata": {},
     "output_type": "display_data"
    },
    {
     "data": {
      "image/png": "[encoded data removed]",
      "text/plain": [
       "<Figure size 432x288 with 1 Axes>"
      ]
     },
     "metadata": {
      "needs_background": "light"
     },
     "output_type": "display_data"
    }
   ],
   "source": [
    "display(data['city_centers_nearest'].describe())\n",
    "data.hist('city_centers_nearest');"
   ]
  },
  {
   "cell_type": "markdown",
   "metadata": {},
   "source": [
    "Расстояние до ближайшего аэропорта"
   ]
  },
  {
   "cell_type": "code",
   "execution_count": 73,
   "metadata": {},
   "outputs": [
    {
     "data": {
      "text/plain": [
       "count   18,169.00\n",
       "mean    28,888.48\n",
       "std     12,700.51\n",
       "min          0.00\n",
       "25%     18,590.00\n",
       "50%     26,902.00\n",
       "75%     37,393.00\n",
       "max     84,869.00\n",
       "Name: airports_nearest, dtype: float64"
      ]
     },
     "metadata": {},
     "output_type": "display_data"
    },
    {
     "data": {
      "image/png": "[encoded data removed]",
      "text/plain": [
       "<Figure size 432x288 with 1 Axes>"
      ]
     },
     "metadata": {
      "needs_background": "light"
     },
     "output_type": "display_data"
    }
   ],
   "source": [
    "display(data['airports_nearest'].describe())\n",
    "data.hist('airports_nearest');"
   ]
  },
  {
   "cell_type": "markdown",
   "metadata": {},
   "source": [
    "Посчитаем процент квартир с  расстоянием до аэропорта больше 60 км."
   ]
  },
  {
   "cell_type": "code",
   "execution_count": 74,
   "metadata": {},
   "outputs": [
    {
     "name": "stdout",
     "output_type": "stream",
     "text": [
      "Процент квартир с расстоянием до аэропорта больше 60 км - 0.01\n"
     ]
    }
   ],
   "source": [
    "print('Процент квартир с расстоянием до аэропорта больше 60 км -', \n",
    "      round(data[data['airports_nearest'] > 60000]['airports_nearest'].count() / data['airports_nearest'].count(), 2))"
   ]
  },
  {
   "cell_type": "markdown",
   "metadata": {},
   "source": [
    "#### Расстояние до ближайшего парка"
   ]
  },
  {
   "cell_type": "code",
   "execution_count": 75,
   "metadata": {},
   "outputs": [
    {
     "data": {
      "text/plain": [
       "count   8,005.00\n",
       "mean      490.89\n",
       "std       342.61\n",
       "min         1.00\n",
       "25%       288.00\n",
       "50%       454.00\n",
       "75%       612.00\n",
       "max     3,190.00\n",
       "Name: parks_nearest, dtype: float64"
      ]
     },
     "metadata": {},
     "output_type": "display_data"
    },
    {
     "data": {
      "image/png": "[encoded data removed]",
      "text/plain": [
       "<Figure size 432x288 with 1 Axes>"
      ]
     },
     "metadata": {
      "needs_background": "light"
     },
     "output_type": "display_data"
    }
   ],
   "source": [
    "display(data['parks_nearest'].describe())\n",
    "data.hist('parks_nearest');"
   ]
  },
  {
   "cell_type": "markdown",
   "metadata": {},
   "source": [
    "#### День публикации объявления"
   ]
  },
  {
   "cell_type": "code",
   "execution_count": 76,
   "metadata": {},
   "outputs": [
    {
     "data": {
      "text/plain": [
       "count   18,169.00\n",
       "mean         2.56\n",
       "std          1.78\n",
       "min          0.00\n",
       "25%          1.00\n",
       "50%          3.00\n",
       "75%          4.00\n",
       "max          6.00\n",
       "Name: publication_weekday, dtype: float64"
      ]
     },
     "metadata": {},
     "output_type": "display_data"
    },
    {
     "data": {
      "image/png": "[encoded data removed]",
      "text/plain": [
       "<Figure size 432x288 with 1 Axes>"
      ]
     },
     "metadata": {
      "needs_background": "light"
     },
     "output_type": "display_data"
    }
   ],
   "source": [
    "display(data['publication_weekday'].describe())\n",
    "data.groupby('publication_weekday')['publication_weekday'].count().plot(kind='bar');"
   ]
  },
  {
   "cell_type": "markdown",
   "metadata": {},
   "source": [
    "#### Месяц публикации объявления"
   ]
  },
  {
   "cell_type": "code",
   "execution_count": 77,
   "metadata": {},
   "outputs": [
    {
     "data": {
      "text/plain": [
       "count   18,169.00\n",
       "mean         6.40\n",
       "std          3.47\n",
       "min          1.00\n",
       "25%          3.00\n",
       "50%          6.00\n",
       "75%         10.00\n",
       "max         12.00\n",
       "Name: publication_month, dtype: float64"
      ]
     },
     "metadata": {},
     "output_type": "display_data"
    },
    {
     "data": {
      "image/png": "[encoded data removed]",
      "text/plain": [
       "<Figure size 432x288 with 1 Axes>"
      ]
     },
     "metadata": {
      "needs_background": "light"
     },
     "output_type": "display_data"
    }
   ],
   "source": [
    "display(data['publication_month'].describe())\n",
    "data.groupby('publication_month')['publication_month'].count().plot(kind='bar');"
   ]
  },
  {
   "cell_type": "markdown",
   "metadata": {},
   "source": [
    "#### Выводы"
   ]
  },
  {
   "cell_type": "markdown",
   "metadata": {},
   "source": [
    "Большинство квартир меньше 70 кв. метров, с жилой площадью меньше 42 кв. метров и кухней меньше 12 кв. метров.\n",
    "В среднем это квартиры площадью 60 кв. метров, с жилой площадью 34 кв. м и кухней 10 кв. метров.\n",
    "Немного квартир имеют площади, значительно превосходящие средние значения.  \n",
    "В среднем стоимость квартиры составляет около 6 млн. Но как и с площадью, стоимость многих квартир в десятки раз превосходит среднюю.  \n",
    "Среднестатистическая квартира - 2-3хкомнатная, со стандартной высотой потолков 2.7 метров.  \n",
    "Больше всего квартир в 5-9этажках. Всего 0,002 квартир продается в домах выше 25 этажей.  \n",
    "По 0,1 квартир продается на первом и последнем этажах.  \n",
    "Большинство квартир находится в пределах 16 километров от центра города и 60 км от аэропорта.  \n",
    "В пределах не более 3 км от всех квартир есть парки.  \n",
    "Реже всего объявления публикуются на выходных. В конце рабочей недели публикуется больше объявлений, чем в начале.  \n",
    "Самые неактивные месяцы - январь и май. Скорее всего это связано с большим количеством выходных дней в этих месяцах. Также выделяется меньшими значениями \"предпраздничный\" декабрь. Больше всего объявлений публикуется с февраля по апрель. В летние месяцы количество объявлений стабильно. И осенью число растет."
   ]
  },
  {
   "cell_type": "markdown",
   "metadata": {},
   "source": [
    "### Анализ скорости продажи квартиры"
   ]
  },
  {
   "cell_type": "markdown",
   "metadata": {},
   "source": [
    "Выведем на экран статистические характеристики."
   ]
  },
  {
   "cell_type": "code",
   "execution_count": 78,
   "metadata": {},
   "outputs": [
    {
     "data": {
      "text/plain": [
       "count   18,169.00\n",
       "mean       170.57\n",
       "std        209.62\n",
       "min          1.00\n",
       "25%         46.00\n",
       "50%         96.00\n",
       "75%        200.00\n",
       "max      1,572.00\n",
       "Name: days_exposition, dtype: float64"
      ]
     },
     "execution_count": 78,
     "metadata": {},
     "output_type": "execute_result"
    }
   ],
   "source": [
    "data['days_exposition'].describe()"
   ]
  },
  {
   "cell_type": "markdown",
   "metadata": {},
   "source": [
    "Возьмем столбец days_exposition, который содержит число дней, в течение которых было размещено каждое объявление.\n",
    "\n",
    "Построим для него гистограмму."
   ]
  },
  {
   "cell_type": "code",
   "execution_count": 79,
   "metadata": {},
   "outputs": [
    {
     "data": {
      "image/png": "[encoded data removed]",
      "text/plain": [
       "<Figure size 432x288 with 1 Axes>"
      ]
     },
     "metadata": {
      "needs_background": "light"
     },
     "output_type": "display_data"
    }
   ],
   "source": [
    "ax = data['days_exposition'].hist()\n",
    "ax.set_xlabel('Number of days')\n",
    "ax.set_ylabel('Number of publications')\n",
    "ax.plot();"
   ]
  },
  {
   "cell_type": "markdown",
   "metadata": {},
   "source": [
    "Рассмотрим подробнее график в пределах верхнего квартиля."
   ]
  },
  {
   "cell_type": "code",
   "execution_count": 80,
   "metadata": {},
   "outputs": [
    {
     "data": {
      "image/png": "[encoded data removed]",
      "text/plain": [
       "<Figure size 432x288 with 1 Axes>"
      ]
     },
     "metadata": {
      "needs_background": "light"
     },
     "output_type": "display_data"
    }
   ],
   "source": [
    "data['days_exposition'].hist(bins=100, range=(0, data.days_exposition.quantile(0.75)));"
   ]
  },
  {
   "cell_type": "markdown",
   "metadata": {},
   "source": [
    "На диаграмме мы видим несколько пиковых значений: 45, 60, 95. Такое количество \"круглых\" значений срока размещения объявления говорит о том, что это могут быть стандартные сроки размещения объявлений, после которых объявления снимаются с публикации автоматически.\n",
    "\n",
    "Исключим из анализа эти три значения, чтобы получить более точную картину распределения значений для столбца *days_exposition*."
   ]
  },
  {
   "cell_type": "markdown",
   "metadata": {},
   "source": [
    "Удалим квартиры со сроком размещения объявлений 45, 60 и 95 дней. Возможно, что среди них есть квартиры, которые продались именно за этот срок, а не были сняты с публикации автоматически.  \n",
    "Чтобы не искажать исходные данные, создадим новую таблицу new_df, в которую запишем объявления, срок размещения которых не 45, 60 или 95 дней. И проведем анализ сроков размещения."
   ]
  },
  {
   "cell_type": "code",
   "execution_count": 81,
   "metadata": {},
   "outputs": [],
   "source": [
    "new_df = data.query('days_exposition not in [45, 60, 95]')"
   ]
  },
  {
   "cell_type": "markdown",
   "metadata": {},
   "source": [
    "Выведем на экран статистические данные."
   ]
  },
  {
   "cell_type": "code",
   "execution_count": 82,
   "metadata": {},
   "outputs": [
    {
     "data": {
      "text/plain": [
       "count   17,218.00\n",
       "mean       176.95\n",
       "std        213.50\n",
       "min          1.00\n",
       "25%         49.00\n",
       "50%         96.00\n",
       "75%        212.00\n",
       "max      1,572.00\n",
       "Name: days_exposition, dtype: float64"
      ]
     },
     "metadata": {},
     "output_type": "display_data"
    }
   ],
   "source": [
    "display(new_df['days_exposition'].describe())"
   ]
  },
  {
   "cell_type": "markdown",
   "metadata": {},
   "source": [
    "Построим гистограмму."
   ]
  },
  {
   "cell_type": "code",
   "execution_count": 83,
   "metadata": {},
   "outputs": [
    {
     "data": {
      "image/png": "[encoded data removed]",
      "text/plain": [
       "<Figure size 1440x360 with 1 Axes>"
      ]
     },
     "metadata": {
      "needs_background": "light"
     },
     "output_type": "display_data"
    }
   ],
   "source": [
    "ax = new_df['days_exposition'].hist(bins=100, figsize=(20, 5))\n",
    "ax.set_xlabel('Number of days')\n",
    "ax.set_ylabel('Number of publications')\n",
    "ax.plot();"
   ]
  },
  {
   "cell_type": "markdown",
   "metadata": {},
   "source": [
    "#### Вывод"
   ]
  },
  {
   "cell_type": "markdown",
   "metadata": {},
   "source": [
    "Избавившись от выбивающихся по частотности значений (40, 60 и 95 дней), мы получили более точную картину распределения сроков публикации объявлений.\n",
    "\n",
    "Обычно продажа занимает около 108 дней - это медианное значение. Поскольку максимальная длительность значительно больше, средняя длительность продаж выше - 190 дней.\n",
    "\n",
    "Продажи, расположенные в четвертом квартиле, то есть длительностью более 249 дней, можно считать необычно долгими.\n",
    "Продажи, расположенные в первом квартиле, то есть длительностью менее 42 дней, можно считать быстрыми."
   ]
  },
  {
   "cell_type": "markdown",
   "metadata": {},
   "source": [
    "### Определение факторов, влияющих на полную стоимость объекта"
   ]
  },
  {
   "cell_type": "markdown",
   "metadata": {},
   "source": [
    "Изучим, зависит ли цена от таких факторов, как:\n",
    "- общей площади;\n",
    "- жилой площади;\n",
    "- площади кухни;\n",
    "- количества комнат;\n",
    "- этажа, на котором расположена квартира (первый, последний, другой);\n",
    "- даты размещения (день недели, месяц, год).\n",
    "\n",
    "Для построения графика будем использовать столбец price_in_million (стоимость в млн). Для построения гистограммы будем формировать сводную таблицу, в которой индексом будет исследуемая величина, а значением - цена. В качестве функции агрегации возьмем медиану, чтобы избежать влияния выбросов."
   ]
  },
  {
   "cell_type": "markdown",
   "metadata": {},
   "source": [
    "#### Общая площадь"
   ]
  },
  {
   "cell_type": "markdown",
   "metadata": {},
   "source": [
    "Посчитаем коэффициент корреляции Пирсона, а также оценим зависимость цены от общей площади по графику."
   ]
  },
  {
   "cell_type": "code",
   "execution_count": 84,
   "metadata": {},
   "outputs": [
    {
     "name": "stdout",
     "output_type": "stream",
     "text": [
      "Корреляция:  0.69\n"
     ]
    }
   ],
   "source": [
    "print('Корреляция: ', round(data['total_area'].corr(data['price_in_mill']), 2))"
   ]
  },
  {
   "cell_type": "code",
   "execution_count": 85,
   "metadata": {},
   "outputs": [
    {
     "data": {
      "image/png": "[encoded data removed]",
      "text/plain": [
       "<Figure size 432x288 with 1 Axes>"
      ]
     },
     "metadata": {
      "needs_background": "light"
     },
     "output_type": "display_data"
    }
   ],
   "source": [
    "# Строим диаграмму рассеяния\n",
    "\n",
    "sns.scatterplot(data=data.pivot_table(index='total_area', values='price_in_mill', aggfunc='median'),\n",
    "                x='total_area', y='price_in_mill');"
   ]
  },
  {
   "cell_type": "markdown",
   "metadata": {},
   "source": [
    "**Вывод**  \n",
    "Между общей площадью и ценой наблюдается умеренная положительная корреляция: с увеличением площади цена растет, а также уведичивается разброс цен."
   ]
  },
  {
   "cell_type": "markdown",
   "metadata": {},
   "source": [
    "#### Жилая площадь"
   ]
  },
  {
   "cell_type": "markdown",
   "metadata": {},
   "source": [
    "Посчитаем коэффициент корреляции Пирсона, а также оценим зависимость цены от жидлй площади по графику."
   ]
  },
  {
   "cell_type": "code",
   "execution_count": 86,
   "metadata": {},
   "outputs": [
    {
     "name": "stdout",
     "output_type": "stream",
     "text": [
      "Корреляция:  0.6\n"
     ]
    },
    {
     "data": {
      "image/png": "[encoded data removed]",
      "text/plain": [
       "<Figure size 864x360 with 1 Axes>"
      ]
     },
     "metadata": {
      "needs_background": "light"
     },
     "output_type": "display_data"
    }
   ],
   "source": [
    "print('Корреляция: ', round(data['living_area'].corr(data['price_in_mill']), 2))\n",
    "(\n",
    "data.pivot_table(index='living_area', values='price_in_mill', aggfunc='median')\n",
    "    .plot(grid=True, figsize=(12, 5))\n",
    ");"
   ]
  },
  {
   "cell_type": "markdown",
   "metadata": {},
   "source": [
    "**Вывод**  \n",
    "Между жилой площадью и ценой наблюдается умеренная положительная корреляция: с увеличением жилой площади стоимость квартиры растет. Чем больше площадь, тем больше скачки в цене."
   ]
  },
  {
   "cell_type": "markdown",
   "metadata": {},
   "source": [
    "#### Площадь кухни"
   ]
  },
  {
   "cell_type": "markdown",
   "metadata": {},
   "source": [
    "Посчитаем коэффициент корреляции Пирсона, а также оценим зависимость цены от площади кухни по графику."
   ]
  },
  {
   "cell_type": "code",
   "execution_count": 87,
   "metadata": {},
   "outputs": [
    {
     "name": "stdout",
     "output_type": "stream",
     "text": [
      "Корреляция:  0.5\n"
     ]
    },
    {
     "data": {
      "image/png": "[encoded data removed]",
      "text/plain": [
       "<Figure size 864x360 with 1 Axes>"
      ]
     },
     "metadata": {
      "needs_background": "light"
     },
     "output_type": "display_data"
    }
   ],
   "source": [
    "print('Корреляция: ', round(data['kitchen_area'].corr(data['price_in_mill']), 2))\n",
    "(\n",
    "data.pivot_table(index='kitchen_area', values='price_in_mill', aggfunc='median')\n",
    "    .plot(grid=True, figsize=(12, 5))\n",
    ");"
   ]
  },
  {
   "cell_type": "markdown",
   "metadata": {},
   "source": [
    "**Вывод**  \n",
    "Между площадью кухни и ценой наблюдается умеренная положительная корреляция: с увеличением площади кухни стоимость квартиры растет. Чем больше площадь, тем больше скачки в цене."
   ]
  },
  {
   "cell_type": "markdown",
   "metadata": {},
   "source": [
    "#### Количество комнат"
   ]
  },
  {
   "cell_type": "markdown",
   "metadata": {},
   "source": [
    "Посчитаем коэффициент корреляции Пирсона, а также оценим зависимость цены от количества комнат по графику."
   ]
  },
  {
   "cell_type": "code",
   "execution_count": 88,
   "metadata": {},
   "outputs": [
    {
     "name": "stdout",
     "output_type": "stream",
     "text": [
      "Корреляция:  0.42\n"
     ]
    },
    {
     "data": {
      "image/png": "[encoded data removed]",
      "text/plain": [
       "<Figure size 864x360 with 1 Axes>"
      ]
     },
     "metadata": {
      "needs_background": "light"
     },
     "output_type": "display_data"
    }
   ],
   "source": [
    "print('Корреляция: ', round(data['rooms'].corr(data['price_in_mill']), 2))\n",
    "(\n",
    "data.pivot_table(index='rooms', values='price_in_mill', aggfunc='median')\n",
    "    .plot(grid=True, figsize=(12, 5))\n",
    ");"
   ]
  },
  {
   "cell_type": "markdown",
   "metadata": {},
   "source": [
    "**Вывод**  \n",
    "Между числом комнат и ценой наблюдается слабая положительная корреляция. После 7 комнат цена растет незначительно. Для 10 комнат наблюдается уменьшение стоимости. Это может быть вызвано небольшим спросом на подобные квартиры."
   ]
  },
  {
   "cell_type": "markdown",
   "metadata": {},
   "source": [
    "#### Этаж"
   ]
  },
  {
   "cell_type": "markdown",
   "metadata": {},
   "source": [
    "Посчитаем коэффициент корреляции Пирсона, а также оценим зависимость цены от этажа по графику."
   ]
  },
  {
   "cell_type": "code",
   "execution_count": 89,
   "metadata": {},
   "outputs": [
    {
     "name": "stdout",
     "output_type": "stream",
     "text": [
      "Корреляция:  0.04\n"
     ]
    },
    {
     "data": {
      "image/png": "[encoded data removed]",
      "text/plain": [
       "<Figure size 504x360 with 1 Axes>"
      ]
     },
     "metadata": {
      "needs_background": "light"
     },
     "output_type": "display_data"
    }
   ],
   "source": [
    "# Чтобы рассчитать коэффициент корреляции добавим в таблицу столбец floor_type_num,\n",
    "# в который запишем тип этажа в числовом виде согласно словарю type_dict.\n",
    "\n",
    "type_dict = {'первый': 0, 'последний': 1, 'другой': 2}\n",
    "data['floor_type_num'] = data['floor_type'].replace(type_dict)\n",
    "print('Корреляция: ', round(data['floor_type_num'].corr(data['price_in_mill']), 2))\n",
    "\n",
    "(\n",
    "data.pivot_table(index='floor_type', values='price_in_mill', aggfunc='median')\n",
    "    .plot(grid=True, figsize=(7, 5), kind='bar')\n",
    ");"
   ]
  },
  {
   "cell_type": "markdown",
   "metadata": {},
   "source": [
    "**Вывод**  \n",
    "Между этажом и ценой корреляция практически отсутствует.  Квартиры на первом и послежнем этажах стоят немного дешевле других."
   ]
  },
  {
   "cell_type": "markdown",
   "metadata": {},
   "source": [
    "#### День недели публикации объявления"
   ]
  },
  {
   "cell_type": "markdown",
   "metadata": {},
   "source": [
    "Посчитаем коэффициент корреляции Пирсона, а также оценим зависимость цены от дня размещения по графику."
   ]
  },
  {
   "cell_type": "code",
   "execution_count": 90,
   "metadata": {},
   "outputs": [
    {
     "name": "stdout",
     "output_type": "stream",
     "text": [
      "Корреляция:  -0.0038\n"
     ]
    },
    {
     "data": {
      "image/png": "[encoded data removed]",
      "text/plain": [
       "<Figure size 864x360 with 1 Axes>"
      ]
     },
     "metadata": {
      "needs_background": "light"
     },
     "output_type": "display_data"
    }
   ],
   "source": [
    "print('Корреляция: ', round(data['publication_weekday'].corr(data['price_in_mill']), 4))\n",
    "(\n",
    "data.pivot_table(index='publication_weekday', values='price_in_mill', aggfunc='median')\n",
    "    .plot(grid=True, figsize=(12, 5))\n",
    ");"
   ]
  },
  {
   "cell_type": "markdown",
   "metadata": {},
   "source": [
    "**Вывод**  \n",
    "Между днем размещения и ценой корреляция практически отсутствует. В выходные размещают объявления с более дешевыми квартирами. Объявления о самых дорогих квартирах размещаются во вторник и среду."
   ]
  },
  {
   "cell_type": "markdown",
   "metadata": {},
   "source": [
    "#### Месяц публикации объявления"
   ]
  },
  {
   "cell_type": "markdown",
   "metadata": {},
   "source": [
    "Посчитаем коэффициент корреляции Пирсона, а также оценим зависимость цены от месяца размещения по графику."
   ]
  },
  {
   "cell_type": "code",
   "execution_count": 91,
   "metadata": {},
   "outputs": [
    {
     "name": "stdout",
     "output_type": "stream",
     "text": [
      "Корреляция:  0.0006\n"
     ]
    },
    {
     "data": {
      "image/png": "[encoded data removed]",
      "text/plain": [
       "<Figure size 864x360 with 1 Axes>"
      ]
     },
     "metadata": {
      "needs_background": "light"
     },
     "output_type": "display_data"
    }
   ],
   "source": [
    "print('Корреляция: ', round(data['publication_month'].corr(data['price_in_mill']), 4))\n",
    "(\n",
    "data.pivot_table(index='publication_month', values='price_in_mill', aggfunc='median')\n",
    "    .plot(grid=True, figsize=(12, 5))\n",
    ");"
   ]
  },
  {
   "cell_type": "markdown",
   "metadata": {},
   "source": [
    "**Вывод**  \n",
    "Между месяцем размещения и ценой корреляция практически отсутствует. Пик цен приходится на апрель, после которого наблюдается стремительное падение цен. В апреле цены самые низкие."
   ]
  },
  {
   "cell_type": "markdown",
   "metadata": {},
   "source": [
    "#### Год публикации объявления"
   ]
  },
  {
   "cell_type": "markdown",
   "metadata": {},
   "source": [
    "Посчитаем коэффициент корреляции Пирсона, а также оценим зависимость цены от года размещения по графику."
   ]
  },
  {
   "cell_type": "code",
   "execution_count": 92,
   "metadata": {},
   "outputs": [
    {
     "name": "stdout",
     "output_type": "stream",
     "text": [
      "Корреляция:  -0.0461\n"
     ]
    },
    {
     "data": {
      "image/png": "[encoded data removed]",
      "text/plain": [
       "<Figure size 864x360 with 1 Axes>"
      ]
     },
     "metadata": {
      "needs_background": "light"
     },
     "output_type": "display_data"
    }
   ],
   "source": [
    "print('Корреляция: ', round(data['publication_year'].corr(data['price_in_mill']), 4))\n",
    "(\n",
    "data.pivot_table(index='publication_year', values='price_in_mill', aggfunc='median')\n",
    "    .plot(grid=True, figsize=(12, 5))\n",
    ");"
   ]
  },
  {
   "cell_type": "markdown",
   "metadata": {},
   "source": [
    "**Вывод**\n",
    "\n",
    "Между годом размещения и ценой корреляция практически отсутствует. Диапазон наблюдения можно разделить на 3 части:\n",
    "- 2014-2016 - падение цен\n",
    "- 2016-2018 - стабильность цен\n",
    "- 2018-2019 - рост цен"
   ]
  },
  {
   "cell_type": "markdown",
   "metadata": {},
   "source": [
    "### Анализ стоимости одного квадратного метра"
   ]
  },
  {
   "cell_type": "markdown",
   "metadata": {},
   "source": [
    "Рассчитаем среднюю стоимость одного квадратного метра в 10 населенных пунктах с наибольшим числом объявлений.\n",
    "\n",
    "Выделим населенные пункты с самой высокой и самой низкой стоимостью квадратного метра."
   ]
  },
  {
   "cell_type": "code",
   "execution_count": 93,
   "metadata": {},
   "outputs": [
    {
     "data": {
      "text/html": [
       "<div>\n",
       "<style scoped>\n",
       "    .dataframe tbody tr th:only-of-type {\n",
       "        vertical-align: middle;\n",
       "    }\n",
       "\n",
       "    .dataframe tbody tr th {\n",
       "        vertical-align: top;\n",
       "    }\n",
       "\n",
       "    .dataframe thead th {\n",
       "        text-align: right;\n",
       "    }\n",
       "</style>\n",
       "<table border=\"1\" class=\"dataframe\">\n",
       "  <thead>\n",
       "    <tr style=\"text-align: right;\">\n",
       "      <th></th>\n",
       "      <th>one_meter_price</th>\n",
       "    </tr>\n",
       "    <tr>\n",
       "      <th>locality_name</th>\n",
       "      <th></th>\n",
       "    </tr>\n",
       "  </thead>\n",
       "  <tbody>\n",
       "    <tr>\n",
       "      <th>Санкт-Петербург</th>\n",
       "      <td>114,074.17</td>\n",
       "    </tr>\n",
       "    <tr>\n",
       "      <th>Пушкин</th>\n",
       "      <td>102,857.15</td>\n",
       "    </tr>\n",
       "    <tr>\n",
       "      <th>Сестрорецк</th>\n",
       "      <td>101,757.62</td>\n",
       "    </tr>\n",
       "    <tr>\n",
       "      <th>Парголово</th>\n",
       "      <td>90,175.91</td>\n",
       "    </tr>\n",
       "    <tr>\n",
       "      <th>Петергоф</th>\n",
       "      <td>84,757.56</td>\n",
       "    </tr>\n",
       "    <tr>\n",
       "      <th>Кронштадт</th>\n",
       "      <td>79,714.44</td>\n",
       "    </tr>\n",
       "    <tr>\n",
       "      <th>Шушары</th>\n",
       "      <td>78,677.36</td>\n",
       "    </tr>\n",
       "    <tr>\n",
       "      <th>Колпино</th>\n",
       "      <td>75,424.58</td>\n",
       "    </tr>\n",
       "    <tr>\n",
       "      <th>Ломоносов</th>\n",
       "      <td>72,724.05</td>\n",
       "    </tr>\n",
       "    <tr>\n",
       "      <th>Красное Село</th>\n",
       "      <td>71,996.47</td>\n",
       "    </tr>\n",
       "  </tbody>\n",
       "</table>\n",
       "</div>"
      ],
      "text/plain": [
       "                 one_meter_price\n",
       "locality_name                   \n",
       "Санкт-Петербург       114,074.17\n",
       "Пушкин                102,857.15\n",
       "Сестрорецк            101,757.62\n",
       "Парголово              90,175.91\n",
       "Петергоф               84,757.56\n",
       "Кронштадт              79,714.44\n",
       "Шушары                 78,677.36\n",
       "Колпино                75,424.58\n",
       "Ломоносов              72,724.05\n",
       "Красное Село           71,996.47"
      ]
     },
     "execution_count": 93,
     "metadata": {},
     "output_type": "execute_result"
    }
   ],
   "source": [
    "# В таблицу добавим новый столбец one_meter_price, в который запишем стоимость \n",
    "# одного квадратного метра (last_price/total_area)\n",
    "\n",
    "data['one_meter_price'] = data['last_price'] / data['total_area']\n",
    "\n",
    "# Составляем список из 10 населенных пунктов с наибольшим числом объявлений\n",
    "\n",
    "locality_list = data.groupby('locality_name')['last_price'].count().sort_values(ascending=False).head(10)\n",
    "\n",
    "# Фильтруем исходную таблицу, оставляя только населенные пункты из топ-10\n",
    "\n",
    "top_ten_data = data[data['locality_name'].isin(locality_list.index)]\n",
    "\n",
    "# Считаем среднюю стоимость кв. метра по населенным пунктам\n",
    "\n",
    "(\n",
    "    top_ten_data.pivot_table(index='locality_name', values='one_meter_price', aggfunc='mean')\n",
    "                .sort_values(by='one_meter_price', ascending=False)\n",
    ")"
   ]
  },
  {
   "cell_type": "markdown",
   "metadata": {},
   "source": [
    "Определим населенные пункты с самой высокой и самой низкой стоимостью кв. метра."
   ]
  },
  {
   "cell_type": "code",
   "execution_count": 94,
   "metadata": {},
   "outputs": [
    {
     "data": {
      "text/html": [
       "<div>\n",
       "<style scoped>\n",
       "    .dataframe tbody tr th:only-of-type {\n",
       "        vertical-align: middle;\n",
       "    }\n",
       "\n",
       "    .dataframe tbody tr th {\n",
       "        vertical-align: top;\n",
       "    }\n",
       "\n",
       "    .dataframe thead th {\n",
       "        text-align: right;\n",
       "    }\n",
       "</style>\n",
       "<table border=\"1\" class=\"dataframe\">\n",
       "  <thead>\n",
       "    <tr style=\"text-align: right;\">\n",
       "      <th></th>\n",
       "      <th>total_images</th>\n",
       "      <th>last_price</th>\n",
       "      <th>total_area</th>\n",
       "      <th>first_day_exposition</th>\n",
       "      <th>rooms</th>\n",
       "      <th>ceiling_height</th>\n",
       "      <th>floors_total</th>\n",
       "      <th>living_area</th>\n",
       "      <th>floor</th>\n",
       "      <th>is_apartment</th>\n",
       "      <th>...</th>\n",
       "      <th>days_exposition</th>\n",
       "      <th>price_in_mill</th>\n",
       "      <th>one_meter</th>\n",
       "      <th>publication_weekday</th>\n",
       "      <th>publication_month</th>\n",
       "      <th>publication_year</th>\n",
       "      <th>floor_type</th>\n",
       "      <th>city_centers_km</th>\n",
       "      <th>floor_type_num</th>\n",
       "      <th>one_meter_price</th>\n",
       "    </tr>\n",
       "  </thead>\n",
       "  <tbody>\n",
       "    <tr>\n",
       "      <th>8793</th>\n",
       "      <td>7</td>\n",
       "      <td>12,190.00</td>\n",
       "      <td>109.00</td>\n",
       "      <td>2019-03-20</td>\n",
       "      <td>2</td>\n",
       "      <td>2.75</td>\n",
       "      <td>25</td>\n",
       "      <td>32.00</td>\n",
       "      <td>25</td>\n",
       "      <td>False</td>\n",
       "      <td>...</td>\n",
       "      <td>8</td>\n",
       "      <td>0.01</td>\n",
       "      <td>111.83</td>\n",
       "      <td>2</td>\n",
       "      <td>3</td>\n",
       "      <td>2019</td>\n",
       "      <td>последний</td>\n",
       "      <td>9.00</td>\n",
       "      <td>1</td>\n",
       "      <td>111.83</td>\n",
       "    </tr>\n",
       "  </tbody>\n",
       "</table>\n",
       "<p>1 rows × 31 columns</p>\n",
       "</div>"
      ],
      "text/plain": [
       "      total_images  last_price  total_area first_day_exposition  rooms  \\\n",
       "8793             7   12,190.00      109.00           2019-03-20      2   \n",
       "\n",
       "      ceiling_height  floors_total  living_area  floor  is_apartment  ...  \\\n",
       "8793            2.75            25        32.00     25         False  ...   \n",
       "\n",
       "      days_exposition  price_in_mill  one_meter  publication_weekday  \\\n",
       "8793                8           0.01     111.83                    2   \n",
       "\n",
       "     publication_month  publication_year  floor_type  city_centers_km  \\\n",
       "8793                 3              2019   последний             9.00   \n",
       "\n",
       "      floor_type_num  one_meter_price  \n",
       "8793               1           111.83  \n",
       "\n",
       "[1 rows x 31 columns]"
      ]
     },
     "metadata": {},
     "output_type": "display_data"
    },
    {
     "name": "stdout",
     "output_type": "stream",
     "text": [
      "Населенный пункт с самой низкой стоимостью кв. метра\n"
     ]
    },
    {
     "data": {
      "text/html": [
       "<div>\n",
       "<style scoped>\n",
       "    .dataframe tbody tr th:only-of-type {\n",
       "        vertical-align: middle;\n",
       "    }\n",
       "\n",
       "    .dataframe tbody tr th {\n",
       "        vertical-align: top;\n",
       "    }\n",
       "\n",
       "    .dataframe thead th {\n",
       "        text-align: right;\n",
       "    }\n",
       "</style>\n",
       "<table border=\"1\" class=\"dataframe\">\n",
       "  <thead>\n",
       "    <tr style=\"text-align: right;\">\n",
       "      <th></th>\n",
       "      <th>total_images</th>\n",
       "      <th>last_price</th>\n",
       "      <th>total_area</th>\n",
       "      <th>first_day_exposition</th>\n",
       "      <th>rooms</th>\n",
       "      <th>ceiling_height</th>\n",
       "      <th>floors_total</th>\n",
       "      <th>living_area</th>\n",
       "      <th>floor</th>\n",
       "      <th>is_apartment</th>\n",
       "      <th>...</th>\n",
       "      <th>days_exposition</th>\n",
       "      <th>price_in_mill</th>\n",
       "      <th>one_meter</th>\n",
       "      <th>publication_weekday</th>\n",
       "      <th>publication_month</th>\n",
       "      <th>publication_year</th>\n",
       "      <th>floor_type</th>\n",
       "      <th>city_centers_km</th>\n",
       "      <th>floor_type_num</th>\n",
       "      <th>one_meter_price</th>\n",
       "    </tr>\n",
       "  </thead>\n",
       "  <tbody>\n",
       "    <tr>\n",
       "      <th>1436</th>\n",
       "      <td>19</td>\n",
       "      <td>330,000,000.00</td>\n",
       "      <td>190.00</td>\n",
       "      <td>2018-04-04</td>\n",
       "      <td>3</td>\n",
       "      <td>3.50</td>\n",
       "      <td>7</td>\n",
       "      <td>95.00</td>\n",
       "      <td>5</td>\n",
       "      <td>False</td>\n",
       "      <td>...</td>\n",
       "      <td>233</td>\n",
       "      <td>330.00</td>\n",
       "      <td>1,736,842.11</td>\n",
       "      <td>2</td>\n",
       "      <td>4</td>\n",
       "      <td>2018</td>\n",
       "      <td>другой</td>\n",
       "      <td>1.00</td>\n",
       "      <td>2</td>\n",
       "      <td>1,736,842.11</td>\n",
       "    </tr>\n",
       "  </tbody>\n",
       "</table>\n",
       "<p>1 rows × 31 columns</p>\n",
       "</div>"
      ],
      "text/plain": [
       "      total_images     last_price  total_area first_day_exposition  rooms  \\\n",
       "1436            19 330,000,000.00      190.00           2018-04-04      3   \n",
       "\n",
       "      ceiling_height  floors_total  living_area  floor  is_apartment  ...  \\\n",
       "1436            3.50             7        95.00      5         False  ...   \n",
       "\n",
       "      days_exposition  price_in_mill    one_meter  publication_weekday  \\\n",
       "1436              233         330.00 1,736,842.11                    2   \n",
       "\n",
       "     publication_month  publication_year  floor_type  city_centers_km  \\\n",
       "1436                 4              2018      другой             1.00   \n",
       "\n",
       "      floor_type_num  one_meter_price  \n",
       "1436               2     1,736,842.11  \n",
       "\n",
       "[1 rows x 31 columns]"
      ]
     },
     "metadata": {},
     "output_type": "display_data"
    },
    {
     "name": "stdout",
     "output_type": "stream",
     "text": [
      "Населенный пункт с самой высокой стоимостью кв. метра\n"
     ]
    }
   ],
   "source": [
    "min_price = top_ten_data['one_meter_price'].min()\n",
    "display(top_ten_data.query('one_meter_price == @min_price'));\n",
    "print('Населенный пункт с самой низкой стоимостью кв. метра')\n",
    "\n",
    "max_price = top_ten_data['one_meter_price'].max()\n",
    "display(top_ten_data.query('one_meter_price == @max_price'));\n",
    "print('Населенный пункт с самой высокой стоимостью кв. метра')"
   ]
  },
  {
   "cell_type": "markdown",
   "metadata": {},
   "source": [
    "Самая дешевая и самая дорогая квартиры расположены в Санкт-Петербурге. Самая дорогая квартира - 3-комнатная, расположена на 5 этаже 7-этажного дома с пололками 3.5 м в самом центре города. Самая дешевая квартира расположена на последнем этаже 25-этажного дома, 2 комнаты, жилая площадь 32 метра. Для стандартной квартиры стоимость подозрительно низкая."
   ]
  },
  {
   "cell_type": "markdown",
   "metadata": {},
   "source": [
    "### Оценка зависимости цены от расстояния до центра"
   ]
  },
  {
   "cell_type": "markdown",
   "metadata": {},
   "source": [
    "Для квартир в Санкт-Петербурге вычислим среднюю цену каждого километра. При расчете будем использовать медианное значение, чтобы аномально высокие значения цены не влияли на анализ.\n",
    "\n",
    "Построим диаграмму рассеяния, чтобы оценить зависимость цены от расстояния до центра Санкт-Петербурга."
   ]
  },
  {
   "cell_type": "code",
   "execution_count": 95,
   "metadata": {},
   "outputs": [
    {
     "data": {
      "image/png": "[encoded data removed]",
      "text/plain": [
       "<Figure size 432x288 with 1 Axes>"
      ]
     },
     "metadata": {
      "needs_background": "light"
     },
     "output_type": "display_data"
    }
   ],
   "source": [
    "(\n",
    "    data.query('locality_name == \"Санкт-Петербург\"')\n",
    "        .sort_values(by='city_centers_km')\n",
    "        .plot(x='city_centers_km', y='last_price', kind='scatter', grid=True)\n",
    ");"
   ]
  },
  {
   "cell_type": "markdown",
   "metadata": {},
   "source": [
    "По диаграмме мы видим, что чем дальше квартира расположена от центра, тем она дешевле. Чем ближе квартира расположена к центру, тем больше разброс цен. Найдем среднюю стоимость километра."
   ]
  },
  {
   "cell_type": "markdown",
   "metadata": {},
   "source": [
    "Определим число квартир, которые находятся \"в центре\" города."
   ]
  },
  {
   "cell_type": "code",
   "execution_count": 96,
   "metadata": {},
   "outputs": [
    {
     "data": {
      "text/plain": [
       "23"
      ]
     },
     "execution_count": 96,
     "metadata": {},
     "output_type": "execute_result"
    }
   ],
   "source": [
    "data[data.city_centers_km == 0]['city_centers_km'].count()"
   ]
  },
  {
   "cell_type": "code",
   "execution_count": 97,
   "metadata": {},
   "outputs": [
    {
     "data": {
      "text/plain": [
       "0"
      ]
     },
     "execution_count": 97,
     "metadata": {},
     "output_type": "execute_result"
    }
   ],
   "source": [
    "data.city_centers_km.isna().sum()"
   ]
  },
  {
   "cell_type": "markdown",
   "metadata": {},
   "source": [
    "Сгруппируем в отдельную таблицу spb_data квартиры в Санкт-Петербурге и найдем медианное значение цены и расстояния от центра."
   ]
  },
  {
   "cell_type": "code",
   "execution_count": 98,
   "metadata": {},
   "outputs": [
    {
     "data": {
      "text/html": [
       "<div>\n",
       "<style scoped>\n",
       "    .dataframe tbody tr th:only-of-type {\n",
       "        vertical-align: middle;\n",
       "    }\n",
       "\n",
       "    .dataframe tbody tr th {\n",
       "        vertical-align: top;\n",
       "    }\n",
       "\n",
       "    .dataframe thead th {\n",
       "        text-align: right;\n",
       "    }\n",
       "</style>\n",
       "<table border=\"1\" class=\"dataframe\">\n",
       "  <thead>\n",
       "    <tr style=\"text-align: right;\">\n",
       "      <th></th>\n",
       "      <th>city_centers_km</th>\n",
       "      <th>last_price</th>\n",
       "    </tr>\n",
       "    <tr>\n",
       "      <th>locality_name</th>\n",
       "      <th></th>\n",
       "      <th></th>\n",
       "    </tr>\n",
       "  </thead>\n",
       "  <tbody>\n",
       "    <tr>\n",
       "      <th>Санкт-Петербург</th>\n",
       "      <td>12.00</td>\n",
       "      <td>5,500,000.00</td>\n",
       "    </tr>\n",
       "  </tbody>\n",
       "</table>\n",
       "</div>"
      ],
      "text/plain": [
       "                 city_centers_km   last_price\n",
       "locality_name                                \n",
       "Санкт-Петербург            12.00 5,500,000.00"
      ]
     },
     "metadata": {},
     "output_type": "display_data"
    },
    {
     "name": "stdout",
     "output_type": "stream",
     "text": [
      "Средняя цена километра - 458333.33\n"
     ]
    }
   ],
   "source": [
    "spb_data = (\n",
    "            data.query('locality_name == \"Санкт-Петербург\"')\n",
    "                .pivot_table(index='locality_name', values=['last_price', 'city_centers_km'], aggfunc='median')\n",
    ")\n",
    "# Выведем результат на экран\n",
    "display(spb_data)\n",
    "\n",
    "# Найдем медианное значение стоимости 1 километра\n",
    "one_meter = (spb_data['last_price']/spb_data['city_centers_km'])[0]\n",
    "print('Средняя цена километра -', round(one_meter, 2))"
   ]
  },
  {
   "cell_type": "markdown",
   "metadata": {},
   "source": [
    "## Общий вывод"
   ]
  },
  {
   "cell_type": "markdown",
   "metadata": {},
   "source": [
    "Мы проанализировали данные о продаже квартир в Санкт-Петербурге и окрестностях.\n",
    "    \n",
    "В рамках предобработки данных мы выполнили следующие действия:\n",
    "- Переименовали столбец cityCenters_nearest в city_centers_nearest для согласованности имен столбцов.\n",
    "- В исходных данных в 14 столбцах имеются пропуски. Мы удалили пропуски для следующих столбцов:\n",
    "\t- 'ceiling_height' заполнили медианным значением,\n",
    "\t- 'living_area' заполнили медианным значением для соответсвующего числа комнат,\n",
    "\t- 'is_apartment' заполнили значением False,\n",
    "\t- 'balcony' заполнили значением False,\n",
    "\t- 'parks_around3000' и 'ponds_around3000' заполили 1, если в столбце *_nearest значение меньше 3000, в противном случае 0,\n",
    "\t- 'airports_nearest' и 'city_centers_nearest' заполнили средним значением для этой местности (не для всех значений удалось найти среднее),\n",
    "\t- 'floors_total' заполнили медианным значением или числом комнат, если медианное значение больше числа комнат,\n",
    "\t- 'days_exposition' заполнили медианным значением.\n",
    "- Мы удалили строки с пропусками в следующих столбцах:\n",
    "\t- 'locality_name' - поскольку местоположение квартиры имеет первостепенное значение, строки без этого значения не будут показательны для анализа.\n",
    "- Для 4 столбцов мы изменили тип данных:\n",
    "\t- 'first_day_exposition': object -> datetime (т. к. это дата),\n",
    "\t- 'floors_total': object -> int (т. к. количество этажей - целое число),\n",
    "\t- 'balcony': float64 -> int (т. к. количество балконов - целое число),\n",
    "\t- 'days_exposition': float64 -> int (т. к. количество дней - целое число).\n",
    "- Для столбца 'locality_name' мы удалили дубликаты, заменив букву ё на е и отбросив описательные слова, такие как городской поселок, коттеджный поселок, поселок и т. д.\n",
    "- С помощью анализа диаграмм мы отбросили редкие и выбивающиеся значения для следующих столбцов:\n",
    "\t- 'last_price'\n",
    "\t- 'total_area'\n",
    "\t- 'rooms'\n",
    "\t- 'ceiling_height'\n",
    "\t- 'kitchen_area'\n",
    "- Мы добавили новые столбцы в таблицу:\n",
    "\t- 'one_meter' - цена одного кв. метра\n",
    "\t- 'publication_weekday' - день недели публикации объявления\n",
    "\t- 'publication_month' - месяц публикации объявления\n",
    "\t- 'publication_year' - год публикации объявления\n",
    "\t- 'floor_type' - тип этажа квартиры (значения — «первый», «последний», «другой»)\n",
    "\n",
    "После предобработки данных мы перешли к анализу данных, в результате которого установили следующее:\n",
    "- Больше всего стоимость квартиры зависит от общей и жилой площади, а также числа комнат.\n",
    "- Цены на квартиры выше в перириод с февраля по апрель. В мае и июне стоимость квартир самая низкая.\n",
    "- В среднем на продажу квартиры уходит 3 месяца.\n",
    "- За период наблюдения с 2014 по 2019 год до 2016 года наблюдалось падение цен, затем постепенный рост.\n",
    "- Стоимость квартир тем выше, чем ближе квартира расположена к центру города.\n",
    "\n",
    "С ходе анализа *скорости продажи квартир* мы выяснили, что на диаграмме распределения присутствуют несколько пиковых значений: 45, 60, 95. \n",
    "Такое количество \"круглых\" значений срока размещения объявления говорит о том, что это могут быть стандартные сроки размещения объявлений, после которых объявления снимаются с публикации автоматически.\n",
    "Это предположение необходимо проверить. В ходе анализа мы исключили из рассмотрения эти значения, чтобы получить более показательные результаты. Если объявления действительно снимаются с публикации автоматически, можно добавить специальную метку-столбец, чтобы не исключать из анализа квартиры, действительно проданные за 45, 60 и 95 дней.\n",
    "\n",
    "Кроме того, необходимо выяснить причину пропусков в столбце locality_name, поскольку это важный параметр и без него не имеет смысла учитывать квартиру в анализе.\n",
    "Поскольку в картографических данных (столбцах  parks_nearest, ponds_nearest, airports_nearest и city_centers_nearest) содержится много пропусков, необходимо проверить источник получения этих данных."
   ]
  }
 ],
 "metadata": {
  "ExecuteTimeLog": [
   {
    "duration": 14,
    "start_time": "2022-07-12T22:26:31.910Z"
   },
   {
    "duration": 53,
    "start_time": "2022-07-13T07:18:27.606Z"
   },
   {
    "duration": 602,
    "start_time": "2022-07-13T07:18:35.027Z"
   },
   {
    "duration": 2496,
    "start_time": "2022-07-13T07:18:35.631Z"
   },
   {
    "duration": 15,
    "start_time": "2022-07-13T07:18:38.129Z"
   },
   {
    "duration": 10,
    "start_time": "2022-07-13T07:18:39.828Z"
   },
   {
    "duration": 8,
    "start_time": "2022-07-13T07:18:59.178Z"
   },
   {
    "duration": 5,
    "start_time": "2022-07-13T07:19:40.604Z"
   },
   {
    "duration": 5,
    "start_time": "2022-07-13T07:19:44.255Z"
   },
   {
    "duration": 8,
    "start_time": "2022-07-13T07:24:11.288Z"
   },
   {
    "duration": 9,
    "start_time": "2022-07-13T07:24:30.615Z"
   },
   {
    "duration": 26,
    "start_time": "2022-07-13T07:34:55.063Z"
   },
   {
    "duration": 42,
    "start_time": "2022-07-13T07:36:32.557Z"
   },
   {
    "duration": 9,
    "start_time": "2022-07-13T07:36:43.661Z"
   },
   {
    "duration": 4,
    "start_time": "2022-07-13T07:37:17.866Z"
   },
   {
    "duration": 4,
    "start_time": "2022-07-13T07:37:23.405Z"
   },
   {
    "duration": 6,
    "start_time": "2022-07-13T07:37:28.812Z"
   },
   {
    "duration": 8,
    "start_time": "2022-07-13T07:37:34.200Z"
   },
   {
    "duration": 9,
    "start_time": "2022-07-13T07:37:47.712Z"
   },
   {
    "duration": 9,
    "start_time": "2022-07-13T07:39:44.578Z"
   },
   {
    "duration": 4,
    "start_time": "2022-07-13T07:40:22.719Z"
   },
   {
    "duration": 5,
    "start_time": "2022-07-13T07:40:33.368Z"
   },
   {
    "duration": 120,
    "start_time": "2022-07-13T07:40:58.157Z"
   },
   {
    "duration": 139,
    "start_time": "2022-07-13T07:41:34.223Z"
   },
   {
    "duration": 163,
    "start_time": "2022-07-13T07:41:59.063Z"
   },
   {
    "duration": 162,
    "start_time": "2022-07-13T07:42:41.468Z"
   },
   {
    "duration": 1685,
    "start_time": "2022-07-13T07:42:46.886Z"
   },
   {
    "duration": 42,
    "start_time": "2022-07-13T09:33:11.291Z"
   },
   {
    "duration": 532,
    "start_time": "2022-07-13T09:33:16.503Z"
   },
   {
    "duration": 2452,
    "start_time": "2022-07-13T09:33:17.037Z"
   },
   {
    "duration": 13,
    "start_time": "2022-07-13T09:33:19.491Z"
   },
   {
    "duration": 42,
    "start_time": "2022-07-13T09:33:19.512Z"
   },
   {
    "duration": 23,
    "start_time": "2022-07-13T09:33:36.186Z"
   },
   {
    "duration": 310,
    "start_time": "2022-07-13T09:38:10.288Z"
   },
   {
    "duration": 322,
    "start_time": "2022-07-13T09:38:59.034Z"
   },
   {
    "duration": 1246,
    "start_time": "2022-07-13T09:40:02.102Z"
   },
   {
    "duration": 15,
    "start_time": "2022-07-13T09:40:27.858Z"
   },
   {
    "duration": 21,
    "start_time": "2022-07-13T09:41:16.856Z"
   },
   {
    "duration": 10,
    "start_time": "2022-07-13T10:01:51.674Z"
   },
   {
    "duration": 12,
    "start_time": "2022-07-13T10:01:54.583Z"
   },
   {
    "duration": 16,
    "start_time": "2022-07-13T10:02:21.915Z"
   },
   {
    "duration": 15,
    "start_time": "2022-07-13T10:02:25.503Z"
   },
   {
    "duration": 1488,
    "start_time": "2022-07-13T10:04:17.374Z"
   },
   {
    "duration": 1783,
    "start_time": "2022-07-13T10:04:19.390Z"
   },
   {
    "duration": 15,
    "start_time": "2022-07-13T10:04:46.255Z"
   },
   {
    "duration": 21,
    "start_time": "2022-07-13T10:04:48.926Z"
   },
   {
    "duration": 23,
    "start_time": "2022-07-13T10:05:01.983Z"
   },
   {
    "duration": 30,
    "start_time": "2022-07-13T10:05:44.836Z"
   },
   {
    "duration": 20,
    "start_time": "2022-07-13T10:13:03.749Z"
   },
   {
    "duration": 14,
    "start_time": "2022-07-13T10:28:39.176Z"
   },
   {
    "duration": 25,
    "start_time": "2022-07-13T10:29:31.874Z"
   },
   {
    "duration": 880,
    "start_time": "2022-07-13T10:29:39.850Z"
   },
   {
    "duration": 12,
    "start_time": "2022-07-13T10:30:58.862Z"
   },
   {
    "duration": 15,
    "start_time": "2022-07-13T10:31:34.373Z"
   },
   {
    "duration": 12,
    "start_time": "2022-07-13T10:31:39.266Z"
   },
   {
    "duration": 14,
    "start_time": "2022-07-13T10:31:46.423Z"
   },
   {
    "duration": 17,
    "start_time": "2022-07-13T10:32:14.003Z"
   },
   {
    "duration": 18,
    "start_time": "2022-07-13T10:32:30.883Z"
   },
   {
    "duration": 14,
    "start_time": "2022-07-13T10:33:22.964Z"
   },
   {
    "duration": 22,
    "start_time": "2022-07-13T10:33:49.495Z"
   },
   {
    "duration": 20,
    "start_time": "2022-07-13T10:35:48.974Z"
   },
   {
    "duration": 271,
    "start_time": "2022-07-13T10:36:06.384Z"
   },
   {
    "duration": 14,
    "start_time": "2022-07-13T10:55:45.965Z"
   },
   {
    "duration": 15,
    "start_time": "2022-07-13T10:56:02.401Z"
   },
   {
    "duration": 17,
    "start_time": "2022-07-13T10:56:22.978Z"
   },
   {
    "duration": 16,
    "start_time": "2022-07-13T10:56:32.338Z"
   },
   {
    "duration": 93,
    "start_time": "2022-07-13T10:56:44.338Z"
   },
   {
    "duration": 1817,
    "start_time": "2022-07-13T10:56:44.433Z"
   },
   {
    "duration": 13,
    "start_time": "2022-07-13T10:56:46.252Z"
   },
   {
    "duration": 16,
    "start_time": "2022-07-13T10:56:51.017Z"
   },
   {
    "duration": 18,
    "start_time": "2022-07-13T10:58:04.077Z"
   },
   {
    "duration": 20,
    "start_time": "2022-07-13T10:58:18.465Z"
   },
   {
    "duration": 88,
    "start_time": "2022-07-13T10:58:33.112Z"
   },
   {
    "duration": 1949,
    "start_time": "2022-07-13T10:58:33.201Z"
   },
   {
    "duration": 11,
    "start_time": "2022-07-13T10:58:35.152Z"
   },
   {
    "duration": 21,
    "start_time": "2022-07-13T10:58:35.837Z"
   },
   {
    "duration": 11,
    "start_time": "2022-07-13T11:14:24.739Z"
   },
   {
    "duration": 14,
    "start_time": "2022-07-13T11:16:00.001Z"
   },
   {
    "duration": 19,
    "start_time": "2022-07-13T11:16:13.129Z"
   },
   {
    "duration": 82,
    "start_time": "2022-07-13T11:16:20.171Z"
   },
   {
    "duration": 1896,
    "start_time": "2022-07-13T11:16:20.255Z"
   },
   {
    "duration": 12,
    "start_time": "2022-07-13T11:16:22.152Z"
   },
   {
    "duration": 17,
    "start_time": "2022-07-13T11:16:22.475Z"
   },
   {
    "duration": 14,
    "start_time": "2022-07-13T11:16:53.716Z"
   },
   {
    "duration": 75,
    "start_time": "2022-07-13T11:17:05.208Z"
   },
   {
    "duration": 1869,
    "start_time": "2022-07-13T11:17:05.285Z"
   },
   {
    "duration": 12,
    "start_time": "2022-07-13T11:17:07.156Z"
   },
   {
    "duration": 14,
    "start_time": "2022-07-13T11:17:07.240Z"
   },
   {
    "duration": 17,
    "start_time": "2022-07-13T11:21:48.168Z"
   },
   {
    "duration": 13,
    "start_time": "2022-07-13T11:21:52.640Z"
   },
   {
    "duration": 11,
    "start_time": "2022-07-13T11:22:03.486Z"
   },
   {
    "duration": 17,
    "start_time": "2022-07-13T11:36:29.466Z"
   },
   {
    "duration": 19,
    "start_time": "2022-07-13T12:07:32.212Z"
   },
   {
    "duration": 4,
    "start_time": "2022-07-13T12:07:47.160Z"
   },
   {
    "duration": 215,
    "start_time": "2022-07-13T12:07:55.163Z"
   },
   {
    "duration": 18,
    "start_time": "2022-07-13T12:08:06.220Z"
   },
   {
    "duration": 21,
    "start_time": "2022-07-13T12:11:12.501Z"
   },
   {
    "duration": 21,
    "start_time": "2022-07-13T12:12:01.481Z"
   },
   {
    "duration": 11,
    "start_time": "2022-07-13T12:12:10.501Z"
   },
   {
    "duration": 34,
    "start_time": "2022-07-13T12:13:13.471Z"
   },
   {
    "duration": 37,
    "start_time": "2022-07-13T12:17:47.884Z"
   },
   {
    "duration": 33,
    "start_time": "2022-07-13T12:18:06.666Z"
   },
   {
    "duration": 36,
    "start_time": "2022-07-13T12:19:27.570Z"
   },
   {
    "duration": 105,
    "start_time": "2022-07-13T12:20:28.375Z"
   },
   {
    "duration": 102,
    "start_time": "2022-07-13T12:20:45.523Z"
   },
   {
    "duration": 105,
    "start_time": "2022-07-13T12:21:06.471Z"
   },
   {
    "duration": 93,
    "start_time": "2022-07-13T12:21:10.658Z"
   },
   {
    "duration": 2082,
    "start_time": "2022-07-13T12:21:10.753Z"
   },
   {
    "duration": 17,
    "start_time": "2022-07-13T12:21:12.843Z"
   },
   {
    "duration": 108,
    "start_time": "2022-07-13T12:21:12.986Z"
   },
   {
    "duration": 104,
    "start_time": "2022-07-13T12:21:23.896Z"
   },
   {
    "duration": 107,
    "start_time": "2022-07-13T12:21:30.862Z"
   },
   {
    "duration": 1958,
    "start_time": "2022-07-13T12:21:30.971Z"
   },
   {
    "duration": 28,
    "start_time": "2022-07-13T12:21:32.931Z"
   },
   {
    "duration": 119,
    "start_time": "2022-07-13T12:21:33.083Z"
   },
   {
    "duration": 83,
    "start_time": "2022-07-13T12:21:48.396Z"
   },
   {
    "duration": 1993,
    "start_time": "2022-07-13T12:21:48.481Z"
   },
   {
    "duration": 17,
    "start_time": "2022-07-13T12:21:50.476Z"
   },
   {
    "duration": 15,
    "start_time": "2022-07-13T12:21:50.495Z"
   },
   {
    "duration": 16,
    "start_time": "2022-07-13T12:22:11.692Z"
   },
   {
    "duration": 108,
    "start_time": "2022-07-13T12:25:19.942Z"
   },
   {
    "duration": 297,
    "start_time": "2022-07-13T12:26:12.516Z"
   },
   {
    "duration": 346,
    "start_time": "2022-07-13T12:26:27.584Z"
   },
   {
    "duration": 78,
    "start_time": "2022-07-13T12:26:35.365Z"
   },
   {
    "duration": 2017,
    "start_time": "2022-07-13T12:26:35.447Z"
   },
   {
    "duration": 11,
    "start_time": "2022-07-13T12:26:37.466Z"
   },
   {
    "duration": 360,
    "start_time": "2022-07-13T12:26:37.841Z"
   },
   {
    "duration": 468,
    "start_time": "2022-07-13T12:28:34.453Z"
   },
   {
    "duration": 396,
    "start_time": "2022-07-13T12:31:32.747Z"
   },
   {
    "duration": 76,
    "start_time": "2022-07-13T12:31:59.597Z"
   },
   {
    "duration": 346,
    "start_time": "2022-07-13T12:32:04.976Z"
   },
   {
    "duration": 346,
    "start_time": "2022-07-13T12:32:11.456Z"
   },
   {
    "duration": 659,
    "start_time": "2022-07-13T12:32:39.051Z"
   },
   {
    "duration": 678,
    "start_time": "2022-07-13T12:35:58.101Z"
   },
   {
    "duration": 33,
    "start_time": "2022-07-13T12:42:19.366Z"
   },
   {
    "duration": 39,
    "start_time": "2022-07-13T12:42:50.315Z"
   },
   {
    "duration": 123,
    "start_time": "2022-07-13T12:43:41.262Z"
   },
   {
    "duration": 27,
    "start_time": "2022-07-13T12:45:50.054Z"
   },
   {
    "duration": 57,
    "start_time": "2022-07-13T12:46:16.173Z"
   },
   {
    "duration": 55,
    "start_time": "2022-07-13T12:46:55.197Z"
   },
   {
    "duration": 16,
    "start_time": "2022-07-13T12:48:31.882Z"
   },
   {
    "duration": 15,
    "start_time": "2022-07-13T12:48:39.666Z"
   },
   {
    "duration": 27,
    "start_time": "2022-07-13T12:51:42.274Z"
   },
   {
    "duration": 47,
    "start_time": "2022-07-13T12:52:02.911Z"
   },
   {
    "duration": 31,
    "start_time": "2022-07-13T12:52:38.051Z"
   },
   {
    "duration": 19,
    "start_time": "2022-07-13T12:52:55.076Z"
   },
   {
    "duration": 704,
    "start_time": "2022-07-13T12:54:17.637Z"
   },
   {
    "duration": 664,
    "start_time": "2022-07-13T12:54:37.733Z"
   },
   {
    "duration": 776,
    "start_time": "2022-07-13T12:54:45.090Z"
   },
   {
    "duration": 96,
    "start_time": "2022-07-13T12:55:11.234Z"
   },
   {
    "duration": 2059,
    "start_time": "2022-07-13T12:55:11.332Z"
   },
   {
    "duration": 13,
    "start_time": "2022-07-13T12:55:13.392Z"
   },
   {
    "duration": 688,
    "start_time": "2022-07-13T12:55:13.713Z"
   },
   {
    "duration": 33,
    "start_time": "2022-07-13T12:56:23.089Z"
   },
   {
    "duration": 35,
    "start_time": "2022-07-13T12:56:29.729Z"
   },
   {
    "duration": 68,
    "start_time": "2022-07-13T12:58:06.514Z"
   },
   {
    "duration": 727,
    "start_time": "2022-07-13T12:58:14.216Z"
   },
   {
    "duration": 664,
    "start_time": "2022-07-13T12:58:26.718Z"
   },
   {
    "duration": 670,
    "start_time": "2022-07-13T12:58:39.498Z"
   },
   {
    "duration": 750,
    "start_time": "2022-07-13T12:59:43.943Z"
   },
   {
    "duration": 737,
    "start_time": "2022-07-13T13:00:11.496Z"
   },
   {
    "duration": 666,
    "start_time": "2022-07-13T13:08:55.560Z"
   },
   {
    "duration": 8,
    "start_time": "2022-07-13T13:16:33.051Z"
   },
   {
    "duration": 49,
    "start_time": "2022-07-13T14:44:20.897Z"
   },
   {
    "duration": 10,
    "start_time": "2022-07-13T14:45:10.717Z"
   },
   {
    "duration": 527,
    "start_time": "2022-07-13T14:45:15.834Z"
   },
   {
    "duration": 2222,
    "start_time": "2022-07-13T14:45:16.363Z"
   },
   {
    "duration": 12,
    "start_time": "2022-07-13T14:45:18.587Z"
   },
   {
    "duration": 633,
    "start_time": "2022-07-13T14:45:22.310Z"
   },
   {
    "duration": 593,
    "start_time": "2022-07-13T14:45:45.241Z"
   },
   {
    "duration": 607,
    "start_time": "2022-07-13T14:45:50.332Z"
   },
   {
    "duration": 588,
    "start_time": "2022-07-13T14:47:02.341Z"
   },
   {
    "duration": 620,
    "start_time": "2022-07-13T14:48:42.629Z"
   },
   {
    "duration": 660,
    "start_time": "2022-07-13T14:49:56.067Z"
   },
   {
    "duration": 622,
    "start_time": "2022-07-13T14:50:02.516Z"
   },
   {
    "duration": 651,
    "start_time": "2022-07-13T14:50:16.486Z"
   },
   {
    "duration": 678,
    "start_time": "2022-07-13T14:51:08.317Z"
   },
   {
    "duration": 652,
    "start_time": "2022-07-13T14:54:29.430Z"
   },
   {
    "duration": 703,
    "start_time": "2022-07-13T14:54:45.310Z"
   },
   {
    "duration": 609,
    "start_time": "2022-07-13T14:55:53.673Z"
   },
   {
    "duration": 619,
    "start_time": "2022-07-13T14:56:45.656Z"
   },
   {
    "duration": 690,
    "start_time": "2022-07-13T14:57:14.166Z"
   },
   {
    "duration": 646,
    "start_time": "2022-07-13T14:58:20.869Z"
   },
   {
    "duration": 654,
    "start_time": "2022-07-13T15:24:58.270Z"
   },
   {
    "duration": 650,
    "start_time": "2022-07-13T15:25:11.159Z"
   },
   {
    "duration": 624,
    "start_time": "2022-07-13T15:27:42.883Z"
   },
   {
    "duration": 1719,
    "start_time": "2022-07-13T15:27:49.907Z"
   },
   {
    "duration": 735,
    "start_time": "2022-07-13T15:28:15.679Z"
   },
   {
    "duration": 952,
    "start_time": "2022-07-13T15:28:28.335Z"
   },
   {
    "duration": 966,
    "start_time": "2022-07-13T15:29:22.237Z"
   },
   {
    "duration": 1094,
    "start_time": "2022-07-13T15:29:31.521Z"
   },
   {
    "duration": 649,
    "start_time": "2022-07-13T15:44:43.803Z"
   },
   {
    "duration": 606,
    "start_time": "2022-07-13T15:45:10.121Z"
   },
   {
    "duration": 610,
    "start_time": "2022-07-13T15:46:12.040Z"
   },
   {
    "duration": 622,
    "start_time": "2022-07-13T15:48:43.569Z"
   },
   {
    "duration": 10,
    "start_time": "2022-07-13T15:48:46.260Z"
   },
   {
    "duration": 609,
    "start_time": "2022-07-13T15:50:57.761Z"
   },
   {
    "duration": 610,
    "start_time": "2022-07-13T15:51:07.429Z"
   },
   {
    "duration": 660,
    "start_time": "2022-07-13T15:51:26.243Z"
   },
   {
    "duration": 598,
    "start_time": "2022-07-13T15:52:41.603Z"
   },
   {
    "duration": 627,
    "start_time": "2022-07-13T15:52:46.582Z"
   },
   {
    "duration": 640,
    "start_time": "2022-07-13T15:52:57.130Z"
   },
   {
    "duration": 52,
    "start_time": "2022-07-13T15:53:48.190Z"
   },
   {
    "duration": 635,
    "start_time": "2022-07-13T15:53:55.391Z"
   },
   {
    "duration": 659,
    "start_time": "2022-07-13T15:54:09.889Z"
   },
   {
    "duration": 600,
    "start_time": "2022-07-13T15:54:26.023Z"
   },
   {
    "duration": 613,
    "start_time": "2022-07-13T15:54:59.701Z"
   },
   {
    "duration": 600,
    "start_time": "2022-07-13T15:56:37.223Z"
   },
   {
    "duration": 7,
    "start_time": "2022-07-13T15:57:52.870Z"
   },
   {
    "duration": 1468,
    "start_time": "2022-07-13T15:57:59.044Z"
   },
   {
    "duration": 631,
    "start_time": "2022-07-13T15:58:15.821Z"
   },
   {
    "duration": 692,
    "start_time": "2022-07-13T16:00:00.869Z"
   },
   {
    "duration": 711,
    "start_time": "2022-07-13T16:01:34.443Z"
   },
   {
    "duration": 689,
    "start_time": "2022-07-13T16:01:59.364Z"
   },
   {
    "duration": 636,
    "start_time": "2022-07-13T16:02:12.722Z"
   },
   {
    "duration": 606,
    "start_time": "2022-07-13T16:02:35.118Z"
   },
   {
    "duration": 611,
    "start_time": "2022-07-13T16:03:57.564Z"
   },
   {
    "duration": 10,
    "start_time": "2022-07-13T16:04:21.683Z"
   },
   {
    "duration": 643,
    "start_time": "2022-07-13T16:04:33.242Z"
   },
   {
    "duration": 618,
    "start_time": "2022-07-13T16:05:13.389Z"
   },
   {
    "duration": 60,
    "start_time": "2022-07-13T16:07:34.821Z"
   },
   {
    "duration": 637,
    "start_time": "2022-07-13T16:07:55.441Z"
   },
   {
    "duration": 616,
    "start_time": "2022-07-13T16:08:10.162Z"
   },
   {
    "duration": 652,
    "start_time": "2022-07-13T16:08:23.781Z"
   },
   {
    "duration": 649,
    "start_time": "2022-07-13T16:10:00.191Z"
   },
   {
    "duration": 617,
    "start_time": "2022-07-13T16:10:58.584Z"
   },
   {
    "duration": 650,
    "start_time": "2022-07-13T16:11:55.990Z"
   },
   {
    "duration": 615,
    "start_time": "2022-07-13T16:12:39.372Z"
   },
   {
    "duration": 604,
    "start_time": "2022-07-13T16:12:47.690Z"
   },
   {
    "duration": 691,
    "start_time": "2022-07-13T16:12:54.302Z"
   },
   {
    "duration": 590,
    "start_time": "2022-07-13T16:14:05.590Z"
   },
   {
    "duration": 602,
    "start_time": "2022-07-13T16:16:23.290Z"
   },
   {
    "duration": 604,
    "start_time": "2022-07-13T16:17:05.069Z"
   },
   {
    "duration": 53,
    "start_time": "2022-07-13T16:17:53.710Z"
   },
   {
    "duration": 647,
    "start_time": "2022-07-13T16:17:58.069Z"
   },
   {
    "duration": 630,
    "start_time": "2022-07-13T16:18:23.181Z"
   },
   {
    "duration": 52,
    "start_time": "2022-07-13T16:18:29.242Z"
   },
   {
    "duration": 635,
    "start_time": "2022-07-13T16:18:32.286Z"
   },
   {
    "duration": 80,
    "start_time": "2022-07-13T16:18:41.572Z"
   },
   {
    "duration": 1861,
    "start_time": "2022-07-13T16:18:41.654Z"
   },
   {
    "duration": 12,
    "start_time": "2022-07-13T16:18:43.517Z"
   },
   {
    "duration": 636,
    "start_time": "2022-07-13T16:18:43.542Z"
   },
   {
    "duration": 613,
    "start_time": "2022-07-13T16:18:57.783Z"
   },
   {
    "duration": 647,
    "start_time": "2022-07-13T16:19:10.938Z"
   },
   {
    "duration": 77,
    "start_time": "2022-07-13T16:19:56.121Z"
   },
   {
    "duration": 1769,
    "start_time": "2022-07-13T16:19:56.199Z"
   },
   {
    "duration": 10,
    "start_time": "2022-07-13T16:19:57.969Z"
   },
   {
    "duration": 680,
    "start_time": "2022-07-13T16:20:00.770Z"
   },
   {
    "duration": 676,
    "start_time": "2022-07-13T16:20:30.342Z"
   },
   {
    "duration": 700,
    "start_time": "2022-07-13T16:21:42.589Z"
   },
   {
    "duration": 641,
    "start_time": "2022-07-13T16:21:54.723Z"
   },
   {
    "duration": 123,
    "start_time": "2022-07-13T16:22:09.090Z"
   },
   {
    "duration": 652,
    "start_time": "2022-07-13T16:22:12.561Z"
   },
   {
    "duration": 642,
    "start_time": "2022-07-13T16:22:16.141Z"
   },
   {
    "duration": 625,
    "start_time": "2022-07-13T16:22:35.397Z"
   },
   {
    "duration": 657,
    "start_time": "2022-07-13T16:24:12.621Z"
   },
   {
    "duration": 631,
    "start_time": "2022-07-13T16:25:07.237Z"
   },
   {
    "duration": 650,
    "start_time": "2022-07-13T16:25:39.521Z"
   },
   {
    "duration": 8,
    "start_time": "2022-07-13T16:25:42.116Z"
   },
   {
    "duration": 667,
    "start_time": "2022-07-13T16:35:21.338Z"
   },
   {
    "duration": 648,
    "start_time": "2022-07-13T16:35:47.521Z"
   },
   {
    "duration": 609,
    "start_time": "2022-07-13T16:37:13.898Z"
   },
   {
    "duration": 9,
    "start_time": "2022-07-13T16:37:16.388Z"
   },
   {
    "duration": 5,
    "start_time": "2022-07-13T20:56:25.223Z"
   },
   {
    "duration": 74,
    "start_time": "2022-07-13T20:56:38.991Z"
   },
   {
    "duration": 817,
    "start_time": "2022-07-13T20:56:43.325Z"
   },
   {
    "duration": 2673,
    "start_time": "2022-07-13T20:56:44.145Z"
   },
   {
    "duration": 18,
    "start_time": "2022-07-13T20:56:46.821Z"
   },
   {
    "duration": 795,
    "start_time": "2022-07-13T20:56:46.842Z"
   },
   {
    "duration": 12,
    "start_time": "2022-07-13T20:56:47.640Z"
   },
   {
    "duration": 16,
    "start_time": "2022-07-13T20:56:52.420Z"
   },
   {
    "duration": 21,
    "start_time": "2022-07-13T21:06:17.390Z"
   },
   {
    "duration": 15,
    "start_time": "2022-07-13T21:08:43.441Z"
   },
   {
    "duration": 18,
    "start_time": "2022-07-13T21:10:59.541Z"
   },
   {
    "duration": 14,
    "start_time": "2022-07-13T21:11:38.689Z"
   },
   {
    "duration": 14,
    "start_time": "2022-07-13T21:11:44.518Z"
   },
   {
    "duration": 20,
    "start_time": "2022-07-13T21:12:08.278Z"
   },
   {
    "duration": 138,
    "start_time": "2022-07-13T21:12:11.973Z"
   },
   {
    "duration": 17,
    "start_time": "2022-07-13T21:13:16.298Z"
   },
   {
    "duration": 18,
    "start_time": "2022-07-13T21:13:42.902Z"
   },
   {
    "duration": 15,
    "start_time": "2022-07-13T21:13:50.670Z"
   },
   {
    "duration": 14,
    "start_time": "2022-07-13T21:14:08.221Z"
   },
   {
    "duration": 12,
    "start_time": "2022-07-13T21:14:53.493Z"
   },
   {
    "duration": 15,
    "start_time": "2022-07-13T21:15:26.750Z"
   },
   {
    "duration": 28,
    "start_time": "2022-07-13T21:21:58.661Z"
   },
   {
    "duration": 33,
    "start_time": "2022-07-13T21:22:48.297Z"
   },
   {
    "duration": 76,
    "start_time": "2022-07-13T21:24:28.563Z"
   },
   {
    "duration": 17,
    "start_time": "2022-07-13T21:24:31.473Z"
   },
   {
    "duration": 18,
    "start_time": "2022-07-13T21:25:48.314Z"
   },
   {
    "duration": 36,
    "start_time": "2022-07-13T21:26:42.454Z"
   },
   {
    "duration": 30,
    "start_time": "2022-07-13T21:31:32.296Z"
   },
   {
    "duration": 24,
    "start_time": "2022-07-13T21:34:24.929Z"
   },
   {
    "duration": 21,
    "start_time": "2022-07-13T21:37:50.921Z"
   },
   {
    "duration": 20,
    "start_time": "2022-07-13T21:37:58.662Z"
   },
   {
    "duration": 21,
    "start_time": "2022-07-13T21:38:22.594Z"
   },
   {
    "duration": 65,
    "start_time": "2022-07-13T21:39:42.035Z"
   },
   {
    "duration": 17,
    "start_time": "2022-07-13T21:39:51.794Z"
   },
   {
    "duration": 211,
    "start_time": "2022-07-13T21:40:47.825Z"
   },
   {
    "duration": 166,
    "start_time": "2022-07-13T21:41:02.758Z"
   },
   {
    "duration": 167,
    "start_time": "2022-07-13T21:43:05.166Z"
   },
   {
    "duration": 1211,
    "start_time": "2022-07-13T21:43:18.735Z"
   },
   {
    "duration": 159,
    "start_time": "2022-07-13T21:43:29.886Z"
   },
   {
    "duration": 204,
    "start_time": "2022-07-13T21:43:50.014Z"
   },
   {
    "duration": 23,
    "start_time": "2022-07-13T21:44:08.566Z"
   },
   {
    "duration": 24,
    "start_time": "2022-07-13T21:45:01.919Z"
   },
   {
    "duration": 23,
    "start_time": "2022-07-13T21:45:14.142Z"
   },
   {
    "duration": 833,
    "start_time": "2022-07-13T21:52:27.067Z"
   },
   {
    "duration": 990,
    "start_time": "2022-07-13T21:53:26.727Z"
   },
   {
    "duration": 852,
    "start_time": "2022-07-13T21:53:39.084Z"
   },
   {
    "duration": 877,
    "start_time": "2022-07-13T21:53:52.455Z"
   },
   {
    "duration": 833,
    "start_time": "2022-07-13T21:54:50.887Z"
   },
   {
    "duration": 956,
    "start_time": "2022-07-13T21:55:24.876Z"
   },
   {
    "duration": 874,
    "start_time": "2022-07-13T21:56:59.543Z"
   },
   {
    "duration": 9,
    "start_time": "2022-07-13T21:57:51.342Z"
   },
   {
    "duration": 929,
    "start_time": "2022-07-13T21:58:03.983Z"
   },
   {
    "duration": 872,
    "start_time": "2022-07-13T21:58:17.875Z"
   },
   {
    "duration": 9,
    "start_time": "2022-07-13T21:59:08.635Z"
   },
   {
    "duration": 918,
    "start_time": "2022-07-13T21:59:30.456Z"
   },
   {
    "duration": 9,
    "start_time": "2022-07-13T21:59:33.283Z"
   },
   {
    "duration": 82,
    "start_time": "2022-07-13T22:01:18.066Z"
   },
   {
    "duration": 350,
    "start_time": "2022-07-13T22:01:24.196Z"
   },
   {
    "duration": 304,
    "start_time": "2022-07-13T22:01:55.014Z"
   },
   {
    "duration": 403,
    "start_time": "2022-07-13T22:03:50.567Z"
   },
   {
    "duration": 355,
    "start_time": "2022-07-13T22:05:44.657Z"
   },
   {
    "duration": 444,
    "start_time": "2022-07-13T22:06:35.246Z"
   },
   {
    "duration": 346,
    "start_time": "2022-07-13T22:06:52.886Z"
   },
   {
    "duration": 342,
    "start_time": "2022-07-13T22:07:16.894Z"
   },
   {
    "duration": 28,
    "start_time": "2022-07-13T22:08:01.762Z"
   },
   {
    "duration": 452,
    "start_time": "2022-07-13T22:10:09.476Z"
   },
   {
    "duration": 78,
    "start_time": "2022-07-13T22:10:33.058Z"
   },
   {
    "duration": 76,
    "start_time": "2022-07-13T22:10:42.866Z"
   },
   {
    "duration": 326,
    "start_time": "2022-07-13T22:10:51.554Z"
   },
   {
    "duration": 343,
    "start_time": "2022-07-13T22:11:58.294Z"
   },
   {
    "duration": 388,
    "start_time": "2022-07-13T22:12:17.154Z"
   },
   {
    "duration": 415,
    "start_time": "2022-07-13T22:14:48.662Z"
   },
   {
    "duration": 311,
    "start_time": "2022-07-13T22:14:54.976Z"
   },
   {
    "duration": 16,
    "start_time": "2022-07-13T22:16:46.313Z"
   },
   {
    "duration": 72,
    "start_time": "2022-07-13T22:18:21.410Z"
   },
   {
    "duration": 22,
    "start_time": "2022-07-13T22:18:34.095Z"
   },
   {
    "duration": 376,
    "start_time": "2022-07-13T22:18:51.446Z"
   },
   {
    "duration": 23,
    "start_time": "2022-07-13T22:19:02.194Z"
   },
   {
    "duration": 17,
    "start_time": "2022-07-13T22:19:35.440Z"
   },
   {
    "duration": 17,
    "start_time": "2022-07-13T22:19:49.525Z"
   },
   {
    "duration": 16,
    "start_time": "2022-07-13T22:19:59.162Z"
   },
   {
    "duration": 553,
    "start_time": "2022-07-13T22:20:23.899Z"
   },
   {
    "duration": 15,
    "start_time": "2022-07-13T22:21:23.182Z"
   },
   {
    "duration": 88,
    "start_time": "2022-07-13T22:21:34.034Z"
   },
   {
    "duration": 172,
    "start_time": "2022-07-13T22:22:57.382Z"
   },
   {
    "duration": 24,
    "start_time": "2022-07-13T22:23:00.686Z"
   },
   {
    "duration": 449,
    "start_time": "2022-07-13T22:26:37.745Z"
   },
   {
    "duration": 22,
    "start_time": "2022-07-13T22:26:43.958Z"
   },
   {
    "duration": 319,
    "start_time": "2022-07-13T22:27:04.154Z"
   },
   {
    "duration": 28,
    "start_time": "2022-07-13T22:27:22.567Z"
   },
   {
    "duration": 315,
    "start_time": "2022-07-13T22:27:28.682Z"
   },
   {
    "duration": 35,
    "start_time": "2022-07-13T22:27:34.459Z"
   },
   {
    "duration": 30,
    "start_time": "2022-07-13T22:27:38.054Z"
   },
   {
    "duration": 85,
    "start_time": "2022-07-13T22:30:03.505Z"
   },
   {
    "duration": 502,
    "start_time": "2022-07-13T22:30:08.201Z"
   },
   {
    "duration": 25,
    "start_time": "2022-07-13T22:30:29.266Z"
   },
   {
    "duration": 324,
    "start_time": "2022-07-13T22:31:23.574Z"
   },
   {
    "duration": 427,
    "start_time": "2022-07-13T22:32:36.604Z"
   },
   {
    "duration": 25,
    "start_time": "2022-07-13T22:34:29.563Z"
   },
   {
    "duration": 29,
    "start_time": "2022-07-13T22:34:32.735Z"
   },
   {
    "duration": 20,
    "start_time": "2022-07-13T22:34:39.512Z"
   },
   {
    "duration": 24,
    "start_time": "2022-07-13T22:34:45.095Z"
   },
   {
    "duration": 31,
    "start_time": "2022-07-13T22:36:08.591Z"
   },
   {
    "duration": 461,
    "start_time": "2022-07-13T22:36:23.211Z"
   },
   {
    "duration": 26,
    "start_time": "2022-07-13T22:36:43.890Z"
   },
   {
    "duration": 29,
    "start_time": "2022-07-13T22:36:48.391Z"
   },
   {
    "duration": 31,
    "start_time": "2022-07-13T22:36:54.178Z"
   },
   {
    "duration": 305,
    "start_time": "2022-07-13T22:37:40.730Z"
   },
   {
    "duration": 338,
    "start_time": "2022-07-13T22:38:00.770Z"
   },
   {
    "duration": 416,
    "start_time": "2022-07-13T22:42:39.041Z"
   },
   {
    "duration": 24,
    "start_time": "2022-07-13T22:43:32.061Z"
   },
   {
    "duration": 123,
    "start_time": "2022-07-13T22:44:04.361Z"
   },
   {
    "duration": 2312,
    "start_time": "2022-07-13T22:44:04.486Z"
   },
   {
    "duration": 23,
    "start_time": "2022-07-13T22:44:06.800Z"
   },
   {
    "duration": 827,
    "start_time": "2022-07-13T22:44:06.826Z"
   },
   {
    "duration": 10,
    "start_time": "2022-07-13T22:44:07.655Z"
   },
   {
    "duration": 16,
    "start_time": "2022-07-13T22:44:07.668Z"
   },
   {
    "duration": 25,
    "start_time": "2022-07-13T22:44:07.701Z"
   },
   {
    "duration": 17,
    "start_time": "2022-07-13T22:44:29.680Z"
   },
   {
    "duration": 401,
    "start_time": "2022-07-13T22:45:29.193Z"
   },
   {
    "duration": 312,
    "start_time": "2022-07-13T22:45:41.952Z"
   },
   {
    "duration": 329,
    "start_time": "2022-07-13T22:48:37.716Z"
   },
   {
    "duration": 99,
    "start_time": "2022-07-13T22:52:34.280Z"
   },
   {
    "duration": 481,
    "start_time": "2022-07-13T22:52:40.016Z"
   },
   {
    "duration": 27,
    "start_time": "2022-07-13T22:52:43.401Z"
   },
   {
    "duration": 319,
    "start_time": "2022-07-13T22:56:37.248Z"
   },
   {
    "duration": 26,
    "start_time": "2022-07-13T22:57:04.320Z"
   },
   {
    "duration": 310,
    "start_time": "2022-07-13T22:58:01.107Z"
   },
   {
    "duration": 301,
    "start_time": "2022-07-13T22:58:12.631Z"
   },
   {
    "duration": 363,
    "start_time": "2022-07-13T23:00:47.176Z"
   },
   {
    "duration": 17,
    "start_time": "2022-07-13T23:03:00.251Z"
   },
   {
    "duration": 16,
    "start_time": "2022-07-13T23:03:16.895Z"
   },
   {
    "duration": 78,
    "start_time": "2022-07-13T23:03:29.207Z"
   },
   {
    "duration": 17,
    "start_time": "2022-07-13T23:03:41.347Z"
   },
   {
    "duration": 24,
    "start_time": "2022-07-13T23:04:07.876Z"
   },
   {
    "duration": 361,
    "start_time": "2022-07-13T23:04:23.060Z"
   },
   {
    "duration": 323,
    "start_time": "2022-07-13T23:04:42.549Z"
   },
   {
    "duration": 86,
    "start_time": "2022-07-13T23:04:50.921Z"
   },
   {
    "duration": 25,
    "start_time": "2022-07-13T23:04:56.296Z"
   },
   {
    "duration": 109,
    "start_time": "2022-07-13T23:05:20.057Z"
   },
   {
    "duration": 2093,
    "start_time": "2022-07-13T23:05:20.168Z"
   },
   {
    "duration": 13,
    "start_time": "2022-07-13T23:05:22.263Z"
   },
   {
    "duration": 741,
    "start_time": "2022-07-13T23:05:22.278Z"
   },
   {
    "duration": 10,
    "start_time": "2022-07-13T23:05:23.021Z"
   },
   {
    "duration": 18,
    "start_time": "2022-07-13T23:05:23.033Z"
   },
   {
    "duration": 29,
    "start_time": "2022-07-13T23:05:32.873Z"
   },
   {
    "duration": 27,
    "start_time": "2022-07-13T23:05:43.193Z"
   },
   {
    "duration": 28,
    "start_time": "2022-07-13T23:05:51.480Z"
   },
   {
    "duration": 345,
    "start_time": "2022-07-13T23:06:05.775Z"
   },
   {
    "duration": 33,
    "start_time": "2022-07-13T23:06:35.214Z"
   },
   {
    "duration": 29,
    "start_time": "2022-07-13T23:07:21.022Z"
   },
   {
    "duration": 152,
    "start_time": "2022-07-13T23:08:11.562Z"
   },
   {
    "duration": 512,
    "start_time": "2022-07-13T23:08:26.512Z"
   },
   {
    "duration": 74,
    "start_time": "2022-07-13T23:11:23.051Z"
   },
   {
    "duration": 124,
    "start_time": "2022-07-13T23:11:28.543Z"
   },
   {
    "duration": 313,
    "start_time": "2022-07-13T23:11:34.477Z"
   },
   {
    "duration": 94,
    "start_time": "2022-07-13T23:11:52.632Z"
   },
   {
    "duration": 83,
    "start_time": "2022-07-13T23:11:59.192Z"
   },
   {
    "duration": 317,
    "start_time": "2022-07-13T23:13:40.992Z"
   },
   {
    "duration": 467,
    "start_time": "2022-07-13T23:14:53.240Z"
   },
   {
    "duration": 103,
    "start_time": "2022-07-13T23:16:13.657Z"
   },
   {
    "duration": 2220,
    "start_time": "2022-07-13T23:16:13.762Z"
   },
   {
    "duration": 21,
    "start_time": "2022-07-13T23:16:15.984Z"
   },
   {
    "duration": 825,
    "start_time": "2022-07-13T23:16:16.007Z"
   },
   {
    "duration": 13,
    "start_time": "2022-07-13T23:16:16.835Z"
   },
   {
    "duration": 17,
    "start_time": "2022-07-13T23:16:16.851Z"
   },
   {
    "duration": 394,
    "start_time": "2022-07-13T23:16:16.870Z"
   },
   {
    "duration": 105,
    "start_time": "2022-07-13T23:16:29.114Z"
   },
   {
    "duration": 2300,
    "start_time": "2022-07-13T23:16:29.222Z"
   },
   {
    "duration": 12,
    "start_time": "2022-07-13T23:16:31.524Z"
   },
   {
    "duration": 806,
    "start_time": "2022-07-13T23:16:31.538Z"
   },
   {
    "duration": 12,
    "start_time": "2022-07-13T23:16:32.346Z"
   },
   {
    "duration": 16,
    "start_time": "2022-07-13T23:16:32.359Z"
   },
   {
    "duration": 350,
    "start_time": "2022-07-13T23:16:32.377Z"
   },
   {
    "duration": 25,
    "start_time": "2022-07-13T23:17:28.292Z"
   },
   {
    "duration": 30,
    "start_time": "2022-07-13T23:18:00.424Z"
   },
   {
    "duration": 579,
    "start_time": "2022-07-14T18:22:51.807Z"
   },
   {
    "duration": 2544,
    "start_time": "2022-07-14T18:22:52.389Z"
   },
   {
    "duration": 14,
    "start_time": "2022-07-14T18:22:54.936Z"
   },
   {
    "duration": 757,
    "start_time": "2022-07-14T18:22:54.952Z"
   },
   {
    "duration": 11,
    "start_time": "2022-07-14T18:22:55.712Z"
   },
   {
    "duration": 17,
    "start_time": "2022-07-14T18:22:55.725Z"
   },
   {
    "duration": 15,
    "start_time": "2022-07-14T18:23:00.528Z"
   },
   {
    "duration": 16,
    "start_time": "2022-07-14T18:24:02.727Z"
   },
   {
    "duration": 16,
    "start_time": "2022-07-14T18:24:08.459Z"
   },
   {
    "duration": 15,
    "start_time": "2022-07-14T18:24:43.111Z"
   },
   {
    "duration": 16,
    "start_time": "2022-07-14T18:25:01.139Z"
   },
   {
    "duration": 94,
    "start_time": "2022-07-14T18:25:31.148Z"
   },
   {
    "duration": 18,
    "start_time": "2022-07-14T18:29:09.754Z"
   },
   {
    "duration": 105,
    "start_time": "2022-07-14T18:29:25.160Z"
   },
   {
    "duration": 40,
    "start_time": "2022-07-14T18:33:05.480Z"
   },
   {
    "duration": 39,
    "start_time": "2022-07-14T18:33:18.265Z"
   },
   {
    "duration": 27,
    "start_time": "2022-07-14T18:33:22.542Z"
   },
   {
    "duration": 1792,
    "start_time": "2022-07-14T18:35:44.596Z"
   },
   {
    "duration": 18,
    "start_time": "2022-07-14T18:36:47.660Z"
   },
   {
    "duration": 18,
    "start_time": "2022-07-14T18:37:01.911Z"
   },
   {
    "duration": 69,
    "start_time": "2022-07-14T18:44:34.345Z"
   },
   {
    "duration": 18,
    "start_time": "2022-07-14T18:46:28.352Z"
   },
   {
    "duration": 20,
    "start_time": "2022-07-14T18:46:49.016Z"
   },
   {
    "duration": 17,
    "start_time": "2022-07-14T18:46:56.992Z"
   },
   {
    "duration": 20,
    "start_time": "2022-07-14T18:47:34.843Z"
   },
   {
    "duration": 113,
    "start_time": "2022-07-14T18:47:50.972Z"
   },
   {
    "duration": 2000,
    "start_time": "2022-07-14T18:47:51.087Z"
   },
   {
    "duration": 24,
    "start_time": "2022-07-14T18:47:53.088Z"
   },
   {
    "duration": 697,
    "start_time": "2022-07-14T18:47:53.114Z"
   },
   {
    "duration": 10,
    "start_time": "2022-07-14T18:47:53.813Z"
   },
   {
    "duration": 14,
    "start_time": "2022-07-14T18:47:53.825Z"
   },
   {
    "duration": 20,
    "start_time": "2022-07-14T18:47:53.841Z"
   },
   {
    "duration": 18,
    "start_time": "2022-07-14T18:49:12.207Z"
   },
   {
    "duration": 217,
    "start_time": "2022-07-14T18:52:40.369Z"
   },
   {
    "duration": 104,
    "start_time": "2022-07-14T18:54:11.900Z"
   },
   {
    "duration": 2162,
    "start_time": "2022-07-14T18:54:12.007Z"
   },
   {
    "duration": 15,
    "start_time": "2022-07-14T18:54:14.171Z"
   },
   {
    "duration": 726,
    "start_time": "2022-07-14T18:54:14.203Z"
   },
   {
    "duration": 10,
    "start_time": "2022-07-14T18:54:14.930Z"
   },
   {
    "duration": 15,
    "start_time": "2022-07-14T18:54:14.941Z"
   },
   {
    "duration": 19,
    "start_time": "2022-07-14T18:54:17.419Z"
   },
   {
    "duration": 107,
    "start_time": "2022-07-14T18:55:08.441Z"
   },
   {
    "duration": 2274,
    "start_time": "2022-07-14T18:55:08.550Z"
   },
   {
    "duration": 13,
    "start_time": "2022-07-14T18:55:10.826Z"
   },
   {
    "duration": 780,
    "start_time": "2022-07-14T18:55:10.842Z"
   },
   {
    "duration": 11,
    "start_time": "2022-07-14T18:55:11.625Z"
   },
   {
    "duration": 30,
    "start_time": "2022-07-14T18:55:11.638Z"
   },
   {
    "duration": 19,
    "start_time": "2022-07-14T18:55:13.856Z"
   },
   {
    "duration": 18,
    "start_time": "2022-07-14T19:01:51.972Z"
   },
   {
    "duration": 48,
    "start_time": "2022-07-14T20:55:16.990Z"
   },
   {
    "duration": 6,
    "start_time": "2022-07-14T20:56:36.998Z"
   },
   {
    "duration": 722,
    "start_time": "2022-07-14T20:56:45.345Z"
   },
   {
    "duration": 2525,
    "start_time": "2022-07-14T20:56:46.069Z"
   },
   {
    "duration": 12,
    "start_time": "2022-07-14T20:56:48.596Z"
   },
   {
    "duration": 761,
    "start_time": "2022-07-14T20:56:48.610Z"
   },
   {
    "duration": 9,
    "start_time": "2022-07-14T20:56:49.374Z"
   },
   {
    "duration": 15,
    "start_time": "2022-07-14T20:56:49.384Z"
   },
   {
    "duration": 35,
    "start_time": "2022-07-14T20:56:49.402Z"
   },
   {
    "duration": 147,
    "start_time": "2022-07-14T21:02:31.260Z"
   },
   {
    "duration": 2049,
    "start_time": "2022-07-14T21:02:31.409Z"
   },
   {
    "duration": 12,
    "start_time": "2022-07-14T21:02:33.459Z"
   },
   {
    "duration": 698,
    "start_time": "2022-07-14T21:02:33.474Z"
   },
   {
    "duration": 10,
    "start_time": "2022-07-14T21:02:34.173Z"
   },
   {
    "duration": 15,
    "start_time": "2022-07-14T21:02:34.185Z"
   },
   {
    "duration": 37,
    "start_time": "2022-07-14T21:02:34.201Z"
   },
   {
    "duration": 40,
    "start_time": "2022-07-14T21:02:43.092Z"
   },
   {
    "duration": 7,
    "start_time": "2022-07-14T21:03:45.302Z"
   },
   {
    "duration": 9,
    "start_time": "2022-07-14T21:03:50.659Z"
   },
   {
    "duration": 9,
    "start_time": "2022-07-14T21:04:34.532Z"
   },
   {
    "duration": 7,
    "start_time": "2022-07-14T21:04:43.739Z"
   },
   {
    "duration": 10,
    "start_time": "2022-07-14T21:07:49.439Z"
   },
   {
    "duration": 84,
    "start_time": "2022-07-14T21:09:31.872Z"
   },
   {
    "duration": 10,
    "start_time": "2022-07-14T21:10:53.832Z"
   },
   {
    "duration": 12,
    "start_time": "2022-07-14T21:12:08.844Z"
   },
   {
    "duration": 9,
    "start_time": "2022-07-14T21:12:34.371Z"
   },
   {
    "duration": 15,
    "start_time": "2022-07-14T21:13:03.879Z"
   },
   {
    "duration": 16,
    "start_time": "2022-07-14T21:13:34.303Z"
   },
   {
    "duration": 19,
    "start_time": "2022-07-14T21:16:30.680Z"
   },
   {
    "duration": 15,
    "start_time": "2022-07-14T21:16:37.281Z"
   },
   {
    "duration": 17,
    "start_time": "2022-07-14T21:16:44.321Z"
   },
   {
    "duration": 20,
    "start_time": "2022-07-14T21:16:48.287Z"
   },
   {
    "duration": 15,
    "start_time": "2022-07-14T21:17:18.251Z"
   },
   {
    "duration": 15,
    "start_time": "2022-07-14T21:17:37.153Z"
   },
   {
    "duration": 21,
    "start_time": "2022-07-14T21:18:03.424Z"
   },
   {
    "duration": 19,
    "start_time": "2022-07-14T21:27:59.860Z"
   },
   {
    "duration": 36,
    "start_time": "2022-07-14T21:28:14.897Z"
   },
   {
    "duration": 19,
    "start_time": "2022-07-14T21:30:03.672Z"
   },
   {
    "duration": 12,
    "start_time": "2022-07-14T21:31:11.009Z"
   },
   {
    "duration": 41,
    "start_time": "2022-07-14T21:32:05.925Z"
   },
   {
    "duration": 26,
    "start_time": "2022-07-14T21:32:22.165Z"
   },
   {
    "duration": 111,
    "start_time": "2022-07-14T21:32:53.013Z"
   },
   {
    "duration": 2137,
    "start_time": "2022-07-14T21:32:53.127Z"
   },
   {
    "duration": 13,
    "start_time": "2022-07-14T21:32:55.265Z"
   },
   {
    "duration": 714,
    "start_time": "2022-07-14T21:32:55.280Z"
   },
   {
    "duration": 11,
    "start_time": "2022-07-14T21:32:55.995Z"
   },
   {
    "duration": 23,
    "start_time": "2022-07-14T21:32:56.008Z"
   },
   {
    "duration": 21,
    "start_time": "2022-07-14T21:32:56.034Z"
   },
   {
    "duration": 27,
    "start_time": "2022-07-14T21:32:56.057Z"
   },
   {
    "duration": 29,
    "start_time": "2022-07-14T21:33:07.329Z"
   },
   {
    "duration": 55,
    "start_time": "2022-07-14T21:50:22.782Z"
   },
   {
    "duration": 20,
    "start_time": "2022-07-14T21:52:50.915Z"
   },
   {
    "duration": 48,
    "start_time": "2022-07-14T21:53:23.826Z"
   },
   {
    "duration": 17,
    "start_time": "2022-07-14T21:53:34.207Z"
   },
   {
    "duration": 15,
    "start_time": "2022-07-14T21:53:47.091Z"
   },
   {
    "duration": 22,
    "start_time": "2022-07-14T21:54:08.864Z"
   },
   {
    "duration": 15,
    "start_time": "2022-07-14T21:54:48.395Z"
   },
   {
    "duration": 17,
    "start_time": "2022-07-14T21:55:13.954Z"
   },
   {
    "duration": 19,
    "start_time": "2022-07-14T21:56:14.934Z"
   },
   {
    "duration": 19,
    "start_time": "2022-07-14T21:57:47.182Z"
   },
   {
    "duration": 23,
    "start_time": "2022-07-14T21:58:15.405Z"
   },
   {
    "duration": 23,
    "start_time": "2022-07-14T21:58:26.731Z"
   },
   {
    "duration": 24,
    "start_time": "2022-07-14T21:58:44.163Z"
   },
   {
    "duration": 103,
    "start_time": "2022-07-14T21:59:45.834Z"
   },
   {
    "duration": 1884,
    "start_time": "2022-07-14T21:59:45.939Z"
   },
   {
    "duration": 12,
    "start_time": "2022-07-14T21:59:47.825Z"
   },
   {
    "duration": 835,
    "start_time": "2022-07-14T21:59:47.839Z"
   },
   {
    "duration": 9,
    "start_time": "2022-07-14T21:59:48.677Z"
   },
   {
    "duration": 14,
    "start_time": "2022-07-14T21:59:48.687Z"
   },
   {
    "duration": 34,
    "start_time": "2022-07-14T21:59:48.703Z"
   },
   {
    "duration": 18,
    "start_time": "2022-07-14T21:59:48.738Z"
   },
   {
    "duration": 27,
    "start_time": "2022-07-14T21:59:52.520Z"
   },
   {
    "duration": 71,
    "start_time": "2022-07-14T22:00:52.983Z"
   },
   {
    "duration": 71,
    "start_time": "2022-07-14T22:00:55.717Z"
   },
   {
    "duration": 29,
    "start_time": "2022-07-14T22:01:03.403Z"
   },
   {
    "duration": 29,
    "start_time": "2022-07-14T22:02:34.643Z"
   },
   {
    "duration": 40,
    "start_time": "2022-07-14T22:03:09.795Z"
   },
   {
    "duration": 29,
    "start_time": "2022-07-14T22:09:23.884Z"
   },
   {
    "duration": 29,
    "start_time": "2022-07-14T22:09:56.349Z"
   },
   {
    "duration": 33,
    "start_time": "2022-07-14T22:10:37.564Z"
   },
   {
    "duration": 35,
    "start_time": "2022-07-14T22:11:08.213Z"
   },
   {
    "duration": 216,
    "start_time": "2022-07-14T22:14:36.009Z"
   },
   {
    "duration": 680,
    "start_time": "2022-07-14T22:19:02.657Z"
   },
   {
    "duration": 19,
    "start_time": "2022-07-14T22:20:01.185Z"
   },
   {
    "duration": 234,
    "start_time": "2022-07-14T22:23:03.426Z"
   },
   {
    "duration": 574,
    "start_time": "2022-07-14T22:23:29.125Z"
   },
   {
    "duration": 20,
    "start_time": "2022-07-14T22:24:08.605Z"
   },
   {
    "duration": 6,
    "start_time": "2022-07-14T22:30:05.026Z"
   },
   {
    "duration": 256,
    "start_time": "2022-07-14T22:30:10.826Z"
   },
   {
    "duration": 213,
    "start_time": "2022-07-14T22:30:19.257Z"
   },
   {
    "duration": 206,
    "start_time": "2022-07-14T22:30:21.366Z"
   },
   {
    "duration": 200,
    "start_time": "2022-07-14T22:30:46.474Z"
   },
   {
    "duration": 197,
    "start_time": "2022-07-14T22:31:24.358Z"
   },
   {
    "duration": 200,
    "start_time": "2022-07-14T22:31:29.125Z"
   },
   {
    "duration": 11,
    "start_time": "2022-07-14T22:31:33.713Z"
   },
   {
    "duration": 104,
    "start_time": "2022-07-14T22:31:38.254Z"
   },
   {
    "duration": 2067,
    "start_time": "2022-07-14T22:31:38.360Z"
   },
   {
    "duration": 14,
    "start_time": "2022-07-14T22:31:40.428Z"
   },
   {
    "duration": 724,
    "start_time": "2022-07-14T22:31:40.444Z"
   },
   {
    "duration": 9,
    "start_time": "2022-07-14T22:31:41.171Z"
   },
   {
    "duration": 14,
    "start_time": "2022-07-14T22:31:41.182Z"
   },
   {
    "duration": 35,
    "start_time": "2022-07-14T22:31:41.198Z"
   },
   {
    "duration": 18,
    "start_time": "2022-07-14T22:31:41.235Z"
   },
   {
    "duration": 193,
    "start_time": "2022-07-14T22:31:42.986Z"
   },
   {
    "duration": 24,
    "start_time": "2022-07-14T22:33:00.407Z"
   },
   {
    "duration": 66,
    "start_time": "2022-07-14T22:34:41.605Z"
   },
   {
    "duration": 69,
    "start_time": "2022-07-14T22:37:03.778Z"
   },
   {
    "duration": 101,
    "start_time": "2022-07-14T22:37:10.986Z"
   },
   {
    "duration": 2021,
    "start_time": "2022-07-14T22:37:11.089Z"
   },
   {
    "duration": 18,
    "start_time": "2022-07-14T22:37:13.112Z"
   },
   {
    "duration": 709,
    "start_time": "2022-07-14T22:37:13.131Z"
   },
   {
    "duration": 10,
    "start_time": "2022-07-14T22:37:13.842Z"
   },
   {
    "duration": 16,
    "start_time": "2022-07-14T22:37:13.853Z"
   },
   {
    "duration": 28,
    "start_time": "2022-07-14T22:37:13.871Z"
   },
   {
    "duration": 19,
    "start_time": "2022-07-14T22:37:13.923Z"
   },
   {
    "duration": 51,
    "start_time": "2022-07-14T22:37:55.458Z"
   },
   {
    "duration": 102,
    "start_time": "2022-07-14T22:38:13.699Z"
   },
   {
    "duration": 2105,
    "start_time": "2022-07-14T22:38:13.803Z"
   },
   {
    "duration": 21,
    "start_time": "2022-07-14T22:38:15.910Z"
   },
   {
    "duration": 722,
    "start_time": "2022-07-14T22:38:15.933Z"
   },
   {
    "duration": 9,
    "start_time": "2022-07-14T22:38:16.658Z"
   },
   {
    "duration": 17,
    "start_time": "2022-07-14T22:38:16.669Z"
   },
   {
    "duration": 35,
    "start_time": "2022-07-14T22:38:16.688Z"
   },
   {
    "duration": 18,
    "start_time": "2022-07-14T22:38:16.725Z"
   },
   {
    "duration": 83,
    "start_time": "2022-07-14T22:38:16.745Z"
   },
   {
    "duration": 73,
    "start_time": "2022-07-14T22:39:08.174Z"
   },
   {
    "duration": 106,
    "start_time": "2022-07-14T22:39:34.198Z"
   },
   {
    "duration": 2069,
    "start_time": "2022-07-14T22:39:34.307Z"
   },
   {
    "duration": 12,
    "start_time": "2022-07-14T22:39:36.377Z"
   },
   {
    "duration": 700,
    "start_time": "2022-07-14T22:39:36.391Z"
   },
   {
    "duration": 9,
    "start_time": "2022-07-14T22:39:37.093Z"
   },
   {
    "duration": 24,
    "start_time": "2022-07-14T22:39:37.104Z"
   },
   {
    "duration": 18,
    "start_time": "2022-07-14T22:39:37.130Z"
   },
   {
    "duration": 19,
    "start_time": "2022-07-14T22:39:37.149Z"
   },
   {
    "duration": 70,
    "start_time": "2022-07-14T22:39:38.626Z"
   },
   {
    "duration": 67,
    "start_time": "2022-07-14T22:41:00.935Z"
   },
   {
    "duration": 47,
    "start_time": "2022-07-14T22:41:46.181Z"
   },
   {
    "duration": 67,
    "start_time": "2022-07-14T22:41:49.746Z"
   },
   {
    "duration": 65,
    "start_time": "2022-07-14T22:43:24.026Z"
   },
   {
    "duration": 97,
    "start_time": "2022-07-14T22:43:29.868Z"
   },
   {
    "duration": 2001,
    "start_time": "2022-07-14T22:43:29.966Z"
   },
   {
    "duration": 13,
    "start_time": "2022-07-14T22:43:31.969Z"
   },
   {
    "duration": 697,
    "start_time": "2022-07-14T22:43:31.984Z"
   },
   {
    "duration": 8,
    "start_time": "2022-07-14T22:43:32.683Z"
   },
   {
    "duration": 16,
    "start_time": "2022-07-14T22:43:32.693Z"
   },
   {
    "duration": 19,
    "start_time": "2022-07-14T22:43:32.724Z"
   },
   {
    "duration": 18,
    "start_time": "2022-07-14T22:43:32.745Z"
   },
   {
    "duration": 69,
    "start_time": "2022-07-14T22:43:32.987Z"
   },
   {
    "duration": 64,
    "start_time": "2022-07-14T22:43:41.787Z"
   },
   {
    "duration": 82,
    "start_time": "2022-07-14T22:47:54.086Z"
   },
   {
    "duration": 26,
    "start_time": "2022-07-14T22:49:34.179Z"
   },
   {
    "duration": 9,
    "start_time": "2022-07-14T22:54:08.815Z"
   },
   {
    "duration": 17,
    "start_time": "2022-07-14T22:54:20.799Z"
   },
   {
    "duration": 17,
    "start_time": "2022-07-14T22:54:53.351Z"
   },
   {
    "duration": 15,
    "start_time": "2022-07-14T22:55:02.427Z"
   },
   {
    "duration": 861,
    "start_time": "2022-07-14T22:56:37.399Z"
   },
   {
    "duration": 789,
    "start_time": "2022-07-14T22:56:53.578Z"
   },
   {
    "duration": 18,
    "start_time": "2022-07-14T22:57:19.719Z"
   },
   {
    "duration": 18,
    "start_time": "2022-07-14T22:57:45.718Z"
   },
   {
    "duration": 22,
    "start_time": "2022-07-14T22:57:52.267Z"
   },
   {
    "duration": 245,
    "start_time": "2022-07-14T23:01:28.039Z"
   },
   {
    "duration": 10,
    "start_time": "2022-07-14T23:01:48.161Z"
   },
   {
    "duration": 8,
    "start_time": "2022-07-14T23:05:01.782Z"
   },
   {
    "duration": 103,
    "start_time": "2022-07-14T23:05:12.184Z"
   },
   {
    "duration": 1912,
    "start_time": "2022-07-14T23:05:12.289Z"
   },
   {
    "duration": 25,
    "start_time": "2022-07-14T23:05:14.203Z"
   },
   {
    "duration": 695,
    "start_time": "2022-07-14T23:05:14.229Z"
   },
   {
    "duration": 11,
    "start_time": "2022-07-14T23:05:14.926Z"
   },
   {
    "duration": 17,
    "start_time": "2022-07-14T23:05:14.939Z"
   },
   {
    "duration": 18,
    "start_time": "2022-07-14T23:05:14.958Z"
   },
   {
    "duration": 50,
    "start_time": "2022-07-14T23:05:14.978Z"
   },
   {
    "duration": 67,
    "start_time": "2022-07-14T23:05:15.030Z"
   },
   {
    "duration": 105,
    "start_time": "2022-07-14T23:05:15.099Z"
   },
   {
    "duration": 39,
    "start_time": "2022-07-14T23:05:15.206Z"
   },
   {
    "duration": 787,
    "start_time": "2022-07-14T23:05:15.318Z"
   },
   {
    "duration": 581,
    "start_time": "2022-07-14T23:05:20.630Z"
   },
   {
    "duration": 113,
    "start_time": "2022-07-14T23:05:32.767Z"
   },
   {
    "duration": 110,
    "start_time": "2022-07-14T23:06:44.435Z"
   },
   {
    "duration": 128,
    "start_time": "2022-07-14T23:06:59.813Z"
   },
   {
    "duration": 121,
    "start_time": "2022-07-14T23:07:19.826Z"
   },
   {
    "duration": 106,
    "start_time": "2022-07-14T23:07:37.265Z"
   },
   {
    "duration": 127,
    "start_time": "2022-07-14T23:08:07.744Z"
   },
   {
    "duration": 409,
    "start_time": "2022-07-14T23:08:58.193Z"
   },
   {
    "duration": 241,
    "start_time": "2022-07-14T23:09:01.541Z"
   },
   {
    "duration": 130,
    "start_time": "2022-07-14T23:09:08.469Z"
   },
   {
    "duration": 261,
    "start_time": "2022-07-14T23:09:31.902Z"
   },
   {
    "duration": 167,
    "start_time": "2022-07-14T23:09:56.473Z"
   },
   {
    "duration": 154,
    "start_time": "2022-07-14T23:10:00.256Z"
   },
   {
    "duration": 125,
    "start_time": "2022-07-14T23:10:32.871Z"
   },
   {
    "duration": 149,
    "start_time": "2022-07-14T23:10:38.093Z"
   },
   {
    "duration": 147,
    "start_time": "2022-07-14T23:15:27.453Z"
   },
   {
    "duration": 130,
    "start_time": "2022-07-14T23:17:23.640Z"
   },
   {
    "duration": 149,
    "start_time": "2022-07-14T23:17:41.514Z"
   },
   {
    "duration": 137,
    "start_time": "2022-07-14T23:17:46.119Z"
   },
   {
    "duration": 194,
    "start_time": "2022-07-14T23:17:52.339Z"
   },
   {
    "duration": 126,
    "start_time": "2022-07-14T23:18:03.549Z"
   },
   {
    "duration": 205,
    "start_time": "2022-07-14T23:18:32.480Z"
   },
   {
    "duration": 205,
    "start_time": "2022-07-14T23:18:37.819Z"
   },
   {
    "duration": 164,
    "start_time": "2022-07-14T23:18:46.231Z"
   },
   {
    "duration": 166,
    "start_time": "2022-07-14T23:19:19.244Z"
   },
   {
    "duration": 179,
    "start_time": "2022-07-14T23:20:37.624Z"
   },
   {
    "duration": 159,
    "start_time": "2022-07-14T23:20:52.235Z"
   },
   {
    "duration": 163,
    "start_time": "2022-07-14T23:21:04.974Z"
   },
   {
    "duration": 165,
    "start_time": "2022-07-14T23:21:09.050Z"
   },
   {
    "duration": 166,
    "start_time": "2022-07-14T23:21:15.082Z"
   },
   {
    "duration": 259,
    "start_time": "2022-07-14T23:21:20.127Z"
   },
   {
    "duration": 167,
    "start_time": "2022-07-14T23:21:33.523Z"
   },
   {
    "duration": 56,
    "start_time": "2022-07-14T23:23:54.299Z"
   },
   {
    "duration": 6,
    "start_time": "2022-07-14T23:23:58.053Z"
   },
   {
    "duration": 5,
    "start_time": "2022-07-14T23:24:02.888Z"
   },
   {
    "duration": 15,
    "start_time": "2022-07-14T23:24:48.015Z"
   },
   {
    "duration": 16,
    "start_time": "2022-07-14T23:24:51.509Z"
   },
   {
    "duration": 151,
    "start_time": "2022-07-14T23:27:09.824Z"
   },
   {
    "duration": 179,
    "start_time": "2022-07-14T23:28:04.131Z"
   },
   {
    "duration": 131,
    "start_time": "2022-07-14T23:28:10.665Z"
   },
   {
    "duration": 15,
    "start_time": "2022-07-14T23:29:12.151Z"
   },
   {
    "duration": 131,
    "start_time": "2022-07-14T23:31:22.630Z"
   },
   {
    "duration": 132,
    "start_time": "2022-07-14T23:31:28.717Z"
   },
   {
    "duration": 6,
    "start_time": "2022-07-14T23:32:31.318Z"
   },
   {
    "duration": 103,
    "start_time": "2022-07-14T23:33:59.823Z"
   },
   {
    "duration": 2167,
    "start_time": "2022-07-14T23:33:59.928Z"
   },
   {
    "duration": 27,
    "start_time": "2022-07-14T23:34:02.097Z"
   },
   {
    "duration": 688,
    "start_time": "2022-07-14T23:34:02.125Z"
   },
   {
    "duration": 12,
    "start_time": "2022-07-14T23:34:02.815Z"
   },
   {
    "duration": 14,
    "start_time": "2022-07-14T23:34:02.829Z"
   },
   {
    "duration": 17,
    "start_time": "2022-07-14T23:34:02.845Z"
   },
   {
    "duration": 21,
    "start_time": "2022-07-14T23:34:02.864Z"
   },
   {
    "duration": 92,
    "start_time": "2022-07-14T23:34:02.887Z"
   },
   {
    "duration": 94,
    "start_time": "2022-07-14T23:34:02.981Z"
   },
   {
    "duration": 157,
    "start_time": "2022-07-14T23:34:03.077Z"
   },
   {
    "duration": 156,
    "start_time": "2022-07-14T23:34:03.235Z"
   },
   {
    "duration": 6,
    "start_time": "2022-07-14T23:34:03.393Z"
   },
   {
    "duration": 29,
    "start_time": "2022-07-14T23:34:03.401Z"
   },
   {
    "duration": 154,
    "start_time": "2022-07-14T23:34:03.432Z"
   },
   {
    "duration": 152,
    "start_time": "2022-07-14T23:34:03.588Z"
   },
   {
    "duration": 15,
    "start_time": "2022-07-14T23:34:03.742Z"
   },
   {
    "duration": 7,
    "start_time": "2022-07-14T23:34:07.917Z"
   },
   {
    "duration": 15,
    "start_time": "2022-07-14T23:34:47.409Z"
   },
   {
    "duration": 10,
    "start_time": "2022-07-14T23:34:53.656Z"
   },
   {
    "duration": 25,
    "start_time": "2022-07-14T23:35:01.350Z"
   },
   {
    "duration": 24,
    "start_time": "2022-07-14T23:35:16.348Z"
   },
   {
    "duration": 6,
    "start_time": "2022-07-14T23:35:26.194Z"
   },
   {
    "duration": 5,
    "start_time": "2022-07-14T23:35:36.695Z"
   },
   {
    "duration": 7,
    "start_time": "2022-07-14T23:35:43.503Z"
   },
   {
    "duration": 51,
    "start_time": "2022-07-14T23:39:06.554Z"
   },
   {
    "duration": 62,
    "start_time": "2022-07-14T23:39:27.404Z"
   },
   {
    "duration": 6,
    "start_time": "2022-07-14T23:40:26.588Z"
   },
   {
    "duration": 5,
    "start_time": "2022-07-14T23:40:32.397Z"
   },
   {
    "duration": 11,
    "start_time": "2022-07-14T23:40:46.027Z"
   },
   {
    "duration": 10,
    "start_time": "2022-07-14T23:41:50.009Z"
   },
   {
    "duration": 99,
    "start_time": "2022-07-14T23:42:11.777Z"
   },
   {
    "duration": 2030,
    "start_time": "2022-07-14T23:42:11.879Z"
   },
   {
    "duration": 23,
    "start_time": "2022-07-14T23:42:13.910Z"
   },
   {
    "duration": 682,
    "start_time": "2022-07-14T23:42:13.935Z"
   },
   {
    "duration": 11,
    "start_time": "2022-07-14T23:42:14.619Z"
   },
   {
    "duration": 14,
    "start_time": "2022-07-14T23:42:14.632Z"
   },
   {
    "duration": 18,
    "start_time": "2022-07-14T23:42:14.648Z"
   },
   {
    "duration": 18,
    "start_time": "2022-07-14T23:42:14.668Z"
   },
   {
    "duration": 91,
    "start_time": "2022-07-14T23:42:14.687Z"
   },
   {
    "duration": 92,
    "start_time": "2022-07-14T23:42:14.780Z"
   },
   {
    "duration": 152,
    "start_time": "2022-07-14T23:42:14.873Z"
   },
   {
    "duration": 165,
    "start_time": "2022-07-14T23:42:15.027Z"
   },
   {
    "duration": 5,
    "start_time": "2022-07-14T23:42:15.194Z"
   },
   {
    "duration": 31,
    "start_time": "2022-07-14T23:42:15.201Z"
   },
   {
    "duration": 157,
    "start_time": "2022-07-14T23:42:15.234Z"
   },
   {
    "duration": 141,
    "start_time": "2022-07-14T23:42:15.393Z"
   },
   {
    "duration": 16,
    "start_time": "2022-07-14T23:42:15.535Z"
   },
   {
    "duration": 8,
    "start_time": "2022-07-14T23:42:15.552Z"
   },
   {
    "duration": 10,
    "start_time": "2022-07-14T23:42:39.958Z"
   },
   {
    "duration": 199,
    "start_time": "2022-07-14T23:44:33.850Z"
   },
   {
    "duration": 241,
    "start_time": "2022-07-14T23:44:52.178Z"
   },
   {
    "duration": 142,
    "start_time": "2022-07-14T23:44:57.304Z"
   },
   {
    "duration": 18,
    "start_time": "2022-07-14T23:46:41.523Z"
   },
   {
    "duration": 18,
    "start_time": "2022-07-14T23:46:43.825Z"
   },
   {
    "duration": 22,
    "start_time": "2022-07-14T23:47:07.077Z"
   },
   {
    "duration": 44,
    "start_time": "2022-07-14T23:47:20.210Z"
   },
   {
    "duration": 101,
    "start_time": "2022-07-14T23:49:55.110Z"
   },
   {
    "duration": 1957,
    "start_time": "2022-07-14T23:49:55.214Z"
   },
   {
    "duration": 12,
    "start_time": "2022-07-14T23:49:57.173Z"
   },
   {
    "duration": 801,
    "start_time": "2022-07-14T23:49:57.187Z"
   },
   {
    "duration": 8,
    "start_time": "2022-07-14T23:49:57.991Z"
   },
   {
    "duration": 26,
    "start_time": "2022-07-14T23:49:58.001Z"
   },
   {
    "duration": 18,
    "start_time": "2022-07-14T23:49:58.028Z"
   },
   {
    "duration": 17,
    "start_time": "2022-07-14T23:49:58.047Z"
   },
   {
    "duration": 89,
    "start_time": "2022-07-14T23:49:58.066Z"
   },
   {
    "duration": 90,
    "start_time": "2022-07-14T23:49:58.156Z"
   },
   {
    "duration": 158,
    "start_time": "2022-07-14T23:49:58.248Z"
   },
   {
    "duration": 162,
    "start_time": "2022-07-14T23:49:58.407Z"
   },
   {
    "duration": 6,
    "start_time": "2022-07-14T23:49:58.570Z"
   },
   {
    "duration": 20,
    "start_time": "2022-07-14T23:49:58.578Z"
   },
   {
    "duration": 171,
    "start_time": "2022-07-14T23:49:58.600Z"
   },
   {
    "duration": 162,
    "start_time": "2022-07-14T23:49:58.772Z"
   },
   {
    "duration": 5,
    "start_time": "2022-07-14T23:50:01.001Z"
   },
   {
    "duration": 16,
    "start_time": "2022-07-14T23:50:05.771Z"
   },
   {
    "duration": 11,
    "start_time": "2022-07-14T23:50:19.698Z"
   },
   {
    "duration": 6,
    "start_time": "2022-07-14T23:50:42.630Z"
   },
   {
    "duration": 159,
    "start_time": "2022-07-14T23:50:52.176Z"
   },
   {
    "duration": 141,
    "start_time": "2022-07-14T23:51:00.530Z"
   },
   {
    "duration": 18,
    "start_time": "2022-07-14T23:51:35.413Z"
   },
   {
    "duration": 17,
    "start_time": "2022-07-14T23:51:43.075Z"
   },
   {
    "duration": 18,
    "start_time": "2022-07-14T23:51:45.353Z"
   },
   {
    "duration": 18,
    "start_time": "2022-07-14T23:51:54.985Z"
   },
   {
    "duration": 108,
    "start_time": "2022-07-14T23:52:04.621Z"
   },
   {
    "duration": 2105,
    "start_time": "2022-07-14T23:52:04.731Z"
   },
   {
    "duration": 13,
    "start_time": "2022-07-14T23:52:06.838Z"
   },
   {
    "duration": 726,
    "start_time": "2022-07-14T23:52:06.853Z"
   },
   {
    "duration": 10,
    "start_time": "2022-07-14T23:52:07.582Z"
   },
   {
    "duration": 32,
    "start_time": "2022-07-14T23:52:07.593Z"
   },
   {
    "duration": 20,
    "start_time": "2022-07-14T23:52:07.627Z"
   },
   {
    "duration": 20,
    "start_time": "2022-07-14T23:52:07.648Z"
   },
   {
    "duration": 92,
    "start_time": "2022-07-14T23:52:07.670Z"
   },
   {
    "duration": 96,
    "start_time": "2022-07-14T23:52:07.764Z"
   },
   {
    "duration": 154,
    "start_time": "2022-07-14T23:52:07.862Z"
   },
   {
    "duration": 166,
    "start_time": "2022-07-14T23:52:08.018Z"
   },
   {
    "duration": 6,
    "start_time": "2022-07-14T23:52:08.186Z"
   },
   {
    "duration": 30,
    "start_time": "2022-07-14T23:52:08.195Z"
   },
   {
    "duration": 159,
    "start_time": "2022-07-14T23:52:08.226Z"
   },
   {
    "duration": 147,
    "start_time": "2022-07-14T23:52:08.387Z"
   },
   {
    "duration": 5,
    "start_time": "2022-07-14T23:52:08.536Z"
   },
   {
    "duration": 16,
    "start_time": "2022-07-14T23:52:08.543Z"
   },
   {
    "duration": 8,
    "start_time": "2022-07-14T23:52:08.561Z"
   },
   {
    "duration": 7,
    "start_time": "2022-07-14T23:52:08.571Z"
   },
   {
    "duration": 175,
    "start_time": "2022-07-14T23:52:08.580Z"
   },
   {
    "duration": 17,
    "start_time": "2022-07-14T23:52:11.171Z"
   },
   {
    "duration": 146,
    "start_time": "2022-07-14T23:54:12.283Z"
   },
   {
    "duration": 142,
    "start_time": "2022-07-14T23:54:18.096Z"
   },
   {
    "duration": 256,
    "start_time": "2022-07-14T23:55:33.082Z"
   },
   {
    "duration": 6,
    "start_time": "2022-07-14T23:57:02.220Z"
   },
   {
    "duration": 17,
    "start_time": "2022-07-14T23:58:15.074Z"
   },
   {
    "duration": 51,
    "start_time": "2022-07-15T08:42:35.546Z"
   },
   {
    "duration": 1108,
    "start_time": "2022-07-15T08:42:53.894Z"
   },
   {
    "duration": 58,
    "start_time": "2022-07-15T08:42:58.427Z"
   },
   {
    "duration": 2267,
    "start_time": "2022-07-15T08:43:59.182Z"
   },
   {
    "duration": 3,
    "start_time": "2022-07-15T08:44:15.267Z"
   },
   {
    "duration": 2131,
    "start_time": "2022-07-15T08:44:21.475Z"
   },
   {
    "duration": 115,
    "start_time": "2022-07-15T08:44:55.567Z"
   },
   {
    "duration": 3,
    "start_time": "2022-07-15T08:44:55.685Z"
   },
   {
    "duration": 2358,
    "start_time": "2022-07-15T08:44:55.690Z"
   },
   {
    "duration": 15,
    "start_time": "2022-07-15T08:44:58.050Z"
   },
   {
    "duration": 2427,
    "start_time": "2022-07-15T08:44:58.068Z"
   },
   {
    "duration": 0,
    "start_time": "2022-07-15T08:45:00.497Z"
   },
   {
    "duration": 0,
    "start_time": "2022-07-15T08:45:00.498Z"
   },
   {
    "duration": 0,
    "start_time": "2022-07-15T08:45:00.500Z"
   },
   {
    "duration": 0,
    "start_time": "2022-07-15T08:45:00.501Z"
   },
   {
    "duration": 0,
    "start_time": "2022-07-15T08:45:00.502Z"
   },
   {
    "duration": 0,
    "start_time": "2022-07-15T08:45:00.503Z"
   },
   {
    "duration": 0,
    "start_time": "2022-07-15T08:45:00.505Z"
   },
   {
    "duration": 0,
    "start_time": "2022-07-15T08:45:00.509Z"
   },
   {
    "duration": 0,
    "start_time": "2022-07-15T08:45:00.512Z"
   },
   {
    "duration": 0,
    "start_time": "2022-07-15T08:45:00.514Z"
   },
   {
    "duration": 0,
    "start_time": "2022-07-15T08:45:00.515Z"
   },
   {
    "duration": 0,
    "start_time": "2022-07-15T08:45:00.517Z"
   },
   {
    "duration": 0,
    "start_time": "2022-07-15T08:45:00.518Z"
   },
   {
    "duration": 0,
    "start_time": "2022-07-15T08:45:00.519Z"
   },
   {
    "duration": 0,
    "start_time": "2022-07-15T08:45:00.520Z"
   },
   {
    "duration": 0,
    "start_time": "2022-07-15T08:45:00.522Z"
   },
   {
    "duration": 0,
    "start_time": "2022-07-15T08:45:00.523Z"
   },
   {
    "duration": 0,
    "start_time": "2022-07-15T08:45:00.524Z"
   },
   {
    "duration": 0,
    "start_time": "2022-07-15T08:45:00.525Z"
   },
   {
    "duration": 0,
    "start_time": "2022-07-15T08:45:00.527Z"
   },
   {
    "duration": 0,
    "start_time": "2022-07-15T08:45:00.528Z"
   },
   {
    "duration": 0,
    "start_time": "2022-07-15T08:45:00.529Z"
   },
   {
    "duration": 8,
    "start_time": "2022-07-15T08:46:40.506Z"
   },
   {
    "duration": 131,
    "start_time": "2022-07-15T08:47:29.046Z"
   },
   {
    "duration": 7,
    "start_time": "2022-07-15T08:48:21.906Z"
   },
   {
    "duration": 8,
    "start_time": "2022-07-15T08:48:44.594Z"
   },
   {
    "duration": 7,
    "start_time": "2022-07-15T08:49:12.687Z"
   },
   {
    "duration": 8,
    "start_time": "2022-07-15T08:49:18.855Z"
   },
   {
    "duration": 51,
    "start_time": "2022-07-15T14:54:44.526Z"
   },
   {
    "duration": 1123,
    "start_time": "2022-07-15T14:54:49.368Z"
   },
   {
    "duration": 3,
    "start_time": "2022-07-15T14:54:50.493Z"
   },
   {
    "duration": 2325,
    "start_time": "2022-07-15T14:54:50.498Z"
   },
   {
    "duration": 14,
    "start_time": "2022-07-15T14:54:52.825Z"
   },
   {
    "duration": 2141,
    "start_time": "2022-07-15T14:54:52.841Z"
   },
   {
    "duration": 0,
    "start_time": "2022-07-15T14:54:54.984Z"
   },
   {
    "duration": 0,
    "start_time": "2022-07-15T14:54:54.986Z"
   },
   {
    "duration": 0,
    "start_time": "2022-07-15T14:54:54.987Z"
   },
   {
    "duration": 0,
    "start_time": "2022-07-15T14:54:54.988Z"
   },
   {
    "duration": 0,
    "start_time": "2022-07-15T14:54:54.989Z"
   },
   {
    "duration": 0,
    "start_time": "2022-07-15T14:54:54.990Z"
   },
   {
    "duration": 0,
    "start_time": "2022-07-15T14:54:54.991Z"
   },
   {
    "duration": 0,
    "start_time": "2022-07-15T14:54:54.992Z"
   },
   {
    "duration": 0,
    "start_time": "2022-07-15T14:54:54.993Z"
   },
   {
    "duration": 0,
    "start_time": "2022-07-15T14:54:54.994Z"
   },
   {
    "duration": 0,
    "start_time": "2022-07-15T14:54:54.995Z"
   },
   {
    "duration": 0,
    "start_time": "2022-07-15T14:54:54.996Z"
   },
   {
    "duration": 0,
    "start_time": "2022-07-15T14:54:54.997Z"
   },
   {
    "duration": 0,
    "start_time": "2022-07-15T14:54:54.998Z"
   },
   {
    "duration": 0,
    "start_time": "2022-07-15T14:54:55.000Z"
   },
   {
    "duration": 0,
    "start_time": "2022-07-15T14:54:55.001Z"
   },
   {
    "duration": 0,
    "start_time": "2022-07-15T14:54:55.002Z"
   },
   {
    "duration": 0,
    "start_time": "2022-07-15T14:54:55.003Z"
   },
   {
    "duration": 0,
    "start_time": "2022-07-15T14:54:55.004Z"
   },
   {
    "duration": 0,
    "start_time": "2022-07-15T14:54:55.005Z"
   },
   {
    "duration": 0,
    "start_time": "2022-07-15T14:54:55.006Z"
   },
   {
    "duration": 0,
    "start_time": "2022-07-15T14:54:55.007Z"
   },
   {
    "duration": 0,
    "start_time": "2022-07-15T14:54:55.008Z"
   },
   {
    "duration": 0,
    "start_time": "2022-07-15T14:54:55.009Z"
   },
   {
    "duration": 12,
    "start_time": "2022-07-15T14:55:00.426Z"
   },
   {
    "duration": 374,
    "start_time": "2022-07-15T14:56:46.158Z"
   },
   {
    "duration": 141,
    "start_time": "2022-07-15T14:58:13.215Z"
   },
   {
    "duration": 3,
    "start_time": "2022-07-15T14:58:13.358Z"
   },
   {
    "duration": 2114,
    "start_time": "2022-07-15T14:58:13.363Z"
   },
   {
    "duration": 13,
    "start_time": "2022-07-15T14:58:15.479Z"
   },
   {
    "duration": 717,
    "start_time": "2022-07-15T14:58:15.495Z"
   },
   {
    "duration": 10,
    "start_time": "2022-07-15T14:58:16.214Z"
   },
   {
    "duration": 16,
    "start_time": "2022-07-15T14:58:16.225Z"
   },
   {
    "duration": 20,
    "start_time": "2022-07-15T14:58:16.243Z"
   },
   {
    "duration": 51,
    "start_time": "2022-07-15T14:58:16.265Z"
   },
   {
    "duration": 66,
    "start_time": "2022-07-15T14:58:16.318Z"
   },
   {
    "duration": 116,
    "start_time": "2022-07-15T14:58:16.385Z"
   },
   {
    "duration": 155,
    "start_time": "2022-07-15T14:58:16.503Z"
   },
   {
    "duration": 175,
    "start_time": "2022-07-15T14:58:16.660Z"
   },
   {
    "duration": 6,
    "start_time": "2022-07-15T14:58:16.839Z"
   },
   {
    "duration": 21,
    "start_time": "2022-07-15T14:58:16.847Z"
   },
   {
    "duration": 174,
    "start_time": "2022-07-15T14:58:16.870Z"
   },
   {
    "duration": 144,
    "start_time": "2022-07-15T14:58:17.046Z"
   },
   {
    "duration": 5,
    "start_time": "2022-07-15T14:58:17.192Z"
   },
   {
    "duration": 26,
    "start_time": "2022-07-15T14:58:17.199Z"
   },
   {
    "duration": 7,
    "start_time": "2022-07-15T14:58:17.227Z"
   },
   {
    "duration": 6,
    "start_time": "2022-07-15T14:58:17.235Z"
   },
   {
    "duration": 170,
    "start_time": "2022-07-15T14:58:17.242Z"
   },
   {
    "duration": 17,
    "start_time": "2022-07-15T14:58:17.414Z"
   },
   {
    "duration": 170,
    "start_time": "2022-07-15T14:58:17.433Z"
   },
   {
    "duration": 154,
    "start_time": "2022-07-15T14:58:17.609Z"
   },
   {
    "duration": 6,
    "start_time": "2022-07-15T14:58:17.764Z"
   },
   {
    "duration": 23,
    "start_time": "2022-07-15T14:58:17.772Z"
   },
   {
    "duration": 18,
    "start_time": "2022-07-15T14:58:17.797Z"
   },
   {
    "duration": 486,
    "start_time": "2022-07-15T14:58:17.817Z"
   },
   {
    "duration": 0,
    "start_time": "2022-07-15T14:58:18.305Z"
   },
   {
    "duration": 0,
    "start_time": "2022-07-15T14:58:18.306Z"
   },
   {
    "duration": 0,
    "start_time": "2022-07-15T14:58:18.307Z"
   },
   {
    "duration": 0,
    "start_time": "2022-07-15T14:58:18.309Z"
   },
   {
    "duration": 8,
    "start_time": "2022-07-15T14:58:36.127Z"
   },
   {
    "duration": 394,
    "start_time": "2022-07-15T14:58:52.086Z"
   },
   {
    "duration": 1257,
    "start_time": "2022-07-15T14:59:18.575Z"
   },
   {
    "duration": 381,
    "start_time": "2022-07-15T14:59:29.223Z"
   },
   {
    "duration": 19,
    "start_time": "2022-07-15T15:00:05.705Z"
   },
   {
    "duration": 21,
    "start_time": "2022-07-15T15:03:12.946Z"
   },
   {
    "duration": 18,
    "start_time": "2022-07-15T15:04:59.742Z"
   },
   {
    "duration": 19,
    "start_time": "2022-07-15T15:05:05.626Z"
   },
   {
    "duration": 151,
    "start_time": "2022-07-15T15:05:21.955Z"
   },
   {
    "duration": 4,
    "start_time": "2022-07-15T15:05:22.109Z"
   },
   {
    "duration": 2025,
    "start_time": "2022-07-15T15:05:22.117Z"
   },
   {
    "duration": 15,
    "start_time": "2022-07-15T15:05:24.143Z"
   },
   {
    "duration": 747,
    "start_time": "2022-07-15T15:05:24.160Z"
   },
   {
    "duration": 10,
    "start_time": "2022-07-15T15:05:24.909Z"
   },
   {
    "duration": 15,
    "start_time": "2022-07-15T15:05:24.921Z"
   },
   {
    "duration": 773,
    "start_time": "2022-07-15T15:05:27.718Z"
   },
   {
    "duration": 22,
    "start_time": "2022-07-15T15:05:55.249Z"
   },
   {
    "duration": 142,
    "start_time": "2022-07-15T15:06:30.369Z"
   },
   {
    "duration": 3,
    "start_time": "2022-07-15T15:06:30.513Z"
   },
   {
    "duration": 2148,
    "start_time": "2022-07-15T15:06:30.517Z"
   },
   {
    "duration": 14,
    "start_time": "2022-07-15T15:06:32.667Z"
   },
   {
    "duration": 733,
    "start_time": "2022-07-15T15:06:32.683Z"
   },
   {
    "duration": 10,
    "start_time": "2022-07-15T15:06:33.418Z"
   },
   {
    "duration": 15,
    "start_time": "2022-07-15T15:06:33.430Z"
   },
   {
    "duration": 20,
    "start_time": "2022-07-15T15:06:33.447Z"
   },
   {
    "duration": 20,
    "start_time": "2022-07-15T15:06:40.048Z"
   },
   {
    "duration": 144,
    "start_time": "2022-07-15T15:07:35.535Z"
   },
   {
    "duration": 3,
    "start_time": "2022-07-15T15:07:35.681Z"
   },
   {
    "duration": 2065,
    "start_time": "2022-07-15T15:07:35.686Z"
   },
   {
    "duration": 18,
    "start_time": "2022-07-15T15:07:37.754Z"
   },
   {
    "duration": 741,
    "start_time": "2022-07-15T15:07:37.775Z"
   },
   {
    "duration": 9,
    "start_time": "2022-07-15T15:07:38.518Z"
   },
   {
    "duration": 36,
    "start_time": "2022-07-15T15:07:38.529Z"
   },
   {
    "duration": 673,
    "start_time": "2022-07-15T15:07:40.159Z"
   },
   {
    "duration": 139,
    "start_time": "2022-07-15T15:08:47.575Z"
   },
   {
    "duration": 4,
    "start_time": "2022-07-15T15:08:47.716Z"
   },
   {
    "duration": 2049,
    "start_time": "2022-07-15T15:08:47.722Z"
   },
   {
    "duration": 14,
    "start_time": "2022-07-15T15:08:49.773Z"
   },
   {
    "duration": 726,
    "start_time": "2022-07-15T15:08:49.790Z"
   },
   {
    "duration": 12,
    "start_time": "2022-07-15T15:08:50.518Z"
   },
   {
    "duration": 24,
    "start_time": "2022-07-15T15:08:50.532Z"
   },
   {
    "duration": 22,
    "start_time": "2022-07-15T15:09:10.021Z"
   },
   {
    "duration": 159,
    "start_time": "2022-07-15T15:10:29.542Z"
   },
   {
    "duration": 8,
    "start_time": "2022-07-15T15:10:29.703Z"
   },
   {
    "duration": 2320,
    "start_time": "2022-07-15T15:10:29.716Z"
   },
   {
    "duration": 20,
    "start_time": "2022-07-15T15:10:32.038Z"
   },
   {
    "duration": 791,
    "start_time": "2022-07-15T15:10:32.061Z"
   },
   {
    "duration": 10,
    "start_time": "2022-07-15T15:10:32.853Z"
   },
   {
    "duration": 15,
    "start_time": "2022-07-15T15:10:32.865Z"
   },
   {
    "duration": 725,
    "start_time": "2022-07-15T15:10:35.984Z"
   },
   {
    "duration": 23,
    "start_time": "2022-07-15T15:10:45.544Z"
   },
   {
    "duration": 151,
    "start_time": "2022-07-15T15:11:49.741Z"
   },
   {
    "duration": 4,
    "start_time": "2022-07-15T15:11:49.894Z"
   },
   {
    "duration": 2203,
    "start_time": "2022-07-15T15:11:49.899Z"
   },
   {
    "duration": 27,
    "start_time": "2022-07-15T15:11:52.105Z"
   },
   {
    "duration": 944,
    "start_time": "2022-07-15T15:11:52.134Z"
   },
   {
    "duration": 14,
    "start_time": "2022-07-15T15:11:53.080Z"
   },
   {
    "duration": 29,
    "start_time": "2022-07-15T15:11:53.096Z"
   },
   {
    "duration": 21,
    "start_time": "2022-07-15T15:11:53.127Z"
   },
   {
    "duration": 19,
    "start_time": "2022-07-15T15:11:53.150Z"
   },
   {
    "duration": 97,
    "start_time": "2022-07-15T15:11:53.171Z"
   },
   {
    "duration": 105,
    "start_time": "2022-07-15T15:11:53.270Z"
   },
   {
    "duration": 170,
    "start_time": "2022-07-15T15:11:53.377Z"
   },
   {
    "duration": 183,
    "start_time": "2022-07-15T15:11:53.550Z"
   },
   {
    "duration": 6,
    "start_time": "2022-07-15T15:11:53.736Z"
   },
   {
    "duration": 32,
    "start_time": "2022-07-15T15:11:53.743Z"
   },
   {
    "duration": 176,
    "start_time": "2022-07-15T15:11:53.777Z"
   },
   {
    "duration": 155,
    "start_time": "2022-07-15T15:11:53.955Z"
   },
   {
    "duration": 7,
    "start_time": "2022-07-15T15:11:54.112Z"
   },
   {
    "duration": 29,
    "start_time": "2022-07-15T15:11:54.122Z"
   },
   {
    "duration": 9,
    "start_time": "2022-07-15T15:11:54.153Z"
   },
   {
    "duration": 7,
    "start_time": "2022-07-15T15:11:54.164Z"
   },
   {
    "duration": 178,
    "start_time": "2022-07-15T15:11:54.173Z"
   },
   {
    "duration": 17,
    "start_time": "2022-07-15T15:11:54.354Z"
   },
   {
    "duration": 172,
    "start_time": "2022-07-15T15:11:54.376Z"
   },
   {
    "duration": 157,
    "start_time": "2022-07-15T15:11:54.550Z"
   },
   {
    "duration": 7,
    "start_time": "2022-07-15T15:11:54.711Z"
   },
   {
    "duration": 29,
    "start_time": "2022-07-15T15:11:54.721Z"
   },
   {
    "duration": 8,
    "start_time": "2022-07-15T15:11:54.752Z"
   },
   {
    "duration": 428,
    "start_time": "2022-07-15T15:11:57.271Z"
   },
   {
    "duration": 148,
    "start_time": "2022-07-15T15:13:09.474Z"
   },
   {
    "duration": 4,
    "start_time": "2022-07-15T15:13:09.625Z"
   },
   {
    "duration": 2268,
    "start_time": "2022-07-15T15:13:09.632Z"
   },
   {
    "duration": 24,
    "start_time": "2022-07-15T15:13:11.902Z"
   },
   {
    "duration": 792,
    "start_time": "2022-07-15T15:13:11.929Z"
   },
   {
    "duration": 12,
    "start_time": "2022-07-15T15:13:12.723Z"
   },
   {
    "duration": 16,
    "start_time": "2022-07-15T15:13:12.738Z"
   },
   {
    "duration": 27,
    "start_time": "2022-07-15T15:13:15.361Z"
   },
   {
    "duration": 41,
    "start_time": "2022-07-15T15:14:07.740Z"
   },
   {
    "duration": 40,
    "start_time": "2022-07-15T15:14:23.223Z"
   },
   {
    "duration": 27,
    "start_time": "2022-07-15T15:14:53.102Z"
   },
   {
    "duration": 165,
    "start_time": "2022-07-15T15:15:14.300Z"
   },
   {
    "duration": 158,
    "start_time": "2022-07-15T15:16:18.311Z"
   },
   {
    "duration": 23,
    "start_time": "2022-07-15T15:16:52.900Z"
   },
   {
    "duration": 18,
    "start_time": "2022-07-15T15:17:05.853Z"
   },
   {
    "duration": 156,
    "start_time": "2022-07-15T15:17:16.325Z"
   },
   {
    "duration": 4,
    "start_time": "2022-07-15T15:17:16.483Z"
   },
   {
    "duration": 2157,
    "start_time": "2022-07-15T15:17:16.489Z"
   },
   {
    "duration": 15,
    "start_time": "2022-07-15T15:17:18.647Z"
   },
   {
    "duration": 736,
    "start_time": "2022-07-15T15:17:18.664Z"
   },
   {
    "duration": 12,
    "start_time": "2022-07-15T15:17:19.401Z"
   },
   {
    "duration": 15,
    "start_time": "2022-07-15T15:17:19.414Z"
   },
   {
    "duration": 22,
    "start_time": "2022-07-15T15:17:21.209Z"
   },
   {
    "duration": 340,
    "start_time": "2022-07-15T15:17:43.841Z"
   },
   {
    "duration": 143,
    "start_time": "2022-07-15T15:17:49.162Z"
   },
   {
    "duration": 4,
    "start_time": "2022-07-15T15:17:49.310Z"
   },
   {
    "duration": 2092,
    "start_time": "2022-07-15T15:17:49.316Z"
   },
   {
    "duration": 16,
    "start_time": "2022-07-15T15:17:51.410Z"
   },
   {
    "duration": 786,
    "start_time": "2022-07-15T15:17:51.429Z"
   },
   {
    "duration": 12,
    "start_time": "2022-07-15T15:17:52.216Z"
   },
   {
    "duration": 17,
    "start_time": "2022-07-15T15:17:52.230Z"
   },
   {
    "duration": 22,
    "start_time": "2022-07-15T15:17:52.249Z"
   },
   {
    "duration": 52,
    "start_time": "2022-07-15T15:17:52.274Z"
   },
   {
    "duration": 77,
    "start_time": "2022-07-15T15:17:55.284Z"
   },
   {
    "duration": 1145,
    "start_time": "2022-07-16T04:28:03.362Z"
   },
   {
    "duration": 4,
    "start_time": "2022-07-16T04:28:04.509Z"
   },
   {
    "duration": 1911,
    "start_time": "2022-07-16T04:28:04.514Z"
   },
   {
    "duration": 18,
    "start_time": "2022-07-16T04:28:06.426Z"
   },
   {
    "duration": 688,
    "start_time": "2022-07-16T04:28:06.447Z"
   },
   {
    "duration": 39,
    "start_time": "2022-07-16T04:28:09.067Z"
   },
   {
    "duration": 14,
    "start_time": "2022-07-16T04:28:52.730Z"
   },
   {
    "duration": 143,
    "start_time": "2022-07-16T04:30:14.382Z"
   },
   {
    "duration": 6,
    "start_time": "2022-07-16T04:30:14.528Z"
   },
   {
    "duration": 1962,
    "start_time": "2022-07-16T04:30:14.536Z"
   },
   {
    "duration": 25,
    "start_time": "2022-07-16T04:30:16.500Z"
   },
   {
    "duration": 676,
    "start_time": "2022-07-16T04:30:16.528Z"
   },
   {
    "duration": 23,
    "start_time": "2022-07-16T04:30:17.206Z"
   },
   {
    "duration": 35,
    "start_time": "2022-07-16T04:30:17.231Z"
   },
   {
    "duration": 29,
    "start_time": "2022-07-16T04:30:17.269Z"
   },
   {
    "duration": 130,
    "start_time": "2022-07-16T04:30:17.301Z"
   },
   {
    "duration": 19,
    "start_time": "2022-07-16T04:30:45.833Z"
   },
   {
    "duration": 8,
    "start_time": "2022-07-16T04:31:48.957Z"
   },
   {
    "duration": 12,
    "start_time": "2022-07-16T04:31:51.781Z"
   },
   {
    "duration": 19,
    "start_time": "2022-07-16T04:33:09.375Z"
   },
   {
    "duration": 143,
    "start_time": "2022-07-16T04:33:14.137Z"
   },
   {
    "duration": 4,
    "start_time": "2022-07-16T04:33:14.282Z"
   },
   {
    "duration": 1959,
    "start_time": "2022-07-16T04:33:14.287Z"
   },
   {
    "duration": 14,
    "start_time": "2022-07-16T04:33:16.247Z"
   },
   {
    "duration": 699,
    "start_time": "2022-07-16T04:33:16.264Z"
   },
   {
    "duration": 9,
    "start_time": "2022-07-16T04:33:16.965Z"
   },
   {
    "duration": 22,
    "start_time": "2022-07-16T04:33:16.976Z"
   },
   {
    "duration": 33,
    "start_time": "2022-07-16T04:33:16.999Z"
   },
   {
    "duration": 22,
    "start_time": "2022-07-16T04:33:17.034Z"
   },
   {
    "duration": 20,
    "start_time": "2022-07-16T04:33:17.059Z"
   },
   {
    "duration": 92,
    "start_time": "2022-07-16T04:33:43.710Z"
   },
   {
    "duration": 133,
    "start_time": "2022-07-16T04:34:15.675Z"
   },
   {
    "duration": 3,
    "start_time": "2022-07-16T04:34:15.809Z"
   },
   {
    "duration": 2071,
    "start_time": "2022-07-16T04:34:15.824Z"
   },
   {
    "duration": 27,
    "start_time": "2022-07-16T04:34:17.897Z"
   },
   {
    "duration": 682,
    "start_time": "2022-07-16T04:34:17.926Z"
   },
   {
    "duration": 19,
    "start_time": "2022-07-16T04:34:18.609Z"
   },
   {
    "duration": 23,
    "start_time": "2022-07-16T04:34:18.630Z"
   },
   {
    "duration": 17,
    "start_time": "2022-07-16T04:34:18.655Z"
   },
   {
    "duration": 25,
    "start_time": "2022-07-16T04:34:18.675Z"
   },
   {
    "duration": 37,
    "start_time": "2022-07-16T04:34:18.702Z"
   },
   {
    "duration": 112,
    "start_time": "2022-07-16T04:34:18.741Z"
   },
   {
    "duration": 89,
    "start_time": "2022-07-16T04:34:18.855Z"
   },
   {
    "duration": 196,
    "start_time": "2022-07-16T04:34:18.946Z"
   },
   {
    "duration": 333,
    "start_time": "2022-07-16T04:34:19.145Z"
   },
   {
    "duration": 7,
    "start_time": "2022-07-16T04:34:19.480Z"
   },
   {
    "duration": 37,
    "start_time": "2022-07-16T04:34:19.490Z"
   },
   {
    "duration": 174,
    "start_time": "2022-07-16T04:34:19.530Z"
   },
   {
    "duration": 124,
    "start_time": "2022-07-16T04:34:19.705Z"
   },
   {
    "duration": 6,
    "start_time": "2022-07-16T04:34:19.831Z"
   },
   {
    "duration": 16,
    "start_time": "2022-07-16T04:34:19.838Z"
   },
   {
    "duration": 7,
    "start_time": "2022-07-16T04:34:19.855Z"
   },
   {
    "duration": 5,
    "start_time": "2022-07-16T04:34:19.864Z"
   },
   {
    "duration": 163,
    "start_time": "2022-07-16T04:34:19.870Z"
   },
   {
    "duration": 17,
    "start_time": "2022-07-16T04:34:20.035Z"
   },
   {
    "duration": 155,
    "start_time": "2022-07-16T04:34:20.054Z"
   },
   {
    "duration": 147,
    "start_time": "2022-07-16T04:34:20.211Z"
   },
   {
    "duration": 6,
    "start_time": "2022-07-16T04:34:20.360Z"
   },
   {
    "duration": 18,
    "start_time": "2022-07-16T04:34:20.368Z"
   },
   {
    "duration": 8,
    "start_time": "2022-07-16T04:34:23.483Z"
   },
   {
    "duration": 785,
    "start_time": "2022-07-16T04:40:09.012Z"
   },
   {
    "duration": 38,
    "start_time": "2022-07-16T04:40:20.661Z"
   },
   {
    "duration": 580,
    "start_time": "2022-07-16T04:42:16.773Z"
   },
   {
    "duration": 41,
    "start_time": "2022-07-16T04:43:13.398Z"
   },
   {
    "duration": 136,
    "start_time": "2022-07-16T04:43:33.615Z"
   },
   {
    "duration": 3,
    "start_time": "2022-07-16T04:43:33.753Z"
   },
   {
    "duration": 1889,
    "start_time": "2022-07-16T04:43:33.758Z"
   },
   {
    "duration": 23,
    "start_time": "2022-07-16T04:43:35.649Z"
   },
   {
    "duration": 674,
    "start_time": "2022-07-16T04:43:35.676Z"
   },
   {
    "duration": 10,
    "start_time": "2022-07-16T04:43:36.352Z"
   },
   {
    "duration": 11,
    "start_time": "2022-07-16T04:43:36.364Z"
   },
   {
    "duration": 21,
    "start_time": "2022-07-16T04:43:36.377Z"
   },
   {
    "duration": 42,
    "start_time": "2022-07-16T04:43:36.400Z"
   },
   {
    "duration": 13,
    "start_time": "2022-07-16T04:43:36.445Z"
   },
   {
    "duration": 87,
    "start_time": "2022-07-16T04:43:36.459Z"
   },
   {
    "duration": 90,
    "start_time": "2022-07-16T04:43:36.547Z"
   },
   {
    "duration": 176,
    "start_time": "2022-07-16T04:43:36.639Z"
   },
   {
    "duration": 156,
    "start_time": "2022-07-16T04:43:36.818Z"
   },
   {
    "duration": 5,
    "start_time": "2022-07-16T04:43:36.976Z"
   },
   {
    "duration": 43,
    "start_time": "2022-07-16T04:43:39.097Z"
   },
   {
    "duration": 44,
    "start_time": "2022-07-16T04:44:18.082Z"
   },
   {
    "duration": 8,
    "start_time": "2022-07-16T04:45:25.020Z"
   },
   {
    "duration": 8,
    "start_time": "2022-07-16T04:45:37.006Z"
   },
   {
    "duration": 13,
    "start_time": "2022-07-16T04:46:15.930Z"
   },
   {
    "duration": 11,
    "start_time": "2022-07-16T04:46:38.821Z"
   },
   {
    "duration": 13,
    "start_time": "2022-07-16T04:47:29.066Z"
   },
   {
    "duration": 11,
    "start_time": "2022-07-16T04:47:35.446Z"
   },
   {
    "duration": 8,
    "start_time": "2022-07-16T04:47:46.285Z"
   },
   {
    "duration": 189,
    "start_time": "2022-07-16T04:48:12.948Z"
   },
   {
    "duration": 3,
    "start_time": "2022-07-16T04:48:13.140Z"
   },
   {
    "duration": 2299,
    "start_time": "2022-07-16T04:48:13.147Z"
   },
   {
    "duration": 19,
    "start_time": "2022-07-16T04:48:15.448Z"
   },
   {
    "duration": 906,
    "start_time": "2022-07-16T04:48:15.470Z"
   },
   {
    "duration": 9,
    "start_time": "2022-07-16T04:48:16.378Z"
   },
   {
    "duration": 21,
    "start_time": "2022-07-16T04:48:16.389Z"
   },
   {
    "duration": 27,
    "start_time": "2022-07-16T04:48:16.412Z"
   },
   {
    "duration": 35,
    "start_time": "2022-07-16T04:48:16.441Z"
   },
   {
    "duration": 33,
    "start_time": "2022-07-16T04:48:16.478Z"
   },
   {
    "duration": 117,
    "start_time": "2022-07-16T04:48:16.525Z"
   },
   {
    "duration": 124,
    "start_time": "2022-07-16T04:48:16.644Z"
   },
   {
    "duration": 168,
    "start_time": "2022-07-16T04:48:16.770Z"
   },
   {
    "duration": 216,
    "start_time": "2022-07-16T04:48:16.941Z"
   },
   {
    "duration": 9,
    "start_time": "2022-07-16T04:48:17.158Z"
   },
   {
    "duration": 67,
    "start_time": "2022-07-16T04:48:17.169Z"
   },
   {
    "duration": 345,
    "start_time": "2022-07-16T04:48:17.238Z"
   },
   {
    "duration": 191,
    "start_time": "2022-07-16T04:48:17.585Z"
   },
   {
    "duration": 7,
    "start_time": "2022-07-16T04:48:17.778Z"
   },
   {
    "duration": 22,
    "start_time": "2022-07-16T04:48:17.789Z"
   },
   {
    "duration": 16,
    "start_time": "2022-07-16T04:48:17.816Z"
   },
   {
    "duration": 16,
    "start_time": "2022-07-16T04:48:17.834Z"
   },
   {
    "duration": 219,
    "start_time": "2022-07-16T04:48:17.852Z"
   },
   {
    "duration": 7,
    "start_time": "2022-07-16T04:48:18.074Z"
   },
   {
    "duration": 16,
    "start_time": "2022-07-16T04:48:18.084Z"
   },
   {
    "duration": 204,
    "start_time": "2022-07-16T04:48:18.102Z"
   },
   {
    "duration": 184,
    "start_time": "2022-07-16T04:48:18.322Z"
   },
   {
    "duration": 18,
    "start_time": "2022-07-16T04:48:18.508Z"
   },
   {
    "duration": 15,
    "start_time": "2022-07-16T04:48:18.528Z"
   },
   {
    "duration": 11,
    "start_time": "2022-07-16T04:48:18.545Z"
   },
   {
    "duration": 263,
    "start_time": "2022-07-16T04:48:18.558Z"
   },
   {
    "duration": 423,
    "start_time": "2022-07-16T04:49:51.413Z"
   },
   {
    "duration": 662,
    "start_time": "2022-07-16T04:50:31.685Z"
   },
   {
    "duration": 13,
    "start_time": "2022-07-16T04:52:28.574Z"
   },
   {
    "duration": 10,
    "start_time": "2022-07-16T04:53:06.855Z"
   },
   {
    "duration": 10,
    "start_time": "2022-07-16T04:53:29.704Z"
   },
   {
    "duration": 12,
    "start_time": "2022-07-16T04:53:45.340Z"
   },
   {
    "duration": 11,
    "start_time": "2022-07-16T04:56:57.294Z"
   },
   {
    "duration": 930,
    "start_time": "2022-07-16T05:12:44.253Z"
   },
   {
    "duration": 12,
    "start_time": "2022-07-16T05:13:10.577Z"
   },
   {
    "duration": 11,
    "start_time": "2022-07-16T05:13:40.250Z"
   },
   {
    "duration": 10,
    "start_time": "2022-07-16T05:14:12.193Z"
   },
   {
    "duration": 50,
    "start_time": "2022-07-16T05:14:16.521Z"
   },
   {
    "duration": 14,
    "start_time": "2022-07-16T05:14:28.564Z"
   },
   {
    "duration": 182,
    "start_time": "2022-07-16T05:15:33.114Z"
   },
   {
    "duration": 13,
    "start_time": "2022-07-16T05:17:25.970Z"
   },
   {
    "duration": 151,
    "start_time": "2022-07-16T05:17:55.261Z"
   },
   {
    "duration": 3,
    "start_time": "2022-07-16T05:17:55.415Z"
   },
   {
    "duration": 2266,
    "start_time": "2022-07-16T05:17:55.420Z"
   },
   {
    "duration": 20,
    "start_time": "2022-07-16T05:17:57.688Z"
   },
   {
    "duration": 943,
    "start_time": "2022-07-16T05:17:57.724Z"
   },
   {
    "duration": 10,
    "start_time": "2022-07-16T05:17:58.670Z"
   },
   {
    "duration": 11,
    "start_time": "2022-07-16T05:17:58.683Z"
   },
   {
    "duration": 869,
    "start_time": "2022-07-16T05:19:04.785Z"
   },
   {
    "duration": 790,
    "start_time": "2022-07-16T05:19:10.785Z"
   },
   {
    "duration": 10,
    "start_time": "2022-07-16T05:19:18.477Z"
   },
   {
    "duration": 28,
    "start_time": "2022-07-16T05:20:01.754Z"
   },
   {
    "duration": 15,
    "start_time": "2022-07-16T05:20:06.982Z"
   },
   {
    "duration": 62,
    "start_time": "2022-07-16T05:20:12.863Z"
   },
   {
    "duration": 107,
    "start_time": "2022-07-16T05:20:21.462Z"
   },
   {
    "duration": 147,
    "start_time": "2022-07-16T05:20:42.600Z"
   },
   {
    "duration": 6,
    "start_time": "2022-07-16T05:20:42.749Z"
   },
   {
    "duration": 1860,
    "start_time": "2022-07-16T05:20:42.756Z"
   },
   {
    "duration": 27,
    "start_time": "2022-07-16T05:20:44.623Z"
   },
   {
    "duration": 809,
    "start_time": "2022-07-16T05:20:44.657Z"
   },
   {
    "duration": 12,
    "start_time": "2022-07-16T05:20:45.467Z"
   },
   {
    "duration": 20,
    "start_time": "2022-07-16T05:20:45.481Z"
   },
   {
    "duration": 37,
    "start_time": "2022-07-16T05:20:45.503Z"
   },
   {
    "duration": 25,
    "start_time": "2022-07-16T05:20:45.542Z"
   },
   {
    "duration": 11,
    "start_time": "2022-07-16T05:20:45.569Z"
   },
   {
    "duration": 93,
    "start_time": "2022-07-16T05:20:45.582Z"
   },
   {
    "duration": 81,
    "start_time": "2022-07-16T05:20:45.676Z"
   },
   {
    "duration": 142,
    "start_time": "2022-07-16T05:20:45.759Z"
   },
   {
    "duration": 159,
    "start_time": "2022-07-16T05:20:45.903Z"
   },
   {
    "duration": 5,
    "start_time": "2022-07-16T05:20:46.064Z"
   },
   {
    "duration": 14,
    "start_time": "2022-07-16T05:20:46.071Z"
   },
   {
    "duration": 281,
    "start_time": "2022-07-16T05:20:46.087Z"
   },
   {
    "duration": 140,
    "start_time": "2022-07-16T05:20:46.370Z"
   },
   {
    "duration": 21,
    "start_time": "2022-07-16T05:20:46.512Z"
   },
   {
    "duration": 16,
    "start_time": "2022-07-16T05:20:46.536Z"
   },
   {
    "duration": 8,
    "start_time": "2022-07-16T05:20:46.554Z"
   },
   {
    "duration": 6,
    "start_time": "2022-07-16T05:20:46.564Z"
   },
   {
    "duration": 139,
    "start_time": "2022-07-16T05:20:46.571Z"
   },
   {
    "duration": 15,
    "start_time": "2022-07-16T05:20:46.712Z"
   },
   {
    "duration": 13,
    "start_time": "2022-07-16T05:20:46.728Z"
   },
   {
    "duration": 143,
    "start_time": "2022-07-16T05:20:46.743Z"
   },
   {
    "duration": 141,
    "start_time": "2022-07-16T05:20:46.887Z"
   },
   {
    "duration": 6,
    "start_time": "2022-07-16T05:20:47.036Z"
   },
   {
    "duration": 14,
    "start_time": "2022-07-16T05:20:47.047Z"
   },
   {
    "duration": 8,
    "start_time": "2022-07-16T05:20:47.982Z"
   },
   {
    "duration": 9,
    "start_time": "2022-07-16T05:20:51.263Z"
   },
   {
    "duration": 9,
    "start_time": "2022-07-16T05:20:58.303Z"
   },
   {
    "duration": 168,
    "start_time": "2022-07-16T05:21:20.564Z"
   },
   {
    "duration": 6,
    "start_time": "2022-07-16T05:21:20.733Z"
   },
   {
    "duration": 1997,
    "start_time": "2022-07-16T05:21:20.741Z"
   },
   {
    "duration": 19,
    "start_time": "2022-07-16T05:21:22.746Z"
   },
   {
    "duration": 688,
    "start_time": "2022-07-16T05:21:22.767Z"
   },
   {
    "duration": 9,
    "start_time": "2022-07-16T05:21:23.457Z"
   },
   {
    "duration": 10,
    "start_time": "2022-07-16T05:21:23.467Z"
   },
   {
    "duration": 13,
    "start_time": "2022-07-16T05:21:23.479Z"
   },
   {
    "duration": 55,
    "start_time": "2022-07-16T05:21:23.494Z"
   },
   {
    "duration": 15,
    "start_time": "2022-07-16T05:21:23.551Z"
   },
   {
    "duration": 82,
    "start_time": "2022-07-16T05:21:23.568Z"
   },
   {
    "duration": 122,
    "start_time": "2022-07-16T05:21:23.652Z"
   },
   {
    "duration": 159,
    "start_time": "2022-07-16T05:21:23.776Z"
   },
   {
    "duration": 151,
    "start_time": "2022-07-16T05:21:23.944Z"
   },
   {
    "duration": 6,
    "start_time": "2022-07-16T05:21:24.097Z"
   },
   {
    "duration": 26,
    "start_time": "2022-07-16T05:21:24.105Z"
   },
   {
    "duration": 141,
    "start_time": "2022-07-16T05:21:24.133Z"
   },
   {
    "duration": 189,
    "start_time": "2022-07-16T05:21:24.276Z"
   },
   {
    "duration": 6,
    "start_time": "2022-07-16T05:21:24.467Z"
   },
   {
    "duration": 11,
    "start_time": "2022-07-16T05:21:24.475Z"
   },
   {
    "duration": 8,
    "start_time": "2022-07-16T05:21:24.488Z"
   },
   {
    "duration": 57,
    "start_time": "2022-07-16T05:21:24.498Z"
   },
   {
    "duration": 203,
    "start_time": "2022-07-16T05:21:24.557Z"
   },
   {
    "duration": 6,
    "start_time": "2022-07-16T05:21:24.762Z"
   },
   {
    "duration": 24,
    "start_time": "2022-07-16T05:21:24.770Z"
   },
   {
    "duration": 155,
    "start_time": "2022-07-16T05:21:24.796Z"
   },
   {
    "duration": 146,
    "start_time": "2022-07-16T05:21:24.954Z"
   },
   {
    "duration": 6,
    "start_time": "2022-07-16T05:21:25.101Z"
   },
   {
    "duration": 25,
    "start_time": "2022-07-16T05:21:25.109Z"
   },
   {
    "duration": 19,
    "start_time": "2022-07-16T05:21:25.140Z"
   },
   {
    "duration": 21,
    "start_time": "2022-07-16T05:21:25.161Z"
   },
   {
    "duration": 10,
    "start_time": "2022-07-16T05:21:25.184Z"
   },
   {
    "duration": 17,
    "start_time": "2022-07-16T05:21:25.195Z"
   },
   {
    "duration": 13,
    "start_time": "2022-07-16T05:21:28.350Z"
   },
   {
    "duration": 18,
    "start_time": "2022-07-16T05:21:57.147Z"
   },
   {
    "duration": 11,
    "start_time": "2022-07-16T05:22:09.695Z"
   },
   {
    "duration": 3,
    "start_time": "2022-07-16T05:22:41.399Z"
   },
   {
    "duration": 8,
    "start_time": "2022-07-16T05:23:17.768Z"
   },
   {
    "duration": 8,
    "start_time": "2022-07-16T05:23:33.072Z"
   },
   {
    "duration": 8,
    "start_time": "2022-07-16T05:25:46.663Z"
   },
   {
    "duration": 10,
    "start_time": "2022-07-16T05:30:24.692Z"
   },
   {
    "duration": 145,
    "start_time": "2022-07-16T05:31:40.233Z"
   },
   {
    "duration": 260,
    "start_time": "2022-07-16T05:32:10.198Z"
   },
   {
    "duration": 146,
    "start_time": "2022-07-16T05:32:24.366Z"
   },
   {
    "duration": 1165,
    "start_time": "2022-07-16T08:11:46.644Z"
   },
   {
    "duration": 4,
    "start_time": "2022-07-16T08:11:47.812Z"
   },
   {
    "duration": 1858,
    "start_time": "2022-07-16T08:11:47.818Z"
   },
   {
    "duration": 12,
    "start_time": "2022-07-16T08:11:49.677Z"
   },
   {
    "duration": 722,
    "start_time": "2022-07-16T08:11:49.691Z"
   },
   {
    "duration": 12,
    "start_time": "2022-07-16T08:11:50.415Z"
   },
   {
    "duration": 40,
    "start_time": "2022-07-16T08:11:50.429Z"
   },
   {
    "duration": 16,
    "start_time": "2022-07-16T08:11:50.471Z"
   },
   {
    "duration": 28,
    "start_time": "2022-07-16T08:11:50.488Z"
   },
   {
    "duration": 11,
    "start_time": "2022-07-16T08:11:50.519Z"
   },
   {
    "duration": 81,
    "start_time": "2022-07-16T08:11:50.532Z"
   },
   {
    "duration": 95,
    "start_time": "2022-07-16T08:11:50.616Z"
   },
   {
    "duration": 173,
    "start_time": "2022-07-16T08:11:50.713Z"
   },
   {
    "duration": 146,
    "start_time": "2022-07-16T08:11:50.889Z"
   },
   {
    "duration": 5,
    "start_time": "2022-07-16T08:11:51.037Z"
   },
   {
    "duration": 19,
    "start_time": "2022-07-16T08:11:51.044Z"
   },
   {
    "duration": 153,
    "start_time": "2022-07-16T08:11:51.065Z"
   },
   {
    "duration": 148,
    "start_time": "2022-07-16T08:11:51.220Z"
   },
   {
    "duration": 6,
    "start_time": "2022-07-16T08:11:51.369Z"
   },
   {
    "duration": 26,
    "start_time": "2022-07-16T08:11:51.376Z"
   },
   {
    "duration": 29,
    "start_time": "2022-07-16T08:11:51.404Z"
   },
   {
    "duration": 34,
    "start_time": "2022-07-16T08:11:51.434Z"
   },
   {
    "duration": 157,
    "start_time": "2022-07-16T08:11:51.470Z"
   },
   {
    "duration": 6,
    "start_time": "2022-07-16T08:11:51.629Z"
   },
   {
    "duration": 16,
    "start_time": "2022-07-16T08:11:51.637Z"
   },
   {
    "duration": 149,
    "start_time": "2022-07-16T08:11:51.656Z"
   },
   {
    "duration": 254,
    "start_time": "2022-07-16T08:11:51.807Z"
   },
   {
    "duration": 6,
    "start_time": "2022-07-16T08:11:52.063Z"
   },
   {
    "duration": 30,
    "start_time": "2022-07-16T08:11:52.071Z"
   },
   {
    "duration": 16,
    "start_time": "2022-07-16T08:11:52.102Z"
   },
   {
    "duration": 26,
    "start_time": "2022-07-16T08:11:52.120Z"
   },
   {
    "duration": 8,
    "start_time": "2022-07-16T08:11:52.148Z"
   },
   {
    "duration": 18,
    "start_time": "2022-07-16T08:11:52.158Z"
   },
   {
    "duration": 21,
    "start_time": "2022-07-16T08:11:52.178Z"
   },
   {
    "duration": 23,
    "start_time": "2022-07-16T08:11:52.201Z"
   },
   {
    "duration": 164,
    "start_time": "2022-07-16T08:11:52.226Z"
   },
   {
    "duration": 146,
    "start_time": "2022-07-16T08:11:59.620Z"
   },
   {
    "duration": 125,
    "start_time": "2022-07-16T08:13:57.689Z"
   },
   {
    "duration": 135,
    "start_time": "2022-07-16T08:15:18.256Z"
   },
   {
    "duration": 135,
    "start_time": "2022-07-16T08:17:25.409Z"
   },
   {
    "duration": 134,
    "start_time": "2022-07-16T08:17:34.023Z"
   },
   {
    "duration": 149,
    "start_time": "2022-07-16T08:17:40.324Z"
   },
   {
    "duration": 2,
    "start_time": "2022-07-16T08:19:02.015Z"
   },
   {
    "duration": 9,
    "start_time": "2022-07-16T08:25:37.993Z"
   },
   {
    "duration": 9,
    "start_time": "2022-07-16T08:26:10.901Z"
   },
   {
    "duration": 9,
    "start_time": "2022-07-16T08:26:13.005Z"
   },
   {
    "duration": 9,
    "start_time": "2022-07-16T08:26:23.173Z"
   },
   {
    "duration": 141,
    "start_time": "2022-07-16T08:27:05.594Z"
   },
   {
    "duration": 129,
    "start_time": "2022-07-16T08:32:19.153Z"
   },
   {
    "duration": 174,
    "start_time": "2022-07-16T08:33:13.179Z"
   },
   {
    "duration": 218,
    "start_time": "2022-07-16T08:34:40.795Z"
   },
   {
    "duration": 143,
    "start_time": "2022-07-16T08:42:46.383Z"
   },
   {
    "duration": 47,
    "start_time": "2022-07-16T11:25:05.874Z"
   },
   {
    "duration": 7,
    "start_time": "2022-07-16T11:25:11.968Z"
   },
   {
    "duration": 1029,
    "start_time": "2022-07-16T11:25:19.551Z"
   },
   {
    "duration": 3,
    "start_time": "2022-07-16T11:25:20.582Z"
   },
   {
    "duration": 2016,
    "start_time": "2022-07-16T11:25:20.587Z"
   },
   {
    "duration": 13,
    "start_time": "2022-07-16T11:25:22.605Z"
   },
   {
    "duration": 742,
    "start_time": "2022-07-16T11:25:22.620Z"
   },
   {
    "duration": 9,
    "start_time": "2022-07-16T11:25:23.364Z"
   },
   {
    "duration": 10,
    "start_time": "2022-07-16T11:25:23.374Z"
   },
   {
    "duration": 14,
    "start_time": "2022-07-16T11:25:23.385Z"
   },
   {
    "duration": 20,
    "start_time": "2022-07-16T11:25:23.400Z"
   },
   {
    "duration": 39,
    "start_time": "2022-07-16T11:25:23.422Z"
   },
   {
    "duration": 59,
    "start_time": "2022-07-16T11:25:23.462Z"
   },
   {
    "duration": 96,
    "start_time": "2022-07-16T11:25:23.523Z"
   },
   {
    "duration": 160,
    "start_time": "2022-07-16T11:25:23.620Z"
   },
   {
    "duration": 158,
    "start_time": "2022-07-16T11:25:23.783Z"
   },
   {
    "duration": 17,
    "start_time": "2022-07-16T11:25:23.943Z"
   },
   {
    "duration": 12,
    "start_time": "2022-07-16T11:25:23.962Z"
   },
   {
    "duration": 161,
    "start_time": "2022-07-16T11:25:23.976Z"
   },
   {
    "duration": 138,
    "start_time": "2022-07-16T11:25:24.139Z"
   },
   {
    "duration": 5,
    "start_time": "2022-07-16T11:25:24.279Z"
   },
   {
    "duration": 10,
    "start_time": "2022-07-16T11:25:24.286Z"
   },
   {
    "duration": 6,
    "start_time": "2022-07-16T11:25:24.297Z"
   },
   {
    "duration": 6,
    "start_time": "2022-07-16T11:25:24.305Z"
   },
   {
    "duration": 166,
    "start_time": "2022-07-16T11:25:24.312Z"
   },
   {
    "duration": 7,
    "start_time": "2022-07-16T11:25:24.480Z"
   },
   {
    "duration": 10,
    "start_time": "2022-07-16T11:25:24.488Z"
   },
   {
    "duration": 267,
    "start_time": "2022-07-16T11:25:24.500Z"
   },
   {
    "duration": 140,
    "start_time": "2022-07-16T11:25:24.769Z"
   },
   {
    "duration": 6,
    "start_time": "2022-07-16T11:25:24.910Z"
   },
   {
    "duration": 7,
    "start_time": "2022-07-16T11:25:24.917Z"
   },
   {
    "duration": 8,
    "start_time": "2022-07-16T11:25:24.926Z"
   },
   {
    "duration": 16,
    "start_time": "2022-07-16T11:25:24.952Z"
   },
   {
    "duration": 10,
    "start_time": "2022-07-16T11:25:24.970Z"
   },
   {
    "duration": 9,
    "start_time": "2022-07-16T11:25:24.982Z"
   },
   {
    "duration": 11,
    "start_time": "2022-07-16T11:25:24.992Z"
   },
   {
    "duration": 7,
    "start_time": "2022-07-16T11:25:25.004Z"
   },
   {
    "duration": 144,
    "start_time": "2022-07-16T11:25:28.687Z"
   },
   {
    "duration": 125,
    "start_time": "2022-07-16T11:25:40.374Z"
   },
   {
    "duration": 145,
    "start_time": "2022-07-16T11:25:50.996Z"
   },
   {
    "duration": 137,
    "start_time": "2022-07-16T11:28:31.702Z"
   },
   {
    "duration": 136,
    "start_time": "2022-07-16T11:28:39.562Z"
   },
   {
    "duration": 130,
    "start_time": "2022-07-16T11:30:49.118Z"
   },
   {
    "duration": 171,
    "start_time": "2022-07-16T11:31:06.259Z"
   },
   {
    "duration": 145,
    "start_time": "2022-07-16T11:32:31.562Z"
   },
   {
    "duration": 113,
    "start_time": "2022-07-16T11:33:26.372Z"
   },
   {
    "duration": 114,
    "start_time": "2022-07-16T11:33:51.025Z"
   },
   {
    "duration": 114,
    "start_time": "2022-07-16T11:33:58.950Z"
   },
   {
    "duration": 81,
    "start_time": "2022-07-16T11:34:14.808Z"
   },
   {
    "duration": 78,
    "start_time": "2022-07-16T11:34:34.249Z"
   },
   {
    "duration": 152,
    "start_time": "2022-07-16T11:34:46.056Z"
   },
   {
    "duration": 4,
    "start_time": "2022-07-16T11:34:46.210Z"
   },
   {
    "duration": 2201,
    "start_time": "2022-07-16T11:34:46.216Z"
   },
   {
    "duration": 14,
    "start_time": "2022-07-16T11:34:48.419Z"
   },
   {
    "duration": 781,
    "start_time": "2022-07-16T11:34:48.436Z"
   },
   {
    "duration": 8,
    "start_time": "2022-07-16T11:34:49.219Z"
   },
   {
    "duration": 9,
    "start_time": "2022-07-16T11:34:49.229Z"
   },
   {
    "duration": 21,
    "start_time": "2022-07-16T11:34:49.254Z"
   },
   {
    "duration": 26,
    "start_time": "2022-07-16T11:34:49.278Z"
   },
   {
    "duration": 11,
    "start_time": "2022-07-16T11:34:49.306Z"
   },
   {
    "duration": 75,
    "start_time": "2022-07-16T11:34:49.353Z"
   },
   {
    "duration": 78,
    "start_time": "2022-07-16T11:34:54.930Z"
   },
   {
    "duration": 117,
    "start_time": "2022-07-16T11:35:19.007Z"
   },
   {
    "duration": 4,
    "start_time": "2022-07-16T11:35:19.127Z"
   },
   {
    "duration": 2222,
    "start_time": "2022-07-16T11:35:19.133Z"
   },
   {
    "duration": 21,
    "start_time": "2022-07-16T11:35:21.357Z"
   },
   {
    "duration": 825,
    "start_time": "2022-07-16T11:35:21.381Z"
   },
   {
    "duration": 11,
    "start_time": "2022-07-16T11:35:22.208Z"
   },
   {
    "duration": 11,
    "start_time": "2022-07-16T11:35:22.222Z"
   },
   {
    "duration": 42,
    "start_time": "2022-07-16T11:35:22.235Z"
   },
   {
    "duration": 18,
    "start_time": "2022-07-16T11:35:22.279Z"
   },
   {
    "duration": 12,
    "start_time": "2022-07-16T11:35:22.299Z"
   },
   {
    "duration": 123,
    "start_time": "2022-07-16T11:35:22.313Z"
   },
   {
    "duration": 97,
    "start_time": "2022-07-16T11:35:22.438Z"
   },
   {
    "duration": 188,
    "start_time": "2022-07-16T11:35:22.537Z"
   },
   {
    "duration": 178,
    "start_time": "2022-07-16T11:35:22.727Z"
   },
   {
    "duration": 5,
    "start_time": "2022-07-16T11:35:22.906Z"
   },
   {
    "duration": 14,
    "start_time": "2022-07-16T11:35:22.913Z"
   },
   {
    "duration": 173,
    "start_time": "2022-07-16T11:35:22.928Z"
   },
   {
    "duration": 142,
    "start_time": "2022-07-16T11:35:23.102Z"
   },
   {
    "duration": 11,
    "start_time": "2022-07-16T11:35:23.246Z"
   },
   {
    "duration": 13,
    "start_time": "2022-07-16T11:35:23.260Z"
   },
   {
    "duration": 9,
    "start_time": "2022-07-16T11:35:23.276Z"
   },
   {
    "duration": 10,
    "start_time": "2022-07-16T11:35:23.286Z"
   },
   {
    "duration": 184,
    "start_time": "2022-07-16T11:35:23.298Z"
   },
   {
    "duration": 5,
    "start_time": "2022-07-16T11:35:23.484Z"
   },
   {
    "duration": 10,
    "start_time": "2022-07-16T11:35:23.491Z"
   },
   {
    "duration": 276,
    "start_time": "2022-07-16T11:35:23.503Z"
   },
   {
    "duration": 150,
    "start_time": "2022-07-16T11:35:23.781Z"
   },
   {
    "duration": 6,
    "start_time": "2022-07-16T11:35:23.932Z"
   },
   {
    "duration": 21,
    "start_time": "2022-07-16T11:35:23.940Z"
   },
   {
    "duration": 11,
    "start_time": "2022-07-16T11:35:23.966Z"
   },
   {
    "duration": 12,
    "start_time": "2022-07-16T11:35:23.979Z"
   },
   {
    "duration": 11,
    "start_time": "2022-07-16T11:35:23.993Z"
   },
   {
    "duration": 11,
    "start_time": "2022-07-16T11:35:24.006Z"
   },
   {
    "duration": 20,
    "start_time": "2022-07-16T11:35:24.052Z"
   },
   {
    "duration": 13,
    "start_time": "2022-07-16T11:35:24.075Z"
   },
   {
    "duration": 182,
    "start_time": "2022-07-16T11:35:24.089Z"
   },
   {
    "duration": 158,
    "start_time": "2022-07-16T11:35:24.274Z"
   },
   {
    "duration": 186,
    "start_time": "2022-07-16T11:35:24.434Z"
   },
   {
    "duration": 59,
    "start_time": "2022-07-16T11:36:35.949Z"
   },
   {
    "duration": 14,
    "start_time": "2022-07-16T11:36:52.376Z"
   },
   {
    "duration": 113,
    "start_time": "2022-07-16T11:37:06.479Z"
   },
   {
    "duration": 104,
    "start_time": "2022-07-16T11:37:09.592Z"
   },
   {
    "duration": 178,
    "start_time": "2022-07-16T11:37:21.062Z"
   },
   {
    "duration": 457,
    "start_time": "2022-07-16T11:38:06.083Z"
   },
   {
    "duration": 347,
    "start_time": "2022-07-16T11:38:11.374Z"
   },
   {
    "duration": 182,
    "start_time": "2022-07-16T11:39:46.497Z"
   },
   {
    "duration": 191,
    "start_time": "2022-07-16T11:40:08.708Z"
   },
   {
    "duration": 460,
    "start_time": "2022-07-16T11:40:14.709Z"
   },
   {
    "duration": 291,
    "start_time": "2022-07-16T11:40:40.846Z"
   },
   {
    "duration": 2289,
    "start_time": "2022-07-16T11:41:09.289Z"
   },
   {
    "duration": 315,
    "start_time": "2022-07-16T11:41:21.479Z"
   },
   {
    "duration": 2303,
    "start_time": "2022-07-16T11:41:32.744Z"
   },
   {
    "duration": 1215,
    "start_time": "2022-07-16T11:41:44.283Z"
   },
   {
    "duration": 11,
    "start_time": "2022-07-16T11:42:08.262Z"
   },
   {
    "duration": 191,
    "start_time": "2022-07-16T11:42:11.778Z"
   },
   {
    "duration": 202,
    "start_time": "2022-07-16T11:42:33.878Z"
   },
   {
    "duration": 168,
    "start_time": "2022-07-16T11:42:39.814Z"
   },
   {
    "duration": 168,
    "start_time": "2022-07-16T11:44:02.479Z"
   },
   {
    "duration": 171,
    "start_time": "2022-07-16T11:44:13.231Z"
   },
   {
    "duration": 150,
    "start_time": "2022-07-16T11:45:06.785Z"
   },
   {
    "duration": 146,
    "start_time": "2022-07-16T11:47:37.060Z"
   },
   {
    "duration": 203,
    "start_time": "2022-07-16T11:49:37.627Z"
   },
   {
    "duration": 145,
    "start_time": "2022-07-16T11:50:16.222Z"
   },
   {
    "duration": 154,
    "start_time": "2022-07-16T11:50:26.465Z"
   },
   {
    "duration": 13,
    "start_time": "2022-07-16T11:53:46.954Z"
   },
   {
    "duration": 257,
    "start_time": "2022-07-16T11:54:53.324Z"
   },
   {
    "duration": 175,
    "start_time": "2022-07-16T11:55:21.611Z"
   },
   {
    "duration": 168,
    "start_time": "2022-07-16T11:55:34.934Z"
   },
   {
    "duration": 7,
    "start_time": "2022-07-16T11:57:14.028Z"
   },
   {
    "duration": 136,
    "start_time": "2022-07-16T11:57:41.631Z"
   },
   {
    "duration": 6,
    "start_time": "2022-07-16T11:58:03.785Z"
   },
   {
    "duration": 10,
    "start_time": "2022-07-16T11:58:13.263Z"
   },
   {
    "duration": 149,
    "start_time": "2022-07-16T11:58:26.833Z"
   },
   {
    "duration": 168,
    "start_time": "2022-07-16T11:58:55.600Z"
   },
   {
    "duration": 176,
    "start_time": "2022-07-16T11:59:00.681Z"
   },
   {
    "duration": 185,
    "start_time": "2022-07-16T11:59:56.190Z"
   },
   {
    "duration": 494,
    "start_time": "2022-07-16T12:00:22.334Z"
   },
   {
    "duration": 542,
    "start_time": "2022-07-16T12:00:33.275Z"
   },
   {
    "duration": 2301,
    "start_time": "2022-07-16T12:02:02.507Z"
   },
   {
    "duration": 484,
    "start_time": "2022-07-16T12:02:19.548Z"
   },
   {
    "duration": 43,
    "start_time": "2022-07-16T19:45:48.114Z"
   },
   {
    "duration": 1071,
    "start_time": "2022-07-16T19:45:54.440Z"
   },
   {
    "duration": 3,
    "start_time": "2022-07-16T19:45:55.513Z"
   },
   {
    "duration": 1875,
    "start_time": "2022-07-16T19:45:55.517Z"
   },
   {
    "duration": 11,
    "start_time": "2022-07-16T19:45:57.394Z"
   },
   {
    "duration": 636,
    "start_time": "2022-07-16T19:45:57.407Z"
   },
   {
    "duration": 8,
    "start_time": "2022-07-16T19:45:58.045Z"
   },
   {
    "duration": 11,
    "start_time": "2022-07-16T19:45:58.055Z"
   },
   {
    "duration": 13,
    "start_time": "2022-07-16T19:45:58.068Z"
   },
   {
    "duration": 18,
    "start_time": "2022-07-16T19:45:58.101Z"
   },
   {
    "duration": 11,
    "start_time": "2022-07-16T19:45:58.121Z"
   },
   {
    "duration": 80,
    "start_time": "2022-07-16T19:45:58.133Z"
   },
   {
    "duration": 67,
    "start_time": "2022-07-16T19:45:58.214Z"
   },
   {
    "duration": 38,
    "start_time": "2022-07-16T19:45:59.409Z"
   },
   {
    "duration": 636,
    "start_time": "2022-07-16T19:46:05.154Z"
   },
   {
    "duration": 124,
    "start_time": "2022-07-16T19:47:22.454Z"
   },
   {
    "duration": 123,
    "start_time": "2022-07-16T19:52:51.333Z"
   },
   {
    "duration": 700,
    "start_time": "2022-07-16T19:53:40.969Z"
   },
   {
    "duration": 119,
    "start_time": "2022-07-16T19:53:48.029Z"
   },
   {
    "duration": 3,
    "start_time": "2022-07-16T19:53:48.150Z"
   },
   {
    "duration": 1838,
    "start_time": "2022-07-16T19:53:48.154Z"
   },
   {
    "duration": 15,
    "start_time": "2022-07-16T19:53:49.994Z"
   },
   {
    "duration": 630,
    "start_time": "2022-07-16T19:53:50.011Z"
   },
   {
    "duration": 8,
    "start_time": "2022-07-16T19:53:50.643Z"
   },
   {
    "duration": 8,
    "start_time": "2022-07-16T19:53:50.652Z"
   },
   {
    "duration": 15,
    "start_time": "2022-07-16T19:53:50.662Z"
   },
   {
    "duration": 32,
    "start_time": "2022-07-16T19:53:50.678Z"
   },
   {
    "duration": 10,
    "start_time": "2022-07-16T19:53:50.712Z"
   },
   {
    "duration": 54,
    "start_time": "2022-07-16T19:53:50.724Z"
   },
   {
    "duration": 69,
    "start_time": "2022-07-16T19:53:50.800Z"
   },
   {
    "duration": 117,
    "start_time": "2022-07-16T19:53:50.870Z"
   },
   {
    "duration": 119,
    "start_time": "2022-07-16T19:53:50.989Z"
   },
   {
    "duration": 694,
    "start_time": "2022-07-16T19:53:56.020Z"
   },
   {
    "duration": 10,
    "start_time": "2022-07-16T19:54:22.483Z"
   },
   {
    "duration": 43,
    "start_time": "2022-07-16T19:54:35.660Z"
   },
   {
    "duration": 6,
    "start_time": "2022-07-16T19:54:43.188Z"
   },
   {
    "duration": 8,
    "start_time": "2022-07-16T19:56:28.400Z"
   },
   {
    "duration": 109,
    "start_time": "2022-07-16T19:57:02.602Z"
   },
   {
    "duration": 3,
    "start_time": "2022-07-16T19:57:02.713Z"
   },
   {
    "duration": 2062,
    "start_time": "2022-07-16T19:57:02.718Z"
   },
   {
    "duration": 18,
    "start_time": "2022-07-16T19:57:04.782Z"
   },
   {
    "duration": 698,
    "start_time": "2022-07-16T19:57:04.802Z"
   },
   {
    "duration": 10,
    "start_time": "2022-07-16T19:57:05.502Z"
   },
   {
    "duration": 17,
    "start_time": "2022-07-16T19:57:05.513Z"
   },
   {
    "duration": 14,
    "start_time": "2022-07-16T19:57:05.532Z"
   },
   {
    "duration": 18,
    "start_time": "2022-07-16T19:57:05.547Z"
   },
   {
    "duration": 37,
    "start_time": "2022-07-16T19:57:05.568Z"
   },
   {
    "duration": 61,
    "start_time": "2022-07-16T19:57:05.606Z"
   },
   {
    "duration": 86,
    "start_time": "2022-07-16T19:57:05.669Z"
   },
   {
    "duration": 113,
    "start_time": "2022-07-16T19:57:05.757Z"
   },
   {
    "duration": 124,
    "start_time": "2022-07-16T19:57:05.872Z"
   },
   {
    "duration": 8,
    "start_time": "2022-07-16T19:57:05.998Z"
   },
   {
    "duration": 13,
    "start_time": "2022-07-16T19:57:06.008Z"
   },
   {
    "duration": 133,
    "start_time": "2022-07-16T19:57:06.023Z"
   },
   {
    "duration": 164,
    "start_time": "2022-07-16T19:57:06.158Z"
   },
   {
    "duration": 5,
    "start_time": "2022-07-16T19:57:06.324Z"
   },
   {
    "duration": 10,
    "start_time": "2022-07-16T19:57:06.331Z"
   },
   {
    "duration": 157,
    "start_time": "2022-07-16T19:57:06.343Z"
   },
   {
    "duration": 130,
    "start_time": "2022-07-16T19:57:06.502Z"
   },
   {
    "duration": 5,
    "start_time": "2022-07-16T19:57:06.634Z"
   },
   {
    "duration": 16,
    "start_time": "2022-07-16T19:57:06.641Z"
   },
   {
    "duration": 7,
    "start_time": "2022-07-16T19:57:06.658Z"
   },
   {
    "duration": 7,
    "start_time": "2022-07-16T19:57:06.667Z"
   },
   {
    "duration": 160,
    "start_time": "2022-07-16T19:57:06.676Z"
   },
   {
    "duration": 6,
    "start_time": "2022-07-16T19:57:06.840Z"
   },
   {
    "duration": 9,
    "start_time": "2022-07-16T19:57:06.847Z"
   },
   {
    "duration": 154,
    "start_time": "2022-07-16T19:57:06.858Z"
   },
   {
    "duration": 148,
    "start_time": "2022-07-16T19:57:07.014Z"
   },
   {
    "duration": 5,
    "start_time": "2022-07-16T19:57:07.164Z"
   },
   {
    "duration": 11,
    "start_time": "2022-07-16T19:57:07.171Z"
   },
   {
    "duration": 17,
    "start_time": "2022-07-16T19:57:07.184Z"
   },
   {
    "duration": 11,
    "start_time": "2022-07-16T19:57:07.203Z"
   },
   {
    "duration": 10,
    "start_time": "2022-07-16T19:57:07.216Z"
   },
   {
    "duration": 10,
    "start_time": "2022-07-16T19:57:07.227Z"
   },
   {
    "duration": 12,
    "start_time": "2022-07-16T19:57:07.239Z"
   },
   {
    "duration": 49,
    "start_time": "2022-07-16T19:57:07.253Z"
   },
   {
    "duration": 153,
    "start_time": "2022-07-16T19:57:07.304Z"
   },
   {
    "duration": 264,
    "start_time": "2022-07-16T19:57:07.459Z"
   },
   {
    "duration": 134,
    "start_time": "2022-07-16T19:57:07.725Z"
   },
   {
    "duration": 137,
    "start_time": "2022-07-16T19:57:11.897Z"
   },
   {
    "duration": 140,
    "start_time": "2022-07-16T19:57:47.752Z"
   },
   {
    "duration": 141,
    "start_time": "2022-07-16T19:59:02.840Z"
   },
   {
    "duration": 135,
    "start_time": "2022-07-16T19:59:11.509Z"
   },
   {
    "duration": 158,
    "start_time": "2022-07-16T19:59:13.839Z"
   },
   {
    "duration": 113,
    "start_time": "2022-07-16T20:02:56.441Z"
   },
   {
    "duration": 137,
    "start_time": "2022-07-16T20:03:08.645Z"
   },
   {
    "duration": 97,
    "start_time": "2022-07-16T20:04:11.691Z"
   },
   {
    "duration": 113,
    "start_time": "2022-07-16T20:04:24.095Z"
   },
   {
    "duration": 110,
    "start_time": "2022-07-16T20:04:28.898Z"
   },
   {
    "duration": 215,
    "start_time": "2022-07-16T20:04:40.015Z"
   },
   {
    "duration": 143,
    "start_time": "2022-07-16T20:04:46.000Z"
   },
   {
    "duration": 142,
    "start_time": "2022-07-16T20:05:17.866Z"
   },
   {
    "duration": 50,
    "start_time": "2022-07-16T20:05:27.414Z"
   },
   {
    "duration": 162,
    "start_time": "2022-07-16T20:05:31.959Z"
   },
   {
    "duration": 162,
    "start_time": "2022-07-16T20:05:43.842Z"
   },
   {
    "duration": 143,
    "start_time": "2022-07-16T20:05:49.115Z"
   },
   {
    "duration": 167,
    "start_time": "2022-07-16T20:07:19.271Z"
   },
   {
    "duration": 9,
    "start_time": "2022-07-16T20:08:27.900Z"
   },
   {
    "duration": 15,
    "start_time": "2022-07-16T20:09:13.877Z"
   },
   {
    "duration": 105,
    "start_time": "2022-07-16T20:10:34.257Z"
   },
   {
    "duration": 3,
    "start_time": "2022-07-16T20:10:34.363Z"
   },
   {
    "duration": 1936,
    "start_time": "2022-07-16T20:10:34.368Z"
   },
   {
    "duration": 12,
    "start_time": "2022-07-16T20:10:36.306Z"
   },
   {
    "duration": 623,
    "start_time": "2022-07-16T20:10:36.319Z"
   },
   {
    "duration": 8,
    "start_time": "2022-07-16T20:10:36.944Z"
   },
   {
    "duration": 13,
    "start_time": "2022-07-16T20:10:36.953Z"
   },
   {
    "duration": 13,
    "start_time": "2022-07-16T20:10:36.967Z"
   },
   {
    "duration": 30,
    "start_time": "2022-07-16T20:10:36.982Z"
   },
   {
    "duration": 10,
    "start_time": "2022-07-16T20:10:37.014Z"
   },
   {
    "duration": 76,
    "start_time": "2022-07-16T20:10:37.026Z"
   },
   {
    "duration": 66,
    "start_time": "2022-07-16T20:10:37.103Z"
   },
   {
    "duration": 129,
    "start_time": "2022-07-16T20:10:37.171Z"
   },
   {
    "duration": 113,
    "start_time": "2022-07-16T20:10:37.303Z"
   },
   {
    "duration": 6,
    "start_time": "2022-07-16T20:10:37.418Z"
   },
   {
    "duration": 11,
    "start_time": "2022-07-16T20:10:37.425Z"
   },
   {
    "duration": 159,
    "start_time": "2022-07-16T20:10:37.438Z"
   },
   {
    "duration": 154,
    "start_time": "2022-07-16T20:10:37.600Z"
   },
   {
    "duration": 6,
    "start_time": "2022-07-16T20:10:37.756Z"
   },
   {
    "duration": 10,
    "start_time": "2022-07-16T20:10:37.763Z"
   },
   {
    "duration": 156,
    "start_time": "2022-07-16T20:10:37.774Z"
   },
   {
    "duration": 140,
    "start_time": "2022-07-16T20:10:37.932Z"
   },
   {
    "duration": 5,
    "start_time": "2022-07-16T20:10:38.074Z"
   },
   {
    "duration": 21,
    "start_time": "2022-07-16T20:10:38.081Z"
   },
   {
    "duration": 7,
    "start_time": "2022-07-16T20:10:38.103Z"
   },
   {
    "duration": 6,
    "start_time": "2022-07-16T20:10:38.112Z"
   },
   {
    "duration": 275,
    "start_time": "2022-07-16T20:10:38.120Z"
   },
   {
    "duration": 9,
    "start_time": "2022-07-16T20:10:38.396Z"
   },
   {
    "duration": 13,
    "start_time": "2022-07-16T20:10:38.406Z"
   },
   {
    "duration": 139,
    "start_time": "2022-07-16T20:10:38.421Z"
   },
   {
    "duration": 134,
    "start_time": "2022-07-16T20:10:38.562Z"
   },
   {
    "duration": 6,
    "start_time": "2022-07-16T20:10:38.697Z"
   },
   {
    "duration": 10,
    "start_time": "2022-07-16T20:10:38.705Z"
   },
   {
    "duration": 6,
    "start_time": "2022-07-16T20:10:38.716Z"
   },
   {
    "duration": 9,
    "start_time": "2022-07-16T20:10:38.724Z"
   },
   {
    "duration": 7,
    "start_time": "2022-07-16T20:10:38.735Z"
   },
   {
    "duration": 8,
    "start_time": "2022-07-16T20:10:38.744Z"
   },
   {
    "duration": 51,
    "start_time": "2022-07-16T20:10:38.753Z"
   },
   {
    "duration": 8,
    "start_time": "2022-07-16T20:10:38.806Z"
   },
   {
    "duration": 173,
    "start_time": "2022-07-16T20:10:38.816Z"
   },
   {
    "duration": 143,
    "start_time": "2022-07-16T20:10:38.993Z"
   },
   {
    "duration": 140,
    "start_time": "2022-07-16T20:10:39.138Z"
   },
   {
    "duration": 167,
    "start_time": "2022-07-16T20:10:39.279Z"
   },
   {
    "duration": 165,
    "start_time": "2022-07-16T20:10:39.448Z"
   },
   {
    "duration": 142,
    "start_time": "2022-07-16T20:10:39.614Z"
   },
   {
    "duration": 152,
    "start_time": "2022-07-16T20:10:43.409Z"
   },
   {
    "duration": 136,
    "start_time": "2022-07-16T20:11:09.238Z"
   },
   {
    "duration": 152,
    "start_time": "2022-07-16T20:13:53.829Z"
   },
   {
    "duration": 5,
    "start_time": "2022-07-16T20:18:45.108Z"
   },
   {
    "duration": 7,
    "start_time": "2022-07-16T20:19:20.843Z"
   },
   {
    "duration": 7,
    "start_time": "2022-07-16T20:19:38.710Z"
   },
   {
    "duration": 6,
    "start_time": "2022-07-16T20:19:49.980Z"
   },
   {
    "duration": 3,
    "start_time": "2022-07-16T20:19:57.633Z"
   },
   {
    "duration": 6,
    "start_time": "2022-07-16T20:20:00.613Z"
   },
   {
    "duration": 116,
    "start_time": "2022-07-16T20:20:13.955Z"
   },
   {
    "duration": 3,
    "start_time": "2022-07-16T20:20:14.073Z"
   },
   {
    "duration": 1975,
    "start_time": "2022-07-16T20:20:14.078Z"
   },
   {
    "duration": 11,
    "start_time": "2022-07-16T20:20:16.055Z"
   },
   {
    "duration": 622,
    "start_time": "2022-07-16T20:20:16.069Z"
   },
   {
    "duration": 11,
    "start_time": "2022-07-16T20:20:16.692Z"
   },
   {
    "duration": 13,
    "start_time": "2022-07-16T20:20:16.705Z"
   },
   {
    "duration": 13,
    "start_time": "2022-07-16T20:20:16.720Z"
   },
   {
    "duration": 17,
    "start_time": "2022-07-16T20:20:16.734Z"
   },
   {
    "duration": 10,
    "start_time": "2022-07-16T20:20:16.753Z"
   },
   {
    "duration": 86,
    "start_time": "2022-07-16T20:20:16.765Z"
   },
   {
    "duration": 71,
    "start_time": "2022-07-16T20:20:16.853Z"
   },
   {
    "duration": 130,
    "start_time": "2022-07-16T20:20:16.926Z"
   },
   {
    "duration": 124,
    "start_time": "2022-07-16T20:20:17.059Z"
   },
   {
    "duration": 15,
    "start_time": "2022-07-16T20:20:17.185Z"
   },
   {
    "duration": 7,
    "start_time": "2022-07-16T20:20:17.202Z"
   },
   {
    "duration": 250,
    "start_time": "2022-07-16T20:20:17.210Z"
   },
   {
    "duration": 159,
    "start_time": "2022-07-16T20:20:17.461Z"
   },
   {
    "duration": 5,
    "start_time": "2022-07-16T20:20:17.621Z"
   },
   {
    "duration": 12,
    "start_time": "2022-07-16T20:20:17.628Z"
   },
   {
    "duration": 154,
    "start_time": "2022-07-16T20:20:17.642Z"
   },
   {
    "duration": 130,
    "start_time": "2022-07-16T20:20:17.800Z"
   },
   {
    "duration": 6,
    "start_time": "2022-07-16T20:20:17.931Z"
   },
   {
    "duration": 12,
    "start_time": "2022-07-16T20:20:17.939Z"
   },
   {
    "duration": 6,
    "start_time": "2022-07-16T20:20:17.953Z"
   },
   {
    "duration": 5,
    "start_time": "2022-07-16T20:20:17.961Z"
   },
   {
    "duration": 185,
    "start_time": "2022-07-16T20:20:17.968Z"
   },
   {
    "duration": 9,
    "start_time": "2022-07-16T20:20:18.155Z"
   },
   {
    "duration": 19,
    "start_time": "2022-07-16T20:20:18.165Z"
   },
   {
    "duration": 197,
    "start_time": "2022-07-16T20:20:18.186Z"
   },
   {
    "duration": 135,
    "start_time": "2022-07-16T20:20:18.384Z"
   },
   {
    "duration": 7,
    "start_time": "2022-07-16T20:20:18.521Z"
   },
   {
    "duration": 13,
    "start_time": "2022-07-16T20:20:18.530Z"
   },
   {
    "duration": 9,
    "start_time": "2022-07-16T20:20:18.544Z"
   },
   {
    "duration": 15,
    "start_time": "2022-07-16T20:20:18.555Z"
   },
   {
    "duration": 30,
    "start_time": "2022-07-16T20:20:18.572Z"
   },
   {
    "duration": 9,
    "start_time": "2022-07-16T20:20:18.604Z"
   },
   {
    "duration": 16,
    "start_time": "2022-07-16T20:20:18.614Z"
   },
   {
    "duration": 7,
    "start_time": "2022-07-16T20:20:18.632Z"
   },
   {
    "duration": 180,
    "start_time": "2022-07-16T20:20:18.641Z"
   },
   {
    "duration": 147,
    "start_time": "2022-07-16T20:20:18.825Z"
   },
   {
    "duration": 165,
    "start_time": "2022-07-16T20:20:18.974Z"
   },
   {
    "duration": 154,
    "start_time": "2022-07-16T20:20:19.140Z"
   },
   {
    "duration": 159,
    "start_time": "2022-07-16T20:20:19.300Z"
   },
   {
    "duration": 269,
    "start_time": "2022-07-16T20:20:19.461Z"
   },
   {
    "duration": 177,
    "start_time": "2022-07-16T20:20:19.732Z"
   },
   {
    "duration": 161,
    "start_time": "2022-07-16T20:20:19.910Z"
   },
   {
    "duration": 5,
    "start_time": "2022-07-16T20:20:20.073Z"
   },
   {
    "duration": 6,
    "start_time": "2022-07-16T20:20:24.517Z"
   },
   {
    "duration": 7,
    "start_time": "2022-07-16T20:21:06.621Z"
   },
   {
    "duration": 16,
    "start_time": "2022-07-16T20:22:27.871Z"
   },
   {
    "duration": 10,
    "start_time": "2022-07-16T20:23:19.476Z"
   },
   {
    "duration": 9,
    "start_time": "2022-07-16T20:23:23.115Z"
   },
   {
    "duration": 11,
    "start_time": "2022-07-16T20:23:28.893Z"
   },
   {
    "duration": 8,
    "start_time": "2022-07-16T20:23:31.634Z"
   },
   {
    "duration": 24,
    "start_time": "2022-07-16T20:24:01.264Z"
   },
   {
    "duration": 7,
    "start_time": "2022-07-16T20:24:14.973Z"
   },
   {
    "duration": 184,
    "start_time": "2022-07-16T20:24:40.544Z"
   },
   {
    "duration": 170,
    "start_time": "2022-07-16T20:24:51.372Z"
   },
   {
    "duration": 160,
    "start_time": "2022-07-16T20:24:57.936Z"
   },
   {
    "duration": 12,
    "start_time": "2022-07-16T20:27:16.017Z"
   },
   {
    "duration": 12,
    "start_time": "2022-07-16T20:27:43.881Z"
   },
   {
    "duration": 9,
    "start_time": "2022-07-16T20:28:06.297Z"
   },
   {
    "duration": 4,
    "start_time": "2022-07-16T20:28:40.330Z"
   },
   {
    "duration": 13,
    "start_time": "2022-07-16T20:28:57.189Z"
   },
   {
    "duration": 127,
    "start_time": "2022-07-16T20:30:10.349Z"
   },
   {
    "duration": 127,
    "start_time": "2022-07-16T20:31:38.114Z"
   },
   {
    "duration": 7,
    "start_time": "2022-07-16T20:35:55.375Z"
   },
   {
    "duration": 6,
    "start_time": "2022-07-16T20:36:09.210Z"
   },
   {
    "duration": 7,
    "start_time": "2022-07-16T20:36:22.864Z"
   },
   {
    "duration": 150,
    "start_time": "2022-07-16T20:36:32.045Z"
   },
   {
    "duration": 160,
    "start_time": "2022-07-16T20:38:19.038Z"
   },
   {
    "duration": 110,
    "start_time": "2022-07-16T20:44:53.415Z"
   },
   {
    "duration": 34,
    "start_time": "2022-07-16T20:44:53.538Z"
   },
   {
    "duration": 1739,
    "start_time": "2022-07-16T20:44:54.266Z"
   },
   {
    "duration": 22,
    "start_time": "2022-07-16T20:44:56.016Z"
   },
   {
    "duration": 627,
    "start_time": "2022-07-16T20:44:56.053Z"
   },
   {
    "duration": 7,
    "start_time": "2022-07-16T20:44:56.700Z"
   },
   {
    "duration": 7,
    "start_time": "2022-07-16T20:44:56.734Z"
   },
   {
    "duration": 11,
    "start_time": "2022-07-16T20:44:56.764Z"
   },
   {
    "duration": 16,
    "start_time": "2022-07-16T20:44:56.850Z"
   },
   {
    "duration": 11,
    "start_time": "2022-07-16T20:44:56.950Z"
   },
   {
    "duration": 59,
    "start_time": "2022-07-16T20:44:57.099Z"
   },
   {
    "duration": 76,
    "start_time": "2022-07-16T20:44:57.281Z"
   },
   {
    "duration": 126,
    "start_time": "2022-07-16T20:44:57.365Z"
   },
   {
    "duration": 116,
    "start_time": "2022-07-16T20:44:57.502Z"
   },
   {
    "duration": 5,
    "start_time": "2022-07-16T20:44:57.747Z"
   },
   {
    "duration": 7,
    "start_time": "2022-07-16T20:44:57.908Z"
   },
   {
    "duration": 133,
    "start_time": "2022-07-16T20:44:57.948Z"
   },
   {
    "duration": 158,
    "start_time": "2022-07-16T20:44:58.090Z"
   },
   {
    "duration": 5,
    "start_time": "2022-07-16T20:44:58.428Z"
   },
   {
    "duration": 8,
    "start_time": "2022-07-16T20:45:00.524Z"
   },
   {
    "duration": 167,
    "start_time": "2022-07-16T20:45:00.568Z"
   },
   {
    "duration": 169,
    "start_time": "2022-07-16T20:45:00.745Z"
   },
   {
    "duration": 29,
    "start_time": "2022-07-16T20:45:00.924Z"
   },
   {
    "duration": 41,
    "start_time": "2022-07-16T20:45:00.977Z"
   },
   {
    "duration": 7,
    "start_time": "2022-07-16T20:45:01.207Z"
   },
   {
    "duration": 30,
    "start_time": "2022-07-16T20:45:01.263Z"
   },
   {
    "duration": 170,
    "start_time": "2022-07-16T20:45:01.322Z"
   },
   {
    "duration": 8,
    "start_time": "2022-07-16T20:45:01.642Z"
   },
   {
    "duration": 12,
    "start_time": "2022-07-16T20:45:01.820Z"
   },
   {
    "duration": 173,
    "start_time": "2022-07-16T20:45:01.860Z"
   },
   {
    "duration": 153,
    "start_time": "2022-07-16T20:45:02.044Z"
   },
   {
    "duration": 30,
    "start_time": "2022-07-16T20:45:02.207Z"
   },
   {
    "duration": 12,
    "start_time": "2022-07-16T20:45:02.253Z"
   },
   {
    "duration": 18,
    "start_time": "2022-07-16T20:45:02.289Z"
   },
   {
    "duration": 19,
    "start_time": "2022-07-16T20:45:02.323Z"
   },
   {
    "duration": 16,
    "start_time": "2022-07-16T20:45:02.359Z"
   },
   {
    "duration": 19,
    "start_time": "2022-07-16T20:45:02.387Z"
   },
   {
    "duration": 12,
    "start_time": "2022-07-16T20:45:02.572Z"
   },
   {
    "duration": 8,
    "start_time": "2022-07-16T20:45:02.742Z"
   },
   {
    "duration": 166,
    "start_time": "2022-07-16T20:45:02.919Z"
   },
   {
    "duration": 157,
    "start_time": "2022-07-16T20:45:03.261Z"
   },
   {
    "duration": 140,
    "start_time": "2022-07-16T20:45:03.595Z"
   },
   {
    "duration": 166,
    "start_time": "2022-07-16T20:45:03.900Z"
   },
   {
    "duration": 136,
    "start_time": "2022-07-16T20:45:04.223Z"
   },
   {
    "duration": 156,
    "start_time": "2022-07-16T20:45:04.507Z"
   },
   {
    "duration": 191,
    "start_time": "2022-07-16T20:45:04.673Z"
   },
   {
    "duration": 182,
    "start_time": "2022-07-16T20:45:05.014Z"
   },
   {
    "duration": 17,
    "start_time": "2022-07-16T20:45:05.218Z"
   },
   {
    "duration": 165,
    "start_time": "2022-07-16T20:45:05.425Z"
   },
   {
    "duration": 13,
    "start_time": "2022-07-16T20:45:05.738Z"
   },
   {
    "duration": 143,
    "start_time": "2022-07-16T20:45:05.882Z"
   },
   {
    "duration": 158,
    "start_time": "2022-07-16T20:45:06.035Z"
   },
   {
    "duration": 123,
    "start_time": "2022-07-16T20:45:06.354Z"
   },
   {
    "duration": 6,
    "start_time": "2022-07-16T20:45:06.478Z"
   },
   {
    "duration": 168,
    "start_time": "2022-07-16T20:45:06.485Z"
   },
   {
    "duration": 228,
    "start_time": "2022-07-16T21:01:45.582Z"
   },
   {
    "duration": 48,
    "start_time": "2022-07-16T21:02:28.949Z"
   },
   {
    "duration": 4,
    "start_time": "2022-07-16T21:02:36.666Z"
   },
   {
    "duration": 45,
    "start_time": "2022-07-16T21:02:44.038Z"
   },
   {
    "duration": 177,
    "start_time": "2022-07-16T21:02:53.533Z"
   },
   {
    "duration": 206,
    "start_time": "2022-07-16T21:03:52.009Z"
   },
   {
    "duration": 205,
    "start_time": "2022-07-16T21:04:05.274Z"
   },
   {
    "duration": 132,
    "start_time": "2022-07-16T21:05:08.597Z"
   },
   {
    "duration": 171,
    "start_time": "2022-07-16T21:05:12.625Z"
   },
   {
    "duration": 198,
    "start_time": "2022-07-16T21:10:01.486Z"
   },
   {
    "duration": 160,
    "start_time": "2022-07-16T21:12:22.205Z"
   },
   {
    "duration": 148,
    "start_time": "2022-07-16T21:14:01.133Z"
   },
   {
    "duration": 168,
    "start_time": "2022-07-16T21:17:07.437Z"
   },
   {
    "duration": 137,
    "start_time": "2022-07-16T21:17:21.653Z"
   },
   {
    "duration": 122,
    "start_time": "2022-07-16T21:17:37.494Z"
   },
   {
    "duration": 2,
    "start_time": "2022-07-16T21:17:37.619Z"
   },
   {
    "duration": 1930,
    "start_time": "2022-07-16T21:17:37.623Z"
   },
   {
    "duration": 12,
    "start_time": "2022-07-16T21:17:39.556Z"
   },
   {
    "duration": 691,
    "start_time": "2022-07-16T21:17:39.571Z"
   },
   {
    "duration": 8,
    "start_time": "2022-07-16T21:17:40.264Z"
   },
   {
    "duration": 24,
    "start_time": "2022-07-16T21:17:40.273Z"
   },
   {
    "duration": 34,
    "start_time": "2022-07-16T21:17:40.298Z"
   },
   {
    "duration": 27,
    "start_time": "2022-07-16T21:17:40.334Z"
   },
   {
    "duration": 17,
    "start_time": "2022-07-16T21:17:40.363Z"
   },
   {
    "duration": 70,
    "start_time": "2022-07-16T21:17:40.382Z"
   },
   {
    "duration": 94,
    "start_time": "2022-07-16T21:17:40.454Z"
   },
   {
    "duration": 132,
    "start_time": "2022-07-16T21:17:40.550Z"
   },
   {
    "duration": 124,
    "start_time": "2022-07-16T21:17:40.685Z"
   },
   {
    "duration": 7,
    "start_time": "2022-07-16T21:17:40.811Z"
   },
   {
    "duration": 8,
    "start_time": "2022-07-16T21:17:40.820Z"
   },
   {
    "duration": 151,
    "start_time": "2022-07-16T21:17:40.830Z"
   },
   {
    "duration": 157,
    "start_time": "2022-07-16T21:17:40.982Z"
   },
   {
    "duration": 5,
    "start_time": "2022-07-16T21:17:41.141Z"
   },
   {
    "duration": 12,
    "start_time": "2022-07-16T21:17:41.148Z"
   },
   {
    "duration": 160,
    "start_time": "2022-07-16T21:17:41.161Z"
   },
   {
    "duration": 139,
    "start_time": "2022-07-16T21:17:41.322Z"
   },
   {
    "duration": 6,
    "start_time": "2022-07-16T21:17:41.463Z"
   },
   {
    "duration": 11,
    "start_time": "2022-07-16T21:17:41.471Z"
   },
   {
    "duration": 18,
    "start_time": "2022-07-16T21:17:41.483Z"
   },
   {
    "duration": 7,
    "start_time": "2022-07-16T21:17:41.503Z"
   },
   {
    "duration": 154,
    "start_time": "2022-07-16T21:17:41.511Z"
   },
   {
    "duration": 7,
    "start_time": "2022-07-16T21:17:41.667Z"
   },
   {
    "duration": 15,
    "start_time": "2022-07-16T21:17:41.675Z"
   },
   {
    "duration": 153,
    "start_time": "2022-07-16T21:17:41.692Z"
   },
   {
    "duration": 136,
    "start_time": "2022-07-16T21:17:41.846Z"
   },
   {
    "duration": 5,
    "start_time": "2022-07-16T21:17:41.983Z"
   },
   {
    "duration": 18,
    "start_time": "2022-07-16T21:17:41.990Z"
   },
   {
    "duration": 18,
    "start_time": "2022-07-16T21:17:42.009Z"
   },
   {
    "duration": 10,
    "start_time": "2022-07-16T21:17:42.029Z"
   },
   {
    "duration": 8,
    "start_time": "2022-07-16T21:17:42.040Z"
   },
   {
    "duration": 8,
    "start_time": "2022-07-16T21:17:42.049Z"
   },
   {
    "duration": 10,
    "start_time": "2022-07-16T21:17:42.058Z"
   },
   {
    "duration": 37,
    "start_time": "2022-07-16T21:17:42.069Z"
   },
   {
    "duration": 149,
    "start_time": "2022-07-16T21:17:42.108Z"
   },
   {
    "duration": 150,
    "start_time": "2022-07-16T21:17:42.260Z"
   },
   {
    "duration": 144,
    "start_time": "2022-07-16T21:17:42.412Z"
   },
   {
    "duration": 151,
    "start_time": "2022-07-16T21:17:42.558Z"
   },
   {
    "duration": 144,
    "start_time": "2022-07-16T21:17:42.711Z"
   },
   {
    "duration": 151,
    "start_time": "2022-07-16T21:17:42.856Z"
   },
   {
    "duration": 155,
    "start_time": "2022-07-16T21:17:43.009Z"
   },
   {
    "duration": 147,
    "start_time": "2022-07-16T21:17:43.166Z"
   },
   {
    "duration": 6,
    "start_time": "2022-07-16T21:17:43.315Z"
   },
   {
    "duration": 166,
    "start_time": "2022-07-16T21:17:43.322Z"
   },
   {
    "duration": 28,
    "start_time": "2022-07-16T21:17:43.490Z"
   },
   {
    "duration": 161,
    "start_time": "2022-07-16T21:17:43.520Z"
   },
   {
    "duration": 146,
    "start_time": "2022-07-16T21:17:43.683Z"
   },
   {
    "duration": 145,
    "start_time": "2022-07-16T21:17:43.831Z"
   },
   {
    "duration": 7,
    "start_time": "2022-07-16T21:17:43.978Z"
   },
   {
    "duration": 163,
    "start_time": "2022-07-16T21:17:43.987Z"
   },
   {
    "duration": 169375,
    "start_time": "2022-07-16T21:17:44.152Z"
   },
   {
    "duration": 152,
    "start_time": "2022-07-16T21:20:33.529Z"
   },
   {
    "duration": 192,
    "start_time": "2022-07-16T21:20:33.682Z"
   },
   {
    "duration": 190,
    "start_time": "2022-07-16T21:20:33.876Z"
   },
   {
    "duration": 162,
    "start_time": "2022-07-16T21:20:34.067Z"
   },
   {
    "duration": 151,
    "start_time": "2022-07-16T21:20:34.231Z"
   },
   {
    "duration": 154,
    "start_time": "2022-07-16T21:20:34.387Z"
   },
   {
    "duration": 134,
    "start_time": "2022-07-16T21:21:21.605Z"
   },
   {
    "duration": 169,
    "start_time": "2022-07-16T21:21:55.377Z"
   },
   {
    "duration": 148,
    "start_time": "2022-07-16T21:23:18.867Z"
   },
   {
    "duration": 52,
    "start_time": "2022-07-16T21:24:20.581Z"
   },
   {
    "duration": 131,
    "start_time": "2022-07-16T21:24:27.521Z"
   },
   {
    "duration": 119,
    "start_time": "2022-07-16T21:24:52.654Z"
   },
   {
    "duration": 118,
    "start_time": "2022-07-16T21:24:55.987Z"
   },
   {
    "duration": 470,
    "start_time": "2022-07-16T21:25:40.465Z"
   },
   {
    "duration": 111,
    "start_time": "2022-07-16T21:25:47.556Z"
   },
   {
    "duration": 119,
    "start_time": "2022-07-16T21:25:55.833Z"
   },
   {
    "duration": 123,
    "start_time": "2022-07-16T21:27:28.894Z"
   },
   {
    "duration": 137,
    "start_time": "2022-07-16T21:27:36.913Z"
   },
   {
    "duration": 137,
    "start_time": "2022-07-16T21:27:47.965Z"
   },
   {
    "duration": 23640,
    "start_time": "2022-07-16T21:33:25.464Z"
   },
   {
    "duration": 147,
    "start_time": "2022-07-16T21:34:32.984Z"
   },
   {
    "duration": 137,
    "start_time": "2022-07-16T21:34:43.304Z"
   },
   {
    "duration": 156,
    "start_time": "2022-07-16T21:34:53.101Z"
   },
   {
    "duration": 167,
    "start_time": "2022-07-16T21:36:52.920Z"
   },
   {
    "duration": 154,
    "start_time": "2022-07-16T21:38:20.716Z"
   },
   {
    "duration": 1202,
    "start_time": "2022-07-17T18:11:26.420Z"
   },
   {
    "duration": 2,
    "start_time": "2022-07-17T18:11:27.625Z"
   },
   {
    "duration": 1900,
    "start_time": "2022-07-17T18:11:27.629Z"
   },
   {
    "duration": 11,
    "start_time": "2022-07-17T18:11:29.532Z"
   },
   {
    "duration": 670,
    "start_time": "2022-07-17T18:11:29.545Z"
   },
   {
    "duration": 11,
    "start_time": "2022-07-17T18:11:30.217Z"
   },
   {
    "duration": 21,
    "start_time": "2022-07-17T18:11:30.230Z"
   },
   {
    "duration": 15,
    "start_time": "2022-07-17T18:11:30.253Z"
   },
   {
    "duration": 18,
    "start_time": "2022-07-17T18:11:30.270Z"
   },
   {
    "duration": 10,
    "start_time": "2022-07-17T18:11:30.291Z"
   },
   {
    "duration": 88,
    "start_time": "2022-07-17T18:11:30.303Z"
   },
   {
    "duration": 68,
    "start_time": "2022-07-17T18:11:30.393Z"
   },
   {
    "duration": 130,
    "start_time": "2022-07-17T18:11:30.463Z"
   },
   {
    "duration": 135,
    "start_time": "2022-07-17T18:11:30.594Z"
   },
   {
    "duration": 7,
    "start_time": "2022-07-17T18:11:30.731Z"
   },
   {
    "duration": 26,
    "start_time": "2022-07-17T18:11:30.739Z"
   },
   {
    "duration": 155,
    "start_time": "2022-07-17T18:11:30.767Z"
   },
   {
    "duration": 172,
    "start_time": "2022-07-17T18:11:30.925Z"
   },
   {
    "duration": 5,
    "start_time": "2022-07-17T18:11:31.099Z"
   },
   {
    "duration": 18,
    "start_time": "2022-07-17T18:11:31.106Z"
   },
   {
    "duration": 155,
    "start_time": "2022-07-17T18:11:31.126Z"
   },
   {
    "duration": 129,
    "start_time": "2022-07-17T18:11:31.283Z"
   },
   {
    "duration": 10,
    "start_time": "2022-07-17T18:11:31.413Z"
   },
   {
    "duration": 35,
    "start_time": "2022-07-17T18:11:31.425Z"
   },
   {
    "duration": 9,
    "start_time": "2022-07-17T18:11:31.462Z"
   },
   {
    "duration": 5,
    "start_time": "2022-07-17T18:11:31.473Z"
   },
   {
    "duration": 222,
    "start_time": "2022-07-17T18:11:31.479Z"
   },
   {
    "duration": 7,
    "start_time": "2022-07-17T18:11:31.705Z"
   },
   {
    "duration": 20,
    "start_time": "2022-07-17T18:11:31.713Z"
   },
   {
    "duration": 137,
    "start_time": "2022-07-17T18:11:31.734Z"
   },
   {
    "duration": 141,
    "start_time": "2022-07-17T18:11:31.872Z"
   },
   {
    "duration": 10,
    "start_time": "2022-07-17T18:11:32.015Z"
   },
   {
    "duration": 9,
    "start_time": "2022-07-17T18:11:32.026Z"
   },
   {
    "duration": 13,
    "start_time": "2022-07-17T18:11:32.037Z"
   },
   {
    "duration": 36,
    "start_time": "2022-07-17T18:11:32.052Z"
   },
   {
    "duration": 10,
    "start_time": "2022-07-17T18:11:32.089Z"
   },
   {
    "duration": 8,
    "start_time": "2022-07-17T18:11:32.101Z"
   },
   {
    "duration": 17,
    "start_time": "2022-07-17T18:11:32.110Z"
   },
   {
    "duration": 7,
    "start_time": "2022-07-17T18:11:32.129Z"
   },
   {
    "duration": 154,
    "start_time": "2022-07-17T18:11:32.138Z"
   },
   {
    "duration": 136,
    "start_time": "2022-07-17T18:11:32.294Z"
   },
   {
    "duration": 143,
    "start_time": "2022-07-17T18:11:32.431Z"
   },
   {
    "duration": 148,
    "start_time": "2022-07-17T18:11:32.575Z"
   },
   {
    "duration": 143,
    "start_time": "2022-07-17T18:11:32.725Z"
   },
   {
    "duration": 147,
    "start_time": "2022-07-17T18:11:32.869Z"
   },
   {
    "duration": 168,
    "start_time": "2022-07-17T18:11:33.022Z"
   },
   {
    "duration": 147,
    "start_time": "2022-07-17T18:11:33.191Z"
   },
   {
    "duration": 6,
    "start_time": "2022-07-17T18:11:33.340Z"
   },
   {
    "duration": 235,
    "start_time": "2022-07-17T18:11:33.347Z"
   },
   {
    "duration": 12,
    "start_time": "2022-07-17T18:11:33.584Z"
   },
   {
    "duration": 162,
    "start_time": "2022-07-17T18:11:33.598Z"
   },
   {
    "duration": 148,
    "start_time": "2022-07-17T18:11:33.762Z"
   },
   {
    "duration": 130,
    "start_time": "2022-07-17T18:11:33.912Z"
   },
   {
    "duration": 6,
    "start_time": "2022-07-17T18:11:34.043Z"
   },
   {
    "duration": 154,
    "start_time": "2022-07-17T18:11:34.051Z"
   },
   {
    "duration": 147,
    "start_time": "2022-07-17T18:11:34.207Z"
   },
   {
    "duration": 156,
    "start_time": "2022-07-17T18:11:34.356Z"
   },
   {
    "duration": 203,
    "start_time": "2022-07-17T18:11:34.514Z"
   },
   {
    "duration": 181,
    "start_time": "2022-07-17T18:11:34.718Z"
   },
   {
    "duration": 192,
    "start_time": "2022-07-17T18:11:34.901Z"
   },
   {
    "duration": 147,
    "start_time": "2022-07-17T18:11:35.095Z"
   },
   {
    "duration": 201,
    "start_time": "2022-07-17T18:11:35.244Z"
   },
   {
    "duration": 166,
    "start_time": "2022-07-17T18:11:35.446Z"
   },
   {
    "duration": 178,
    "start_time": "2022-07-17T18:11:35.614Z"
   },
   {
    "duration": 160,
    "start_time": "2022-07-17T18:11:35.793Z"
   },
   {
    "duration": 73,
    "start_time": "2022-07-17T18:26:26.064Z"
   },
   {
    "duration": 16,
    "start_time": "2022-07-17T18:26:54.785Z"
   },
   {
    "duration": 16,
    "start_time": "2022-07-17T18:28:49.184Z"
   },
   {
    "duration": 927,
    "start_time": "2022-07-17T18:30:59.141Z"
   },
   {
    "duration": 16,
    "start_time": "2022-07-17T18:31:04.091Z"
   },
   {
    "duration": 9,
    "start_time": "2022-07-17T18:31:17.740Z"
   },
   {
    "duration": 8,
    "start_time": "2022-07-17T18:32:31.698Z"
   },
   {
    "duration": 49,
    "start_time": "2022-07-17T18:34:08.367Z"
   },
   {
    "duration": 8,
    "start_time": "2022-07-17T18:34:15.753Z"
   },
   {
    "duration": 6,
    "start_time": "2022-07-17T18:39:52.683Z"
   },
   {
    "duration": 9,
    "start_time": "2022-07-17T18:40:01.948Z"
   },
   {
    "duration": 15,
    "start_time": "2022-07-17T18:40:17.966Z"
   },
   {
    "duration": 27,
    "start_time": "2022-07-17T18:41:10.395Z"
   },
   {
    "duration": 7,
    "start_time": "2022-07-17T18:43:58.224Z"
   },
   {
    "duration": 8,
    "start_time": "2022-07-17T18:44:05.623Z"
   },
   {
    "duration": 12,
    "start_time": "2022-07-17T18:46:52.476Z"
   },
   {
    "duration": 8,
    "start_time": "2022-07-17T18:47:24.625Z"
   },
   {
    "duration": 18,
    "start_time": "2022-07-17T18:49:10.395Z"
   },
   {
    "duration": 7,
    "start_time": "2022-07-17T18:49:40.244Z"
   },
   {
    "duration": 10,
    "start_time": "2022-07-17T19:05:18.797Z"
   },
   {
    "duration": 14,
    "start_time": "2022-07-17T19:05:29.803Z"
   },
   {
    "duration": 12,
    "start_time": "2022-07-17T19:05:36.043Z"
   },
   {
    "duration": 8,
    "start_time": "2022-07-17T19:05:50.837Z"
   },
   {
    "duration": 12,
    "start_time": "2022-07-17T19:06:11.482Z"
   },
   {
    "duration": 8,
    "start_time": "2022-07-17T19:06:25.179Z"
   },
   {
    "duration": 9,
    "start_time": "2022-07-17T19:06:51.232Z"
   },
   {
    "duration": 6,
    "start_time": "2022-07-17T19:06:58.182Z"
   },
   {
    "duration": 11,
    "start_time": "2022-07-17T19:07:05.498Z"
   },
   {
    "duration": 12,
    "start_time": "2022-07-17T19:07:40.422Z"
   },
   {
    "duration": 832,
    "start_time": "2022-07-17T19:07:51.627Z"
   },
   {
    "duration": 9,
    "start_time": "2022-07-17T19:08:32.767Z"
   },
   {
    "duration": 19,
    "start_time": "2022-07-17T19:08:42.850Z"
   },
   {
    "duration": 19,
    "start_time": "2022-07-17T19:08:47.064Z"
   },
   {
    "duration": 8,
    "start_time": "2022-07-17T19:09:05.125Z"
   },
   {
    "duration": 11,
    "start_time": "2022-07-17T19:15:42.017Z"
   },
   {
    "duration": 12,
    "start_time": "2022-07-17T19:21:39.873Z"
   },
   {
    "duration": 25,
    "start_time": "2022-07-17T19:21:47.281Z"
   },
   {
    "duration": 73,
    "start_time": "2022-07-17T19:21:55.167Z"
   },
   {
    "duration": 59,
    "start_time": "2022-07-17T19:22:26.604Z"
   },
   {
    "duration": 56,
    "start_time": "2022-07-17T19:22:53.117Z"
   },
   {
    "duration": 71,
    "start_time": "2022-07-17T19:23:00.850Z"
   },
   {
    "duration": 37,
    "start_time": "2022-07-17T19:23:38.216Z"
   },
   {
    "duration": 50,
    "start_time": "2022-07-17T19:23:46.109Z"
   },
   {
    "duration": 43,
    "start_time": "2022-07-17T19:24:23.114Z"
   },
   {
    "duration": 41,
    "start_time": "2022-07-17T19:24:42.335Z"
   },
   {
    "duration": 29,
    "start_time": "2022-07-17T19:24:49.368Z"
   },
   {
    "duration": 31,
    "start_time": "2022-07-17T19:25:14.814Z"
   },
   {
    "duration": 31,
    "start_time": "2022-07-17T19:25:20.172Z"
   },
   {
    "duration": 38,
    "start_time": "2022-07-17T19:25:34.602Z"
   },
   {
    "duration": 39,
    "start_time": "2022-07-17T19:25:55.695Z"
   },
   {
    "duration": 41,
    "start_time": "2022-07-17T19:26:07.845Z"
   },
   {
    "duration": 32,
    "start_time": "2022-07-17T19:26:11.100Z"
   },
   {
    "duration": 34,
    "start_time": "2022-07-17T19:26:17.850Z"
   },
   {
    "duration": 58,
    "start_time": "2022-07-17T19:26:34.440Z"
   },
   {
    "duration": 449,
    "start_time": "2022-07-17T20:45:56.218Z"
   },
   {
    "duration": 58,
    "start_time": "2022-07-17T20:50:49.361Z"
   },
   {
    "duration": 65,
    "start_time": "2022-07-17T20:51:18.103Z"
   },
   {
    "duration": 46,
    "start_time": "2022-07-17T20:51:38.051Z"
   },
   {
    "duration": 39,
    "start_time": "2022-07-17T21:12:47.743Z"
   },
   {
    "duration": 64,
    "start_time": "2022-07-17T21:14:41.654Z"
   },
   {
    "duration": 11,
    "start_time": "2022-07-17T21:14:47.641Z"
   },
   {
    "duration": 12,
    "start_time": "2022-07-17T21:15:03.985Z"
   },
   {
    "duration": 15,
    "start_time": "2022-07-17T21:15:34.500Z"
   },
   {
    "duration": 21,
    "start_time": "2022-07-17T21:17:55.821Z"
   },
   {
    "duration": 23,
    "start_time": "2022-07-17T21:26:41.536Z"
   },
   {
    "duration": 15,
    "start_time": "2022-07-17T21:29:01.626Z"
   },
   {
    "duration": 15,
    "start_time": "2022-07-17T21:29:06.185Z"
   },
   {
    "duration": 103,
    "start_time": "2022-07-17T21:29:10.823Z"
   },
   {
    "duration": 4,
    "start_time": "2022-07-17T21:29:10.928Z"
   },
   {
    "duration": 1828,
    "start_time": "2022-07-17T21:29:10.934Z"
   },
   {
    "duration": 12,
    "start_time": "2022-07-17T21:29:12.763Z"
   },
   {
    "duration": 718,
    "start_time": "2022-07-17T21:29:12.777Z"
   },
   {
    "duration": 10,
    "start_time": "2022-07-17T21:29:13.496Z"
   },
   {
    "duration": 20,
    "start_time": "2022-07-17T21:29:13.508Z"
   },
   {
    "duration": 14,
    "start_time": "2022-07-17T21:29:13.529Z"
   },
   {
    "duration": 19,
    "start_time": "2022-07-17T21:29:13.545Z"
   },
   {
    "duration": 11,
    "start_time": "2022-07-17T21:29:13.565Z"
   },
   {
    "duration": 94,
    "start_time": "2022-07-17T21:29:13.578Z"
   },
   {
    "duration": 96,
    "start_time": "2022-07-17T21:29:13.674Z"
   },
   {
    "duration": 143,
    "start_time": "2022-07-17T21:29:13.772Z"
   },
   {
    "duration": 227,
    "start_time": "2022-07-17T21:29:13.918Z"
   },
   {
    "duration": 7,
    "start_time": "2022-07-17T21:29:14.147Z"
   },
   {
    "duration": 11,
    "start_time": "2022-07-17T21:29:14.156Z"
   },
   {
    "duration": 167,
    "start_time": "2022-07-17T21:29:14.168Z"
   },
   {
    "duration": 184,
    "start_time": "2022-07-17T21:29:14.337Z"
   },
   {
    "duration": 6,
    "start_time": "2022-07-17T21:29:14.523Z"
   },
   {
    "duration": 8,
    "start_time": "2022-07-17T21:29:14.531Z"
   },
   {
    "duration": 175,
    "start_time": "2022-07-17T21:29:14.541Z"
   },
   {
    "duration": 149,
    "start_time": "2022-07-17T21:29:14.718Z"
   },
   {
    "duration": 7,
    "start_time": "2022-07-17T21:29:14.869Z"
   },
   {
    "duration": 18,
    "start_time": "2022-07-17T21:29:14.877Z"
   },
   {
    "duration": 10,
    "start_time": "2022-07-17T21:29:14.897Z"
   },
   {
    "duration": 21,
    "start_time": "2022-07-17T21:29:14.908Z"
   },
   {
    "duration": 147,
    "start_time": "2022-07-17T21:29:14.931Z"
   },
   {
    "duration": 8,
    "start_time": "2022-07-17T21:29:15.080Z"
   },
   {
    "duration": 11,
    "start_time": "2022-07-17T21:29:15.090Z"
   },
   {
    "duration": 149,
    "start_time": "2022-07-17T21:29:15.103Z"
   },
   {
    "duration": 136,
    "start_time": "2022-07-17T21:29:15.254Z"
   },
   {
    "duration": 5,
    "start_time": "2022-07-17T21:29:15.392Z"
   },
   {
    "duration": 24,
    "start_time": "2022-07-17T21:29:15.399Z"
   },
   {
    "duration": 7,
    "start_time": "2022-07-17T21:29:15.425Z"
   },
   {
    "duration": 12,
    "start_time": "2022-07-17T21:29:15.433Z"
   },
   {
    "duration": 8,
    "start_time": "2022-07-17T21:29:15.447Z"
   },
   {
    "duration": 8,
    "start_time": "2022-07-17T21:29:15.457Z"
   },
   {
    "duration": 11,
    "start_time": "2022-07-17T21:29:15.467Z"
   },
   {
    "duration": 46,
    "start_time": "2022-07-17T21:29:15.480Z"
   },
   {
    "duration": 150,
    "start_time": "2022-07-17T21:29:15.528Z"
   },
   {
    "duration": 144,
    "start_time": "2022-07-17T21:29:15.682Z"
   },
   {
    "duration": 145,
    "start_time": "2022-07-17T21:29:15.828Z"
   },
   {
    "duration": 237,
    "start_time": "2022-07-17T21:29:15.975Z"
   },
   {
    "duration": 145,
    "start_time": "2022-07-17T21:29:16.213Z"
   },
   {
    "duration": 147,
    "start_time": "2022-07-17T21:29:16.359Z"
   },
   {
    "duration": 172,
    "start_time": "2022-07-17T21:29:16.508Z"
   },
   {
    "duration": 145,
    "start_time": "2022-07-17T21:29:16.682Z"
   },
   {
    "duration": 5,
    "start_time": "2022-07-17T21:29:16.829Z"
   },
   {
    "duration": 161,
    "start_time": "2022-07-17T21:29:16.836Z"
   },
   {
    "duration": 13,
    "start_time": "2022-07-17T21:29:16.999Z"
   },
   {
    "duration": 159,
    "start_time": "2022-07-17T21:29:17.013Z"
   },
   {
    "duration": 145,
    "start_time": "2022-07-17T21:29:17.174Z"
   },
   {
    "duration": 128,
    "start_time": "2022-07-17T21:29:17.322Z"
   },
   {
    "duration": 6,
    "start_time": "2022-07-17T21:29:17.452Z"
   },
   {
    "duration": 163,
    "start_time": "2022-07-17T21:29:17.460Z"
   },
   {
    "duration": 140,
    "start_time": "2022-07-17T21:29:17.625Z"
   },
   {
    "duration": 226,
    "start_time": "2022-07-17T21:29:17.767Z"
   },
   {
    "duration": 194,
    "start_time": "2022-07-17T21:29:17.995Z"
   },
   {
    "duration": 185,
    "start_time": "2022-07-17T21:29:18.191Z"
   },
   {
    "duration": 180,
    "start_time": "2022-07-17T21:29:18.378Z"
   },
   {
    "duration": 155,
    "start_time": "2022-07-17T21:29:18.561Z"
   },
   {
    "duration": 127,
    "start_time": "2022-07-17T21:29:18.723Z"
   },
   {
    "duration": 223,
    "start_time": "2022-07-17T21:29:18.852Z"
   },
   {
    "duration": 171,
    "start_time": "2022-07-17T21:29:19.076Z"
   },
   {
    "duration": 156,
    "start_time": "2022-07-17T21:29:19.249Z"
   },
   {
    "duration": 18,
    "start_time": "2022-07-17T21:29:19.407Z"
   },
   {
    "duration": 15,
    "start_time": "2022-07-17T21:29:23.485Z"
   },
   {
    "duration": 16,
    "start_time": "2022-07-17T21:30:38.278Z"
   },
   {
    "duration": 16,
    "start_time": "2022-07-17T21:31:10.750Z"
   },
   {
    "duration": 21,
    "start_time": "2022-07-17T21:32:08.881Z"
   },
   {
    "duration": 19,
    "start_time": "2022-07-17T21:32:19.187Z"
   },
   {
    "duration": 19,
    "start_time": "2022-07-17T21:32:39.135Z"
   },
   {
    "duration": 20,
    "start_time": "2022-07-17T21:32:52.163Z"
   },
   {
    "duration": 21,
    "start_time": "2022-07-17T21:33:42.145Z"
   },
   {
    "duration": 26,
    "start_time": "2022-07-17T21:34:10.862Z"
   },
   {
    "duration": 26,
    "start_time": "2022-07-17T21:35:49.412Z"
   },
   {
    "duration": 26,
    "start_time": "2022-07-17T21:36:19.498Z"
   },
   {
    "duration": 28,
    "start_time": "2022-07-17T21:37:10.837Z"
   },
   {
    "duration": 25,
    "start_time": "2022-07-17T21:37:29.133Z"
   },
   {
    "duration": 114,
    "start_time": "2022-07-17T21:38:10.711Z"
   },
   {
    "duration": 2,
    "start_time": "2022-07-17T21:38:10.827Z"
   },
   {
    "duration": 1869,
    "start_time": "2022-07-17T21:38:10.831Z"
   },
   {
    "duration": 11,
    "start_time": "2022-07-17T21:38:12.702Z"
   },
   {
    "duration": 641,
    "start_time": "2022-07-17T21:38:12.724Z"
   },
   {
    "duration": 8,
    "start_time": "2022-07-17T21:38:13.366Z"
   },
   {
    "duration": 11,
    "start_time": "2022-07-17T21:38:13.375Z"
   },
   {
    "duration": 13,
    "start_time": "2022-07-17T21:38:13.387Z"
   },
   {
    "duration": 36,
    "start_time": "2022-07-17T21:38:13.402Z"
   },
   {
    "duration": 11,
    "start_time": "2022-07-17T21:38:13.440Z"
   },
   {
    "duration": 76,
    "start_time": "2022-07-17T21:38:13.453Z"
   },
   {
    "duration": 68,
    "start_time": "2022-07-17T21:38:13.531Z"
   },
   {
    "duration": 138,
    "start_time": "2022-07-17T21:38:13.601Z"
   },
   {
    "duration": 127,
    "start_time": "2022-07-17T21:38:13.743Z"
   },
   {
    "duration": 7,
    "start_time": "2022-07-17T21:38:13.872Z"
   },
   {
    "duration": 8,
    "start_time": "2022-07-17T21:38:13.881Z"
   },
   {
    "duration": 153,
    "start_time": "2022-07-17T21:38:13.890Z"
   },
   {
    "duration": 159,
    "start_time": "2022-07-17T21:38:14.045Z"
   },
   {
    "duration": 5,
    "start_time": "2022-07-17T21:38:14.206Z"
   },
   {
    "duration": 19,
    "start_time": "2022-07-17T21:38:14.213Z"
   },
   {
    "duration": 241,
    "start_time": "2022-07-17T21:38:14.234Z"
   },
   {
    "duration": 138,
    "start_time": "2022-07-17T21:38:14.477Z"
   },
   {
    "duration": 9,
    "start_time": "2022-07-17T21:38:14.617Z"
   },
   {
    "duration": 12,
    "start_time": "2022-07-17T21:38:14.628Z"
   },
   {
    "duration": 7,
    "start_time": "2022-07-17T21:38:14.642Z"
   },
   {
    "duration": 8,
    "start_time": "2022-07-17T21:38:14.650Z"
   },
   {
    "duration": 156,
    "start_time": "2022-07-17T21:38:14.660Z"
   },
   {
    "duration": 11,
    "start_time": "2022-07-17T21:38:14.817Z"
   },
   {
    "duration": 18,
    "start_time": "2022-07-17T21:38:14.830Z"
   },
   {
    "duration": 147,
    "start_time": "2022-07-17T21:38:14.850Z"
   },
   {
    "duration": 145,
    "start_time": "2022-07-17T21:38:14.999Z"
   },
   {
    "duration": 6,
    "start_time": "2022-07-17T21:38:15.146Z"
   },
   {
    "duration": 12,
    "start_time": "2022-07-17T21:38:15.153Z"
   },
   {
    "duration": 7,
    "start_time": "2022-07-17T21:38:15.166Z"
   },
   {
    "duration": 10,
    "start_time": "2022-07-17T21:38:15.174Z"
   },
   {
    "duration": 37,
    "start_time": "2022-07-17T21:38:15.186Z"
   },
   {
    "duration": 9,
    "start_time": "2022-07-17T21:38:15.225Z"
   },
   {
    "duration": 10,
    "start_time": "2022-07-17T21:38:15.236Z"
   },
   {
    "duration": 6,
    "start_time": "2022-07-17T21:38:15.248Z"
   },
   {
    "duration": 176,
    "start_time": "2022-07-17T21:38:15.256Z"
   },
   {
    "duration": 143,
    "start_time": "2022-07-17T21:38:15.437Z"
   },
   {
    "duration": 151,
    "start_time": "2022-07-17T21:38:15.582Z"
   },
   {
    "duration": 170,
    "start_time": "2022-07-17T21:38:15.735Z"
   },
   {
    "duration": 166,
    "start_time": "2022-07-17T21:38:15.907Z"
   },
   {
    "duration": 162,
    "start_time": "2022-07-17T21:38:16.074Z"
   },
   {
    "duration": 242,
    "start_time": "2022-07-17T21:38:16.238Z"
   },
   {
    "duration": 143,
    "start_time": "2022-07-17T21:38:16.482Z"
   },
   {
    "duration": 6,
    "start_time": "2022-07-17T21:38:16.627Z"
   },
   {
    "duration": 160,
    "start_time": "2022-07-17T21:38:16.634Z"
   },
   {
    "duration": 14,
    "start_time": "2022-07-17T21:38:16.796Z"
   },
   {
    "duration": 146,
    "start_time": "2022-07-17T21:38:16.823Z"
   },
   {
    "duration": 154,
    "start_time": "2022-07-17T21:38:16.971Z"
   },
   {
    "duration": 137,
    "start_time": "2022-07-17T21:38:17.126Z"
   },
   {
    "duration": 6,
    "start_time": "2022-07-17T21:38:17.265Z"
   },
   {
    "duration": 161,
    "start_time": "2022-07-17T21:38:17.274Z"
   },
   {
    "duration": 141,
    "start_time": "2022-07-17T21:38:17.436Z"
   },
   {
    "duration": 147,
    "start_time": "2022-07-17T21:38:17.579Z"
   },
   {
    "duration": 180,
    "start_time": "2022-07-17T21:38:17.728Z"
   },
   {
    "duration": 167,
    "start_time": "2022-07-17T21:38:17.910Z"
   },
   {
    "duration": 244,
    "start_time": "2022-07-17T21:38:18.079Z"
   },
   {
    "duration": 138,
    "start_time": "2022-07-17T21:38:18.325Z"
   },
   {
    "duration": 128,
    "start_time": "2022-07-17T21:38:18.464Z"
   },
   {
    "duration": 165,
    "start_time": "2022-07-17T21:38:18.593Z"
   },
   {
    "duration": 182,
    "start_time": "2022-07-17T21:38:18.760Z"
   },
   {
    "duration": 182,
    "start_time": "2022-07-17T21:38:18.944Z"
   },
   {
    "duration": 25,
    "start_time": "2022-07-17T21:38:21.860Z"
   },
   {
    "duration": 25,
    "start_time": "2022-07-17T21:38:56.584Z"
   },
   {
    "duration": 25,
    "start_time": "2022-07-17T21:38:59.060Z"
   },
   {
    "duration": 15,
    "start_time": "2022-07-17T21:40:13.795Z"
   },
   {
    "duration": 14,
    "start_time": "2022-07-17T21:40:25.921Z"
   },
   {
    "duration": 45,
    "start_time": "2022-07-17T21:40:37.290Z"
   },
   {
    "duration": 27,
    "start_time": "2022-07-17T21:41:28.824Z"
   },
   {
    "duration": 27,
    "start_time": "2022-07-17T21:42:01.759Z"
   },
   {
    "duration": 54,
    "start_time": "2022-07-17T21:44:02.433Z"
   },
   {
    "duration": 18,
    "start_time": "2022-07-17T21:44:10.270Z"
   },
   {
    "duration": 12,
    "start_time": "2022-07-17T21:44:15.792Z"
   },
   {
    "duration": 12,
    "start_time": "2022-07-17T21:44:21.121Z"
   },
   {
    "duration": 15,
    "start_time": "2022-07-17T21:45:06.398Z"
   },
   {
    "duration": 20,
    "start_time": "2022-07-17T21:45:49.715Z"
   },
   {
    "duration": 18,
    "start_time": "2022-07-17T21:48:10.790Z"
   },
   {
    "duration": 19,
    "start_time": "2022-07-17T21:48:20.015Z"
   },
   {
    "duration": 20,
    "start_time": "2022-07-17T21:48:59.099Z"
   },
   {
    "duration": 117,
    "start_time": "2022-07-17T22:02:22.819Z"
   },
   {
    "duration": 3,
    "start_time": "2022-07-17T22:02:22.938Z"
   },
   {
    "duration": 1876,
    "start_time": "2022-07-17T22:02:22.943Z"
   },
   {
    "duration": 12,
    "start_time": "2022-07-17T22:02:24.822Z"
   },
   {
    "duration": 656,
    "start_time": "2022-07-17T22:02:24.836Z"
   },
   {
    "duration": 8,
    "start_time": "2022-07-17T22:02:25.493Z"
   },
   {
    "duration": 27,
    "start_time": "2022-07-17T22:02:25.503Z"
   },
   {
    "duration": 21,
    "start_time": "2022-07-17T22:02:25.531Z"
   },
   {
    "duration": 17,
    "start_time": "2022-07-17T22:02:25.554Z"
   },
   {
    "duration": 25,
    "start_time": "2022-07-17T22:02:25.573Z"
   },
   {
    "duration": 63,
    "start_time": "2022-07-17T22:02:25.600Z"
   },
   {
    "duration": 77,
    "start_time": "2022-07-17T22:02:25.665Z"
   },
   {
    "duration": 125,
    "start_time": "2022-07-17T22:02:25.744Z"
   },
   {
    "duration": 120,
    "start_time": "2022-07-17T22:02:25.872Z"
   },
   {
    "duration": 6,
    "start_time": "2022-07-17T22:02:25.994Z"
   },
   {
    "duration": 14,
    "start_time": "2022-07-17T22:02:26.001Z"
   },
   {
    "duration": 139,
    "start_time": "2022-07-17T22:02:26.023Z"
   },
   {
    "duration": 139,
    "start_time": "2022-07-17T22:02:26.163Z"
   },
   {
    "duration": 5,
    "start_time": "2022-07-17T22:02:26.305Z"
   },
   {
    "duration": 37,
    "start_time": "2022-07-17T22:02:26.312Z"
   },
   {
    "duration": 151,
    "start_time": "2022-07-17T22:02:26.350Z"
   },
   {
    "duration": 123,
    "start_time": "2022-07-17T22:02:26.503Z"
   },
   {
    "duration": 6,
    "start_time": "2022-07-17T22:02:26.627Z"
   },
   {
    "duration": 21,
    "start_time": "2022-07-17T22:02:26.635Z"
   },
   {
    "duration": 37,
    "start_time": "2022-07-17T22:02:26.658Z"
   },
   {
    "duration": 13,
    "start_time": "2022-07-17T22:02:26.696Z"
   },
   {
    "duration": 161,
    "start_time": "2022-07-17T22:02:26.710Z"
   },
   {
    "duration": 8,
    "start_time": "2022-07-17T22:02:26.873Z"
   },
   {
    "duration": 32,
    "start_time": "2022-07-17T22:02:26.883Z"
   },
   {
    "duration": 239,
    "start_time": "2022-07-17T22:02:26.916Z"
   },
   {
    "duration": 135,
    "start_time": "2022-07-17T22:02:27.157Z"
   },
   {
    "duration": 5,
    "start_time": "2022-07-17T22:02:27.294Z"
   },
   {
    "duration": 34,
    "start_time": "2022-07-17T22:02:27.300Z"
   },
   {
    "duration": 32,
    "start_time": "2022-07-17T22:02:27.336Z"
   },
   {
    "duration": 18,
    "start_time": "2022-07-17T22:02:27.369Z"
   },
   {
    "duration": 24,
    "start_time": "2022-07-17T22:02:27.389Z"
   },
   {
    "duration": 26,
    "start_time": "2022-07-17T22:02:27.415Z"
   },
   {
    "duration": 13,
    "start_time": "2022-07-17T22:02:27.442Z"
   },
   {
    "duration": 31,
    "start_time": "2022-07-17T22:02:27.456Z"
   },
   {
    "duration": 158,
    "start_time": "2022-07-17T22:02:27.489Z"
   },
   {
    "duration": 139,
    "start_time": "2022-07-17T22:02:27.651Z"
   },
   {
    "duration": 140,
    "start_time": "2022-07-17T22:02:27.792Z"
   },
   {
    "duration": 143,
    "start_time": "2022-07-17T22:02:27.934Z"
   },
   {
    "duration": 135,
    "start_time": "2022-07-17T22:02:28.079Z"
   },
   {
    "duration": 144,
    "start_time": "2022-07-17T22:02:28.216Z"
   },
   {
    "duration": 163,
    "start_time": "2022-07-17T22:02:28.361Z"
   },
   {
    "duration": 138,
    "start_time": "2022-07-17T22:02:28.525Z"
   },
   {
    "duration": 5,
    "start_time": "2022-07-17T22:02:28.665Z"
   },
   {
    "duration": 160,
    "start_time": "2022-07-17T22:02:28.672Z"
   },
   {
    "duration": 14,
    "start_time": "2022-07-17T22:02:28.834Z"
   },
   {
    "duration": 258,
    "start_time": "2022-07-17T22:02:28.851Z"
   },
   {
    "duration": 148,
    "start_time": "2022-07-17T22:02:29.110Z"
   },
   {
    "duration": 122,
    "start_time": "2022-07-17T22:02:29.259Z"
   },
   {
    "duration": 6,
    "start_time": "2022-07-17T22:02:29.383Z"
   },
   {
    "duration": 158,
    "start_time": "2022-07-17T22:02:29.390Z"
   },
   {
    "duration": 147,
    "start_time": "2022-07-17T22:02:29.549Z"
   },
   {
    "duration": 158,
    "start_time": "2022-07-17T22:02:29.697Z"
   },
   {
    "duration": 185,
    "start_time": "2022-07-17T22:02:29.857Z"
   },
   {
    "duration": 167,
    "start_time": "2022-07-17T22:02:30.043Z"
   },
   {
    "duration": 165,
    "start_time": "2022-07-17T22:02:30.212Z"
   },
   {
    "duration": 152,
    "start_time": "2022-07-17T22:02:30.378Z"
   },
   {
    "duration": 131,
    "start_time": "2022-07-17T22:02:30.532Z"
   },
   {
    "duration": 249,
    "start_time": "2022-07-17T22:02:30.665Z"
   },
   {
    "duration": 172,
    "start_time": "2022-07-17T22:02:30.915Z"
   },
   {
    "duration": 158,
    "start_time": "2022-07-17T22:02:31.089Z"
   },
   {
    "duration": 24,
    "start_time": "2022-07-17T22:02:36.309Z"
   },
   {
    "duration": 5,
    "start_time": "2022-07-17T22:06:26.743Z"
   },
   {
    "duration": 4,
    "start_time": "2022-07-17T22:06:29.202Z"
   },
   {
    "duration": 27,
    "start_time": "2022-07-17T22:10:48.896Z"
   },
   {
    "duration": 22,
    "start_time": "2022-07-17T22:10:54.374Z"
   },
   {
    "duration": 22,
    "start_time": "2022-07-17T22:11:16.464Z"
   },
   {
    "duration": 49,
    "start_time": "2022-07-17T22:11:46.189Z"
   },
   {
    "duration": 22,
    "start_time": "2022-07-17T22:11:50.793Z"
   },
   {
    "duration": 5,
    "start_time": "2022-07-17T22:13:30.401Z"
   },
   {
    "duration": 4,
    "start_time": "2022-07-17T22:14:08.056Z"
   },
   {
    "duration": 969,
    "start_time": "2022-07-17T22:14:41.633Z"
   },
   {
    "duration": 44,
    "start_time": "2022-07-17T22:15:46.304Z"
   },
   {
    "duration": 47,
    "start_time": "2022-07-17T22:15:57.806Z"
   },
   {
    "duration": 22,
    "start_time": "2022-07-17T22:16:01.219Z"
   },
   {
    "duration": 14,
    "start_time": "2022-07-17T22:16:23.915Z"
   },
   {
    "duration": 20,
    "start_time": "2022-07-17T22:16:32.581Z"
   },
   {
    "duration": 10,
    "start_time": "2022-07-17T22:16:58.671Z"
   },
   {
    "duration": 9,
    "start_time": "2022-07-17T22:17:22.165Z"
   },
   {
    "duration": 12,
    "start_time": "2022-07-17T22:18:06.117Z"
   },
   {
    "duration": 97,
    "start_time": "2022-07-17T22:21:33.067Z"
   },
   {
    "duration": 3,
    "start_time": "2022-07-17T22:23:20.172Z"
   },
   {
    "duration": 4,
    "start_time": "2022-07-17T22:23:31.245Z"
   },
   {
    "duration": 8,
    "start_time": "2022-07-17T22:23:36.999Z"
   },
   {
    "duration": 140,
    "start_time": "2022-07-17T22:24:44.153Z"
   },
   {
    "duration": 12,
    "start_time": "2022-07-17T22:25:47.703Z"
   },
   {
    "duration": 13,
    "start_time": "2022-07-17T22:25:51.996Z"
   },
   {
    "duration": 12,
    "start_time": "2022-07-17T22:26:04.242Z"
   },
   {
    "duration": 12,
    "start_time": "2022-07-17T22:26:18.167Z"
   },
   {
    "duration": 10,
    "start_time": "2022-07-17T22:26:48.901Z"
   },
   {
    "duration": 13,
    "start_time": "2022-07-17T22:26:52.697Z"
   },
   {
    "duration": 19,
    "start_time": "2022-07-17T22:27:26.477Z"
   },
   {
    "duration": 21,
    "start_time": "2022-07-17T22:27:54.620Z"
   },
   {
    "duration": 29,
    "start_time": "2022-07-17T22:28:48.786Z"
   },
   {
    "duration": 46,
    "start_time": "2022-07-17T22:28:55.947Z"
   },
   {
    "duration": 10,
    "start_time": "2022-07-17T22:35:11.178Z"
   },
   {
    "duration": 42,
    "start_time": "2022-07-17T22:35:22.856Z"
   },
   {
    "duration": 13,
    "start_time": "2022-07-17T22:39:32.819Z"
   },
   {
    "duration": 12,
    "start_time": "2022-07-17T22:39:42.867Z"
   },
   {
    "duration": 37,
    "start_time": "2022-07-17T22:44:08.592Z"
   },
   {
    "duration": 9,
    "start_time": "2022-07-17T22:44:59.053Z"
   },
   {
    "duration": 12,
    "start_time": "2022-07-17T22:45:19.002Z"
   },
   {
    "duration": 15,
    "start_time": "2022-07-17T22:47:33.497Z"
   },
   {
    "duration": 22,
    "start_time": "2022-07-17T22:47:56.604Z"
   },
   {
    "duration": 22,
    "start_time": "2022-07-17T22:48:46.834Z"
   },
   {
    "duration": 21,
    "start_time": "2022-07-17T22:49:58.387Z"
   },
   {
    "duration": 22,
    "start_time": "2022-07-17T22:50:04.685Z"
   },
   {
    "duration": 19,
    "start_time": "2022-07-17T22:50:47.311Z"
   },
   {
    "duration": 21,
    "start_time": "2022-07-17T22:52:27.533Z"
   },
   {
    "duration": 21,
    "start_time": "2022-07-17T22:52:58.389Z"
   },
   {
    "duration": 100,
    "start_time": "2022-07-17T22:55:11.460Z"
   },
   {
    "duration": 732,
    "start_time": "2022-07-17T22:55:47.628Z"
   },
   {
    "duration": 309,
    "start_time": "2022-07-17T22:55:58.471Z"
   },
   {
    "duration": 176,
    "start_time": "2022-07-17T22:56:58.714Z"
   },
   {
    "duration": 171,
    "start_time": "2022-07-17T22:57:05.033Z"
   },
   {
    "duration": 185,
    "start_time": "2022-07-17T22:57:40.690Z"
   },
   {
    "duration": 23,
    "start_time": "2022-07-17T22:58:39.663Z"
   },
   {
    "duration": 23,
    "start_time": "2022-07-17T23:02:11.487Z"
   },
   {
    "duration": 23,
    "start_time": "2022-07-17T23:02:39.635Z"
   },
   {
    "duration": 256,
    "start_time": "2022-07-17T23:04:35.247Z"
   },
   {
    "duration": 73,
    "start_time": "2022-07-17T23:04:54.005Z"
   },
   {
    "duration": 183,
    "start_time": "2022-07-17T23:05:01.761Z"
   },
   {
    "duration": 25,
    "start_time": "2022-07-17T23:06:37.564Z"
   },
   {
    "duration": 135,
    "start_time": "2022-07-17T23:06:54.146Z"
   },
   {
    "duration": 179,
    "start_time": "2022-07-17T23:07:11.912Z"
   },
   {
    "duration": 34,
    "start_time": "2022-07-17T23:07:19.780Z"
   },
   {
    "duration": 30,
    "start_time": "2022-07-17T23:07:39.013Z"
   },
   {
    "duration": 154,
    "start_time": "2022-07-17T23:08:08.347Z"
   },
   {
    "duration": 37,
    "start_time": "2022-07-17T23:09:49.227Z"
   },
   {
    "duration": 36,
    "start_time": "2022-07-17T23:11:01.696Z"
   },
   {
    "duration": 38,
    "start_time": "2022-07-17T23:11:23.229Z"
   },
   {
    "duration": 50,
    "start_time": "2022-07-17T23:13:14.364Z"
   },
   {
    "duration": 34,
    "start_time": "2022-07-17T23:13:25.649Z"
   },
   {
    "duration": 38,
    "start_time": "2022-07-17T23:14:26.154Z"
   },
   {
    "duration": 23,
    "start_time": "2022-07-17T23:14:46.807Z"
   },
   {
    "duration": 27,
    "start_time": "2022-07-17T23:15:19.873Z"
   },
   {
    "duration": 22,
    "start_time": "2022-07-17T23:15:23.569Z"
   },
   {
    "duration": 26,
    "start_time": "2022-07-17T23:17:12.731Z"
   },
   {
    "duration": 31,
    "start_time": "2022-07-17T23:17:17.347Z"
   },
   {
    "duration": 23,
    "start_time": "2022-07-17T23:17:23.881Z"
   },
   {
    "duration": 21,
    "start_time": "2022-07-17T23:18:10.208Z"
   },
   {
    "duration": 820,
    "start_time": "2022-07-17T23:18:32.863Z"
   },
   {
    "duration": 22,
    "start_time": "2022-07-17T23:19:05.583Z"
   },
   {
    "duration": 835,
    "start_time": "2022-07-17T23:19:14.548Z"
   },
   {
    "duration": 23,
    "start_time": "2022-07-17T23:19:48.790Z"
   },
   {
    "duration": 22,
    "start_time": "2022-07-17T23:19:54.499Z"
   },
   {
    "duration": 870,
    "start_time": "2022-07-17T23:20:22.535Z"
   },
   {
    "duration": 835,
    "start_time": "2022-07-17T23:22:05.556Z"
   },
   {
    "duration": 1068,
    "start_time": "2022-07-17T23:23:23.963Z"
   },
   {
    "duration": 24,
    "start_time": "2022-07-17T23:24:04.444Z"
   },
   {
    "duration": 741,
    "start_time": "2022-07-17T23:25:26.262Z"
   },
   {
    "duration": 31,
    "start_time": "2022-07-17T23:26:04.203Z"
   },
   {
    "duration": 906,
    "start_time": "2022-07-17T23:26:14.681Z"
   },
   {
    "duration": 22,
    "start_time": "2022-07-17T23:26:27.403Z"
   },
   {
    "duration": 22,
    "start_time": "2022-07-17T23:26:42.414Z"
   },
   {
    "duration": 23,
    "start_time": "2022-07-17T23:26:53.546Z"
   },
   {
    "duration": 57,
    "start_time": "2022-07-17T23:27:19.343Z"
   },
   {
    "duration": 29,
    "start_time": "2022-07-17T23:27:30.913Z"
   },
   {
    "duration": 28,
    "start_time": "2022-07-17T23:28:32.959Z"
   },
   {
    "duration": 22,
    "start_time": "2022-07-17T23:29:22.438Z"
   },
   {
    "duration": 60,
    "start_time": "2022-07-17T23:30:31.612Z"
   },
   {
    "duration": 22,
    "start_time": "2022-07-17T23:30:35.448Z"
   },
   {
    "duration": 23,
    "start_time": "2022-07-17T23:30:43.325Z"
   },
   {
    "duration": 54,
    "start_time": "2022-07-17T23:31:43.668Z"
   },
   {
    "duration": 22,
    "start_time": "2022-07-17T23:31:46.870Z"
   },
   {
    "duration": 76,
    "start_time": "2022-07-18T07:52:28.948Z"
   },
   {
    "duration": 1142,
    "start_time": "2022-07-18T07:52:34.454Z"
   },
   {
    "duration": 4,
    "start_time": "2022-07-18T07:52:35.598Z"
   },
   {
    "duration": 2483,
    "start_time": "2022-07-18T07:52:35.603Z"
   },
   {
    "duration": 19,
    "start_time": "2022-07-18T07:52:38.088Z"
   },
   {
    "duration": 886,
    "start_time": "2022-07-18T07:52:38.110Z"
   },
   {
    "duration": 12,
    "start_time": "2022-07-18T07:52:38.998Z"
   },
   {
    "duration": 12,
    "start_time": "2022-07-18T07:52:39.023Z"
   },
   {
    "duration": 51,
    "start_time": "2022-07-18T07:52:39.037Z"
   },
   {
    "duration": 41,
    "start_time": "2022-07-18T07:52:39.091Z"
   },
   {
    "duration": 43,
    "start_time": "2022-07-18T07:52:39.134Z"
   },
   {
    "duration": 97,
    "start_time": "2022-07-18T07:52:39.180Z"
   },
   {
    "duration": 97,
    "start_time": "2022-07-18T07:52:39.280Z"
   },
   {
    "duration": 154,
    "start_time": "2022-07-18T07:52:39.379Z"
   },
   {
    "duration": 205,
    "start_time": "2022-07-18T07:52:39.536Z"
   },
   {
    "duration": 9,
    "start_time": "2022-07-18T07:52:39.745Z"
   },
   {
    "duration": 189,
    "start_time": "2022-07-18T07:52:39.764Z"
   },
   {
    "duration": 154,
    "start_time": "2022-07-18T07:52:39.955Z"
   },
   {
    "duration": 170,
    "start_time": "2022-07-18T07:52:40.111Z"
   },
   {
    "duration": 8,
    "start_time": "2022-07-18T07:52:40.283Z"
   },
   {
    "duration": 32,
    "start_time": "2022-07-18T07:52:40.293Z"
   },
   {
    "duration": 279,
    "start_time": "2022-07-18T07:52:40.327Z"
   },
   {
    "duration": 151,
    "start_time": "2022-07-18T07:52:40.608Z"
   },
   {
    "duration": 7,
    "start_time": "2022-07-18T07:52:40.761Z"
   },
   {
    "duration": 33,
    "start_time": "2022-07-18T07:52:40.771Z"
   },
   {
    "duration": 22,
    "start_time": "2022-07-18T07:52:40.807Z"
   },
   {
    "duration": 24,
    "start_time": "2022-07-18T07:52:40.831Z"
   },
   {
    "duration": 191,
    "start_time": "2022-07-18T07:52:40.857Z"
   },
   {
    "duration": 7,
    "start_time": "2022-07-18T07:52:41.050Z"
   },
   {
    "duration": 25,
    "start_time": "2022-07-18T07:52:41.059Z"
   },
   {
    "duration": 152,
    "start_time": "2022-07-18T07:52:41.086Z"
   },
   {
    "duration": 159,
    "start_time": "2022-07-18T07:52:41.239Z"
   },
   {
    "duration": 6,
    "start_time": "2022-07-18T07:52:41.400Z"
   },
   {
    "duration": 32,
    "start_time": "2022-07-18T07:52:41.407Z"
   },
   {
    "duration": 46,
    "start_time": "2022-07-18T07:52:41.441Z"
   },
   {
    "duration": 41,
    "start_time": "2022-07-18T07:52:41.489Z"
   },
   {
    "duration": 31,
    "start_time": "2022-07-18T07:52:41.533Z"
   },
   {
    "duration": 21,
    "start_time": "2022-07-18T07:52:41.566Z"
   },
   {
    "duration": 40,
    "start_time": "2022-07-18T07:52:41.589Z"
   },
   {
    "duration": 25,
    "start_time": "2022-07-18T07:52:41.631Z"
   },
   {
    "duration": 165,
    "start_time": "2022-07-18T07:52:41.658Z"
   },
   {
    "duration": 160,
    "start_time": "2022-07-18T07:52:41.827Z"
   },
   {
    "duration": 163,
    "start_time": "2022-07-18T07:52:41.989Z"
   },
   {
    "duration": 174,
    "start_time": "2022-07-18T07:52:42.154Z"
   },
   {
    "duration": 165,
    "start_time": "2022-07-18T07:52:42.330Z"
   },
   {
    "duration": 170,
    "start_time": "2022-07-18T07:52:42.497Z"
   },
   {
    "duration": 256,
    "start_time": "2022-07-18T07:52:42.669Z"
   },
   {
    "duration": 163,
    "start_time": "2022-07-18T07:52:42.927Z"
   },
   {
    "duration": 6,
    "start_time": "2022-07-18T07:52:43.092Z"
   },
   {
    "duration": 181,
    "start_time": "2022-07-18T07:52:43.099Z"
   },
   {
    "duration": 17,
    "start_time": "2022-07-18T07:52:43.282Z"
   },
   {
    "duration": 213,
    "start_time": "2022-07-18T07:52:43.302Z"
   },
   {
    "duration": 219,
    "start_time": "2022-07-18T07:52:43.524Z"
   },
   {
    "duration": 221,
    "start_time": "2022-07-18T07:52:43.746Z"
   },
   {
    "duration": 10,
    "start_time": "2022-07-18T07:52:43.969Z"
   },
   {
    "duration": 267,
    "start_time": "2022-07-18T07:52:43.982Z"
   },
   {
    "duration": 183,
    "start_time": "2022-07-18T07:52:44.252Z"
   },
   {
    "duration": 186,
    "start_time": "2022-07-18T07:52:44.438Z"
   },
   {
    "duration": 192,
    "start_time": "2022-07-18T07:52:44.626Z"
   },
   {
    "duration": 181,
    "start_time": "2022-07-18T07:52:44.824Z"
   },
   {
    "duration": 268,
    "start_time": "2022-07-18T07:52:45.006Z"
   },
   {
    "duration": 179,
    "start_time": "2022-07-18T07:52:45.276Z"
   },
   {
    "duration": 159,
    "start_time": "2022-07-18T07:52:45.457Z"
   },
   {
    "duration": 181,
    "start_time": "2022-07-18T07:52:45.618Z"
   },
   {
    "duration": 196,
    "start_time": "2022-07-18T07:52:45.800Z"
   },
   {
    "duration": 192,
    "start_time": "2022-07-18T07:52:45.998Z"
   },
   {
    "duration": 36,
    "start_time": "2022-07-18T07:52:46.191Z"
   },
   {
    "duration": 49,
    "start_time": "2022-07-18T07:52:46.229Z"
   },
   {
    "duration": 227,
    "start_time": "2022-07-18T07:52:46.280Z"
   },
   {
    "duration": 31,
    "start_time": "2022-07-18T07:52:46.509Z"
   },
   {
    "duration": 42,
    "start_time": "2022-07-18T07:53:36.680Z"
   },
   {
    "duration": 228,
    "start_time": "2022-07-18T08:04:33.388Z"
   },
   {
    "duration": 161,
    "start_time": "2022-07-18T08:04:43.669Z"
   },
   {
    "duration": 152,
    "start_time": "2022-07-18T08:04:58.228Z"
   },
   {
    "duration": 151,
    "start_time": "2022-07-18T08:05:09.006Z"
   },
   {
    "duration": 225,
    "start_time": "2022-07-18T08:05:18.202Z"
   },
   {
    "duration": 144,
    "start_time": "2022-07-18T08:05:22.757Z"
   },
   {
    "duration": 112,
    "start_time": "2022-07-18T08:08:17.808Z"
   },
   {
    "duration": 169,
    "start_time": "2022-07-18T08:08:25.893Z"
   },
   {
    "duration": 154,
    "start_time": "2022-07-18T08:08:31.825Z"
   },
   {
    "duration": 160,
    "start_time": "2022-07-18T08:09:06.117Z"
   },
   {
    "duration": 157,
    "start_time": "2022-07-18T08:09:11.542Z"
   },
   {
    "duration": 2,
    "start_time": "2022-07-18T08:10:01.760Z"
   },
   {
    "duration": 6,
    "start_time": "2022-07-18T08:13:39.077Z"
   },
   {
    "duration": 7,
    "start_time": "2022-07-18T08:15:55.018Z"
   },
   {
    "duration": 5,
    "start_time": "2022-07-18T08:16:48.700Z"
   },
   {
    "duration": 8,
    "start_time": "2022-07-18T08:16:51.747Z"
   },
   {
    "duration": 7,
    "start_time": "2022-07-18T08:21:10.273Z"
   },
   {
    "duration": 7,
    "start_time": "2022-07-18T08:21:12.872Z"
   },
   {
    "duration": 11,
    "start_time": "2022-07-18T08:21:16.964Z"
   },
   {
    "duration": 175,
    "start_time": "2022-07-18T08:23:24.284Z"
   },
   {
    "duration": 186,
    "start_time": "2022-07-18T08:28:30.876Z"
   },
   {
    "duration": 171,
    "start_time": "2022-07-18T08:28:37.622Z"
   },
   {
    "duration": 152,
    "start_time": "2022-07-18T08:31:47.440Z"
   },
   {
    "duration": 168,
    "start_time": "2022-07-18T08:33:14.988Z"
   },
   {
    "duration": 226,
    "start_time": "2022-07-18T08:35:55.114Z"
   },
   {
    "duration": 353,
    "start_time": "2022-07-18T08:37:35.184Z"
   },
   {
    "duration": 306,
    "start_time": "2022-07-18T08:44:32.194Z"
   },
   {
    "duration": 138,
    "start_time": "2022-07-18T08:44:48.017Z"
   },
   {
    "duration": 152,
    "start_time": "2022-07-18T08:44:59.471Z"
   },
   {
    "duration": 133,
    "start_time": "2022-07-18T08:45:13.393Z"
   },
   {
    "duration": 138,
    "start_time": "2022-07-18T08:46:37.257Z"
   },
   {
    "duration": 255,
    "start_time": "2022-07-18T08:49:30.211Z"
   },
   {
    "duration": 184,
    "start_time": "2022-07-18T08:49:45.000Z"
   },
   {
    "duration": 175,
    "start_time": "2022-07-18T08:51:50.069Z"
   },
   {
    "duration": 166,
    "start_time": "2022-07-18T08:52:16.082Z"
   },
   {
    "duration": 163,
    "start_time": "2022-07-18T08:53:12.317Z"
   },
   {
    "duration": 85,
    "start_time": "2022-07-18T08:56:35.097Z"
   },
   {
    "duration": 109,
    "start_time": "2022-07-18T08:56:37.847Z"
   },
   {
    "duration": 100,
    "start_time": "2022-07-18T08:57:19.462Z"
   },
   {
    "duration": 6,
    "start_time": "2022-07-18T08:58:01.522Z"
   },
   {
    "duration": 6,
    "start_time": "2022-07-18T08:59:00.969Z"
   },
   {
    "duration": 8,
    "start_time": "2022-07-18T09:00:50.789Z"
   },
   {
    "duration": 13,
    "start_time": "2022-07-18T09:02:06.965Z"
   },
   {
    "duration": 147,
    "start_time": "2022-07-18T09:02:18.899Z"
   },
   {
    "duration": 107,
    "start_time": "2022-07-18T09:02:24.015Z"
   },
   {
    "duration": 107,
    "start_time": "2022-07-18T09:02:27.840Z"
   },
   {
    "duration": 115,
    "start_time": "2022-07-18T09:02:40.147Z"
   },
   {
    "duration": 4,
    "start_time": "2022-07-18T09:02:40.264Z"
   },
   {
    "duration": 2033,
    "start_time": "2022-07-18T09:02:40.269Z"
   },
   {
    "duration": 24,
    "start_time": "2022-07-18T09:02:42.303Z"
   },
   {
    "duration": 667,
    "start_time": "2022-07-18T09:02:42.329Z"
   },
   {
    "duration": 10,
    "start_time": "2022-07-18T09:02:42.998Z"
   },
   {
    "duration": 21,
    "start_time": "2022-07-18T09:02:43.009Z"
   },
   {
    "duration": 15,
    "start_time": "2022-07-18T09:02:43.031Z"
   },
   {
    "duration": 19,
    "start_time": "2022-07-18T09:02:43.048Z"
   },
   {
    "duration": 12,
    "start_time": "2022-07-18T09:02:43.068Z"
   },
   {
    "duration": 83,
    "start_time": "2022-07-18T09:02:43.082Z"
   },
   {
    "duration": 86,
    "start_time": "2022-07-18T09:02:43.167Z"
   },
   {
    "duration": 119,
    "start_time": "2022-07-18T09:02:46.683Z"
   },
   {
    "duration": 131,
    "start_time": "2022-07-18T09:04:01.659Z"
   },
   {
    "duration": 134,
    "start_time": "2022-07-18T09:04:29.031Z"
   },
   {
    "duration": 9,
    "start_time": "2022-07-18T09:04:36.847Z"
   },
   {
    "duration": 9,
    "start_time": "2022-07-18T09:05:17.100Z"
   },
   {
    "duration": 117,
    "start_time": "2022-07-18T09:05:20.122Z"
   },
   {
    "duration": 8,
    "start_time": "2022-07-18T09:06:15.084Z"
   },
   {
    "duration": 6,
    "start_time": "2022-07-18T09:08:35.154Z"
   },
   {
    "duration": 10,
    "start_time": "2022-07-18T09:09:50.851Z"
   },
   {
    "duration": 9,
    "start_time": "2022-07-18T09:10:58.061Z"
   },
   {
    "duration": 5,
    "start_time": "2022-07-18T09:11:48.050Z"
   },
   {
    "duration": 7,
    "start_time": "2022-07-18T09:11:54.454Z"
   },
   {
    "duration": 8,
    "start_time": "2022-07-18T09:12:37.617Z"
   },
   {
    "duration": 7,
    "start_time": "2022-07-18T09:12:40.615Z"
   },
   {
    "duration": 7,
    "start_time": "2022-07-18T09:13:45.417Z"
   },
   {
    "duration": 10,
    "start_time": "2022-07-18T09:14:31.407Z"
   },
   {
    "duration": 152,
    "start_time": "2022-07-18T09:14:39.855Z"
   },
   {
    "duration": 6,
    "start_time": "2022-07-18T09:14:57.122Z"
   },
   {
    "duration": 8,
    "start_time": "2022-07-18T09:15:06.915Z"
   },
   {
    "duration": 114,
    "start_time": "2022-07-18T09:20:32.328Z"
   },
   {
    "duration": 3,
    "start_time": "2022-07-18T09:20:32.444Z"
   },
   {
    "duration": 1892,
    "start_time": "2022-07-18T09:20:32.449Z"
   },
   {
    "duration": 11,
    "start_time": "2022-07-18T09:20:34.343Z"
   },
   {
    "duration": 656,
    "start_time": "2022-07-18T09:20:34.356Z"
   },
   {
    "duration": 15,
    "start_time": "2022-07-18T09:20:35.013Z"
   },
   {
    "duration": 17,
    "start_time": "2022-07-18T09:20:35.029Z"
   },
   {
    "duration": 14,
    "start_time": "2022-07-18T09:20:35.048Z"
   },
   {
    "duration": 24,
    "start_time": "2022-07-18T09:20:35.064Z"
   },
   {
    "duration": 19,
    "start_time": "2022-07-18T09:20:35.090Z"
   },
   {
    "duration": 51,
    "start_time": "2022-07-18T09:20:35.124Z"
   },
   {
    "duration": 76,
    "start_time": "2022-07-18T09:20:35.177Z"
   },
   {
    "duration": 9,
    "start_time": "2022-07-18T09:20:35.254Z"
   },
   {
    "duration": 139,
    "start_time": "2022-07-18T09:20:35.267Z"
   },
   {
    "duration": 123,
    "start_time": "2022-07-18T09:20:35.408Z"
   },
   {
    "duration": 7,
    "start_time": "2022-07-18T09:20:35.532Z"
   },
   {
    "duration": 7,
    "start_time": "2022-07-18T09:20:35.541Z"
   },
   {
    "duration": 10,
    "start_time": "2022-07-18T09:20:35.550Z"
   },
   {
    "duration": 152,
    "start_time": "2022-07-18T09:20:35.561Z"
   },
   {
    "duration": 287,
    "start_time": "2022-07-18T09:20:35.714Z"
   },
   {
    "duration": 5,
    "start_time": "2022-07-18T09:20:36.003Z"
   },
   {
    "duration": 9,
    "start_time": "2022-07-18T09:20:36.023Z"
   },
   {
    "duration": 17,
    "start_time": "2022-07-18T09:20:36.034Z"
   },
   {
    "duration": 147,
    "start_time": "2022-07-18T09:20:36.054Z"
   },
   {
    "duration": 133,
    "start_time": "2022-07-18T09:20:36.203Z"
   },
   {
    "duration": 5,
    "start_time": "2022-07-18T09:20:36.337Z"
   },
   {
    "duration": 8,
    "start_time": "2022-07-18T09:20:36.344Z"
   },
   {
    "duration": 9,
    "start_time": "2022-07-18T09:20:36.354Z"
   },
   {
    "duration": 13,
    "start_time": "2022-07-18T09:20:36.364Z"
   },
   {
    "duration": 9,
    "start_time": "2022-07-18T09:20:36.378Z"
   },
   {
    "duration": 161,
    "start_time": "2022-07-18T09:20:36.389Z"
   },
   {
    "duration": 8,
    "start_time": "2022-07-18T09:20:36.551Z"
   },
   {
    "duration": 10,
    "start_time": "2022-07-18T09:20:36.561Z"
   },
   {
    "duration": 8,
    "start_time": "2022-07-18T09:20:36.573Z"
   },
   {
    "duration": 163,
    "start_time": "2022-07-18T09:20:36.583Z"
   },
   {
    "duration": 151,
    "start_time": "2022-07-18T09:20:36.747Z"
   },
   {
    "duration": 6,
    "start_time": "2022-07-18T09:20:36.899Z"
   },
   {
    "duration": 22,
    "start_time": "2022-07-18T09:20:36.906Z"
   },
   {
    "duration": 8,
    "start_time": "2022-07-18T09:20:36.930Z"
   },
   {
    "duration": 23,
    "start_time": "2022-07-18T09:20:36.940Z"
   },
   {
    "duration": 10,
    "start_time": "2022-07-18T09:20:36.969Z"
   },
   {
    "duration": 11,
    "start_time": "2022-07-18T09:20:36.981Z"
   },
   {
    "duration": 37,
    "start_time": "2022-07-18T09:20:36.994Z"
   },
   {
    "duration": 7,
    "start_time": "2022-07-18T09:20:37.033Z"
   },
   {
    "duration": 162,
    "start_time": "2022-07-18T09:20:37.042Z"
   },
   {
    "duration": 148,
    "start_time": "2022-07-18T09:20:37.206Z"
   },
   {
    "duration": 144,
    "start_time": "2022-07-18T09:20:37.356Z"
   },
   {
    "duration": 139,
    "start_time": "2022-07-18T09:20:37.502Z"
   },
   {
    "duration": 157,
    "start_time": "2022-07-18T09:20:37.643Z"
   },
   {
    "duration": 166,
    "start_time": "2022-07-18T09:20:37.803Z"
   },
   {
    "duration": 171,
    "start_time": "2022-07-18T09:20:37.970Z"
   },
   {
    "duration": 282,
    "start_time": "2022-07-18T09:20:38.143Z"
   },
   {
    "duration": 7,
    "start_time": "2022-07-18T09:20:38.427Z"
   },
   {
    "duration": 182,
    "start_time": "2022-07-18T09:20:38.436Z"
   },
   {
    "duration": 17,
    "start_time": "2022-07-18T09:20:38.622Z"
   },
   {
    "duration": 176,
    "start_time": "2022-07-18T09:20:38.641Z"
   },
   {
    "duration": 195,
    "start_time": "2022-07-18T09:20:38.823Z"
   },
   {
    "duration": 166,
    "start_time": "2022-07-18T09:20:39.022Z"
   },
   {
    "duration": 6,
    "start_time": "2022-07-18T09:20:39.190Z"
   },
   {
    "duration": 169,
    "start_time": "2022-07-18T09:20:39.198Z"
   },
   {
    "duration": 146,
    "start_time": "2022-07-18T09:20:39.369Z"
   },
   {
    "duration": 155,
    "start_time": "2022-07-18T09:20:39.516Z"
   },
   {
    "duration": 167,
    "start_time": "2022-07-18T09:20:39.673Z"
   },
   {
    "duration": 10,
    "start_time": "2022-07-18T09:20:39.842Z"
   },
   {
    "duration": 194,
    "start_time": "2022-07-18T09:20:39.854Z"
   },
   {
    "duration": 173,
    "start_time": "2022-07-18T09:20:40.050Z"
   },
   {
    "duration": 176,
    "start_time": "2022-07-18T09:20:40.225Z"
   },
   {
    "duration": 154,
    "start_time": "2022-07-18T09:20:40.403Z"
   },
   {
    "duration": 139,
    "start_time": "2022-07-18T09:20:40.559Z"
   },
   {
    "duration": 204,
    "start_time": "2022-07-18T09:20:40.700Z"
   },
   {
    "duration": 293,
    "start_time": "2022-07-18T09:20:40.906Z"
   },
   {
    "duration": 168,
    "start_time": "2022-07-18T09:20:41.202Z"
   },
   {
    "duration": 26,
    "start_time": "2022-07-18T09:20:41.371Z"
   },
   {
    "duration": 56,
    "start_time": "2022-07-18T09:20:41.399Z"
   },
   {
    "duration": 191,
    "start_time": "2022-07-18T09:20:41.456Z"
   },
   {
    "duration": 23,
    "start_time": "2022-07-18T09:20:41.648Z"
   },
   {
    "duration": 112,
    "start_time": "2022-07-18T09:35:51.616Z"
   },
   {
    "duration": 3,
    "start_time": "2022-07-18T09:35:51.730Z"
   },
   {
    "duration": 2046,
    "start_time": "2022-07-18T09:35:51.734Z"
   },
   {
    "duration": 13,
    "start_time": "2022-07-18T09:35:53.782Z"
   },
   {
    "duration": 681,
    "start_time": "2022-07-18T09:35:53.797Z"
   },
   {
    "duration": 10,
    "start_time": "2022-07-18T09:35:54.480Z"
   },
   {
    "duration": 9,
    "start_time": "2022-07-18T09:35:54.491Z"
   },
   {
    "duration": 29,
    "start_time": "2022-07-18T09:35:54.502Z"
   },
   {
    "duration": 18,
    "start_time": "2022-07-18T09:35:54.533Z"
   },
   {
    "duration": 10,
    "start_time": "2022-07-18T09:35:54.553Z"
   },
   {
    "duration": 79,
    "start_time": "2022-07-18T09:35:54.565Z"
   },
   {
    "duration": 70,
    "start_time": "2022-07-18T09:35:54.646Z"
   },
   {
    "duration": 9,
    "start_time": "2022-07-18T09:35:54.724Z"
   },
   {
    "duration": 133,
    "start_time": "2022-07-18T09:35:54.735Z"
   },
   {
    "duration": 130,
    "start_time": "2022-07-18T09:35:54.870Z"
   },
   {
    "duration": 7,
    "start_time": "2022-07-18T09:35:55.002Z"
   },
   {
    "duration": 19,
    "start_time": "2022-07-18T09:35:55.010Z"
   },
   {
    "duration": 8,
    "start_time": "2022-07-18T09:35:55.030Z"
   },
   {
    "duration": 161,
    "start_time": "2022-07-18T09:35:55.040Z"
   },
   {
    "duration": 158,
    "start_time": "2022-07-18T09:35:55.203Z"
   },
   {
    "duration": 5,
    "start_time": "2022-07-18T09:35:55.363Z"
   },
   {
    "duration": 8,
    "start_time": "2022-07-18T09:35:55.370Z"
   },
   {
    "duration": 7,
    "start_time": "2022-07-18T09:35:55.380Z"
   },
   {
    "duration": 166,
    "start_time": "2022-07-18T09:35:55.389Z"
   },
   {
    "duration": 136,
    "start_time": "2022-07-18T09:35:55.557Z"
   },
   {
    "duration": 5,
    "start_time": "2022-07-18T09:35:55.695Z"
   },
   {
    "duration": 21,
    "start_time": "2022-07-18T09:35:55.702Z"
   },
   {
    "duration": 9,
    "start_time": "2022-07-18T09:35:55.725Z"
   },
   {
    "duration": 7,
    "start_time": "2022-07-18T09:35:55.735Z"
   },
   {
    "duration": 6,
    "start_time": "2022-07-18T09:35:55.744Z"
   },
   {
    "duration": 156,
    "start_time": "2022-07-18T09:35:55.752Z"
   },
   {
    "duration": 16,
    "start_time": "2022-07-18T09:35:55.910Z"
   },
   {
    "duration": 14,
    "start_time": "2022-07-18T09:35:55.928Z"
   },
   {
    "duration": 9,
    "start_time": "2022-07-18T09:35:55.944Z"
   },
   {
    "duration": 175,
    "start_time": "2022-07-18T09:35:55.954Z"
   },
   {
    "duration": 140,
    "start_time": "2022-07-18T09:35:56.131Z"
   },
   {
    "duration": 6,
    "start_time": "2022-07-18T09:35:56.273Z"
   },
   {
    "duration": 10,
    "start_time": "2022-07-18T09:35:56.280Z"
   },
   {
    "duration": 7,
    "start_time": "2022-07-18T09:35:56.291Z"
   },
   {
    "duration": 27,
    "start_time": "2022-07-18T09:35:56.299Z"
   },
   {
    "duration": 9,
    "start_time": "2022-07-18T09:35:56.330Z"
   },
   {
    "duration": 8,
    "start_time": "2022-07-18T09:35:56.341Z"
   },
   {
    "duration": 14,
    "start_time": "2022-07-18T09:35:56.351Z"
   },
   {
    "duration": 7,
    "start_time": "2022-07-18T09:35:56.367Z"
   },
   {
    "duration": 193,
    "start_time": "2022-07-18T09:35:56.375Z"
   },
   {
    "duration": 145,
    "start_time": "2022-07-18T09:35:56.569Z"
   },
   {
    "duration": 149,
    "start_time": "2022-07-18T09:35:56.716Z"
   },
   {
    "duration": 169,
    "start_time": "2022-07-18T09:35:56.866Z"
   },
   {
    "duration": 172,
    "start_time": "2022-07-18T09:35:57.036Z"
   },
   {
    "duration": 171,
    "start_time": "2022-07-18T09:35:57.210Z"
   },
   {
    "duration": 364,
    "start_time": "2022-07-18T09:35:57.383Z"
   },
   {
    "duration": 149,
    "start_time": "2022-07-18T09:35:57.749Z"
   },
   {
    "duration": 6,
    "start_time": "2022-07-18T09:35:57.899Z"
   },
   {
    "duration": 158,
    "start_time": "2022-07-18T09:35:57.907Z"
   },
   {
    "duration": 14,
    "start_time": "2022-07-18T09:35:58.067Z"
   },
   {
    "duration": 159,
    "start_time": "2022-07-18T09:35:58.083Z"
   },
   {
    "duration": 154,
    "start_time": "2022-07-18T09:35:58.244Z"
   },
   {
    "duration": 135,
    "start_time": "2022-07-18T09:35:58.399Z"
   },
   {
    "duration": 5,
    "start_time": "2022-07-18T09:35:58.536Z"
   },
   {
    "duration": 159,
    "start_time": "2022-07-18T09:35:58.543Z"
   },
   {
    "duration": 149,
    "start_time": "2022-07-18T09:35:58.703Z"
   },
   {
    "duration": 182,
    "start_time": "2022-07-18T09:35:58.854Z"
   },
   {
    "duration": 204,
    "start_time": "2022-07-18T09:35:59.038Z"
   },
   {
    "duration": 8,
    "start_time": "2022-07-18T09:35:59.244Z"
   },
   {
    "duration": 179,
    "start_time": "2022-07-18T09:35:59.254Z"
   },
   {
    "duration": 173,
    "start_time": "2022-07-18T09:35:59.435Z"
   },
   {
    "duration": 175,
    "start_time": "2022-07-18T09:35:59.610Z"
   },
   {
    "duration": 161,
    "start_time": "2022-07-18T09:35:59.787Z"
   },
   {
    "duration": 285,
    "start_time": "2022-07-18T09:35:59.950Z"
   },
   {
    "duration": 186,
    "start_time": "2022-07-18T09:36:00.237Z"
   },
   {
    "duration": 195,
    "start_time": "2022-07-18T09:36:00.425Z"
   },
   {
    "duration": 176,
    "start_time": "2022-07-18T09:36:00.623Z"
   },
   {
    "duration": 34,
    "start_time": "2022-07-18T09:36:00.801Z"
   },
   {
    "duration": 49,
    "start_time": "2022-07-18T09:36:00.836Z"
   },
   {
    "duration": 239,
    "start_time": "2022-07-18T09:36:00.887Z"
   },
   {
    "duration": 23,
    "start_time": "2022-07-18T09:36:01.128Z"
   },
   {
    "duration": 11,
    "start_time": "2022-07-18T09:38:09.306Z"
   },
   {
    "duration": 839,
    "start_time": "2022-07-18T09:38:36.460Z"
   },
   {
    "duration": 4,
    "start_time": "2022-07-18T09:38:37.301Z"
   },
   {
    "duration": 2095,
    "start_time": "2022-07-18T09:38:37.307Z"
   },
   {
    "duration": 12,
    "start_time": "2022-07-18T09:38:39.403Z"
   },
   {
    "duration": 692,
    "start_time": "2022-07-18T09:38:39.417Z"
   },
   {
    "duration": 17,
    "start_time": "2022-07-18T09:38:40.110Z"
   },
   {
    "duration": 8,
    "start_time": "2022-07-18T09:38:40.129Z"
   },
   {
    "duration": 21,
    "start_time": "2022-07-18T09:38:40.139Z"
   },
   {
    "duration": 19,
    "start_time": "2022-07-18T09:38:40.161Z"
   },
   {
    "duration": 11,
    "start_time": "2022-07-18T09:38:40.182Z"
   },
   {
    "duration": 55,
    "start_time": "2022-07-18T09:38:40.223Z"
   },
   {
    "duration": 84,
    "start_time": "2022-07-18T09:38:40.280Z"
   },
   {
    "duration": 11,
    "start_time": "2022-07-18T09:38:40.366Z"
   },
   {
    "duration": 142,
    "start_time": "2022-07-18T09:38:40.381Z"
   },
   {
    "duration": 142,
    "start_time": "2022-07-18T09:38:40.525Z"
   },
   {
    "duration": 7,
    "start_time": "2022-07-18T09:38:40.669Z"
   },
   {
    "duration": 14,
    "start_time": "2022-07-18T09:38:40.678Z"
   },
   {
    "duration": 9,
    "start_time": "2022-07-18T09:38:40.693Z"
   },
   {
    "duration": 149,
    "start_time": "2022-07-18T09:38:40.724Z"
   },
   {
    "duration": 173,
    "start_time": "2022-07-18T09:38:40.875Z"
   },
   {
    "duration": 5,
    "start_time": "2022-07-18T09:38:41.050Z"
   },
   {
    "duration": 9,
    "start_time": "2022-07-18T09:38:41.057Z"
   },
   {
    "duration": 8,
    "start_time": "2022-07-18T09:38:41.068Z"
   },
   {
    "duration": 179,
    "start_time": "2022-07-18T09:38:41.078Z"
   },
   {
    "duration": 140,
    "start_time": "2022-07-18T09:38:41.258Z"
   },
   {
    "duration": 5,
    "start_time": "2022-07-18T09:38:41.399Z"
   },
   {
    "duration": 22,
    "start_time": "2022-07-18T09:38:41.406Z"
   },
   {
    "duration": 8,
    "start_time": "2022-07-18T09:38:41.429Z"
   },
   {
    "duration": 7,
    "start_time": "2022-07-18T09:38:41.439Z"
   },
   {
    "duration": 8,
    "start_time": "2022-07-18T09:38:41.448Z"
   },
   {
    "duration": 265,
    "start_time": "2022-07-18T09:38:41.458Z"
   },
   {
    "duration": 7,
    "start_time": "2022-07-18T09:38:41.725Z"
   },
   {
    "duration": 13,
    "start_time": "2022-07-18T09:38:41.733Z"
   },
   {
    "duration": 8,
    "start_time": "2022-07-18T09:38:41.748Z"
   },
   {
    "duration": 173,
    "start_time": "2022-07-18T09:38:41.758Z"
   },
   {
    "duration": 149,
    "start_time": "2022-07-18T09:38:41.932Z"
   },
   {
    "duration": 7,
    "start_time": "2022-07-18T09:38:42.083Z"
   },
   {
    "duration": 9,
    "start_time": "2022-07-18T09:38:42.091Z"
   },
   {
    "duration": 25,
    "start_time": "2022-07-18T09:38:42.102Z"
   },
   {
    "duration": 12,
    "start_time": "2022-07-18T09:38:42.129Z"
   },
   {
    "duration": 9,
    "start_time": "2022-07-18T09:38:42.145Z"
   },
   {
    "duration": 10,
    "start_time": "2022-07-18T09:38:42.155Z"
   },
   {
    "duration": 12,
    "start_time": "2022-07-18T09:38:42.167Z"
   },
   {
    "duration": 43,
    "start_time": "2022-07-18T09:38:42.181Z"
   },
   {
    "duration": 158,
    "start_time": "2022-07-18T09:38:42.226Z"
   },
   {
    "duration": 150,
    "start_time": "2022-07-18T09:38:42.385Z"
   },
   {
    "duration": 146,
    "start_time": "2022-07-18T09:38:42.537Z"
   },
   {
    "duration": 147,
    "start_time": "2022-07-18T09:38:42.685Z"
   },
   {
    "duration": 158,
    "start_time": "2022-07-18T09:38:42.833Z"
   },
   {
    "duration": 148,
    "start_time": "2022-07-18T09:38:42.993Z"
   },
   {
    "duration": 170,
    "start_time": "2022-07-18T09:38:43.143Z"
   },
   {
    "duration": 148,
    "start_time": "2022-07-18T09:38:43.315Z"
   },
   {
    "duration": 5,
    "start_time": "2022-07-18T09:38:43.464Z"
   },
   {
    "duration": 232,
    "start_time": "2022-07-18T09:38:43.471Z"
   },
   {
    "duration": 19,
    "start_time": "2022-07-18T09:38:43.705Z"
   },
   {
    "duration": 148,
    "start_time": "2022-07-18T09:38:43.726Z"
   },
   {
    "duration": 147,
    "start_time": "2022-07-18T09:38:43.876Z"
   },
   {
    "duration": 126,
    "start_time": "2022-07-18T09:38:44.025Z"
   },
   {
    "duration": 5,
    "start_time": "2022-07-18T09:38:44.153Z"
   },
   {
    "duration": 163,
    "start_time": "2022-07-18T09:38:44.160Z"
   },
   {
    "duration": 146,
    "start_time": "2022-07-18T09:38:44.325Z"
   },
   {
    "duration": 146,
    "start_time": "2022-07-18T09:38:44.473Z"
   },
   {
    "duration": 155,
    "start_time": "2022-07-18T09:38:44.623Z"
   },
   {
    "duration": 8,
    "start_time": "2022-07-18T09:38:44.780Z"
   },
   {
    "duration": 196,
    "start_time": "2022-07-18T09:38:44.789Z"
   },
   {
    "duration": 166,
    "start_time": "2022-07-18T09:38:44.987Z"
   },
   {
    "duration": 168,
    "start_time": "2022-07-18T09:38:45.155Z"
   },
   {
    "duration": 228,
    "start_time": "2022-07-18T09:38:45.325Z"
   },
   {
    "duration": 153,
    "start_time": "2022-07-18T09:38:45.555Z"
   },
   {
    "duration": 183,
    "start_time": "2022-07-18T09:38:45.710Z"
   },
   {
    "duration": 195,
    "start_time": "2022-07-18T09:38:45.894Z"
   },
   {
    "duration": 162,
    "start_time": "2022-07-18T09:38:46.091Z"
   },
   {
    "duration": 28,
    "start_time": "2022-07-18T09:38:46.255Z"
   },
   {
    "duration": 59,
    "start_time": "2022-07-18T09:38:46.284Z"
   },
   {
    "duration": 184,
    "start_time": "2022-07-18T09:38:46.344Z"
   },
   {
    "duration": 23,
    "start_time": "2022-07-18T09:38:46.529Z"
   },
   {
    "duration": 57,
    "start_time": "2022-07-18T09:41:08.115Z"
   },
   {
    "duration": 52,
    "start_time": "2022-07-18T09:41:11.794Z"
   },
   {
    "duration": 1441,
    "start_time": "2022-07-18T09:41:32.195Z"
   },
   {
    "duration": 3,
    "start_time": "2022-07-18T09:41:33.638Z"
   },
   {
    "duration": 1878,
    "start_time": "2022-07-18T09:41:33.643Z"
   },
   {
    "duration": 12,
    "start_time": "2022-07-18T09:41:35.523Z"
   },
   {
    "duration": 680,
    "start_time": "2022-07-18T09:41:35.538Z"
   },
   {
    "duration": 10,
    "start_time": "2022-07-18T09:41:36.219Z"
   },
   {
    "duration": 8,
    "start_time": "2022-07-18T09:41:36.231Z"
   },
   {
    "duration": 14,
    "start_time": "2022-07-18T09:41:36.241Z"
   },
   {
    "duration": 18,
    "start_time": "2022-07-18T09:41:36.257Z"
   },
   {
    "duration": 11,
    "start_time": "2022-07-18T09:41:36.276Z"
   },
   {
    "duration": 55,
    "start_time": "2022-07-18T09:41:36.322Z"
   },
   {
    "duration": 86,
    "start_time": "2022-07-18T09:41:36.379Z"
   },
   {
    "duration": 9,
    "start_time": "2022-07-18T09:41:36.466Z"
   },
   {
    "duration": 136,
    "start_time": "2022-07-18T09:41:36.478Z"
   },
   {
    "duration": 126,
    "start_time": "2022-07-18T09:41:36.622Z"
   },
   {
    "duration": 6,
    "start_time": "2022-07-18T09:41:36.749Z"
   },
   {
    "duration": 17,
    "start_time": "2022-07-18T09:41:36.757Z"
   },
   {
    "duration": 12,
    "start_time": "2022-07-18T09:41:36.775Z"
   },
   {
    "duration": 140,
    "start_time": "2022-07-18T09:41:36.788Z"
   },
   {
    "duration": 158,
    "start_time": "2022-07-18T09:41:36.930Z"
   },
   {
    "duration": 6,
    "start_time": "2022-07-18T09:41:37.090Z"
   },
   {
    "duration": 13,
    "start_time": "2022-07-18T09:41:37.098Z"
   },
   {
    "duration": 8,
    "start_time": "2022-07-18T09:41:37.123Z"
   },
   {
    "duration": 160,
    "start_time": "2022-07-18T09:41:37.133Z"
   },
   {
    "duration": 139,
    "start_time": "2022-07-18T09:41:37.295Z"
   },
   {
    "duration": 5,
    "start_time": "2022-07-18T09:41:37.436Z"
   },
   {
    "duration": 10,
    "start_time": "2022-07-18T09:41:37.443Z"
   },
   {
    "duration": 8,
    "start_time": "2022-07-18T09:41:37.455Z"
   },
   {
    "duration": 17,
    "start_time": "2022-07-18T09:41:37.465Z"
   },
   {
    "duration": 7,
    "start_time": "2022-07-18T09:41:37.484Z"
   },
   {
    "duration": 247,
    "start_time": "2022-07-18T09:41:37.492Z"
   },
   {
    "duration": 8,
    "start_time": "2022-07-18T09:41:37.741Z"
   },
   {
    "duration": 14,
    "start_time": "2022-07-18T09:41:37.751Z"
   },
   {
    "duration": 9,
    "start_time": "2022-07-18T09:41:37.767Z"
   },
   {
    "duration": 152,
    "start_time": "2022-07-18T09:41:37.778Z"
   },
   {
    "duration": 143,
    "start_time": "2022-07-18T09:41:37.932Z"
   },
   {
    "duration": 5,
    "start_time": "2022-07-18T09:41:38.076Z"
   },
   {
    "duration": 24,
    "start_time": "2022-07-18T09:41:38.083Z"
   },
   {
    "duration": 23,
    "start_time": "2022-07-18T09:41:38.109Z"
   },
   {
    "duration": 12,
    "start_time": "2022-07-18T09:41:38.134Z"
   },
   {
    "duration": 9,
    "start_time": "2022-07-18T09:41:38.150Z"
   },
   {
    "duration": 9,
    "start_time": "2022-07-18T09:41:38.160Z"
   },
   {
    "duration": 16,
    "start_time": "2022-07-18T09:41:38.171Z"
   },
   {
    "duration": 7,
    "start_time": "2022-07-18T09:41:38.189Z"
   },
   {
    "duration": 158,
    "start_time": "2022-07-18T09:41:38.224Z"
   },
   {
    "duration": 142,
    "start_time": "2022-07-18T09:41:38.384Z"
   },
   {
    "duration": 159,
    "start_time": "2022-07-18T09:41:38.528Z"
   },
   {
    "duration": 144,
    "start_time": "2022-07-18T09:41:38.688Z"
   },
   {
    "duration": 191,
    "start_time": "2022-07-18T09:41:38.833Z"
   },
   {
    "duration": 174,
    "start_time": "2022-07-18T09:41:39.027Z"
   },
   {
    "duration": 171,
    "start_time": "2022-07-18T09:41:39.202Z"
   },
   {
    "duration": 140,
    "start_time": "2022-07-18T09:41:39.375Z"
   },
   {
    "duration": 8,
    "start_time": "2022-07-18T09:41:39.517Z"
   },
   {
    "duration": 232,
    "start_time": "2022-07-18T09:41:39.527Z"
   },
   {
    "duration": 16,
    "start_time": "2022-07-18T09:41:39.761Z"
   },
   {
    "duration": 169,
    "start_time": "2022-07-18T09:41:39.778Z"
   },
   {
    "duration": 156,
    "start_time": "2022-07-18T09:41:39.949Z"
   },
   {
    "duration": 131,
    "start_time": "2022-07-18T09:41:40.107Z"
   },
   {
    "duration": 7,
    "start_time": "2022-07-18T09:41:40.240Z"
   },
   {
    "duration": 157,
    "start_time": "2022-07-18T09:41:40.248Z"
   },
   {
    "duration": 146,
    "start_time": "2022-07-18T09:41:40.406Z"
   },
   {
    "duration": 152,
    "start_time": "2022-07-18T09:41:40.554Z"
   },
   {
    "duration": 165,
    "start_time": "2022-07-18T09:41:40.708Z"
   },
   {
    "duration": 8,
    "start_time": "2022-07-18T09:41:40.875Z"
   },
   {
    "duration": 190,
    "start_time": "2022-07-18T09:41:40.885Z"
   },
   {
    "duration": 176,
    "start_time": "2022-07-18T09:41:41.077Z"
   },
   {
    "duration": 186,
    "start_time": "2022-07-18T09:41:41.255Z"
   },
   {
    "duration": 232,
    "start_time": "2022-07-18T09:41:41.442Z"
   },
   {
    "duration": 147,
    "start_time": "2022-07-18T09:41:41.676Z"
   },
   {
    "duration": 166,
    "start_time": "2022-07-18T09:41:41.825Z"
   },
   {
    "duration": 182,
    "start_time": "2022-07-18T09:41:41.993Z"
   },
   {
    "duration": 162,
    "start_time": "2022-07-18T09:41:42.177Z"
   },
   {
    "duration": 27,
    "start_time": "2022-07-18T09:41:42.340Z"
   },
   {
    "duration": 61,
    "start_time": "2022-07-18T09:41:42.369Z"
   },
   {
    "duration": 187,
    "start_time": "2022-07-18T09:41:42.431Z"
   },
   {
    "duration": 25,
    "start_time": "2022-07-18T09:41:42.623Z"
   },
   {
    "duration": 100,
    "start_time": "2022-07-19T06:07:23.268Z"
   },
   {
    "duration": 48,
    "start_time": "2022-07-22T19:51:18.158Z"
   },
   {
    "duration": 1065,
    "start_time": "2022-07-22T19:51:24.023Z"
   },
   {
    "duration": 3,
    "start_time": "2022-07-22T19:51:25.091Z"
   },
   {
    "duration": 1993,
    "start_time": "2022-07-22T19:51:25.095Z"
   },
   {
    "duration": 12,
    "start_time": "2022-07-22T19:51:27.090Z"
   },
   {
    "duration": 695,
    "start_time": "2022-07-22T19:51:27.104Z"
   },
   {
    "duration": 20,
    "start_time": "2022-07-22T19:51:27.800Z"
   },
   {
    "duration": 10,
    "start_time": "2022-07-22T19:51:27.822Z"
   },
   {
    "duration": 20,
    "start_time": "2022-07-22T19:51:27.833Z"
   },
   {
    "duration": 18,
    "start_time": "2022-07-22T19:51:27.854Z"
   },
   {
    "duration": 14,
    "start_time": "2022-07-22T19:51:27.874Z"
   },
   {
    "duration": 77,
    "start_time": "2022-07-22T19:51:27.890Z"
   },
   {
    "duration": 79,
    "start_time": "2022-07-22T19:51:27.969Z"
   },
   {
    "duration": 8,
    "start_time": "2022-07-22T19:51:28.050Z"
   },
   {
    "duration": 137,
    "start_time": "2022-07-22T19:51:28.061Z"
   },
   {
    "duration": 132,
    "start_time": "2022-07-22T19:51:28.200Z"
   },
   {
    "duration": 6,
    "start_time": "2022-07-22T19:51:28.334Z"
   },
   {
    "duration": 10,
    "start_time": "2022-07-22T19:51:28.341Z"
   },
   {
    "duration": 10,
    "start_time": "2022-07-22T19:51:28.353Z"
   },
   {
    "duration": 162,
    "start_time": "2022-07-22T19:51:28.364Z"
   },
   {
    "duration": 155,
    "start_time": "2022-07-22T19:51:28.528Z"
   },
   {
    "duration": 6,
    "start_time": "2022-07-22T19:51:28.685Z"
   },
   {
    "duration": 30,
    "start_time": "2022-07-22T19:51:28.692Z"
   },
   {
    "duration": 9,
    "start_time": "2022-07-22T19:51:28.724Z"
   },
   {
    "duration": 147,
    "start_time": "2022-07-22T19:51:28.734Z"
   },
   {
    "duration": 135,
    "start_time": "2022-07-22T19:51:28.883Z"
   },
   {
    "duration": 6,
    "start_time": "2022-07-22T19:51:29.020Z"
   },
   {
    "duration": 10,
    "start_time": "2022-07-22T19:51:29.028Z"
   },
   {
    "duration": 7,
    "start_time": "2022-07-22T19:51:29.040Z"
   },
   {
    "duration": 12,
    "start_time": "2022-07-22T19:51:29.048Z"
   },
   {
    "duration": 4,
    "start_time": "2022-07-22T19:51:29.062Z"
   },
   {
    "duration": 240,
    "start_time": "2022-07-22T19:51:29.067Z"
   },
   {
    "duration": 14,
    "start_time": "2022-07-22T19:51:29.309Z"
   },
   {
    "duration": 20,
    "start_time": "2022-07-22T19:51:29.328Z"
   },
   {
    "duration": 9,
    "start_time": "2022-07-22T19:51:29.349Z"
   },
   {
    "duration": 145,
    "start_time": "2022-07-22T19:51:29.360Z"
   },
   {
    "duration": 144,
    "start_time": "2022-07-22T19:51:29.506Z"
   },
   {
    "duration": 5,
    "start_time": "2022-07-22T19:51:29.652Z"
   },
   {
    "duration": 11,
    "start_time": "2022-07-22T19:51:29.658Z"
   },
   {
    "duration": 6,
    "start_time": "2022-07-22T19:51:29.671Z"
   },
   {
    "duration": 8,
    "start_time": "2022-07-22T19:51:29.678Z"
   },
   {
    "duration": 13,
    "start_time": "2022-07-22T19:51:29.714Z"
   },
   {
    "duration": 18,
    "start_time": "2022-07-22T19:51:29.729Z"
   },
   {
    "duration": 20,
    "start_time": "2022-07-22T19:51:29.749Z"
   },
   {
    "duration": 12,
    "start_time": "2022-07-22T19:51:29.770Z"
   },
   {
    "duration": 156,
    "start_time": "2022-07-22T19:51:29.783Z"
   },
   {
    "duration": 154,
    "start_time": "2022-07-22T19:51:29.941Z"
   },
   {
    "duration": 157,
    "start_time": "2022-07-22T19:51:30.097Z"
   },
   {
    "duration": 142,
    "start_time": "2022-07-22T19:51:30.255Z"
   },
   {
    "duration": 153,
    "start_time": "2022-07-22T19:51:30.399Z"
   },
   {
    "duration": 159,
    "start_time": "2022-07-22T19:51:30.554Z"
   },
   {
    "duration": 162,
    "start_time": "2022-07-22T19:51:30.722Z"
   },
   {
    "duration": 167,
    "start_time": "2022-07-22T19:51:30.886Z"
   },
   {
    "duration": 6,
    "start_time": "2022-07-22T19:51:31.056Z"
   },
   {
    "duration": 264,
    "start_time": "2022-07-22T19:51:31.065Z"
   },
   {
    "duration": 13,
    "start_time": "2022-07-22T19:51:31.331Z"
   },
   {
    "duration": 187,
    "start_time": "2022-07-22T19:51:31.345Z"
   },
   {
    "duration": 198,
    "start_time": "2022-07-22T19:51:31.536Z"
   },
   {
    "duration": 137,
    "start_time": "2022-07-22T19:51:31.736Z"
   },
   {
    "duration": 5,
    "start_time": "2022-07-22T19:51:31.875Z"
   },
   {
    "duration": 171,
    "start_time": "2022-07-22T19:51:31.882Z"
   },
   {
    "duration": 139,
    "start_time": "2022-07-22T19:51:32.055Z"
   },
   {
    "duration": 161,
    "start_time": "2022-07-22T19:51:32.195Z"
   },
   {
    "duration": 154,
    "start_time": "2022-07-22T19:51:38.121Z"
   },
   {
    "duration": 167,
    "start_time": "2022-07-22T19:51:44.399Z"
   },
   {
    "duration": 171,
    "start_time": "2022-07-22T19:51:52.421Z"
   },
   {
    "duration": 161,
    "start_time": "2022-07-22T19:52:54.827Z"
   },
   {
    "duration": 323,
    "start_time": "2022-07-22T19:53:30.098Z"
   },
   {
    "duration": 217,
    "start_time": "2022-07-22T19:53:45.565Z"
   },
   {
    "duration": 199,
    "start_time": "2022-07-22T19:54:00.148Z"
   },
   {
    "duration": 215,
    "start_time": "2022-07-22T19:55:13.475Z"
   },
   {
    "duration": 245,
    "start_time": "2022-07-22T19:57:25.321Z"
   },
   {
    "duration": 241,
    "start_time": "2022-07-22T19:58:04.124Z"
   },
   {
    "duration": 238,
    "start_time": "2022-07-22T19:58:09.221Z"
   },
   {
    "duration": 373,
    "start_time": "2022-07-22T20:01:37.048Z"
   },
   {
    "duration": 37,
    "start_time": "2022-07-22T20:05:44.933Z"
   },
   {
    "duration": 48,
    "start_time": "2022-07-22T20:06:38.999Z"
   },
   {
    "duration": 159,
    "start_time": "2022-07-22T20:06:44.585Z"
   },
   {
    "duration": 144,
    "start_time": "2022-07-22T20:06:54.859Z"
   },
   {
    "duration": 118,
    "start_time": "2022-07-22T20:07:02.658Z"
   },
   {
    "duration": 114,
    "start_time": "2022-07-22T20:10:24.926Z"
   },
   {
    "duration": 117,
    "start_time": "2022-07-22T20:10:31.787Z"
   },
   {
    "duration": 248,
    "start_time": "2022-07-22T20:12:55.946Z"
   },
   {
    "duration": 173,
    "start_time": "2022-07-22T20:13:02.218Z"
   },
   {
    "duration": 162,
    "start_time": "2022-07-22T20:15:02.612Z"
   },
   {
    "duration": 157,
    "start_time": "2022-07-22T20:17:04.603Z"
   },
   {
    "duration": 205,
    "start_time": "2022-07-22T20:17:12.542Z"
   },
   {
    "duration": 161,
    "start_time": "2022-07-22T20:17:21.617Z"
   },
   {
    "duration": 172,
    "start_time": "2022-07-22T20:17:59.207Z"
   },
   {
    "duration": 172,
    "start_time": "2022-07-22T20:21:27.652Z"
   },
   {
    "duration": 235,
    "start_time": "2022-07-22T20:27:44.535Z"
   },
   {
    "duration": 397,
    "start_time": "2022-07-22T20:31:28.354Z"
   },
   {
    "duration": 497,
    "start_time": "2022-07-22T20:31:39.477Z"
   },
   {
    "duration": 385,
    "start_time": "2022-07-22T20:31:48.849Z"
   },
   {
    "duration": 370,
    "start_time": "2022-07-22T20:32:55.750Z"
   },
   {
    "duration": 262,
    "start_time": "2022-07-22T20:33:02.396Z"
   },
   {
    "duration": 240,
    "start_time": "2022-07-22T20:33:18.960Z"
   },
   {
    "duration": 27,
    "start_time": "2022-07-22T20:43:00.771Z"
   },
   {
    "duration": 110,
    "start_time": "2022-07-22T20:43:43.663Z"
   },
   {
    "duration": 29,
    "start_time": "2022-07-22T20:43:54.719Z"
   },
   {
    "duration": 160,
    "start_time": "2022-07-22T20:47:08.051Z"
   },
   {
    "duration": 263,
    "start_time": "2022-07-22T20:47:25.049Z"
   },
   {
    "duration": 52,
    "start_time": "2022-07-22T20:48:11.577Z"
   },
   {
    "duration": 224,
    "start_time": "2022-07-22T20:48:18.123Z"
   },
   {
    "duration": 345,
    "start_time": "2022-07-22T20:48:40.403Z"
   },
   {
    "duration": 375,
    "start_time": "2022-07-22T20:49:06.770Z"
   },
   {
    "duration": 488,
    "start_time": "2022-07-22T20:49:15.813Z"
   },
   {
    "duration": 17,
    "start_time": "2022-07-22T20:49:47.020Z"
   },
   {
    "duration": 15,
    "start_time": "2022-07-22T20:50:23.863Z"
   },
   {
    "duration": 15,
    "start_time": "2022-07-22T20:50:33.555Z"
   },
   {
    "duration": 403,
    "start_time": "2022-07-22T20:51:02.651Z"
   },
   {
    "duration": 403,
    "start_time": "2022-07-22T20:52:47.843Z"
   },
   {
    "duration": 269,
    "start_time": "2022-07-22T20:52:53.672Z"
   },
   {
    "duration": 362,
    "start_time": "2022-07-22T20:53:12.949Z"
   },
   {
    "duration": 284,
    "start_time": "2022-07-22T20:54:56.848Z"
   },
   {
    "duration": 304,
    "start_time": "2022-07-22T20:56:00.481Z"
   },
   {
    "duration": 7,
    "start_time": "2022-07-22T21:02:32.012Z"
   },
   {
    "duration": 10,
    "start_time": "2022-07-22T21:02:46.724Z"
   },
   {
    "duration": 13,
    "start_time": "2022-07-22T21:02:54.957Z"
   },
   {
    "duration": 51,
    "start_time": "2022-07-22T21:04:19.052Z"
   },
   {
    "duration": 28,
    "start_time": "2022-07-22T21:04:34.571Z"
   },
   {
    "duration": 13,
    "start_time": "2022-07-22T21:04:55.865Z"
   },
   {
    "duration": 14,
    "start_time": "2022-07-22T21:08:23.096Z"
   },
   {
    "duration": 21,
    "start_time": "2022-07-22T21:08:35.025Z"
   },
   {
    "duration": 169,
    "start_time": "2022-07-22T21:08:55.722Z"
   },
   {
    "duration": 4,
    "start_time": "2022-07-22T21:08:55.894Z"
   },
   {
    "duration": 2148,
    "start_time": "2022-07-22T21:08:55.900Z"
   },
   {
    "duration": 23,
    "start_time": "2022-07-22T21:09:00.082Z"
   },
   {
    "duration": 16,
    "start_time": "2022-07-22T21:09:26.509Z"
   },
   {
    "duration": 14,
    "start_time": "2022-07-22T21:09:43.115Z"
   },
   {
    "duration": 14,
    "start_time": "2022-07-22T21:09:47.665Z"
   },
   {
    "duration": 14,
    "start_time": "2022-07-22T21:09:53.188Z"
   },
   {
    "duration": 15,
    "start_time": "2022-07-22T21:10:00.717Z"
   },
   {
    "duration": 13,
    "start_time": "2022-07-22T21:10:09.154Z"
   },
   {
    "duration": 19,
    "start_time": "2022-07-22T21:10:59.648Z"
   },
   {
    "duration": 15,
    "start_time": "2022-07-22T21:11:07.344Z"
   },
   {
    "duration": 15,
    "start_time": "2022-07-22T21:11:45.391Z"
   },
   {
    "duration": 16,
    "start_time": "2022-07-22T21:11:54.747Z"
   },
   {
    "duration": 15,
    "start_time": "2022-07-22T21:12:10.607Z"
   },
   {
    "duration": 14,
    "start_time": "2022-07-22T21:12:56.202Z"
   },
   {
    "duration": 15,
    "start_time": "2022-07-22T21:13:13.708Z"
   },
   {
    "duration": 14,
    "start_time": "2022-07-22T21:13:19.550Z"
   },
   {
    "duration": 14,
    "start_time": "2022-07-22T21:13:48.524Z"
   },
   {
    "duration": 14,
    "start_time": "2022-07-22T21:13:52.780Z"
   },
   {
    "duration": 16,
    "start_time": "2022-07-22T21:13:57.608Z"
   },
   {
    "duration": 93,
    "start_time": "2022-07-22T21:14:08.379Z"
   },
   {
    "duration": 4,
    "start_time": "2022-07-22T21:14:25.225Z"
   },
   {
    "duration": 15,
    "start_time": "2022-07-22T21:14:34.056Z"
   },
   {
    "duration": 16,
    "start_time": "2022-07-22T21:15:08.848Z"
   },
   {
    "duration": 1185,
    "start_time": "2022-07-23T04:28:02.102Z"
   },
   {
    "duration": 3,
    "start_time": "2022-07-23T04:28:03.289Z"
   },
   {
    "duration": 1999,
    "start_time": "2022-07-23T04:28:03.293Z"
   },
   {
    "duration": 14,
    "start_time": "2022-07-23T04:28:05.294Z"
   },
   {
    "duration": 683,
    "start_time": "2022-07-23T04:28:05.311Z"
   },
   {
    "duration": 14,
    "start_time": "2022-07-23T04:28:05.996Z"
   },
   {
    "duration": 14,
    "start_time": "2022-07-23T04:28:06.013Z"
   },
   {
    "duration": 15,
    "start_time": "2022-07-23T04:28:06.029Z"
   },
   {
    "duration": 17,
    "start_time": "2022-07-23T04:28:09.088Z"
   },
   {
    "duration": 80,
    "start_time": "2022-07-23T04:29:47.596Z"
   },
   {
    "duration": 17,
    "start_time": "2022-07-23T04:29:52.949Z"
   },
   {
    "duration": 16,
    "start_time": "2022-07-23T04:29:59.549Z"
   },
   {
    "duration": 15,
    "start_time": "2022-07-23T04:32:27.639Z"
   },
   {
    "duration": 87,
    "start_time": "2022-07-23T04:32:38.187Z"
   },
   {
    "duration": 15,
    "start_time": "2022-07-23T04:32:59.170Z"
   },
   {
    "duration": 16,
    "start_time": "2022-07-23T04:33:08.405Z"
   },
   {
    "duration": 16,
    "start_time": "2022-07-23T04:33:25.369Z"
   },
   {
    "duration": 32,
    "start_time": "2022-07-23T04:33:45.083Z"
   },
   {
    "duration": 16,
    "start_time": "2022-07-23T04:34:22.333Z"
   },
   {
    "duration": 22,
    "start_time": "2022-07-23T04:34:38.725Z"
   },
   {
    "duration": 21,
    "start_time": "2022-07-23T04:36:09.426Z"
   },
   {
    "duration": 22,
    "start_time": "2022-07-23T04:37:36.624Z"
   },
   {
    "duration": 28,
    "start_time": "2022-07-23T04:39:25.926Z"
   },
   {
    "duration": 23,
    "start_time": "2022-07-23T04:40:24.171Z"
   },
   {
    "duration": 21,
    "start_time": "2022-07-23T04:40:28.833Z"
   },
   {
    "duration": 108,
    "start_time": "2022-07-23T04:51:49.004Z"
   },
   {
    "duration": 458,
    "start_time": "2022-07-23T04:52:15.253Z"
   },
   {
    "duration": 49,
    "start_time": "2022-07-23T04:53:25.723Z"
   },
   {
    "duration": 59,
    "start_time": "2022-07-23T04:53:39.788Z"
   },
   {
    "duration": 87,
    "start_time": "2022-07-23T04:53:43.969Z"
   },
   {
    "duration": 289,
    "start_time": "2022-07-23T04:54:31.036Z"
   },
   {
    "duration": 286,
    "start_time": "2022-07-23T04:54:52.149Z"
   },
   {
    "duration": 51,
    "start_time": "2022-07-23T04:55:41.972Z"
   },
   {
    "duration": 332,
    "start_time": "2022-07-23T04:56:22.560Z"
   },
   {
    "duration": 285,
    "start_time": "2022-07-23T04:56:48.115Z"
   },
   {
    "duration": 46,
    "start_time": "2022-07-23T09:24:45.450Z"
   },
   {
    "duration": 1107,
    "start_time": "2022-07-23T09:24:52.832Z"
   },
   {
    "duration": 3,
    "start_time": "2022-07-23T09:24:53.941Z"
   },
   {
    "duration": 2006,
    "start_time": "2022-07-23T09:24:53.946Z"
   },
   {
    "duration": 14,
    "start_time": "2022-07-23T09:24:55.953Z"
   },
   {
    "duration": 706,
    "start_time": "2022-07-23T09:24:55.969Z"
   },
   {
    "duration": 7,
    "start_time": "2022-07-23T09:24:56.677Z"
   },
   {
    "duration": 20,
    "start_time": "2022-07-23T09:24:56.685Z"
   },
   {
    "duration": 26,
    "start_time": "2022-07-23T09:24:56.710Z"
   },
   {
    "duration": 20,
    "start_time": "2022-07-23T09:24:56.737Z"
   },
   {
    "duration": 18,
    "start_time": "2022-07-23T09:24:56.758Z"
   },
   {
    "duration": 77,
    "start_time": "2022-07-23T09:24:56.777Z"
   },
   {
    "duration": 86,
    "start_time": "2022-07-23T09:24:56.855Z"
   },
   {
    "duration": 8,
    "start_time": "2022-07-23T09:24:56.943Z"
   },
   {
    "duration": 140,
    "start_time": "2022-07-23T09:24:56.955Z"
   },
   {
    "duration": 152,
    "start_time": "2022-07-23T09:24:57.096Z"
   },
   {
    "duration": 6,
    "start_time": "2022-07-23T09:24:57.250Z"
   },
   {
    "duration": 12,
    "start_time": "2022-07-23T09:24:57.257Z"
   },
   {
    "duration": 7,
    "start_time": "2022-07-23T09:24:57.270Z"
   },
   {
    "duration": 174,
    "start_time": "2022-07-23T09:24:57.278Z"
   },
   {
    "duration": 161,
    "start_time": "2022-07-23T09:24:57.454Z"
   },
   {
    "duration": 7,
    "start_time": "2022-07-23T09:24:57.618Z"
   },
   {
    "duration": 13,
    "start_time": "2022-07-23T09:24:57.627Z"
   },
   {
    "duration": 11,
    "start_time": "2022-07-23T09:24:57.642Z"
   },
   {
    "duration": 168,
    "start_time": "2022-07-23T09:24:57.654Z"
   },
   {
    "duration": 241,
    "start_time": "2022-07-23T09:24:57.824Z"
   },
   {
    "duration": 4,
    "start_time": "2022-07-23T09:24:58.067Z"
   },
   {
    "duration": 14,
    "start_time": "2022-07-23T09:24:58.073Z"
   },
   {
    "duration": 19,
    "start_time": "2022-07-23T09:24:58.089Z"
   },
   {
    "duration": 27,
    "start_time": "2022-07-23T09:24:58.109Z"
   },
   {
    "duration": 5,
    "start_time": "2022-07-23T09:24:58.138Z"
   },
   {
    "duration": 137,
    "start_time": "2022-07-23T09:24:58.145Z"
   },
   {
    "duration": 7,
    "start_time": "2022-07-23T09:24:58.284Z"
   },
   {
    "duration": 25,
    "start_time": "2022-07-23T09:24:58.292Z"
   },
   {
    "duration": 16,
    "start_time": "2022-07-23T09:24:58.320Z"
   },
   {
    "duration": 144,
    "start_time": "2022-07-23T09:24:58.337Z"
   },
   {
    "duration": 155,
    "start_time": "2022-07-23T09:24:58.483Z"
   },
   {
    "duration": 5,
    "start_time": "2022-07-23T09:24:58.640Z"
   },
   {
    "duration": 10,
    "start_time": "2022-07-23T09:24:58.646Z"
   },
   {
    "duration": 13,
    "start_time": "2022-07-23T09:24:58.657Z"
   },
   {
    "duration": 10,
    "start_time": "2022-07-23T09:24:58.672Z"
   },
   {
    "duration": 32,
    "start_time": "2022-07-23T09:24:58.686Z"
   },
   {
    "duration": 12,
    "start_time": "2022-07-23T09:24:58.721Z"
   },
   {
    "duration": 306,
    "start_time": "2022-07-23T09:30:48.626Z"
   },
   {
    "duration": 320,
    "start_time": "2022-07-23T09:31:48.295Z"
   },
   {
    "duration": 10,
    "start_time": "2022-07-23T09:32:32.869Z"
   },
   {
    "duration": 5,
    "start_time": "2022-07-23T09:33:56.416Z"
   },
   {
    "duration": 314,
    "start_time": "2022-07-23T09:35:23.154Z"
   },
   {
    "duration": 7,
    "start_time": "2022-07-23T09:35:29.355Z"
   },
   {
    "duration": 8,
    "start_time": "2022-07-23T09:35:37.569Z"
   },
   {
    "duration": 6,
    "start_time": "2022-07-23T09:35:39.834Z"
   },
   {
    "duration": 6,
    "start_time": "2022-07-23T09:35:53.952Z"
   },
   {
    "duration": 6,
    "start_time": "2022-07-23T09:36:59.235Z"
   },
   {
    "duration": 104,
    "start_time": "2022-07-23T09:37:07.172Z"
   },
   {
    "duration": 292,
    "start_time": "2022-07-23T09:37:20.473Z"
   },
   {
    "duration": 5,
    "start_time": "2022-07-23T09:37:54.405Z"
   },
   {
    "duration": 6,
    "start_time": "2022-07-23T09:38:01.901Z"
   },
   {
    "duration": 6,
    "start_time": "2022-07-23T09:38:46.148Z"
   },
   {
    "duration": 254,
    "start_time": "2022-07-23T09:38:51.613Z"
   },
   {
    "duration": 67,
    "start_time": "2022-07-23T09:40:03.167Z"
   },
   {
    "duration": 112,
    "start_time": "2022-07-23T09:40:07.815Z"
   },
   {
    "duration": 358,
    "start_time": "2022-07-23T09:40:12.243Z"
   },
   {
    "duration": 49,
    "start_time": "2022-07-23T09:40:45.161Z"
   },
   {
    "duration": 330,
    "start_time": "2022-07-23T09:41:15.236Z"
   },
   {
    "duration": 1059,
    "start_time": "2022-07-23T12:13:10.078Z"
   },
   {
    "duration": 3,
    "start_time": "2022-07-23T12:13:11.139Z"
   },
   {
    "duration": 1809,
    "start_time": "2022-07-23T12:13:11.144Z"
   },
   {
    "duration": 17,
    "start_time": "2022-07-23T12:13:12.954Z"
   },
   {
    "duration": 652,
    "start_time": "2022-07-23T12:13:12.974Z"
   },
   {
    "duration": 10,
    "start_time": "2022-07-23T12:13:13.627Z"
   },
   {
    "duration": 12,
    "start_time": "2022-07-23T12:13:13.638Z"
   },
   {
    "duration": 15,
    "start_time": "2022-07-23T12:13:13.652Z"
   },
   {
    "duration": 20,
    "start_time": "2022-07-23T12:13:13.669Z"
   },
   {
    "duration": 46,
    "start_time": "2022-07-23T12:13:13.690Z"
   },
   {
    "duration": 54,
    "start_time": "2022-07-23T12:13:13.738Z"
   },
   {
    "duration": 95,
    "start_time": "2022-07-23T12:13:13.793Z"
   },
   {
    "duration": 9,
    "start_time": "2022-07-23T12:13:13.890Z"
   },
   {
    "duration": 124,
    "start_time": "2022-07-23T12:13:13.923Z"
   },
   {
    "duration": 127,
    "start_time": "2022-07-23T12:13:14.049Z"
   },
   {
    "duration": 7,
    "start_time": "2022-07-23T12:13:14.178Z"
   },
   {
    "duration": 8,
    "start_time": "2022-07-23T12:13:14.187Z"
   },
   {
    "duration": 27,
    "start_time": "2022-07-23T12:13:14.196Z"
   },
   {
    "duration": 137,
    "start_time": "2022-07-23T12:13:14.225Z"
   },
   {
    "duration": 155,
    "start_time": "2022-07-23T12:13:14.363Z"
   },
   {
    "duration": 5,
    "start_time": "2022-07-23T12:13:14.523Z"
   },
   {
    "duration": 11,
    "start_time": "2022-07-23T12:13:14.530Z"
   },
   {
    "duration": 6,
    "start_time": "2022-07-23T12:13:14.543Z"
   },
   {
    "duration": 173,
    "start_time": "2022-07-23T12:13:14.550Z"
   },
   {
    "duration": 122,
    "start_time": "2022-07-23T12:13:14.725Z"
   },
   {
    "duration": 6,
    "start_time": "2022-07-23T12:13:14.848Z"
   },
   {
    "duration": 13,
    "start_time": "2022-07-23T12:13:14.855Z"
   },
   {
    "duration": 11,
    "start_time": "2022-07-23T12:13:14.870Z"
   },
   {
    "duration": 6,
    "start_time": "2022-07-23T12:13:14.883Z"
   },
   {
    "duration": 6,
    "start_time": "2022-07-23T12:13:14.890Z"
   },
   {
    "duration": 250,
    "start_time": "2022-07-23T12:13:14.898Z"
   },
   {
    "duration": 7,
    "start_time": "2022-07-23T12:13:15.150Z"
   },
   {
    "duration": 27,
    "start_time": "2022-07-23T12:13:15.159Z"
   },
   {
    "duration": 8,
    "start_time": "2022-07-23T12:13:15.188Z"
   },
   {
    "duration": 132,
    "start_time": "2022-07-23T12:13:15.198Z"
   },
   {
    "duration": 135,
    "start_time": "2022-07-23T12:13:15.331Z"
   },
   {
    "duration": 6,
    "start_time": "2022-07-23T12:13:15.467Z"
   },
   {
    "duration": 10,
    "start_time": "2022-07-23T12:13:15.474Z"
   },
   {
    "duration": 8,
    "start_time": "2022-07-23T12:13:15.486Z"
   },
   {
    "duration": 28,
    "start_time": "2022-07-23T12:13:15.496Z"
   },
   {
    "duration": 8,
    "start_time": "2022-07-23T12:13:15.527Z"
   },
   {
    "duration": 7,
    "start_time": "2022-07-23T12:13:15.537Z"
   },
   {
    "duration": 11,
    "start_time": "2022-07-23T12:13:15.546Z"
   },
   {
    "duration": 312,
    "start_time": "2022-07-23T12:13:17.668Z"
   },
   {
    "duration": 78,
    "start_time": "2022-07-23T12:15:50.943Z"
   },
   {
    "duration": 17,
    "start_time": "2022-07-23T12:16:31.247Z"
   },
   {
    "duration": 1546,
    "start_time": "2022-07-23T12:16:46.650Z"
   },
   {
    "duration": 20,
    "start_time": "2022-07-23T12:19:16.860Z"
   },
   {
    "duration": 18,
    "start_time": "2022-07-23T12:19:46.653Z"
   },
   {
    "duration": 877,
    "start_time": "2022-07-23T12:19:51.479Z"
   },
   {
    "duration": 160,
    "start_time": "2022-07-23T12:22:25.652Z"
   },
   {
    "duration": 581,
    "start_time": "2022-07-23T12:23:35.385Z"
   },
   {
    "duration": 151,
    "start_time": "2022-07-23T12:24:02.459Z"
   },
   {
    "duration": 114,
    "start_time": "2022-07-23T12:25:59.288Z"
   },
   {
    "duration": 1206,
    "start_time": "2022-07-23T12:31:16.065Z"
   },
   {
    "duration": 113,
    "start_time": "2022-07-23T12:32:39.457Z"
   },
   {
    "duration": 3,
    "start_time": "2022-07-23T12:32:39.573Z"
   },
   {
    "duration": 1766,
    "start_time": "2022-07-23T12:32:39.578Z"
   },
   {
    "duration": 14,
    "start_time": "2022-07-23T12:32:41.346Z"
   },
   {
    "duration": 653,
    "start_time": "2022-07-23T12:32:41.362Z"
   },
   {
    "duration": 12,
    "start_time": "2022-07-23T12:32:42.017Z"
   },
   {
    "duration": 9,
    "start_time": "2022-07-23T12:32:42.031Z"
   },
   {
    "duration": 13,
    "start_time": "2022-07-23T12:32:42.042Z"
   },
   {
    "duration": 19,
    "start_time": "2022-07-23T12:32:42.056Z"
   },
   {
    "duration": 12,
    "start_time": "2022-07-23T12:32:42.076Z"
   },
   {
    "duration": 82,
    "start_time": "2022-07-23T12:32:42.089Z"
   },
   {
    "duration": 81,
    "start_time": "2022-07-23T12:32:42.173Z"
   },
   {
    "duration": 7,
    "start_time": "2022-07-23T12:32:42.256Z"
   },
   {
    "duration": 137,
    "start_time": "2022-07-23T12:32:42.266Z"
   },
   {
    "duration": 248,
    "start_time": "2022-07-23T12:32:42.405Z"
   },
   {
    "duration": 7,
    "start_time": "2022-07-23T12:32:42.655Z"
   },
   {
    "duration": 11,
    "start_time": "2022-07-23T12:32:42.664Z"
   },
   {
    "duration": 7,
    "start_time": "2022-07-23T12:32:42.677Z"
   },
   {
    "duration": 146,
    "start_time": "2022-07-23T12:32:42.686Z"
   },
   {
    "duration": 157,
    "start_time": "2022-07-23T12:32:42.834Z"
   },
   {
    "duration": 5,
    "start_time": "2022-07-23T12:32:42.993Z"
   },
   {
    "duration": 11,
    "start_time": "2022-07-23T12:32:43.000Z"
   },
   {
    "duration": 16,
    "start_time": "2022-07-23T12:32:43.013Z"
   },
   {
    "duration": 149,
    "start_time": "2022-07-23T12:32:43.030Z"
   },
   {
    "duration": 124,
    "start_time": "2022-07-23T12:32:43.180Z"
   },
   {
    "duration": 5,
    "start_time": "2022-07-23T12:32:43.305Z"
   },
   {
    "duration": 7,
    "start_time": "2022-07-23T12:32:43.323Z"
   },
   {
    "duration": 29,
    "start_time": "2022-07-23T12:32:43.331Z"
   },
   {
    "duration": 7,
    "start_time": "2022-07-23T12:32:43.362Z"
   },
   {
    "duration": 6,
    "start_time": "2022-07-23T12:32:43.371Z"
   },
   {
    "duration": 134,
    "start_time": "2022-07-23T12:32:43.378Z"
   },
   {
    "duration": 12,
    "start_time": "2022-07-23T12:32:43.515Z"
   },
   {
    "duration": 16,
    "start_time": "2022-07-23T12:32:43.529Z"
   },
   {
    "duration": 9,
    "start_time": "2022-07-23T12:32:43.547Z"
   },
   {
    "duration": 147,
    "start_time": "2022-07-23T12:32:43.557Z"
   },
   {
    "duration": 137,
    "start_time": "2022-07-23T12:32:43.705Z"
   },
   {
    "duration": 6,
    "start_time": "2022-07-23T12:32:43.844Z"
   },
   {
    "duration": 11,
    "start_time": "2022-07-23T12:32:43.852Z"
   },
   {
    "duration": 12,
    "start_time": "2022-07-23T12:32:43.865Z"
   },
   {
    "duration": 10,
    "start_time": "2022-07-23T12:32:43.878Z"
   },
   {
    "duration": 37,
    "start_time": "2022-07-23T12:32:43.892Z"
   },
   {
    "duration": 9,
    "start_time": "2022-07-23T12:32:43.930Z"
   },
   {
    "duration": 13,
    "start_time": "2022-07-23T12:32:43.941Z"
   },
   {
    "duration": 4,
    "start_time": "2022-07-23T12:32:43.956Z"
   },
   {
    "duration": 10,
    "start_time": "2022-07-23T12:32:43.961Z"
   },
   {
    "duration": 180,
    "start_time": "2022-07-23T12:32:43.972Z"
   },
   {
    "duration": 143,
    "start_time": "2022-07-23T12:32:44.154Z"
   },
   {
    "duration": 147,
    "start_time": "2022-07-23T12:32:44.299Z"
   },
   {
    "duration": 155,
    "start_time": "2022-07-23T12:32:44.448Z"
   },
   {
    "duration": 156,
    "start_time": "2022-07-23T12:32:44.605Z"
   },
   {
    "duration": 142,
    "start_time": "2022-07-23T12:32:44.763Z"
   },
   {
    "duration": 303,
    "start_time": "2022-07-23T12:32:44.907Z"
   },
   {
    "duration": 138,
    "start_time": "2022-07-23T12:32:45.212Z"
   },
   {
    "duration": 6,
    "start_time": "2022-07-23T12:32:45.352Z"
   },
   {
    "duration": 153,
    "start_time": "2022-07-23T12:32:45.359Z"
   },
   {
    "duration": 18,
    "start_time": "2022-07-23T12:32:45.514Z"
   },
   {
    "duration": 148,
    "start_time": "2022-07-23T12:32:45.533Z"
   },
   {
    "duration": 147,
    "start_time": "2022-07-23T12:32:45.683Z"
   },
   {
    "duration": 135,
    "start_time": "2022-07-23T12:32:45.832Z"
   },
   {
    "duration": 6,
    "start_time": "2022-07-23T12:32:45.969Z"
   },
   {
    "duration": 159,
    "start_time": "2022-07-23T12:32:45.976Z"
   },
   {
    "duration": 136,
    "start_time": "2022-07-23T12:32:46.136Z"
   },
   {
    "duration": 151,
    "start_time": "2022-07-23T12:32:46.273Z"
   },
   {
    "duration": 8,
    "start_time": "2022-07-23T12:32:46.425Z"
   },
   {
    "duration": 136,
    "start_time": "2022-07-23T12:32:46.435Z"
   },
   {
    "duration": 212,
    "start_time": "2022-07-23T12:32:46.573Z"
   },
   {
    "duration": 393,
    "start_time": "2022-07-23T12:32:46.787Z"
   },
   {
    "duration": 23,
    "start_time": "2022-07-23T12:32:58.347Z"
   },
   {
    "duration": 143,
    "start_time": "2022-07-23T12:33:45.139Z"
   },
   {
    "duration": 144,
    "start_time": "2022-07-23T12:34:20.812Z"
   },
   {
    "duration": 28,
    "start_time": "2022-07-23T12:40:36.072Z"
   },
   {
    "duration": 10,
    "start_time": "2022-07-23T12:40:51.657Z"
   },
   {
    "duration": 7,
    "start_time": "2022-07-23T12:41:03.046Z"
   },
   {
    "duration": 4,
    "start_time": "2022-07-23T12:47:56.750Z"
   },
   {
    "duration": 7,
    "start_time": "2022-07-23T12:48:03.249Z"
   },
   {
    "duration": 750,
    "start_time": "2022-07-23T12:54:11.594Z"
   },
   {
    "duration": 111,
    "start_time": "2022-07-23T12:54:22.320Z"
   },
   {
    "duration": 3,
    "start_time": "2022-07-23T12:54:22.434Z"
   },
   {
    "duration": 1838,
    "start_time": "2022-07-23T12:54:22.439Z"
   },
   {
    "duration": 15,
    "start_time": "2022-07-23T12:54:24.279Z"
   },
   {
    "duration": 646,
    "start_time": "2022-07-23T12:54:28.197Z"
   },
   {
    "duration": 624,
    "start_time": "2022-07-23T12:54:45.291Z"
   },
   {
    "duration": 631,
    "start_time": "2022-07-23T12:55:02.221Z"
   },
   {
    "duration": 631,
    "start_time": "2022-07-23T12:55:10.266Z"
   },
   {
    "duration": 629,
    "start_time": "2022-07-23T12:55:25.660Z"
   },
   {
    "duration": 623,
    "start_time": "2022-07-23T12:55:29.070Z"
   },
   {
    "duration": 646,
    "start_time": "2022-07-23T13:02:48.721Z"
   },
   {
    "duration": 9,
    "start_time": "2022-07-23T13:03:52.473Z"
   },
   {
    "duration": 8,
    "start_time": "2022-07-23T13:04:03.846Z"
   },
   {
    "duration": 10,
    "start_time": "2022-07-23T13:04:05.684Z"
   },
   {
    "duration": 111,
    "start_time": "2022-07-23T13:07:51.346Z"
   },
   {
    "duration": 3,
    "start_time": "2022-07-23T13:07:51.459Z"
   },
   {
    "duration": 1948,
    "start_time": "2022-07-23T13:07:51.464Z"
   },
   {
    "duration": 24,
    "start_time": "2022-07-23T13:07:53.414Z"
   },
   {
    "duration": 669,
    "start_time": "2022-07-23T13:07:53.441Z"
   },
   {
    "duration": 13,
    "start_time": "2022-07-23T13:07:54.111Z"
   },
   {
    "duration": 10,
    "start_time": "2022-07-23T13:07:54.125Z"
   },
   {
    "duration": 15,
    "start_time": "2022-07-23T13:07:54.136Z"
   },
   {
    "duration": 20,
    "start_time": "2022-07-23T13:08:13.747Z"
   },
   {
    "duration": 19,
    "start_time": "2022-07-23T13:08:21.485Z"
   },
   {
    "duration": 9,
    "start_time": "2022-07-23T13:08:55.551Z"
   },
   {
    "duration": 115,
    "start_time": "2022-07-23T13:09:13.520Z"
   },
   {
    "duration": 4,
    "start_time": "2022-07-23T13:09:13.637Z"
   },
   {
    "duration": 2222,
    "start_time": "2022-07-23T13:09:13.643Z"
   },
   {
    "duration": 19,
    "start_time": "2022-07-23T13:09:15.868Z"
   },
   {
    "duration": 693,
    "start_time": "2022-07-23T13:09:15.890Z"
   },
   {
    "duration": 10,
    "start_time": "2022-07-23T13:09:16.584Z"
   },
   {
    "duration": 9,
    "start_time": "2022-07-23T13:09:17.049Z"
   },
   {
    "duration": 10,
    "start_time": "2022-07-23T13:09:19.090Z"
   },
   {
    "duration": 22,
    "start_time": "2022-07-23T13:09:29.082Z"
   },
   {
    "duration": 26,
    "start_time": "2022-07-23T13:09:55.185Z"
   },
   {
    "duration": 8,
    "start_time": "2022-07-23T13:10:19.693Z"
   },
   {
    "duration": 9,
    "start_time": "2022-07-23T13:10:21.681Z"
   },
   {
    "duration": 11,
    "start_time": "2022-07-23T13:10:23.814Z"
   },
   {
    "duration": 145,
    "start_time": "2022-07-23T13:10:27.162Z"
   },
   {
    "duration": 4,
    "start_time": "2022-07-23T13:10:27.310Z"
   },
   {
    "duration": 2019,
    "start_time": "2022-07-23T13:10:27.323Z"
   },
   {
    "duration": 14,
    "start_time": "2022-07-23T13:10:29.344Z"
   },
   {
    "duration": 664,
    "start_time": "2022-07-23T13:10:29.360Z"
   },
   {
    "duration": 12,
    "start_time": "2022-07-23T13:10:30.025Z"
   },
   {
    "duration": 18,
    "start_time": "2022-07-23T13:10:30.039Z"
   },
   {
    "duration": 9,
    "start_time": "2022-07-23T13:10:33.709Z"
   },
   {
    "duration": 15,
    "start_time": "2022-07-23T13:10:41.005Z"
   },
   {
    "duration": 27,
    "start_time": "2022-07-23T13:10:49.542Z"
   },
   {
    "duration": 30,
    "start_time": "2022-07-23T13:11:12.154Z"
   },
   {
    "duration": 777,
    "start_time": "2022-07-23T13:13:44.788Z"
   },
   {
    "duration": 962,
    "start_time": "2022-07-23T13:13:56.058Z"
   },
   {
    "duration": 12,
    "start_time": "2022-07-23T13:14:02.715Z"
   },
   {
    "duration": 10,
    "start_time": "2022-07-23T13:14:05.061Z"
   },
   {
    "duration": 16,
    "start_time": "2022-07-23T13:14:13.358Z"
   },
   {
    "duration": 44,
    "start_time": "2022-07-23T13:14:32.182Z"
   },
   {
    "duration": 742,
    "start_time": "2022-07-23T13:18:48.991Z"
   },
   {
    "duration": 899,
    "start_time": "2022-07-23T13:22:18.310Z"
   },
   {
    "duration": 8,
    "start_time": "2022-07-23T13:22:25.046Z"
   },
   {
    "duration": 36,
    "start_time": "2022-07-23T13:22:42.178Z"
   },
   {
    "duration": 25,
    "start_time": "2022-07-23T13:25:56.983Z"
   },
   {
    "duration": 15,
    "start_time": "2022-07-23T13:26:54.049Z"
   },
   {
    "duration": 5,
    "start_time": "2022-07-23T13:35:05.768Z"
   },
   {
    "duration": 6,
    "start_time": "2022-07-23T13:35:19.252Z"
   },
   {
    "duration": 112,
    "start_time": "2022-07-23T13:35:27.748Z"
   },
   {
    "duration": 3,
    "start_time": "2022-07-23T13:35:27.862Z"
   },
   {
    "duration": 1935,
    "start_time": "2022-07-23T13:35:27.866Z"
   },
   {
    "duration": 22,
    "start_time": "2022-07-23T13:35:29.802Z"
   },
   {
    "duration": 680,
    "start_time": "2022-07-23T13:35:29.826Z"
   },
   {
    "duration": 9,
    "start_time": "2022-07-23T13:35:30.507Z"
   },
   {
    "duration": 16,
    "start_time": "2022-07-23T13:35:30.523Z"
   },
   {
    "duration": 14,
    "start_time": "2022-07-23T13:35:30.540Z"
   },
   {
    "duration": 47,
    "start_time": "2022-07-23T13:35:30.556Z"
   },
   {
    "duration": 25,
    "start_time": "2022-07-23T13:35:30.605Z"
   },
   {
    "duration": 58,
    "start_time": "2022-07-23T13:35:30.632Z"
   },
   {
    "duration": 90,
    "start_time": "2022-07-23T13:35:30.692Z"
   },
   {
    "duration": 8,
    "start_time": "2022-07-23T13:35:30.784Z"
   },
   {
    "duration": 138,
    "start_time": "2022-07-23T13:35:30.794Z"
   },
   {
    "duration": 125,
    "start_time": "2022-07-23T13:35:30.934Z"
   },
   {
    "duration": 7,
    "start_time": "2022-07-23T13:35:31.060Z"
   },
   {
    "duration": 18,
    "start_time": "2022-07-23T13:35:31.069Z"
   },
   {
    "duration": 21,
    "start_time": "2022-07-23T13:35:31.089Z"
   },
   {
    "duration": 149,
    "start_time": "2022-07-23T13:35:31.112Z"
   },
   {
    "duration": 185,
    "start_time": "2022-07-23T13:35:31.263Z"
   },
   {
    "duration": 6,
    "start_time": "2022-07-23T13:35:31.450Z"
   },
   {
    "duration": 21,
    "start_time": "2022-07-23T13:35:31.457Z"
   },
   {
    "duration": 20,
    "start_time": "2022-07-23T13:35:31.480Z"
   },
   {
    "duration": 338,
    "start_time": "2022-07-23T13:35:31.502Z"
   },
   {
    "duration": 136,
    "start_time": "2022-07-23T13:35:31.842Z"
   },
   {
    "duration": 5,
    "start_time": "2022-07-23T13:35:31.980Z"
   },
   {
    "duration": 13,
    "start_time": "2022-07-23T13:35:31.987Z"
   },
   {
    "duration": 10,
    "start_time": "2022-07-23T13:35:32.002Z"
   },
   {
    "duration": 9,
    "start_time": "2022-07-23T13:35:32.023Z"
   },
   {
    "duration": 10,
    "start_time": "2022-07-23T13:35:32.034Z"
   },
   {
    "duration": 148,
    "start_time": "2022-07-23T13:35:32.046Z"
   },
   {
    "duration": 7,
    "start_time": "2022-07-23T13:35:32.196Z"
   },
   {
    "duration": 28,
    "start_time": "2022-07-23T13:35:32.204Z"
   },
   {
    "duration": 20,
    "start_time": "2022-07-23T13:35:32.233Z"
   },
   {
    "duration": 135,
    "start_time": "2022-07-23T13:35:32.255Z"
   },
   {
    "duration": 134,
    "start_time": "2022-07-23T13:35:32.392Z"
   },
   {
    "duration": 5,
    "start_time": "2022-07-23T13:35:32.527Z"
   },
   {
    "duration": 10,
    "start_time": "2022-07-23T13:35:32.534Z"
   },
   {
    "duration": 19,
    "start_time": "2022-07-23T13:35:32.545Z"
   },
   {
    "duration": 20,
    "start_time": "2022-07-23T13:35:32.566Z"
   },
   {
    "duration": 25,
    "start_time": "2022-07-23T13:35:32.589Z"
   },
   {
    "duration": 13,
    "start_time": "2022-07-23T13:35:32.616Z"
   },
   {
    "duration": 11,
    "start_time": "2022-07-23T13:35:32.631Z"
   },
   {
    "duration": 6,
    "start_time": "2022-07-23T13:35:34.979Z"
   },
   {
    "duration": 12,
    "start_time": "2022-07-23T13:37:24.554Z"
   },
   {
    "duration": 12,
    "start_time": "2022-07-23T13:37:27.441Z"
   },
   {
    "duration": 113,
    "start_time": "2022-07-23T13:37:32.949Z"
   },
   {
    "duration": 3,
    "start_time": "2022-07-23T13:37:33.064Z"
   },
   {
    "duration": 1960,
    "start_time": "2022-07-23T13:37:33.068Z"
   },
   {
    "duration": 14,
    "start_time": "2022-07-23T13:37:35.029Z"
   },
   {
    "duration": 692,
    "start_time": "2022-07-23T13:37:35.045Z"
   },
   {
    "duration": 9,
    "start_time": "2022-07-23T13:37:35.738Z"
   },
   {
    "duration": 16,
    "start_time": "2022-07-23T13:37:37.289Z"
   },
   {
    "duration": 82,
    "start_time": "2022-07-23T13:38:15.180Z"
   },
   {
    "duration": 755,
    "start_time": "2022-07-23T13:38:18.404Z"
   },
   {
    "duration": 111,
    "start_time": "2022-07-23T13:38:28.402Z"
   },
   {
    "duration": 9,
    "start_time": "2022-07-23T13:38:28.515Z"
   },
   {
    "duration": 2045,
    "start_time": "2022-07-23T13:38:28.525Z"
   },
   {
    "duration": 14,
    "start_time": "2022-07-23T13:38:30.572Z"
   },
   {
    "duration": 657,
    "start_time": "2022-07-23T13:38:30.588Z"
   },
   {
    "duration": 8,
    "start_time": "2022-07-23T13:38:31.246Z"
   },
   {
    "duration": 58,
    "start_time": "2022-07-23T13:38:31.256Z"
   },
   {
    "duration": 23,
    "start_time": "2022-07-23T13:38:31.316Z"
   },
   {
    "duration": 30,
    "start_time": "2022-07-23T13:38:31.340Z"
   },
   {
    "duration": 27,
    "start_time": "2022-07-23T13:38:31.372Z"
   },
   {
    "duration": 55,
    "start_time": "2022-07-23T13:38:31.401Z"
   },
   {
    "duration": 79,
    "start_time": "2022-07-23T13:38:31.458Z"
   },
   {
    "duration": 10,
    "start_time": "2022-07-23T13:38:31.539Z"
   },
   {
    "duration": 146,
    "start_time": "2022-07-23T13:38:31.552Z"
   },
   {
    "duration": 126,
    "start_time": "2022-07-23T13:38:31.699Z"
   },
   {
    "duration": 5,
    "start_time": "2022-07-23T13:38:31.827Z"
   },
   {
    "duration": 8,
    "start_time": "2022-07-23T13:38:36.466Z"
   },
   {
    "duration": 9,
    "start_time": "2022-07-23T13:38:56.050Z"
   },
   {
    "duration": 9,
    "start_time": "2022-07-23T13:39:09.140Z"
   },
   {
    "duration": 112,
    "start_time": "2022-07-23T13:39:13.641Z"
   },
   {
    "duration": 4,
    "start_time": "2022-07-23T13:39:13.756Z"
   },
   {
    "duration": 1863,
    "start_time": "2022-07-23T13:39:13.761Z"
   },
   {
    "duration": 14,
    "start_time": "2022-07-23T13:39:15.626Z"
   },
   {
    "duration": 890,
    "start_time": "2022-07-23T13:39:15.642Z"
   },
   {
    "duration": 8,
    "start_time": "2022-07-23T13:39:16.534Z"
   },
   {
    "duration": 9,
    "start_time": "2022-07-23T13:39:16.544Z"
   },
   {
    "duration": 14,
    "start_time": "2022-07-23T13:39:16.554Z"
   },
   {
    "duration": 23,
    "start_time": "2022-07-23T13:39:16.579Z"
   },
   {
    "duration": 30,
    "start_time": "2022-07-23T13:39:16.604Z"
   },
   {
    "duration": 55,
    "start_time": "2022-07-23T13:39:16.635Z"
   },
   {
    "duration": 95,
    "start_time": "2022-07-23T13:39:16.692Z"
   },
   {
    "duration": 9,
    "start_time": "2022-07-23T13:39:16.788Z"
   },
   {
    "duration": 142,
    "start_time": "2022-07-23T13:39:16.799Z"
   },
   {
    "duration": 135,
    "start_time": "2022-07-23T13:39:16.943Z"
   },
   {
    "duration": 7,
    "start_time": "2022-07-23T13:39:17.080Z"
   },
   {
    "duration": 13,
    "start_time": "2022-07-23T13:39:17.088Z"
   },
   {
    "duration": 21,
    "start_time": "2022-07-23T13:39:17.103Z"
   },
   {
    "duration": 9,
    "start_time": "2022-07-23T13:39:19.789Z"
   },
   {
    "duration": 9,
    "start_time": "2022-07-23T13:39:35.177Z"
   },
   {
    "duration": 116,
    "start_time": "2022-07-23T13:39:40.840Z"
   },
   {
    "duration": 2,
    "start_time": "2022-07-23T13:39:40.958Z"
   },
   {
    "duration": 1827,
    "start_time": "2022-07-23T13:39:40.962Z"
   },
   {
    "duration": 14,
    "start_time": "2022-07-23T13:39:42.791Z"
   },
   {
    "duration": 797,
    "start_time": "2022-07-23T13:39:42.807Z"
   },
   {
    "duration": 23,
    "start_time": "2022-07-23T13:39:43.606Z"
   },
   {
    "duration": 10,
    "start_time": "2022-07-23T13:39:43.631Z"
   },
   {
    "duration": 15,
    "start_time": "2022-07-23T13:39:43.643Z"
   },
   {
    "duration": 20,
    "start_time": "2022-07-23T13:39:43.660Z"
   },
   {
    "duration": 42,
    "start_time": "2022-07-23T13:39:43.682Z"
   },
   {
    "duration": 59,
    "start_time": "2022-07-23T13:39:43.726Z"
   },
   {
    "duration": 98,
    "start_time": "2022-07-23T13:39:43.786Z"
   },
   {
    "duration": 9,
    "start_time": "2022-07-23T13:39:43.886Z"
   },
   {
    "duration": 142,
    "start_time": "2022-07-23T13:39:43.899Z"
   },
   {
    "duration": 139,
    "start_time": "2022-07-23T13:39:44.043Z"
   },
   {
    "duration": 6,
    "start_time": "2022-07-23T13:39:44.184Z"
   },
   {
    "duration": 7,
    "start_time": "2022-07-23T13:39:52.468Z"
   },
   {
    "duration": 8,
    "start_time": "2022-07-23T13:39:55.773Z"
   },
   {
    "duration": 11,
    "start_time": "2022-07-23T13:40:21.846Z"
   },
   {
    "duration": 112,
    "start_time": "2022-07-23T13:40:37.548Z"
   },
   {
    "duration": 3,
    "start_time": "2022-07-23T13:40:37.662Z"
   },
   {
    "duration": 1849,
    "start_time": "2022-07-23T13:40:37.667Z"
   },
   {
    "duration": 17,
    "start_time": "2022-07-23T13:40:39.518Z"
   },
   {
    "duration": 813,
    "start_time": "2022-07-23T13:40:39.537Z"
   },
   {
    "duration": 9,
    "start_time": "2022-07-23T13:40:40.352Z"
   },
   {
    "duration": 9,
    "start_time": "2022-07-23T13:40:40.363Z"
   },
   {
    "duration": 17,
    "start_time": "2022-07-23T13:40:40.374Z"
   },
   {
    "duration": 44,
    "start_time": "2022-07-23T13:40:40.392Z"
   },
   {
    "duration": 12,
    "start_time": "2022-07-23T13:40:40.437Z"
   },
   {
    "duration": 75,
    "start_time": "2022-07-23T13:40:40.451Z"
   },
   {
    "duration": 79,
    "start_time": "2022-07-23T13:40:40.527Z"
   },
   {
    "duration": 22,
    "start_time": "2022-07-23T13:40:40.608Z"
   },
   {
    "duration": 132,
    "start_time": "2022-07-23T13:40:40.633Z"
   },
   {
    "duration": 128,
    "start_time": "2022-07-23T13:40:40.767Z"
   },
   {
    "duration": 6,
    "start_time": "2022-07-23T13:40:40.897Z"
   },
   {
    "duration": 11,
    "start_time": "2022-07-23T13:40:42.853Z"
   },
   {
    "duration": 12,
    "start_time": "2022-07-23T13:40:54.272Z"
   },
   {
    "duration": 117,
    "start_time": "2022-07-23T13:40:58.307Z"
   },
   {
    "duration": 3,
    "start_time": "2022-07-23T13:40:58.427Z"
   },
   {
    "duration": 1818,
    "start_time": "2022-07-23T13:40:58.432Z"
   },
   {
    "duration": 14,
    "start_time": "2022-07-23T13:41:00.253Z"
   },
   {
    "duration": 804,
    "start_time": "2022-07-23T13:41:00.269Z"
   },
   {
    "duration": 8,
    "start_time": "2022-07-23T13:41:01.075Z"
   },
   {
    "duration": 48,
    "start_time": "2022-07-23T13:41:01.085Z"
   },
   {
    "duration": 45,
    "start_time": "2022-07-23T13:41:01.135Z"
   },
   {
    "duration": 49,
    "start_time": "2022-07-23T13:41:01.182Z"
   },
   {
    "duration": 18,
    "start_time": "2022-07-23T13:41:01.233Z"
   },
   {
    "duration": 77,
    "start_time": "2022-07-23T13:41:01.253Z"
   },
   {
    "duration": 227,
    "start_time": "2022-07-23T13:41:01.332Z"
   },
   {
    "duration": 10,
    "start_time": "2022-07-23T13:41:01.561Z"
   },
   {
    "duration": 157,
    "start_time": "2022-07-23T13:41:01.574Z"
   },
   {
    "duration": 142,
    "start_time": "2022-07-23T13:41:01.733Z"
   },
   {
    "duration": 26,
    "start_time": "2022-07-23T13:41:01.876Z"
   },
   {
    "duration": 17,
    "start_time": "2022-07-23T13:41:01.904Z"
   },
   {
    "duration": 12,
    "start_time": "2022-07-23T13:41:02.854Z"
   },
   {
    "duration": 106,
    "start_time": "2022-07-23T13:41:46.874Z"
   },
   {
    "duration": 3,
    "start_time": "2022-07-23T13:41:46.982Z"
   },
   {
    "duration": 2044,
    "start_time": "2022-07-23T13:41:46.986Z"
   },
   {
    "duration": 16,
    "start_time": "2022-07-23T13:41:49.033Z"
   },
   {
    "duration": 876,
    "start_time": "2022-07-23T13:41:49.051Z"
   },
   {
    "duration": 10,
    "start_time": "2022-07-23T13:41:49.929Z"
   },
   {
    "duration": 10,
    "start_time": "2022-07-23T13:41:49.940Z"
   },
   {
    "duration": 15,
    "start_time": "2022-07-23T13:41:51.157Z"
   },
   {
    "duration": 21,
    "start_time": "2022-07-23T13:42:06.684Z"
   },
   {
    "duration": 112,
    "start_time": "2022-07-23T13:42:21.639Z"
   },
   {
    "duration": 3,
    "start_time": "2022-07-23T13:42:21.753Z"
   },
   {
    "duration": 1883,
    "start_time": "2022-07-23T13:42:21.758Z"
   },
   {
    "duration": 13,
    "start_time": "2022-07-23T13:42:23.643Z"
   },
   {
    "duration": 662,
    "start_time": "2022-07-23T13:42:23.657Z"
   },
   {
    "duration": 12,
    "start_time": "2022-07-23T13:42:24.321Z"
   },
   {
    "duration": 9,
    "start_time": "2022-07-23T13:42:24.334Z"
   },
   {
    "duration": 15,
    "start_time": "2022-07-23T13:42:24.345Z"
   },
   {
    "duration": 23,
    "start_time": "2022-07-23T13:42:31.795Z"
   },
   {
    "duration": 112,
    "start_time": "2022-07-23T13:43:21.746Z"
   },
   {
    "duration": 3,
    "start_time": "2022-07-23T13:43:21.860Z"
   },
   {
    "duration": 1922,
    "start_time": "2022-07-23T13:43:21.865Z"
   },
   {
    "duration": 13,
    "start_time": "2022-07-23T13:43:23.789Z"
   },
   {
    "duration": 637,
    "start_time": "2022-07-23T13:43:23.804Z"
   },
   {
    "duration": 9,
    "start_time": "2022-07-23T13:43:24.442Z"
   },
   {
    "duration": 13,
    "start_time": "2022-07-23T13:43:24.452Z"
   },
   {
    "duration": 14,
    "start_time": "2022-07-23T13:43:24.466Z"
   },
   {
    "duration": 26,
    "start_time": "2022-07-23T13:43:27.342Z"
   },
   {
    "duration": 28,
    "start_time": "2022-07-23T13:44:08.441Z"
   },
   {
    "duration": 25,
    "start_time": "2022-07-23T13:44:40.495Z"
   },
   {
    "duration": 22,
    "start_time": "2022-07-23T13:45:24.563Z"
   },
   {
    "duration": 113,
    "start_time": "2022-07-23T13:46:45.240Z"
   },
   {
    "duration": 3,
    "start_time": "2022-07-23T13:46:45.355Z"
   },
   {
    "duration": 2025,
    "start_time": "2022-07-23T13:46:45.359Z"
   },
   {
    "duration": 20,
    "start_time": "2022-07-23T13:46:47.386Z"
   },
   {
    "duration": 708,
    "start_time": "2022-07-23T13:46:47.409Z"
   },
   {
    "duration": 9,
    "start_time": "2022-07-23T13:46:48.119Z"
   },
   {
    "duration": 11,
    "start_time": "2022-07-23T13:46:48.129Z"
   },
   {
    "duration": 15,
    "start_time": "2022-07-23T13:46:48.142Z"
   },
   {
    "duration": 21,
    "start_time": "2022-07-23T13:46:48.159Z"
   },
   {
    "duration": 10,
    "start_time": "2022-07-23T13:46:48.183Z"
   },
   {
    "duration": 77,
    "start_time": "2022-07-23T13:46:48.195Z"
   },
   {
    "duration": 81,
    "start_time": "2022-07-23T13:46:48.274Z"
   },
   {
    "duration": 9,
    "start_time": "2022-07-23T13:46:48.356Z"
   },
   {
    "duration": 147,
    "start_time": "2022-07-23T13:46:48.368Z"
   },
   {
    "duration": 143,
    "start_time": "2022-07-23T13:46:48.517Z"
   },
   {
    "duration": 6,
    "start_time": "2022-07-23T13:46:48.662Z"
   },
   {
    "duration": 14,
    "start_time": "2022-07-23T13:46:48.669Z"
   },
   {
    "duration": 7,
    "start_time": "2022-07-23T13:46:48.684Z"
   },
   {
    "duration": 319,
    "start_time": "2022-07-23T13:46:48.693Z"
   },
   {
    "duration": 155,
    "start_time": "2022-07-23T13:46:49.014Z"
   },
   {
    "duration": 6,
    "start_time": "2022-07-23T13:46:49.171Z"
   },
   {
    "duration": 10,
    "start_time": "2022-07-23T13:46:49.178Z"
   },
   {
    "duration": 10,
    "start_time": "2022-07-23T13:46:49.190Z"
   },
   {
    "duration": 149,
    "start_time": "2022-07-23T13:46:49.202Z"
   },
   {
    "duration": 137,
    "start_time": "2022-07-23T13:46:49.353Z"
   },
   {
    "duration": 6,
    "start_time": "2022-07-23T13:46:49.492Z"
   },
   {
    "duration": 17,
    "start_time": "2022-07-23T13:46:49.500Z"
   },
   {
    "duration": 17,
    "start_time": "2022-07-23T13:46:49.523Z"
   },
   {
    "duration": 17,
    "start_time": "2022-07-23T13:46:49.541Z"
   },
   {
    "duration": 11,
    "start_time": "2022-07-23T13:46:49.559Z"
   },
   {
    "duration": 133,
    "start_time": "2022-07-23T13:46:49.571Z"
   },
   {
    "duration": 6,
    "start_time": "2022-07-23T13:46:49.706Z"
   },
   {
    "duration": 10,
    "start_time": "2022-07-23T13:46:49.724Z"
   },
   {
    "duration": 8,
    "start_time": "2022-07-23T13:46:49.735Z"
   },
   {
    "duration": 139,
    "start_time": "2022-07-23T13:46:49.744Z"
   },
   {
    "duration": 139,
    "start_time": "2022-07-23T13:46:49.884Z"
   },
   {
    "duration": 5,
    "start_time": "2022-07-23T13:46:50.025Z"
   },
   {
    "duration": 24,
    "start_time": "2022-07-23T13:46:50.032Z"
   },
   {
    "duration": 14,
    "start_time": "2022-07-23T13:46:50.059Z"
   },
   {
    "duration": 13,
    "start_time": "2022-07-23T13:46:50.074Z"
   },
   {
    "duration": 19,
    "start_time": "2022-07-23T13:46:50.090Z"
   },
   {
    "duration": 37,
    "start_time": "2022-07-23T13:46:50.111Z"
   },
   {
    "duration": 11,
    "start_time": "2022-07-23T13:46:50.149Z"
   },
   {
    "duration": 6,
    "start_time": "2022-07-23T13:47:02.896Z"
   },
   {
    "duration": 323,
    "start_time": "2022-07-23T13:47:25.554Z"
   },
   {
    "duration": 314,
    "start_time": "2022-07-23T13:47:59.639Z"
   },
   {
    "duration": 438,
    "start_time": "2022-07-23T13:48:36.047Z"
   },
   {
    "duration": 124,
    "start_time": "2022-07-23T14:09:15.135Z"
   },
   {
    "duration": 4,
    "start_time": "2022-07-23T14:09:15.261Z"
   },
   {
    "duration": 2101,
    "start_time": "2022-07-23T14:09:15.266Z"
   },
   {
    "duration": 18,
    "start_time": "2022-07-23T14:09:17.369Z"
   },
   {
    "duration": 917,
    "start_time": "2022-07-23T14:09:17.389Z"
   },
   {
    "duration": 22,
    "start_time": "2022-07-23T14:09:18.307Z"
   },
   {
    "duration": 22,
    "start_time": "2022-07-23T14:09:18.331Z"
   },
   {
    "duration": 18,
    "start_time": "2022-07-23T14:09:18.355Z"
   },
   {
    "duration": 17,
    "start_time": "2022-07-23T14:09:18.375Z"
   },
   {
    "duration": 40,
    "start_time": "2022-07-23T14:09:18.394Z"
   },
   {
    "duration": 60,
    "start_time": "2022-07-23T14:09:18.436Z"
   },
   {
    "duration": 87,
    "start_time": "2022-07-23T14:09:18.498Z"
   },
   {
    "duration": 9,
    "start_time": "2022-07-23T14:09:18.587Z"
   },
   {
    "duration": 148,
    "start_time": "2022-07-23T14:09:18.599Z"
   },
   {
    "duration": 127,
    "start_time": "2022-07-23T14:09:18.749Z"
   },
   {
    "duration": 7,
    "start_time": "2022-07-23T14:09:18.878Z"
   },
   {
    "duration": 28,
    "start_time": "2022-07-23T14:09:18.887Z"
   },
   {
    "duration": 11,
    "start_time": "2022-07-23T14:09:18.917Z"
   },
   {
    "duration": 145,
    "start_time": "2022-07-23T14:09:18.930Z"
   },
   {
    "duration": 162,
    "start_time": "2022-07-23T14:09:19.077Z"
   },
   {
    "duration": 6,
    "start_time": "2022-07-23T14:09:19.241Z"
   },
   {
    "duration": 19,
    "start_time": "2022-07-23T14:09:19.250Z"
   },
   {
    "duration": 8,
    "start_time": "2022-07-23T14:09:19.270Z"
   },
   {
    "duration": 153,
    "start_time": "2022-07-23T14:09:19.280Z"
   },
   {
    "duration": 146,
    "start_time": "2022-07-23T14:09:19.435Z"
   },
   {
    "duration": 5,
    "start_time": "2022-07-23T14:09:19.582Z"
   },
   {
    "duration": 8,
    "start_time": "2022-07-23T14:09:19.589Z"
   },
   {
    "duration": 10,
    "start_time": "2022-07-23T14:09:19.598Z"
   },
   {
    "duration": 23,
    "start_time": "2022-07-23T14:09:19.610Z"
   },
   {
    "duration": 7,
    "start_time": "2022-07-23T14:09:19.635Z"
   },
   {
    "duration": 152,
    "start_time": "2022-07-23T14:09:19.643Z"
   },
   {
    "duration": 8,
    "start_time": "2022-07-23T14:09:19.796Z"
   },
   {
    "duration": 20,
    "start_time": "2022-07-23T14:09:19.806Z"
   },
   {
    "duration": 10,
    "start_time": "2022-07-23T14:09:19.829Z"
   },
   {
    "duration": 161,
    "start_time": "2022-07-23T14:09:19.841Z"
   },
   {
    "duration": 175,
    "start_time": "2022-07-23T14:09:20.004Z"
   },
   {
    "duration": 6,
    "start_time": "2022-07-23T14:09:20.180Z"
   },
   {
    "duration": 10,
    "start_time": "2022-07-23T14:09:20.188Z"
   },
   {
    "duration": 24,
    "start_time": "2022-07-23T14:09:20.200Z"
   },
   {
    "duration": 16,
    "start_time": "2022-07-23T14:09:20.227Z"
   },
   {
    "duration": 15,
    "start_time": "2022-07-23T14:09:20.250Z"
   },
   {
    "duration": 10,
    "start_time": "2022-07-23T14:09:20.266Z"
   },
   {
    "duration": 13,
    "start_time": "2022-07-23T14:09:20.279Z"
   },
   {
    "duration": 6,
    "start_time": "2022-07-23T14:09:20.328Z"
   },
   {
    "duration": 19,
    "start_time": "2022-07-23T14:09:20.336Z"
   },
   {
    "duration": 160,
    "start_time": "2022-07-23T14:09:20.356Z"
   },
   {
    "duration": 148,
    "start_time": "2022-07-23T14:09:20.523Z"
   },
   {
    "duration": 153,
    "start_time": "2022-07-23T14:09:20.673Z"
   },
   {
    "duration": 149,
    "start_time": "2022-07-23T14:09:20.828Z"
   },
   {
    "duration": 150,
    "start_time": "2022-07-23T14:09:20.979Z"
   },
   {
    "duration": 158,
    "start_time": "2022-07-23T14:09:21.131Z"
   },
   {
    "duration": 182,
    "start_time": "2022-07-23T14:09:21.290Z"
   },
   {
    "duration": 153,
    "start_time": "2022-07-23T14:09:21.473Z"
   },
   {
    "duration": 8,
    "start_time": "2022-07-23T14:09:21.629Z"
   },
   {
    "duration": 333,
    "start_time": "2022-07-23T14:09:21.639Z"
   },
   {
    "duration": 13,
    "start_time": "2022-07-23T14:09:21.974Z"
   },
   {
    "duration": 141,
    "start_time": "2022-07-23T14:09:21.994Z"
   },
   {
    "duration": 161,
    "start_time": "2022-07-23T14:09:22.138Z"
   },
   {
    "duration": 158,
    "start_time": "2022-07-23T14:09:22.301Z"
   },
   {
    "duration": 6,
    "start_time": "2022-07-23T14:09:22.461Z"
   },
   {
    "duration": 185,
    "start_time": "2022-07-23T14:09:22.469Z"
   },
   {
    "duration": 149,
    "start_time": "2022-07-23T14:09:22.656Z"
   },
   {
    "duration": 174,
    "start_time": "2022-07-23T14:09:22.807Z"
   },
   {
    "duration": 9,
    "start_time": "2022-07-23T14:09:22.982Z"
   },
   {
    "duration": 160,
    "start_time": "2022-07-23T14:09:22.992Z"
   },
   {
    "duration": 241,
    "start_time": "2022-07-23T14:09:23.154Z"
   },
   {
    "duration": 316,
    "start_time": "2022-07-23T14:09:23.397Z"
   },
   {
    "duration": 157,
    "start_time": "2022-07-23T14:09:23.715Z"
   },
   {
    "duration": 175,
    "start_time": "2022-07-23T14:09:23.873Z"
   },
   {
    "duration": 185,
    "start_time": "2022-07-23T14:09:24.053Z"
   },
   {
    "duration": 173,
    "start_time": "2022-07-23T14:09:24.240Z"
   },
   {
    "duration": 366,
    "start_time": "2022-07-23T14:09:24.415Z"
   },
   {
    "duration": 200,
    "start_time": "2022-07-23T14:09:24.782Z"
   },
   {
    "duration": 196,
    "start_time": "2022-07-23T14:09:24.983Z"
   },
   {
    "duration": 189,
    "start_time": "2022-07-23T14:09:25.181Z"
   },
   {
    "duration": 24,
    "start_time": "2022-07-23T14:09:25.372Z"
   },
   {
    "duration": 60,
    "start_time": "2022-07-23T14:09:25.398Z"
   },
   {
    "duration": 201,
    "start_time": "2022-07-23T14:09:25.460Z"
   },
   {
    "duration": 8,
    "start_time": "2022-07-23T14:09:25.662Z"
   },
   {
    "duration": 25,
    "start_time": "2022-07-23T14:09:25.671Z"
   },
   {
    "duration": 47,
    "start_time": "2022-07-24T06:58:41.062Z"
   }
  ],
  "kernelspec": {
   "display_name": "Python 3 (ipykernel)",
   "language": "python",
   "name": "python3"
  },
  "language_info": {
   "codemirror_mode": {
    "name": "ipython",
    "version": 3
   },
   "file_extension": ".py",
   "mimetype": "text/x-python",
   "name": "python",
   "nbconvert_exporter": "python",
   "pygments_lexer": "ipython3",
   "version": "3.9.12"
  },
  "toc": {
   "base_numbering": 1,
   "nav_menu": {},
   "number_sections": true,
   "sideBar": true,
   "skip_h1_title": true,
   "title_cell": "Содержание",
   "title_sidebar": "Содержание",
   "toc_cell": true,
   "toc_position": {
    "height": "calc(100% - 180px)",
    "left": "10px",
    "top": "150px",
    "width": "426.667px"
   },
   "toc_section_display": true,
   "toc_window_display": true
  }
 },
 "nbformat": 4,
 "nbformat_minor": 2
}
